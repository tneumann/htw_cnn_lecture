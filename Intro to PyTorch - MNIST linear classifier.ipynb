{
 "cells": [
  {
   "cell_type": "markdown",
   "metadata": {},
   "source": [
    "# Intro to Pytorch - MNIST Digit Classification\n",
    "\n",
    "In this notebook, we cover the basics of PyTorch and will train our first (shallow) neural network from scratch on the MNIST digit classification dataset.\n",
    "\n",
    "Let's start by importing the libraries that we will need and setting up jupyter. You can add additional imports later and re-run the cell to make those imports available throughout the notebook."
   ]
  },
  {
   "cell_type": "code",
   "execution_count": 1,
   "metadata": {},
   "outputs": [],
   "source": [
    "# ipython magic that ensures that plots are inlined and saved along with the notebook\n",
    "%matplotlib inline\n",
    "\n",
    "# import numpy - array processing library\n",
    "import numpy as np \n",
    "\n",
    "# pytorch imports:\n",
    "import torch \n",
    "import torch.nn as nn\n",
    "import torch.nn.functional as F\n",
    "import torch.optim as optim\n",
    "\n",
    "# pytorch functionality for image datasets\n",
    "from torchvision import datasets, transforms\n",
    "\n",
    "# standard plotting library\n",
    "import matplotlib.pyplot as plt"
   ]
  },
  {
   "cell_type": "markdown",
   "metadata": {},
   "source": [
    "We supply you with a function to plot multiple images along with their labels. Please ignore for now:"
   ]
  },
  {
   "cell_type": "code",
   "execution_count": 2,
   "metadata": {},
   "outputs": [],
   "source": [
    "def show_image_grid(X, y=None, title=None, nrow=6, ncol=4, **kwargs):\n",
    "    max_num = nrow*ncol\n",
    "    X = X[:max_num]\n",
    "    if len(X) < max_num:\n",
    "        ncol = len(X) // nrow + 1\n",
    "    if isinstance(X, np.ndarray):\n",
    "        X = torch.from_numpy(X)\n",
    "    if X.dim() != 4:\n",
    "        X = X[:, None]\n",
    "\n",
    "    plt.figure(title, figsize=(2*nrow, 2*ncol + (0 if y is None else 1)))\n",
    "    if title:\n",
    "        plt.title(title)\n",
    "        \n",
    "    y = [None] * len(X) if y is None else y\n",
    "    if isinstance(y, torch.Tensor):\n",
    "        y = y.numpy()\n",
    "        \n",
    "    for i, (Xi, yi) in enumerate(zip(X, y)):\n",
    "        plt.subplot(ncol, nrow, i+1)\n",
    "        img = Xi.numpy().transpose((1, 2, 0))\n",
    "        if img.shape[2] == 1:\n",
    "            img = img[..., 0]\n",
    "        plt.imshow(img)\n",
    "        if yi is not None:\n",
    "            plt.title(str(yi))\n",
    "        plt.axis('off')\n",
    "    \n",
    "    plt.axis('off')\n"
   ]
  },
  {
   "cell_type": "markdown",
   "metadata": {},
   "source": [
    "## Some PyTorch basics\n",
    "\n",
    "Creating tensors:"
   ]
  },
  {
   "cell_type": "code",
   "execution_count": 6,
   "metadata": {},
   "outputs": [
    {
     "data": {
      "text/plain": [
       "tensor([1., 2., 3.])"
      ]
     },
     "execution_count": 6,
     "metadata": {},
     "output_type": "execute_result"
    }
   ],
   "source": [
    "V = torch.tensor([1., 2., 3.])\n",
    "V"
   ]
  },
  {
   "cell_type": "code",
   "execution_count": 7,
   "metadata": {},
   "outputs": [
    {
     "data": {
      "text/plain": [
       "tensor([[1., 2., 3.],\n",
       "        [4., 5., 6.]])"
      ]
     },
     "execution_count": 7,
     "metadata": {},
     "output_type": "execute_result"
    }
   ],
   "source": [
    "M = torch.tensor([[1., 2., 3.], [4., 5., 6]])\n",
    "M"
   ]
  },
  {
   "cell_type": "code",
   "execution_count": 9,
   "metadata": {},
   "outputs": [
    {
     "data": {
      "text/plain": [
       "tensor([[[1., 2.],\n",
       "         [3., 4.]],\n",
       "\n",
       "        [[5., 6.],\n",
       "         [7., 8.]]])"
      ]
     },
     "execution_count": 9,
     "metadata": {},
     "output_type": "execute_result"
    }
   ],
   "source": [
    "# Create a 3D tensor of size 2x2x2.\n",
    "T = torch.tensor([[[1., 2.], [3., 4.]],\n",
    "          [[5., 6.], [7., 8.]]])\n",
    "T"
   ]
  },
  {
   "cell_type": "code",
   "execution_count": 13,
   "metadata": {
    "scrolled": true
   },
   "outputs": [
    {
     "data": {
      "text/plain": [
       "tensor([[[[-1.2378, -1.0261],\n",
       "          [-0.6880, -0.7734],\n",
       "          [-0.0778,  1.1087],\n",
       "          [-0.7023, -0.8234],\n",
       "          [ 0.3208,  0.7612]],\n",
       "\n",
       "         [[-0.1236,  1.0092],\n",
       "          [-0.6549,  1.2649],\n",
       "          [ 0.5153, -1.5569],\n",
       "          [-3.4963,  0.4082],\n",
       "          [-1.3203, -0.9173]]],\n",
       "\n",
       "\n",
       "        [[[ 0.4520,  0.3295],\n",
       "          [ 1.7110, -0.8881],\n",
       "          [-2.0315, -0.4427],\n",
       "          [-0.2264,  0.2262],\n",
       "          [-0.3055, -0.4228]],\n",
       "\n",
       "         [[ 0.1527, -0.3738],\n",
       "          [-0.3792, -0.6156],\n",
       "          [ 0.3489, -0.0132],\n",
       "          [-1.0239, -0.1697],\n",
       "          [ 1.1477, -1.0689]]],\n",
       "\n",
       "\n",
       "        [[[ 1.2164, -0.2303],\n",
       "          [ 1.0413, -1.7479],\n",
       "          [-0.7010, -1.8662],\n",
       "          [-1.0269,  0.0971],\n",
       "          [-1.5742,  0.7645]],\n",
       "\n",
       "         [[ 0.6300,  0.7388],\n",
       "          [ 1.3568, -0.6310],\n",
       "          [-1.0954, -1.7695],\n",
       "          [-0.2264,  1.0234],\n",
       "          [ 0.9253, -0.1418]]]])"
      ]
     },
     "execution_count": 13,
     "metadata": {},
     "output_type": "execute_result"
    }
   ],
   "source": [
    "# create a tensor with random numbers\n",
    "torch.randn((3, 2, 5, 2))"
   ]
  },
  {
   "cell_type": "markdown",
   "metadata": {},
   "source": [
    "Indexing into tensors gives you elements or tensor views:"
   ]
  },
  {
   "cell_type": "code",
   "execution_count": 15,
   "metadata": {},
   "outputs": [
    {
     "data": {
      "text/plain": [
       "tensor(1.)"
      ]
     },
     "execution_count": 15,
     "metadata": {},
     "output_type": "execute_result"
    }
   ],
   "source": [
    "V[0]"
   ]
  },
  {
   "cell_type": "code",
   "execution_count": 17,
   "metadata": {},
   "outputs": [
    {
     "data": {
      "text/plain": [
       "1.0"
      ]
     },
     "execution_count": 17,
     "metadata": {},
     "output_type": "execute_result"
    }
   ],
   "source": [
    "V[0].item()"
   ]
  },
  {
   "cell_type": "code",
   "execution_count": 19,
   "metadata": {},
   "outputs": [
    {
     "data": {
      "text/plain": [
       "tensor([1., 2., 3.])"
      ]
     },
     "execution_count": 19,
     "metadata": {},
     "output_type": "execute_result"
    }
   ],
   "source": [
    "M[0]"
   ]
  },
  {
   "cell_type": "code",
   "execution_count": 21,
   "metadata": {},
   "outputs": [
    {
     "data": {
      "text/plain": [
       "tensor(2.)"
      ]
     },
     "execution_count": 21,
     "metadata": {},
     "output_type": "execute_result"
    }
   ],
   "source": [
    "M[0, 1]"
   ]
  },
  {
   "cell_type": "markdown",
   "metadata": {},
   "source": [
    "Fancy indexing:"
   ]
  },
  {
   "cell_type": "code",
   "execution_count": 24,
   "metadata": {},
   "outputs": [
    {
     "data": {
      "text/plain": [
       "tensor([1., 4.])"
      ]
     },
     "execution_count": 24,
     "metadata": {},
     "output_type": "execute_result"
    }
   ],
   "source": [
    "M[:, 0]"
   ]
  },
  {
   "cell_type": "markdown",
   "metadata": {},
   "source": [
    "Typical mathematical operators are overloaded for tensors, so you can add all entries of one matrix to another matrix with a simple line. No need to write for loops :)"
   ]
  },
  {
   "cell_type": "code",
   "execution_count": 27,
   "metadata": {},
   "outputs": [
    {
     "data": {
      "text/plain": [
       "tensor([[-1.3894, -0.2111],\n",
       "        [ 1.8688, -1.2226],\n",
       "        [ 0.6398, -1.3041]])"
      ]
     },
     "execution_count": 27,
     "metadata": {},
     "output_type": "execute_result"
    }
   ],
   "source": [
    "A = torch.randn((3, 2))\n",
    "A"
   ]
  },
  {
   "cell_type": "code",
   "execution_count": 30,
   "metadata": {},
   "outputs": [
    {
     "data": {
      "text/plain": [
       "tensor([[-1.9104,  1.0341],\n",
       "        [-1.0252,  1.6845],\n",
       "        [-0.6039, -0.6484]])"
      ]
     },
     "execution_count": 30,
     "metadata": {},
     "output_type": "execute_result"
    }
   ],
   "source": [
    "B = torch.randn((3, 2))\n",
    "B"
   ]
  },
  {
   "cell_type": "code",
   "execution_count": 32,
   "metadata": {},
   "outputs": [
    {
     "data": {
      "text/plain": [
       "tensor([[-3.2997,  0.8229],\n",
       "        [ 0.8435,  0.4619],\n",
       "        [ 0.0359, -1.9525]])"
      ]
     },
     "execution_count": 32,
     "metadata": {},
     "output_type": "execute_result"
    }
   ],
   "source": [
    "A + B"
   ]
  },
  {
   "cell_type": "code",
   "execution_count": 34,
   "metadata": {},
   "outputs": [
    {
     "data": {
      "text/plain": [
       "tensor([[ 2.6542, -0.2183],\n",
       "        [-1.9159, -2.0594],\n",
       "        [-0.3864,  0.8456]])"
      ]
     },
     "execution_count": 34,
     "metadata": {},
     "output_type": "execute_result"
    }
   ],
   "source": [
    "A * B"
   ]
  },
  {
   "cell_type": "code",
   "execution_count": 35,
   "metadata": {},
   "outputs": [
    {
     "data": {
      "text/plain": [
       "tensor([[-2.7787, -0.4223],\n",
       "        [ 3.7375, -2.4451],\n",
       "        [ 1.2796, -2.6082]])"
      ]
     },
     "execution_count": 35,
     "metadata": {},
     "output_type": "execute_result"
    }
   ],
   "source": [
    "2 * A"
   ]
  },
  {
   "cell_type": "markdown",
   "metadata": {},
   "source": [
    "## Let's get started: loading the data\n",
    "\n",
    "First, lets load the dataset:"
   ]
  },
  {
   "cell_type": "code",
   "execution_count": 36,
   "metadata": {},
   "outputs": [
    {
     "data": {
      "text/plain": [
       "Dataset MNIST\n",
       "    Number of datapoints: 60000\n",
       "    Split: train\n",
       "    Root Location: ./data\n",
       "    Transforms (if any): ToTensor()\n",
       "    Target Transforms (if any): None"
      ]
     },
     "execution_count": 36,
     "metadata": {},
     "output_type": "execute_result"
    }
   ],
   "source": [
    "train_data = datasets.MNIST(root='./data', train=True, \n",
    "                            download=True, transform=transforms.ToTensor())\n",
    "train_data"
   ]
  },
  {
   "cell_type": "markdown",
   "metadata": {},
   "source": [
    "In order to sample from this dataset, we need a DataLoader. A DataLoader samples mini batches from a DataSet and can also be used to apply transformations to the data (here, we just want to transform the data to a pytorch tensor)."
   ]
  },
  {
   "cell_type": "code",
   "execution_count": 37,
   "metadata": {},
   "outputs": [
    {
     "data": {
      "text/plain": [
       "<torch.utils.data.dataloader.DataLoader at 0x7f0df8aedda0>"
      ]
     },
     "execution_count": 37,
     "metadata": {},
     "output_type": "execute_result"
    }
   ],
   "source": [
    "batch_size = 128\n",
    "train_loader = torch.utils.data.DataLoader(train_data, shuffle=True, batch_size=batch_size)\n",
    "train_loader"
   ]
  },
  {
   "cell_type": "markdown",
   "metadata": {},
   "source": [
    "MNIST also provides a validation set that we can use to test how well our model performs."
   ]
  },
  {
   "cell_type": "code",
   "execution_count": 38,
   "metadata": {},
   "outputs": [],
   "source": [
    "valid_data = datasets.MNIST(root='./data', train=False, \n",
    "                            download=True, transform=transforms.ToTensor())\n",
    "valid_loader = torch.utils.data.DataLoader(valid_data, shuffle=False, batch_size=batch_size)"
   ]
  },
  {
   "cell_type": "markdown",
   "metadata": {},
   "source": [
    "Lets sample one batch of data from the dataset:"
   ]
  },
  {
   "cell_type": "code",
   "execution_count": 39,
   "metadata": {},
   "outputs": [],
   "source": [
    "Xb, yb = next(iter(train_loader))"
   ]
  },
  {
   "cell_type": "code",
   "execution_count": 40,
   "metadata": {},
   "outputs": [
    {
     "data": {
      "text/plain": [
       "torch.Size([128, 1, 28, 28])"
      ]
     },
     "execution_count": 40,
     "metadata": {},
     "output_type": "execute_result"
    }
   ],
   "source": [
    "Xb.shape"
   ]
  },
  {
   "cell_type": "code",
   "execution_count": 41,
   "metadata": {
    "scrolled": true
   },
   "outputs": [
    {
     "data": {
      "text/plain": [
       "tensor([[[0.0000, 0.0000, 0.0000, 0.0000, 0.0000, 0.0000, 0.0000, 0.0000,\n",
       "          0.0000, 0.0000, 0.0000, 0.0000, 0.0000, 0.0000, 0.0000, 0.0000,\n",
       "          0.0000, 0.0000, 0.0000, 0.0000, 0.0000, 0.0000, 0.0000, 0.0000,\n",
       "          0.0000, 0.0000, 0.0000, 0.0000],\n",
       "         [0.0000, 0.0000, 0.0000, 0.0000, 0.0000, 0.0000, 0.0000, 0.0000,\n",
       "          0.0000, 0.0000, 0.0000, 0.0000, 0.0000, 0.0000, 0.0000, 0.0000,\n",
       "          0.0000, 0.0000, 0.0000, 0.0000, 0.0000, 0.0000, 0.0000, 0.0000,\n",
       "          0.0000, 0.0000, 0.0000, 0.0000],\n",
       "         [0.0000, 0.0000, 0.0000, 0.0000, 0.0000, 0.0000, 0.0000, 0.0000,\n",
       "          0.0000, 0.0000, 0.0000, 0.0000, 0.0000, 0.0000, 0.0000, 0.0000,\n",
       "          0.0000, 0.0000, 0.0000, 0.0000, 0.0000, 0.0000, 0.0000, 0.0000,\n",
       "          0.0000, 0.0000, 0.0000, 0.0000],\n",
       "         [0.0000, 0.0000, 0.0000, 0.0000, 0.0000, 0.0000, 0.0000, 0.0000,\n",
       "          0.0000, 0.0000, 0.0000, 0.0000, 0.0000, 0.0000, 0.0000, 0.0000,\n",
       "          0.0000, 0.0000, 0.0000, 0.0000, 0.0000, 0.0000, 0.0000, 0.0000,\n",
       "          0.0000, 0.0000, 0.0000, 0.0000],\n",
       "         [0.0000, 0.0000, 0.0000, 0.0000, 0.0000, 0.0000, 0.0000, 0.0000,\n",
       "          0.0000, 0.0000, 0.0000, 0.0000, 0.0000, 0.0000, 0.0000, 0.0000,\n",
       "          0.0000, 0.0000, 0.0000, 0.0000, 0.0000, 0.0000, 0.0000, 0.0000,\n",
       "          0.0000, 0.0000, 0.0000, 0.0000],\n",
       "         [0.0000, 0.0000, 0.0000, 0.0000, 0.0000, 0.0000, 0.0000, 0.0000,\n",
       "          0.0000, 0.0000, 0.0000, 0.0000, 0.0000, 0.0000, 0.0000, 0.1373,\n",
       "          0.7216, 1.0000, 0.7451, 0.0000, 0.0000, 0.0000, 0.0000, 0.0000,\n",
       "          0.0000, 0.0000, 0.0000, 0.0000],\n",
       "         [0.0000, 0.0000, 0.0000, 0.0000, 0.0000, 0.0000, 0.0000, 0.0000,\n",
       "          0.0000, 0.0000, 0.0000, 0.0000, 0.0000, 0.0000, 0.1961, 0.7843,\n",
       "          0.9922, 0.9922, 0.9765, 0.2588, 0.0000, 0.0000, 0.0000, 0.0000,\n",
       "          0.0000, 0.0000, 0.0000, 0.0000],\n",
       "         [0.0000, 0.0000, 0.0000, 0.0000, 0.0000, 0.0000, 0.0000, 0.0000,\n",
       "          0.0000, 0.0000, 0.0000, 0.0000, 0.0000, 0.0510, 0.8510, 0.9961,\n",
       "          0.9922, 0.9922, 0.9961, 0.7608, 0.0196, 0.0000, 0.0000, 0.0000,\n",
       "          0.0000, 0.0000, 0.0000, 0.0000],\n",
       "         [0.0000, 0.0000, 0.0000, 0.0000, 0.0000, 0.0000, 0.0000, 0.0000,\n",
       "          0.0000, 0.0000, 0.0000, 0.0000, 0.0314, 0.5647, 0.9961, 0.9961,\n",
       "          0.9647, 0.9961, 0.9961, 0.9961, 0.0784, 0.0000, 0.0000, 0.0000,\n",
       "          0.0000, 0.0000, 0.0000, 0.0000],\n",
       "         [0.0000, 0.0000, 0.0000, 0.0000, 0.0000, 0.0000, 0.0000, 0.0000,\n",
       "          0.0000, 0.0000, 0.0000, 0.0000, 0.4902, 0.9922, 0.9922, 0.9255,\n",
       "          0.4078, 0.9922, 0.9961, 0.9922, 0.0784, 0.0000, 0.0000, 0.0000,\n",
       "          0.0000, 0.0000, 0.0000, 0.0000],\n",
       "         [0.0000, 0.0000, 0.0000, 0.0000, 0.0000, 0.0000, 0.0000, 0.0000,\n",
       "          0.0000, 0.0000, 0.0000, 0.3922, 0.9725, 0.9922, 0.9922, 0.6627,\n",
       "          0.9412, 0.9922, 0.9961, 0.9922, 0.0784, 0.0000, 0.0000, 0.0000,\n",
       "          0.0000, 0.0000, 0.0000, 0.0000],\n",
       "         [0.0000, 0.0000, 0.0000, 0.0000, 0.0000, 0.0000, 0.0000, 0.0000,\n",
       "          0.0000, 0.0000, 0.1137, 0.9569, 0.9961, 0.9922, 0.4275, 0.9961,\n",
       "          0.9922, 0.9922, 0.9961, 0.8902, 0.0510, 0.0000, 0.0000, 0.0000,\n",
       "          0.0000, 0.0000, 0.0000, 0.0000],\n",
       "         [0.0000, 0.0000, 0.0000, 0.0000, 0.0000, 0.0000, 0.0000, 0.0000,\n",
       "          0.0000, 0.1294, 0.8510, 0.9922, 0.9961, 0.5294, 0.6157, 0.9961,\n",
       "          0.9922, 0.9922, 0.9961, 0.9765, 0.0706, 0.0000, 0.0000, 0.0000,\n",
       "          0.0000, 0.0000, 0.0000, 0.0000],\n",
       "         [0.0000, 0.0000, 0.0000, 0.0000, 0.0000, 0.0000, 0.0000, 0.0000,\n",
       "          0.0000, 0.5098, 0.9961, 0.9961, 0.9961, 0.1686, 0.9490, 0.9961,\n",
       "          0.9961, 0.9922, 0.9961, 0.9922, 0.0784, 0.0000, 0.0000, 0.0000,\n",
       "          0.0000, 0.0000, 0.0000, 0.0000],\n",
       "         [0.0000, 0.0000, 0.0000, 0.0000, 0.0000, 0.0000, 0.0000, 0.0000,\n",
       "          0.0588, 0.9137, 0.9922, 0.9647, 0.2000, 0.6588, 0.9922, 0.9961,\n",
       "          0.9922, 0.9922, 0.9961, 0.9922, 0.0784, 0.0000, 0.0000, 0.0000,\n",
       "          0.0000, 0.0000, 0.0000, 0.0000],\n",
       "         [0.0000, 0.0000, 0.0000, 0.0000, 0.0000, 0.0000, 0.0000, 0.0000,\n",
       "          0.6078, 0.9922, 0.9922, 0.8314, 0.0000, 0.9765, 0.9922, 0.9961,\n",
       "          0.9922, 0.9922, 0.9961, 0.7333, 0.0157, 0.0000, 0.0000, 0.0000,\n",
       "          0.0000, 0.0000, 0.0000, 0.0000],\n",
       "         [0.0000, 0.0000, 0.0000, 0.0000, 0.0000, 0.0000, 0.0000, 0.0196,\n",
       "          0.7569, 0.9961, 0.9137, 0.1882, 0.0000, 0.9804, 0.9961, 0.9961,\n",
       "          0.9961, 0.9922, 0.9333, 0.1098, 0.0000, 0.0000, 0.0000, 0.0000,\n",
       "          0.0000, 0.0000, 0.0000, 0.0000],\n",
       "         [0.0000, 0.0000, 0.0000, 0.0000, 0.0000, 0.0000, 0.0000, 0.0824,\n",
       "          0.9922, 0.9922, 0.6588, 0.0118, 0.2078, 0.9843, 0.9922, 0.9961,\n",
       "          0.9922, 0.9765, 0.3843, 0.0000, 0.0000, 0.0000, 0.0000, 0.0000,\n",
       "          0.0000, 0.0000, 0.0000, 0.0000],\n",
       "         [0.0000, 0.0000, 0.0000, 0.0000, 0.0000, 0.0000, 0.0000, 0.0824,\n",
       "          0.9922, 0.9922, 0.8824, 0.7176, 0.9922, 0.9922, 0.9922, 0.9922,\n",
       "          0.9922, 0.6118, 0.0000, 0.0000, 0.0000, 0.0000, 0.0000, 0.0000,\n",
       "          0.0000, 0.0000, 0.0000, 0.0000],\n",
       "         [0.0000, 0.0000, 0.0000, 0.0000, 0.0000, 0.0000, 0.0000, 0.0824,\n",
       "          0.9961, 0.9961, 0.9961, 0.9961, 0.9961, 0.9961, 0.9961, 0.9961,\n",
       "          0.5569, 0.0392, 0.0000, 0.0000, 0.0000, 0.0000, 0.0000, 0.0000,\n",
       "          0.0000, 0.0000, 0.0000, 0.0000],\n",
       "         [0.0000, 0.0000, 0.0000, 0.0000, 0.0000, 0.0000, 0.0000, 0.0235,\n",
       "          0.7765, 0.9922, 0.9922, 0.9922, 0.9922, 0.9922, 0.9922, 0.7020,\n",
       "          0.0471, 0.0000, 0.0000, 0.0000, 0.0000, 0.0000, 0.0000, 0.0000,\n",
       "          0.0000, 0.0000, 0.0000, 0.0000],\n",
       "         [0.0000, 0.0000, 0.0000, 0.0000, 0.0000, 0.0000, 0.0000, 0.0000,\n",
       "          0.1686, 0.6667, 0.7255, 0.7569, 0.9961, 0.9961, 0.9922, 0.3216,\n",
       "          0.0000, 0.0000, 0.0000, 0.0000, 0.0000, 0.0000, 0.0000, 0.0000,\n",
       "          0.0000, 0.0000, 0.0000, 0.0000],\n",
       "         [0.0000, 0.0000, 0.0000, 0.0000, 0.0000, 0.0000, 0.0000, 0.0000,\n",
       "          0.0000, 0.0000, 0.0000, 0.6863, 0.9961, 0.9961, 0.6824, 0.0000,\n",
       "          0.0000, 0.0000, 0.0000, 0.0000, 0.0000, 0.0000, 0.0000, 0.0000,\n",
       "          0.0000, 0.0000, 0.0000, 0.0000],\n",
       "         [0.0000, 0.0000, 0.0000, 0.0000, 0.0000, 0.0000, 0.0000, 0.0000,\n",
       "          0.0000, 0.0000, 0.3216, 0.9922, 0.9961, 0.9961, 0.2078, 0.0000,\n",
       "          0.0000, 0.0000, 0.0000, 0.0000, 0.0000, 0.0000, 0.0000, 0.0000,\n",
       "          0.0000, 0.0000, 0.0000, 0.0000],\n",
       "         [0.0000, 0.0000, 0.0000, 0.0000, 0.0000, 0.0000, 0.0000, 0.0000,\n",
       "          0.0000, 0.0000, 0.6392, 0.9922, 0.9922, 0.6863, 0.0431, 0.0000,\n",
       "          0.0000, 0.0000, 0.0000, 0.0000, 0.0000, 0.0000, 0.0000, 0.0000,\n",
       "          0.0000, 0.0000, 0.0000, 0.0000],\n",
       "         [0.0000, 0.0000, 0.0000, 0.0000, 0.0000, 0.0000, 0.0000, 0.0000,\n",
       "          0.0000, 0.0000, 0.0000, 0.0000, 0.0000, 0.0000, 0.0000, 0.0000,\n",
       "          0.0000, 0.0000, 0.0000, 0.0000, 0.0000, 0.0000, 0.0000, 0.0000,\n",
       "          0.0000, 0.0000, 0.0000, 0.0000],\n",
       "         [0.0000, 0.0000, 0.0000, 0.0000, 0.0000, 0.0000, 0.0000, 0.0000,\n",
       "          0.0000, 0.0000, 0.0000, 0.0000, 0.0000, 0.0000, 0.0000, 0.0000,\n",
       "          0.0000, 0.0000, 0.0000, 0.0000, 0.0000, 0.0000, 0.0000, 0.0000,\n",
       "          0.0000, 0.0000, 0.0000, 0.0000],\n",
       "         [0.0000, 0.0000, 0.0000, 0.0000, 0.0000, 0.0000, 0.0000, 0.0000,\n",
       "          0.0000, 0.0000, 0.0000, 0.0000, 0.0000, 0.0000, 0.0000, 0.0000,\n",
       "          0.0000, 0.0000, 0.0000, 0.0000, 0.0000, 0.0000, 0.0000, 0.0000,\n",
       "          0.0000, 0.0000, 0.0000, 0.0000]]])"
      ]
     },
     "execution_count": 41,
     "metadata": {},
     "output_type": "execute_result"
    }
   ],
   "source": [
    "Xb[0]"
   ]
  },
  {
   "cell_type": "markdown",
   "metadata": {},
   "source": [
    "We can use matplotlib or the show_image_grid function to visualize the data."
   ]
  },
  {
   "cell_type": "code",
   "execution_count": 42,
   "metadata": {},
   "outputs": [
    {
     "data": {
      "text/plain": [
       "<matplotlib.image.AxesImage at 0x7f0df549e2e8>"
      ]
     },
     "execution_count": 42,
     "metadata": {},
     "output_type": "execute_result"
    },
    {
     "data": {
      "image/png": "[encoded data removed]",
      "text/plain": [
       "<Figure size 432x288 with 1 Axes>"
      ]
     },
     "metadata": {
      "needs_background": "light"
     },
     "output_type": "display_data"
    }
   ],
   "source": [
    "plt.gray() # sets matplotlib colormap\n",
    "plt.imshow(Xb[0,0])"
   ]
  },
  {
   "cell_type": "code",
   "execution_count": 43,
   "metadata": {},
   "outputs": [
    {
     "data": {
      "text/plain": [
       "tensor([9, 6, 7, 3, 4, 3, 6, 3, 3, 1, 8, 2, 9, 3, 1, 8, 9, 9, 1, 3, 0, 9, 3, 8,\n",
       "        1, 7, 1, 3, 6, 3, 2, 5, 3, 9, 6, 2, 5, 7, 1, 6, 4, 8, 1, 2, 5, 1, 2, 4,\n",
       "        6, 3, 0, 0, 9, 2, 3, 6, 2, 5, 6, 2, 9, 7, 5, 5, 4, 6, 7, 6, 1, 1, 0, 6,\n",
       "        4, 1, 3, 1, 7, 7, 8, 7, 4, 0, 1, 8, 6, 2, 3, 0, 7, 8, 8, 8, 0, 1, 9, 5,\n",
       "        0, 3, 8, 0, 8, 6, 8, 2, 7, 9, 7, 6, 7, 1, 2, 4, 8, 8, 5, 1, 4, 0, 5, 8,\n",
       "        8, 8, 7, 6, 3, 0, 2, 5])"
      ]
     },
     "execution_count": 43,
     "metadata": {},
     "output_type": "execute_result"
    }
   ],
   "source": [
    "yb"
   ]
  },
  {
   "cell_type": "code",
   "execution_count": 44,
   "metadata": {},
   "outputs": [
    {
     "data": {
      "text/plain": [
       "tensor(9)"
      ]
     },
     "execution_count": 44,
     "metadata": {},
     "output_type": "execute_result"
    },
    {
     "data": {
      "image/png": "[encoded data removed]",
      "text/plain": [
       "<Figure size 432x288 with 1 Axes>"
      ]
     },
     "metadata": {
      "needs_background": "light"
     },
     "output_type": "display_data"
    }
   ],
   "source": [
    "plt.imshow(Xb[0, 0])\n",
    "yb[0]"
   ]
  },
  {
   "cell_type": "code",
   "execution_count": 45,
   "metadata": {},
   "outputs": [
    {
     "data": {
      "text/plain": [
       "tensor(6)"
      ]
     },
     "execution_count": 45,
     "metadata": {},
     "output_type": "execute_result"
    },
    {
     "data": {
      "image/png": "[encoded data removed]",
      "text/plain": [
       "<Figure size 432x288 with 1 Axes>"
      ]
     },
     "metadata": {
      "needs_background": "light"
     },
     "output_type": "display_data"
    }
   ],
   "source": [
    "plt.imshow(Xb[1, 0])\n",
    "yb[1]"
   ]
  },
  {
   "cell_type": "code",
   "execution_count": 46,
   "metadata": {
    "scrolled": true
   },
   "outputs": [
    {
     "data": {
      "image/png": "[encoded data removed]",
      "text/plain": [
       "<Figure size 864x648 with 24 Axes>"
      ]
     },
     "metadata": {
      "needs_background": "light"
     },
     "output_type": "display_data"
    }
   ],
   "source": [
    "show_image_grid(Xb, yb)"
   ]
  },
  {
   "cell_type": "markdown",
   "metadata": {},
   "source": [
    "## Setup the model\n",
    "\n",
    "We want to train a linear model from a vectorized (flattened) version of the image. We first reshape our image tensor"
   ]
  },
  {
   "cell_type": "code",
   "execution_count": 47,
   "metadata": {},
   "outputs": [
    {
     "data": {
      "text/plain": [
       "torch.Size([128, 784])"
      ]
     },
     "execution_count": 47,
     "metadata": {},
     "output_type": "execute_result"
    }
   ],
   "source": [
    "Xb_flat = Xb.view(Xb.shape[0], -1)\n",
    "Xb_flat.shape"
   ]
  },
  {
   "cell_type": "markdown",
   "metadata": {},
   "source": [
    "We now initialize the weights and biases (parameters) of our network. We use a weight matrix to densely connect the 28x28 dimensional input to an output layer of size 10 and add a bias term. This simplistic shallow linear \"neural network\" outputs 10 class scores for each of the digit between 0-9."
   ]
  },
  {
   "cell_type": "code",
   "execution_count": 48,
   "metadata": {
    "scrolled": true
   },
   "outputs": [
    {
     "data": {
      "text/plain": [
       "torch.Size([128, 10])"
      ]
     },
     "execution_count": 48,
     "metadata": {},
     "output_type": "execute_result"
    }
   ],
   "source": [
    "weight = torch.randn((28*28, 10), requires_grad=True)\n",
    "bias = torch.zeros(10, requires_grad=True)\n",
    "\n",
    "output = Xb_flat @ weight  + bias\n",
    "output.shape"
   ]
  },
  {
   "cell_type": "code",
   "execution_count": 49,
   "metadata": {},
   "outputs": [
    {
     "data": {
      "text/plain": [
       "tensor([-19.4370,  -5.6041,   6.8135,  -1.6271,   3.5088,  16.0176, -11.7472,\n",
       "          5.9992,  -0.1973, -13.5275], grad_fn=<SelectBackward>)"
      ]
     },
     "execution_count": 49,
     "metadata": {},
     "output_type": "execute_result"
    }
   ],
   "source": [
    "output[0]"
   ]
  },
  {
   "cell_type": "markdown",
   "metadata": {},
   "source": [
    "Lets refactor our neural network forward pass and wrap it into a function that we can easily call later on"
   ]
  },
  {
   "cell_type": "code",
   "execution_count": 50,
   "metadata": {},
   "outputs": [
    {
     "data": {
      "text/plain": [
       "tensor([-19.4370,  -5.6041,   6.8135,  -1.6271,   3.5088,  16.0176, -11.7472,\n",
       "          5.9992,  -0.1973, -13.5275], grad_fn=<SelectBackward>)"
      ]
     },
     "execution_count": 50,
     "metadata": {},
     "output_type": "execute_result"
    }
   ],
   "source": [
    "def model(X, weight, bias):\n",
    "    return X.view(-1, 28*28) @ weight + bias\n",
    "\n",
    "model(Xb, weight, bias)[0]"
   ]
  },
  {
   "cell_type": "markdown",
   "metadata": {},
   "source": [
    "## Metrics\n",
    "\n",
    "We will also need a way of measuring how good our model is. Here, we will use the classification accuracy by comparing the label predicted by the network (simply the neuron with the largest score of our output layer) with the actual labels and counting how often those agree."
   ]
  },
  {
   "cell_type": "code",
   "execution_count": 51,
   "metadata": {
    "scrolled": false
   },
   "outputs": [
    {
     "name": "stdout",
     "output_type": "stream",
     "text": [
      "predicted label: tensor([5, 5, 7, 5, 4, 8, 3, 5, 8, 8, 5, 8, 7, 8, 5, 5, 5, 0, 2, 7, 5, 5, 8, 5,\n",
      "        2, 0, 8, 7, 8, 8, 3, 5, 7, 5, 5, 3, 5, 5, 2, 5, 7, 5, 5, 3, 5, 2, 5, 5,\n",
      "        5, 7, 8, 6, 7, 4, 5, 5, 2, 5, 6, 8, 5, 6, 8, 5, 5, 5, 5, 8, 8, 5, 8, 3,\n",
      "        7, 5, 8, 5, 2, 2, 5, 6, 0, 5, 8, 5, 8, 5, 8, 5, 5, 5, 5, 8, 8, 5, 5, 5,\n",
      "        5, 7, 5, 5, 7, 5, 5, 0, 5, 4, 7, 5, 4, 2, 4, 8, 5, 5, 7, 8, 7, 4, 5, 5,\n",
      "        7, 5, 7, 5, 8, 8, 0, 5])\n",
      "   actual label: tensor([9, 6, 7, 3, 4, 3, 6, 3, 3, 1, 8, 2, 9, 3, 1, 8, 9, 9, 1, 3, 0, 9, 3, 8,\n",
      "        1, 7, 1, 3, 6, 3, 2, 5, 3, 9, 6, 2, 5, 7, 1, 6, 4, 8, 1, 2, 5, 1, 2, 4,\n",
      "        6, 3, 0, 0, 9, 2, 3, 6, 2, 5, 6, 2, 9, 7, 5, 5, 4, 6, 7, 6, 1, 1, 0, 6,\n",
      "        4, 1, 3, 1, 7, 7, 8, 7, 4, 0, 1, 8, 6, 2, 3, 0, 7, 8, 8, 8, 0, 1, 9, 5,\n",
      "        0, 3, 8, 0, 8, 6, 8, 2, 7, 9, 7, 6, 7, 1, 2, 4, 8, 8, 5, 1, 4, 0, 5, 8,\n",
      "        8, 8, 7, 6, 3, 0, 2, 5])\n"
     ]
    },
    {
     "data": {
      "text/plain": [
       "tensor([0, 0, 1, 0, 1, 0, 0, 0, 0, 0, 0, 0, 0, 0, 0, 0, 0, 0, 0, 0, 0, 0, 0, 0,\n",
       "        0, 0, 0, 0, 0, 0, 0, 1, 0, 0, 0, 0, 1, 0, 0, 0, 0, 0, 0, 0, 1, 0, 0, 0,\n",
       "        0, 0, 0, 0, 0, 0, 0, 0, 1, 1, 1, 0, 0, 0, 0, 1, 0, 0, 0, 0, 0, 0, 0, 0,\n",
       "        0, 0, 0, 0, 0, 0, 0, 0, 0, 0, 0, 0, 0, 0, 0, 0, 0, 0, 0, 1, 0, 0, 0, 1,\n",
       "        0, 0, 0, 0, 0, 0, 0, 0, 0, 0, 1, 0, 0, 0, 0, 0, 0, 0, 0, 0, 0, 0, 1, 0,\n",
       "        0, 0, 1, 0, 0, 0, 0, 1], dtype=torch.uint8)"
      ]
     },
     "execution_count": 51,
     "metadata": {},
     "output_type": "execute_result"
    }
   ],
   "source": [
    "print(\"predicted label:\", output.argmax(1))\n",
    "print(\"   actual label:\", yb)\n",
    "\n",
    "yb == output.argmax(1)"
   ]
  },
  {
   "cell_type": "markdown",
   "metadata": {},
   "source": [
    "We can compute an accuracy between 0 and 1 simply by averaging the above binary vector. "
   ]
  },
  {
   "cell_type": "code",
   "execution_count": 52,
   "metadata": {},
   "outputs": [
    {
     "data": {
      "text/plain": [
       "tensor(0.1172)"
      ]
     },
     "execution_count": 52,
     "metadata": {},
     "output_type": "execute_result"
    }
   ],
   "source": [
    "def accuracy(output, label):\n",
    "    return (output.argmax(1) == label).float().mean()\n",
    "\n",
    "accuracy(output, yb)"
   ]
  },
  {
   "cell_type": "markdown",
   "metadata": {},
   "source": [
    "## Loss\n",
    "\n",
    "To measure how well our network does, we cannot directly use our accuracy metric - Do you know why?\n",
    "\n",
    "Instead, we will apply a softmax to the 10-dimensional output, which gives us a probability between 0 and 1 for each of the 10 classes."
   ]
  },
  {
   "cell_type": "code",
   "execution_count": 53,
   "metadata": {},
   "outputs": [
    {
     "data": {
      "text/plain": [
       "tensor([[4.0012e-16, 4.0716e-10, 1.0062e-04,  ..., 4.4568e-05, 9.0763e-08,\n",
       "         1.4746e-13],\n",
       "        [5.1951e-08, 5.4286e-13, 6.1315e-06,  ..., 1.9147e-07, 3.6033e-06,\n",
       "         5.8953e-13],\n",
       "        [2.5341e-05, 4.3914e-10, 3.9781e-04,  ..., 9.9954e-01, 3.3481e-06,\n",
       "         2.8168e-11],\n",
       "        ...,\n",
       "        [4.5553e-11, 7.2693e-14, 6.7550e-05,  ..., 2.8425e-05, 9.9986e-01,\n",
       "         4.7809e-07],\n",
       "        [6.1992e-01, 1.8888e-02, 1.1838e-06,  ..., 4.5255e-04, 3.5826e-01,\n",
       "         2.1100e-03],\n",
       "        [1.6027e-06, 4.8625e-15, 5.9006e-10,  ..., 7.8378e-03, 7.2384e-04,\n",
       "         9.3051e-11]], grad_fn=<SoftmaxBackward>)"
      ]
     },
     "execution_count": 53,
     "metadata": {},
     "output_type": "execute_result"
    }
   ],
   "source": [
    "F.softmax(output, dim=1)"
   ]
  },
  {
   "cell_type": "code",
   "execution_count": 54,
   "metadata": {},
   "outputs": [
    {
     "data": {
      "text/plain": [
       "tensor([1.0000, 1.0000, 1.0000, 1.0000, 1.0000, 1.0000, 1.0000, 1.0000, 1.0000,\n",
       "        1.0000, 1.0000, 1.0000, 1.0000, 1.0000, 1.0000, 1.0000, 1.0000, 1.0000,\n",
       "        1.0000, 1.0000, 1.0000, 1.0000, 1.0000, 1.0000, 1.0000, 1.0000, 1.0000,\n",
       "        1.0000, 1.0000, 1.0000, 1.0000, 1.0000, 1.0000, 1.0000, 1.0000, 1.0000,\n",
       "        1.0000, 1.0000, 1.0000, 1.0000, 1.0000, 1.0000, 1.0000, 1.0000, 1.0000,\n",
       "        1.0000, 1.0000, 1.0000, 1.0000, 1.0000, 1.0000, 1.0000, 1.0000, 1.0000,\n",
       "        1.0000, 1.0000, 1.0000, 1.0000, 1.0000, 1.0000, 1.0000, 1.0000, 1.0000,\n",
       "        1.0000, 1.0000, 1.0000, 1.0000, 1.0000, 1.0000, 1.0000, 1.0000, 1.0000,\n",
       "        1.0000, 1.0000, 1.0000, 1.0000, 1.0000, 1.0000, 1.0000, 1.0000, 1.0000,\n",
       "        1.0000, 1.0000, 1.0000, 1.0000, 1.0000, 1.0000, 1.0000, 1.0000, 1.0000,\n",
       "        1.0000, 1.0000, 1.0000, 1.0000, 1.0000, 1.0000, 1.0000, 1.0000, 1.0000,\n",
       "        1.0000, 1.0000, 1.0000, 1.0000, 1.0000, 1.0000, 1.0000, 1.0000, 1.0000,\n",
       "        1.0000, 1.0000, 1.0000, 1.0000, 1.0000, 1.0000, 1.0000, 1.0000, 1.0000,\n",
       "        1.0000, 1.0000, 1.0000, 1.0000, 1.0000, 1.0000, 1.0000, 1.0000, 1.0000,\n",
       "        1.0000, 1.0000], grad_fn=<SumBackward2>)"
      ]
     },
     "execution_count": 54,
     "metadata": {},
     "output_type": "execute_result"
    }
   ],
   "source": [
    "F.softmax(output, dim=1).sum(1)"
   ]
  },
  {
   "cell_type": "code",
   "execution_count": 55,
   "metadata": {},
   "outputs": [
    {
     "data": {
      "text/plain": [
       "tensor([4.0012e-16, 4.0716e-10, 1.0062e-04, 2.1724e-08, 3.6937e-06, 9.9985e-01,\n",
       "        8.7469e-13, 4.4568e-05, 9.0763e-08, 1.4746e-13],\n",
       "       grad_fn=<SelectBackward>)"
      ]
     },
     "execution_count": 55,
     "metadata": {},
     "output_type": "execute_result"
    }
   ],
   "source": [
    "F.softmax(output, dim=1)[0]"
   ]
  },
  {
   "cell_type": "code",
   "execution_count": 56,
   "metadata": {},
   "outputs": [
    {
     "data": {
      "text/plain": [
       "tensor([5.1951e-08, 5.4286e-13, 6.1315e-06, 4.2662e-06, 6.7211e-08, 9.9999e-01,\n",
       "        1.2172e-07, 1.9147e-07, 3.6033e-06, 5.8953e-13],\n",
       "       grad_fn=<SelectBackward>)"
      ]
     },
     "execution_count": 56,
     "metadata": {},
     "output_type": "execute_result"
    }
   ],
   "source": [
    "F.softmax(output, dim=1)[1]"
   ]
  },
  {
   "cell_type": "markdown",
   "metadata": {},
   "source": [
    "However, instead of computing the negative log-likelihood now from the softmax output, it is both quicker and numerically more stable to directly use the cross_entropy loss from PyTorch. Notice that you need to pass the output of your last layer directly to cross_entropy - NEVER pass softmaxed output directly, use the explicit softmax presented above only if you want to output class probabilities at test time. "
   ]
  },
  {
   "cell_type": "code",
   "execution_count": 57,
   "metadata": {},
   "outputs": [
    {
     "data": {
      "text/plain": [
       "tensor(13.1333, grad_fn=<NllLossBackward>)"
      ]
     },
     "execution_count": 57,
     "metadata": {},
     "output_type": "execute_result"
    }
   ],
   "source": [
    "loss = F.cross_entropy(output, yb)\n",
    "loss"
   ]
  },
  {
   "cell_type": "markdown",
   "metadata": {},
   "source": [
    "## Backpropagation\n",
    "\n",
    "We now need to compute the gradient of the weight and bias tensor with respect to the loss. Luckily, PyTorch supplies us with an autograd mechanism that internally computes the gradients at each operations and propagates the error from the output of the network to the input, often called the backward pass.\n",
    "\n",
    "The gradients of a tensor can be accessed by the .grad attribute after running backward on the output as follows. At first, the gradient is empty:"
   ]
  },
  {
   "cell_type": "code",
   "execution_count": 58,
   "metadata": {},
   "outputs": [],
   "source": [
    "bias.grad"
   ]
  },
  {
   "cell_type": "markdown",
   "metadata": {},
   "source": [
    "We then run backpropagation by calling:"
   ]
  },
  {
   "cell_type": "code",
   "execution_count": 59,
   "metadata": {},
   "outputs": [],
   "source": [
    "loss.backward()"
   ]
  },
  {
   "cell_type": "markdown",
   "metadata": {},
   "source": [
    "Then, we can read out the gradient:"
   ]
  },
  {
   "cell_type": "code",
   "execution_count": 60,
   "metadata": {},
   "outputs": [
    {
     "data": {
      "text/plain": [
       "tensor([-0.0436, -0.1246, -0.0314, -0.0779, -0.0094,  0.3546, -0.0769,  0.0396,\n",
       "         0.0470, -0.0774])"
      ]
     },
     "execution_count": 60,
     "metadata": {},
     "output_type": "execute_result"
    }
   ],
   "source": [
    "bias.grad"
   ]
  },
  {
   "cell_type": "markdown",
   "metadata": {},
   "source": [
    "### Question\n",
    "\n",
    "What is the shape of the gradient of bias and weight?\n",
    "\n",
    "-\n",
    "\n",
    "-\n",
    "\n",
    "-\n",
    "\n",
    "-\n",
    "\n",
    "-\n",
    "\n",
    "-\n",
    "\n",
    "-\n",
    "\n",
    "-\n",
    "\n",
    "-\n",
    "\n",
    "-\n",
    "\n",
    "-\n",
    "\n",
    "-\n",
    "\n",
    "-\n",
    "\n",
    "-\n",
    "\n",
    "-\n",
    "\n",
    "-\n",
    "\n",
    "-\n",
    "\n",
    "-\n",
    "\n",
    "-\n",
    "\n",
    "-\n",
    "\n",
    "-"
   ]
  },
  {
   "cell_type": "code",
   "execution_count": 61,
   "metadata": {},
   "outputs": [
    {
     "data": {
      "text/plain": [
       "torch.Size([10])"
      ]
     },
     "execution_count": 61,
     "metadata": {},
     "output_type": "execute_result"
    }
   ],
   "source": [
    "bias.grad.shape"
   ]
  },
  {
   "cell_type": "code",
   "execution_count": 62,
   "metadata": {},
   "outputs": [
    {
     "data": {
      "text/plain": [
       "torch.Size([784, 10])"
      ]
     },
     "execution_count": 62,
     "metadata": {},
     "output_type": "execute_result"
    }
   ],
   "source": [
    "weight.grad.shape"
   ]
  },
  {
   "cell_type": "code",
   "execution_count": 63,
   "metadata": {},
   "outputs": [
    {
     "data": {
      "text/plain": [
       "tensor([[0., 0., 0.,  ..., 0., 0., 0.],\n",
       "        [0., 0., 0.,  ..., 0., 0., 0.],\n",
       "        [0., 0., 0.,  ..., 0., 0., 0.],\n",
       "        ...,\n",
       "        [0., 0., 0.,  ..., 0., 0., 0.],\n",
       "        [0., 0., 0.,  ..., 0., 0., 0.],\n",
       "        [0., 0., 0.,  ..., 0., 0., 0.]])"
      ]
     },
     "execution_count": 63,
     "metadata": {},
     "output_type": "execute_result"
    }
   ],
   "source": [
    "weight.grad"
   ]
  },
  {
   "cell_type": "markdown",
   "metadata": {},
   "source": [
    "## Gradient descent\n",
    "\n",
    "We can now change the weight and bias parameter in order to bring down the loss. Since we don't want to backpropagate through this gradient update step, we need to disable the autograd feature for these steps using with no_grad. We also need to define a learning rate (lr)."
   ]
  },
  {
   "cell_type": "code",
   "execution_count": 64,
   "metadata": {},
   "outputs": [
    {
     "name": "stdout",
     "output_type": "stream",
     "text": [
      "bias before:  tensor([0., 0., 0., 0., 0., 0., 0., 0., 0., 0.], requires_grad=True)\n",
      "bias after:  tensor([ 0.0044,  0.0125,  0.0031,  0.0078,  0.0009, -0.0355,  0.0077, -0.0040,\n",
      "        -0.0047,  0.0077], requires_grad=True)\n"
     ]
    }
   ],
   "source": [
    "lr = 1.e-1\n",
    "\n",
    "print(\"bias before: \", bias)\n",
    "\n",
    "with torch.no_grad():\n",
    "    weight -= lr * weight.grad\n",
    "    weight.grad.zero_()\n",
    "    bias -= lr * bias.grad\n",
    "    bias.grad.zero_()\n",
    "    \n",
    "print(\"bias after: \", bias)"
   ]
  },
  {
   "cell_type": "markdown",
   "metadata": {},
   "source": [
    "Did our model already improve after this one small mini batch gradient update?"
   ]
  },
  {
   "cell_type": "code",
   "execution_count": 65,
   "metadata": {},
   "outputs": [
    {
     "data": {
      "text/plain": [
       "tensor(12.3576, grad_fn=<NllLossBackward>)"
      ]
     },
     "execution_count": 65,
     "metadata": {},
     "output_type": "execute_result"
    }
   ],
   "source": [
    "output = model(Xb, weight, bias)\n",
    "F.cross_entropy(output, yb)"
   ]
  },
  {
   "cell_type": "code",
   "execution_count": 66,
   "metadata": {},
   "outputs": [
    {
     "data": {
      "text/plain": [
       "tensor(0.1172)"
      ]
     },
     "execution_count": 66,
     "metadata": {},
     "output_type": "execute_result"
    }
   ],
   "source": [
    "accuracy(output, yb)"
   ]
  },
  {
   "cell_type": "markdown",
   "metadata": {},
   "source": [
    "# Full Training Loop\n",
    "\n",
    "In practice, we want to do these gradient update steps multiple times over the whole dataset. Usually, we construct an inner loop that runs over the whole (shuffled!) training set, and an outer loop that repeats this pass over the whole training for a set number of epochs.\n",
    "\n",
    "Also, we were not very smart in initializing our weights. Lets use the popular kaiming initialization for initializing the weight matrix. Initialization is quite important, but as we will see later most of the times PyTorch provides us with a safe default. We just don't use it here since we did not yet learn about nn.Modules, yet.\n",
    "\n",
    "We also measure the accuracy on our validation set after each epoch in this loop:"
   ]
  },
  {
   "cell_type": "code",
   "execution_count": 67,
   "metadata": {
    "scrolled": true
   },
   "outputs": [
    {
     "name": "stdout",
     "output_type": "stream",
     "text": [
      "epoch     0: loss:  0.57796 accuracy: 0.90\n",
      "epoch     1: loss:  0.37585 accuracy: 0.91\n",
      "epoch     2: loss:  0.34368 accuracy: 0.91\n",
      "epoch     3: loss:  0.32699 accuracy: 0.91\n",
      "epoch     4: loss:  0.31619 accuracy: 0.92\n"
     ]
    }
   ],
   "source": [
    "lr = 0.1\n",
    "\n",
    "# initialize weights\n",
    "weight = torch.zeros((28*28, 10), requires_grad=True)\n",
    "nn.init.kaiming_uniform_(weight, mode='fan_out')\n",
    "bias = torch.zeros(10, requires_grad=True)\n",
    "\n",
    "for epoch in range(5):\n",
    "    # train on mini batches\n",
    "    losses = []\n",
    "    for X, y in train_loader:\n",
    "        # forward pass\n",
    "        output = model(X, weight, bias)\n",
    "        # compute loss\n",
    "        loss = F.cross_entropy(output, y)\n",
    "        losses.append(loss.item())\n",
    "        # backward pass\n",
    "        loss.backward()\n",
    "        # gradient descent update\n",
    "        with torch.no_grad():\n",
    "            weight -= lr * weight.grad\n",
    "            bias -= lr * bias.grad\n",
    "            weight.grad.zero_()\n",
    "            bias.grad.zero_()\n",
    "            \n",
    "    # measure accuracy on the validation set\n",
    "    acc = np.mean([\n",
    "        accuracy(model(X, weight, bias), y)\n",
    "        for X, y in valid_loader\n",
    "    ])\n",
    "    print(\"epoch % 5d: loss: % 8.5f accuracy: %4.2f\" % (epoch, np.mean(losses), acc.item()))\n"
   ]
  },
  {
   "cell_type": "markdown",
   "metadata": {},
   "source": [
    "## Lets take a look inside\n",
    "\n",
    "Since our model is so simple, we can actually take a look at the learned parameters of the network, as the weight matrix is just a stack of vectorized 28x28 images itself. Basically, we have trained 10 linear digit detectors. Lets have a look:"
   ]
  },
  {
   "cell_type": "code",
   "execution_count": 68,
   "metadata": {},
   "outputs": [
    {
     "data": {
      "text/plain": [
       "torch.Size([784, 10])"
      ]
     },
     "execution_count": 68,
     "metadata": {},
     "output_type": "execute_result"
    }
   ],
   "source": [
    "W = weight.detach()\n",
    "W.shape"
   ]
  },
  {
   "cell_type": "code",
   "execution_count": 69,
   "metadata": {
    "scrolled": true
   },
   "outputs": [
    {
     "data": {
      "text/plain": [
       "tensor([ 7.2706e-02,  1.4044e-02,  6.4577e-02, -2.0851e-02, -7.1824e-02,\n",
       "        -3.6074e-02, -7.7423e-02, -4.6563e-02,  9.6553e-03, -4.2816e-02,\n",
       "        -4.4220e-02, -5.5722e-02, -5.3766e-02,  1.4595e-02,  5.9706e-02,\n",
       "        -7.9614e-02, -6.0389e-02,  8.3175e-02,  4.7553e-02,  7.0072e-02,\n",
       "        -5.5441e-02, -5.3278e-02, -4.0065e-02, -6.0513e-02, -2.6763e-02,\n",
       "        -3.3829e-02,  3.0170e-02,  7.4253e-02,  6.2923e-02, -1.6951e-02,\n",
       "         2.7186e-02,  6.5374e-02,  6.2957e-02,  6.4906e-02,  1.8120e-02,\n",
       "         9.8957e-03, -1.8995e-02, -5.6485e-02,  3.4827e-02,  5.0398e-02,\n",
       "        -5.0684e-02, -6.9880e-02, -3.0500e-02, -7.3117e-02, -3.6247e-02,\n",
       "        -3.6275e-02, -1.9989e-02,  1.1922e-02, -2.6416e-02,  6.6417e-02,\n",
       "        -3.4807e-02, -4.2249e-02,  4.0788e-02, -4.4734e-02,  7.1273e-02,\n",
       "        -5.5630e-02, -7.5799e-02, -2.6050e-02, -2.7994e-02,  9.7793e-03,\n",
       "         6.6884e-02,  3.9920e-02,  5.6387e-02,  5.0807e-02,  1.3008e-02,\n",
       "        -8.7676e-02, -4.6638e-02,  4.8980e-02, -2.9503e-02, -6.0508e-03,\n",
       "        -8.1830e-02, -9.0309e-02,  1.6639e-02,  3.8934e-02,  2.3518e-02,\n",
       "         4.0892e-02, -1.2737e-02, -7.6387e-02, -5.8141e-02,  7.0298e-02,\n",
       "         6.0392e-02,  2.5180e-02,  7.5578e-02, -1.3628e-02, -1.3757e-02,\n",
       "        -8.7207e-02,  4.5032e-02,  4.5933e-02, -5.8995e-02,  5.6500e-02,\n",
       "        -7.1882e-04,  2.5311e-02, -1.7082e-02, -9.6224e-02,  5.9112e-02,\n",
       "         4.0767e-02, -2.1020e-02, -4.7227e-02, -5.8794e-02,  1.9361e-02,\n",
       "        -1.3697e-02, -4.6897e-02, -8.1867e-03, -1.1440e-01, -9.5226e-02,\n",
       "         2.5405e-02,  3.3793e-02,  1.4247e-02,  3.4400e-02,  7.6924e-02,\n",
       "         1.3459e-02, -3.6675e-02, -1.2084e-02, -2.4678e-02,  7.5844e-02,\n",
       "         5.5511e-02, -5.4513e-02, -4.4795e-02, -1.7429e-02, -9.2349e-02,\n",
       "        -8.6643e-03, -1.3965e-02, -6.3238e-02,  4.8576e-02, -2.7633e-02,\n",
       "         1.2611e-02, -4.4574e-02,  1.4244e-02, -1.9239e-02,  7.7906e-02,\n",
       "        -8.8957e-02, -5.4033e-02, -8.3776e-02, -5.8246e-02, -5.6452e-02,\n",
       "        -6.6448e-02, -8.2402e-02, -5.5906e-02,  3.8234e-02,  4.8234e-02,\n",
       "         1.8199e-02, -2.1669e-02, -6.7338e-02, -6.7065e-02, -5.8537e-02,\n",
       "        -8.0270e-02, -3.0737e-02, -8.5636e-03, -8.8011e-02, -1.2607e-01,\n",
       "        -5.9586e-02,  5.0191e-02,  3.1922e-03,  1.3058e-01,  8.9778e-02,\n",
       "         1.8791e-01,  5.5291e-02,  1.4628e-01,  5.4799e-02,  2.8481e-02,\n",
       "        -2.7751e-02, -5.1918e-02,  5.8094e-02, -5.2999e-02, -4.1082e-02,\n",
       "         3.0445e-02,  1.1144e-03,  7.5301e-02, -5.6071e-02,  2.1594e-03,\n",
       "        -7.5960e-02, -8.8298e-02,  7.0829e-02, -8.9450e-02, -6.7066e-02,\n",
       "         3.9948e-02, -3.9661e-02,  3.2718e-02, -3.5122e-02, -4.2970e-02,\n",
       "         1.4665e-01,  4.3644e-02,  9.3438e-02,  1.6709e-01,  2.0592e-01,\n",
       "         1.6322e-01,  1.8139e-01,  8.9805e-02,  1.4545e-01,  3.2150e-02,\n",
       "         2.2211e-02, -2.7465e-03, -4.3003e-02, -1.0036e-01, -4.9981e-02,\n",
       "        -8.1024e-02, -2.9335e-02,  3.2082e-02, -5.0790e-02, -5.0879e-02,\n",
       "         1.0699e-02,  1.5560e-02,  2.6634e-02, -2.7703e-02, -1.3560e-01,\n",
       "        -5.6823e-02,  5.0123e-02, -5.3550e-02,  9.7098e-02,  1.0387e-02,\n",
       "         5.9427e-03,  1.4070e-01,  2.1337e-01,  1.3351e-01,  2.2047e-01,\n",
       "         1.4921e-01,  2.4041e-02,  1.1068e-01, -9.8046e-03,  5.8690e-03,\n",
       "        -1.5245e-02, -1.2095e-01,  3.6509e-02, -2.5805e-02,  3.4321e-02,\n",
       "        -7.4816e-02, -7.6205e-02, -8.2809e-02,  2.5488e-02, -1.1395e-01,\n",
       "        -9.4203e-02, -9.3812e-02,  1.7659e-02, -2.0972e-03,  7.4535e-02,\n",
       "         1.7802e-02,  1.0241e-01,  6.1334e-02,  5.6454e-02,  7.0065e-02,\n",
       "         1.3594e-01,  2.5282e-01,  2.0170e-01,  5.5434e-02,  6.5572e-02,\n",
       "         1.5095e-02,  3.5699e-02,  1.2404e-01,  1.3864e-02,  6.8177e-03,\n",
       "        -5.9212e-02, -4.2153e-02, -7.8313e-02,  2.2177e-03,  7.0522e-02,\n",
       "         4.9156e-02, -6.4404e-02, -1.2257e-01,  4.5278e-02, -9.8172e-02,\n",
       "        -5.3302e-02, -3.6504e-02,  2.9433e-02, -9.8027e-03,  5.2056e-02,\n",
       "         8.9706e-02,  6.3032e-02,  7.6011e-02,  3.1675e-02,  1.3587e-01,\n",
       "         1.3139e-01,  1.5555e-01,  7.4936e-02,  8.8775e-02,  1.5563e-01,\n",
       "         1.4149e-01,  1.5169e-02, -6.2949e-02,  3.2128e-02, -7.2375e-02,\n",
       "        -5.5306e-02, -9.4616e-03, -3.4026e-02, -5.3287e-02, -2.7278e-02,\n",
       "         4.8497e-02, -5.6490e-02, -8.8996e-02,  3.9774e-02, -2.0922e-02,\n",
       "        -4.8168e-02,  7.1730e-03,  2.9248e-02,  3.0953e-02,  1.9366e-02,\n",
       "        -5.2799e-02, -7.5896e-02,  1.1577e-01,  1.7743e-01,  1.2200e-01,\n",
       "         1.4787e-01,  1.1017e-02,  2.2652e-01,  1.8406e-01,  1.0747e-01,\n",
       "        -1.4622e-02,  1.2649e-02, -3.8824e-03,  6.9249e-02,  5.1095e-02,\n",
       "        -4.0379e-02,  5.3259e-02,  3.2807e-02,  6.8304e-03, -6.8840e-02,\n",
       "        -1.1153e-02,  5.1886e-02, -5.0819e-02,  2.3585e-02, -1.1390e-02,\n",
       "         7.5356e-02, -3.8481e-02, -1.2801e-01, -3.6535e-01, -2.2875e-01,\n",
       "        -2.2016e-01, -9.0253e-03,  7.1376e-02,  9.6338e-02,  1.5866e-01,\n",
       "         2.4132e-01,  2.6245e-01,  7.9102e-02, -7.7876e-02,  4.0796e-02,\n",
       "        -1.2453e-02,  4.9980e-02, -4.6347e-02, -5.4022e-02, -2.8373e-02,\n",
       "        -1.2120e-01,  2.4713e-02,  7.3343e-02,  5.6076e-02, -5.5877e-02,\n",
       "        -1.0566e-02,  5.7467e-02,  9.7274e-02, -1.7678e-02, -2.0225e-01,\n",
       "        -3.8454e-01, -4.6607e-01, -3.2648e-01, -1.5085e-01, -2.6352e-02,\n",
       "        -4.4985e-02,  1.2640e-01,  1.8173e-01,  1.7124e-01,  2.1022e-01,\n",
       "         1.1155e-01, -6.7609e-02,  3.5686e-02, -2.6534e-02,  6.6198e-02,\n",
       "         9.7079e-04,  8.6344e-02, -5.9769e-02,  2.7929e-02,  1.6490e-03,\n",
       "         9.8001e-02,  1.8824e-01,  1.0861e-01,  8.3790e-02,  1.5552e-01,\n",
       "         5.0423e-02,  4.6231e-02, -2.3571e-01, -3.2101e-01, -5.1670e-01,\n",
       "        -3.9258e-01, -3.2969e-01, -5.5651e-02, -7.4768e-02, -5.0940e-02,\n",
       "         3.6369e-02,  2.5759e-01,  3.1584e-01,  1.1635e-01, -5.4059e-02,\n",
       "        -6.5686e-02, -7.1194e-02, -4.5569e-02,  5.8768e-02,  7.0696e-02,\n",
       "        -9.0437e-02,  4.9706e-02,  9.7486e-02,  7.5871e-02,  9.8006e-02,\n",
       "         3.2655e-02,  1.1838e-01,  1.5171e-01,  7.3742e-02, -9.5864e-02,\n",
       "        -3.3805e-01, -4.5575e-01, -4.4379e-01, -4.4026e-01, -1.9503e-01,\n",
       "        -1.4939e-01, -1.0285e-02, -4.5219e-03,  8.3596e-02,  2.6463e-01,\n",
       "         2.9217e-01,  1.9277e-01,  5.4845e-02,  6.4937e-02, -1.5870e-02,\n",
       "         5.8068e-02,  2.2768e-02, -7.5542e-02, -1.6737e-02, -7.3143e-02,\n",
       "         1.2325e-01,  1.7075e-01,  2.0416e-01,  1.7181e-01,  2.0554e-01,\n",
       "         1.5212e-01, -3.5640e-02, -2.4278e-01, -3.8258e-01, -5.1258e-01,\n",
       "        -4.3125e-01, -2.9819e-01, -1.5976e-01, -3.2958e-02,  8.2930e-04,\n",
       "         5.7003e-02,  1.6542e-01,  1.0824e-01,  2.4142e-01,  1.5688e-01,\n",
       "        -8.3766e-02, -6.4764e-02, -5.1926e-02, -5.9878e-02,  5.4365e-02,\n",
       "         4.4081e-02, -5.1613e-02, -3.2891e-02,  9.2716e-02,  1.8837e-01,\n",
       "         1.9514e-01,  2.0975e-01,  1.9362e-01,  1.2841e-01,  5.6823e-03,\n",
       "        -2.0322e-01, -5.0926e-01, -5.0831e-01, -4.3830e-01, -3.2076e-01,\n",
       "        -1.5535e-01, -4.6119e-02,  4.8450e-03,  3.6893e-02,  6.8243e-02,\n",
       "         1.4063e-01,  1.8152e-01, -3.6456e-03,  7.3394e-02,  4.4835e-02,\n",
       "         1.0332e-02,  4.7043e-02, -2.6415e-02, -3.9507e-02,  2.7367e-02,\n",
       "         3.6044e-02,  6.3423e-02,  2.0303e-01,  1.1194e-01,  2.0918e-01,\n",
       "         2.4502e-01,  1.8046e-01, -5.0157e-02, -2.1560e-01, -3.8647e-01,\n",
       "        -4.1795e-01, -2.5937e-01, -1.5593e-01,  8.9129e-02,  7.8010e-02,\n",
       "         6.4181e-02,  1.2817e-02,  7.2501e-02,  1.0548e-01,  4.4405e-04,\n",
       "         8.3066e-02,  7.2409e-02, -2.7283e-02, -8.1832e-02, -5.0342e-02,\n",
       "        -6.8078e-02, -6.6312e-02, -5.3339e-02,  4.5362e-02,  1.6866e-01,\n",
       "         2.0201e-01,  1.6549e-01,  8.0060e-02,  1.9317e-01,  2.0819e-01,\n",
       "         2.3040e-03, -1.6753e-01, -3.3878e-01, -3.3560e-01, -8.3934e-02,\n",
       "        -1.1470e-01, -6.6253e-02,  5.0024e-02, -1.2445e-02,  1.6215e-02,\n",
       "         4.5658e-02,  2.9201e-03,  1.9074e-02, -7.0657e-02, -3.0974e-03,\n",
       "         1.2198e-02, -8.1952e-02, -5.4825e-02,  7.9551e-02,  7.8431e-02,\n",
       "         6.3592e-04,  4.6778e-03,  4.8266e-02,  1.2764e-01,  1.3310e-01,\n",
       "         1.6176e-01,  2.1236e-01,  1.6826e-01,  1.8326e-01,  5.5629e-02,\n",
       "        -1.6410e-01, -1.6298e-01, -2.8705e-02,  6.0518e-03, -1.5275e-02,\n",
       "        -4.7533e-02,  3.9762e-02, -6.7997e-02,  1.0254e-01, -1.7520e-02,\n",
       "        -6.3262e-02, -8.0013e-02, -4.8739e-02, -7.1639e-02,  2.9611e-02,\n",
       "        -3.4612e-02,  5.0287e-02,  6.6129e-02,  1.6853e-02,  4.5771e-02,\n",
       "         1.9942e-03,  7.7815e-02,  4.5708e-02,  4.8071e-02,  2.3012e-01,\n",
       "         2.2047e-01,  2.0709e-01,  1.2692e-01,  6.9481e-02,  2.0439e-02,\n",
       "         6.6633e-03, -7.0028e-02,  1.2513e-02, -2.1164e-02, -9.2334e-02,\n",
       "         2.5288e-02, -5.0103e-02, -5.8267e-02, -6.9552e-02, -8.6595e-02,\n",
       "         2.1573e-02,  2.7587e-02,  1.3734e-02, -4.1002e-02, -7.6546e-02,\n",
       "        -1.4006e-02, -7.5151e-02, -9.7080e-02,  1.8986e-02,  9.5278e-02,\n",
       "         1.3170e-01,  1.4338e-01,  1.8045e-01,  1.7009e-01,  2.0318e-01,\n",
       "         1.0534e-01,  2.4215e-02,  2.4081e-02,  5.3034e-02, -6.1334e-02,\n",
       "        -3.0899e-02, -2.0752e-02, -8.9371e-02, -6.2983e-03, -9.1240e-02,\n",
       "        -1.6047e-02, -5.7830e-02, -5.2353e-02,  4.1061e-02, -1.2204e-02,\n",
       "        -7.9128e-02, -5.7005e-02, -8.0886e-03,  5.6128e-02,  2.7857e-02,\n",
       "         2.3739e-02, -5.5987e-02,  1.1015e-01,  2.2593e-02,  4.5562e-02,\n",
       "         1.2604e-01,  1.2076e-01,  1.9629e-01,  1.7662e-01,  2.3446e-01,\n",
       "         1.6780e-01,  4.9341e-02,  6.9893e-03, -6.9779e-02, -1.9024e-02,\n",
       "        -4.2161e-02, -1.0322e-01, -3.7966e-02,  1.8424e-02,  6.4910e-02,\n",
       "        -8.3458e-02, -1.5202e-02, -6.0668e-02, -2.3177e-02,  6.6551e-02,\n",
       "        -7.8913e-02,  5.1057e-02,  5.9672e-02, -1.7384e-02, -6.2506e-02,\n",
       "         5.4965e-02, -3.7273e-02,  1.2427e-01,  5.4568e-02,  1.7042e-01,\n",
       "         2.0020e-01,  2.0616e-01,  2.1691e-01,  1.2273e-01,  4.4448e-02,\n",
       "         5.0558e-02, -6.5455e-02, -1.6931e-02, -1.4696e-01, -1.4562e-01,\n",
       "         3.7540e-02, -8.6899e-02,  4.0905e-02,  3.0120e-02, -7.9829e-02,\n",
       "         1.5593e-02, -1.0587e-03, -8.2916e-02,  8.2678e-02,  6.8562e-02,\n",
       "         7.7504e-02,  3.4749e-02,  6.7439e-02, -9.6781e-02, -7.6497e-02,\n",
       "         8.3419e-03,  2.3589e-02, -3.0669e-02, -2.4589e-02, -8.5393e-03,\n",
       "        -3.0132e-02, -2.4546e-02, -2.6059e-02, -1.2783e-01, -1.8119e-02,\n",
       "        -1.2167e-01, -2.8169e-02, -3.4818e-02,  4.6469e-02, -1.3654e-02,\n",
       "        -1.5262e-02,  8.0988e-02, -4.8215e-02, -4.3790e-02,  6.7696e-02,\n",
       "         5.0394e-02, -1.7955e-02, -7.3349e-02,  7.4558e-04,  5.5925e-02,\n",
       "        -8.1980e-02, -7.1634e-02, -5.3856e-02, -4.1826e-02, -1.3693e-01,\n",
       "        -1.4991e-01, -2.5446e-02, -8.8011e-02, -6.7904e-02, -7.5653e-02,\n",
       "        -1.0529e-01, -9.1972e-02, -1.6335e-02, -1.2104e-01, -8.6277e-02,\n",
       "        -2.4693e-04, -8.7620e-02, -8.1283e-02, -5.7159e-02,  8.4062e-02,\n",
       "        -6.7437e-02,  6.1484e-02, -4.7497e-02, -6.9982e-02, -1.6988e-02,\n",
       "         2.9405e-03,  8.5409e-02, -3.3564e-02, -4.7049e-02, -7.3754e-02,\n",
       "        -4.6426e-02, -4.6626e-02, -4.9401e-02, -5.8705e-02,  2.1306e-02,\n",
       "         3.9314e-02, -5.5609e-02,  1.1902e-02,  9.0065e-03, -4.6357e-03,\n",
       "        -1.2499e-02,  3.5270e-02, -7.2121e-03,  4.6639e-02, -7.4140e-02,\n",
       "        -1.6286e-04, -1.5914e-03, -8.5619e-02,  2.3489e-02,  3.5053e-03,\n",
       "         7.0469e-02, -3.4726e-02, -6.3036e-02,  5.8049e-03,  5.2467e-02,\n",
       "         3.8929e-03,  3.0431e-02,  2.8832e-02, -2.9679e-02,  6.1895e-02,\n",
       "        -6.1996e-02, -7.1018e-02, -3.0119e-02,  4.3950e-02,  3.0241e-03,\n",
       "        -6.7960e-02,  1.7614e-02,  3.1796e-02,  6.7458e-02,  4.4236e-02,\n",
       "        -4.8946e-02,  1.7982e-02, -6.6243e-02, -6.5179e-03, -8.2331e-02,\n",
       "         2.3268e-02, -2.4347e-02, -7.5978e-02,  6.0583e-02])"
      ]
     },
     "execution_count": 69,
     "metadata": {},
     "output_type": "execute_result"
    }
   ],
   "source": [
    "W[:, 0]"
   ]
  },
  {
   "cell_type": "code",
   "execution_count": 70,
   "metadata": {},
   "outputs": [
    {
     "data": {
      "text/plain": [
       "<matplotlib.image.AxesImage at 0x7f0df4da6a58>"
      ]
     },
     "execution_count": 70,
     "metadata": {},
     "output_type": "execute_result"
    },
    {
     "data": {
      "image/png": "[encoded data removed]",
      "text/plain": [
       "<Figure size 432x288 with 1 Axes>"
      ]
     },
     "metadata": {
      "needs_background": "light"
     },
     "output_type": "display_data"
    }
   ],
   "source": [
    "plt.imshow(W[:, 0].reshape(28, 28))"
   ]
  },
  {
   "cell_type": "code",
   "execution_count": 71,
   "metadata": {},
   "outputs": [
    {
     "data": {
      "image/png": "[encoded data removed]",
      "text/plain": [
       "<Figure size 576x432 with 10 Axes>"
      ]
     },
     "metadata": {
      "needs_background": "light"
     },
     "output_type": "display_data"
    }
   ],
   "source": [
    "show_image_grid(W.reshape(28, 28, 10).permute(2, 0, 1), nrow=4)"
   ]
  },
  {
   "cell_type": "markdown",
   "metadata": {},
   "source": [
    "## Simplifying our lives with pytorch.optim and nn.Module\n",
    "\n",
    "Unless you have a good reason, there is no need to code like above in practice. PyTorch supplies us with comfortable classes for constructing neural networks (nn.Module), constructing layers (e.g. nn.Linear) and for stochastic gradient descent algorithms in pytorch.optim\n",
    "\n",
    "Lets use those modules to refactor our training loop:"
   ]
  },
  {
   "cell_type": "code",
   "execution_count": 72,
   "metadata": {},
   "outputs": [
    {
     "data": {
      "text/plain": [
       "Net(\n",
       "  (fc1): Linear(in_features=784, out_features=10, bias=True)\n",
       ")"
      ]
     },
     "execution_count": 72,
     "metadata": {},
     "output_type": "execute_result"
    }
   ],
   "source": [
    "class Net(nn.Module):\n",
    "    def __init__(self):\n",
    "        super(Net, self).__init__()\n",
    "        self.fc1 = nn.Linear(28*28, 10, bias=True)\n",
    "\n",
    "    def forward(self, x):\n",
    "        x = x.view(x.shape[0], -1)\n",
    "        x = self.fc1(x)\n",
    "        return x\n",
    "    \n",
    "net = Net()\n",
    "net"
   ]
  },
  {
   "cell_type": "code",
   "execution_count": 76,
   "metadata": {},
   "outputs": [
    {
     "name": "stdout",
     "output_type": "stream",
     "text": [
      "epoch     0: loss:  0.57244 accuracy: 0.90\n",
      "epoch     1: loss:  0.37422 accuracy: 0.91\n",
      "epoch     2: loss:  0.34257 accuracy: 0.91\n",
      "epoch     3: loss:  0.32584 accuracy: 0.92\n",
      "epoch     4: loss:  0.31535 accuracy: 0.92\n"
     ]
    }
   ],
   "source": [
    "net = Net()\n",
    "sgd = optim.SGD(net.parameters(), lr=1.e-1)\n",
    "\n",
    "for epoch in range(5):\n",
    "    # train on mini batches\n",
    "    losses = []\n",
    "    for X, y in train_loader:\n",
    "        sgd.zero_grad()\n",
    "        output = net(X)\n",
    "        loss = F.cross_entropy(output, y)\n",
    "        losses.append(loss.item())\n",
    "\n",
    "        loss.backward()\n",
    "        sgd.step()\n",
    "            \n",
    "    # measure accuracy on the validation set\n",
    "    acc = np.mean([\n",
    "        accuracy(net(X), y)\n",
    "        for X, y in valid_loader\n",
    "    ])\n",
    "    print(\"epoch % 5d: loss: % 8.5f accuracy: %4.2f\" % (epoch, np.mean(losses), acc.item()))"
   ]
  },
  {
   "cell_type": "markdown",
   "metadata": {},
   "source": [
    "## Simplifying our lives even further with additional libraries\n",
    "\n",
    "We can simpify even further using additional libraries. [Poutyne](https://poutyne.org/) provides a simple training loop including callbacks. [fastai](https://github.com/fastai/fastai) is similar in this regard, but has an even higher level of abstraction and much more stuff included (they have a free online cours). Another alternative is [Keras](https://keras.io/) that is based on tensorflow. We also use [Tensorboard](https://www.tensorflow.org/guide/summaries_and_tensorboard) via [tensorboardX](https://tensorboardx.readthedocs.io/) in order to plot the loss and accuracy during training.\n",
    "\n",
    "We will also take the code we prototyped here and put it into an executable python file in VSCode (@Oliver)"
   ]
  },
  {
   "cell_type": "code",
   "execution_count": 77,
   "metadata": {
    "scrolled": true
   },
   "outputs": [
    {
     "name": "stdout",
     "output_type": "stream",
     "text": [
      "Epoch 1/5 5.47s Step 469/469: loss: 0.571431, acc: 86.228333, val_loss: 0.380430, val_acc: 90.130000\n",
      "Epoch 2/5 5.68s Step 469/469: loss: 0.373345, acc: 89.775000, val_loss: 0.335915, val_acc: 90.800000\n",
      "Epoch 3/5 5.48s Step 469/469: loss: 0.342097, acc: 90.498333, val_loss: 0.316224, val_acc: 91.280000\n",
      "Epoch 4/5 5.55s Step 469/469: loss: 0.325709, acc: 91.003333, val_loss: 0.306083, val_acc: 91.580000\n",
      "Epoch 5/5 5.50s Step 469/469: loss: 0.315252, acc: 91.226667, val_loss: 0.297954, val_acc: 91.730000\n"
     ]
    },
    {
     "data": {
      "text/plain": [
       "[{'epoch': 1,\n",
       "  'loss': 0.5714310395558675,\n",
       "  'time': 5.472436159849167,\n",
       "  'acc': 86.22833333333334,\n",
       "  'val_loss': 0.3804295210361481,\n",
       "  'val_acc': 90.13},\n",
       " {'epoch': 2,\n",
       "  'loss': 0.3733452877998352,\n",
       "  'time': 5.677092030644417,\n",
       "  'acc': 89.77499999186197,\n",
       "  'val_loss': 0.3359154708623886,\n",
       "  'val_acc': 90.8},\n",
       " {'epoch': 3,\n",
       "  'loss': 0.3420966678619385,\n",
       "  'time': 5.481374135240912,\n",
       "  'acc': 90.49833332519532,\n",
       "  'val_loss': 0.3162235161781311,\n",
       "  'val_acc': 91.28},\n",
       " {'epoch': 4,\n",
       "  'loss': 0.3257090063412984,\n",
       "  'time': 5.55189105309546,\n",
       "  'acc': 91.00333332519531,\n",
       "  'val_loss': 0.3060828198432922,\n",
       "  'val_acc': 91.58},\n",
       " {'epoch': 5,\n",
       "  'loss': 0.3152516704161962,\n",
       "  'time': 5.495405642315745,\n",
       "  'acc': 91.22666667480469,\n",
       "  'val_loss': 0.29795360612869265,\n",
       "  'val_acc': 91.73}]"
      ]
     },
     "execution_count": 77,
     "metadata": {},
     "output_type": "execute_result"
    }
   ],
   "source": [
    "from poutyne.framework import Model\n",
    "from poutyne.framework.callbacks import TensorBoardLogger\n",
    "from tensorboardX import SummaryWriter\n",
    "\n",
    "net = Net()\n",
    "sgd = optim.SGD(net.parameters(), lr=1.e-1)\n",
    "model = Model(net, sgd, 'cross_entropy', metrics=['accuracy']) \n",
    "model.cuda() \n",
    "model.fit_generator(\n",
    "    train_loader, valid_loader,\n",
    "    epochs=5,\n",
    "    callbacks=[TensorBoardLogger(SummaryWriter())]\n",
    ")"
   ]
  },
  {
   "cell_type": "markdown",
   "metadata": {},
   "source": [
    "## Saving & Loading models"
   ]
  },
  {
   "cell_type": "code",
   "execution_count": 78,
   "metadata": {},
   "outputs": [],
   "source": [
    "torch.save(net.state_dict(), 'mynet.pth')"
   ]
  },
  {
   "cell_type": "markdown",
   "metadata": {},
   "source": [
    "Now, we can re-instantiate the network, for example when we restart our jupyter session after a couple days of training or if we want to use the model in production. However, all the weights are lost :("
   ]
  },
  {
   "cell_type": "code",
   "execution_count": 79,
   "metadata": {},
   "outputs": [
    {
     "name": "stdout",
     "output_type": "stream",
     "text": [
      "label:  tensor(9)\n",
      "predictions:  tensor([[0.0658, 0.0967, 0.1024, 0.0735, 0.0929, 0.1145, 0.1014, 0.1182, 0.1303,\n",
      "         0.1042]], grad_fn=<SoftmaxBackward>)\n"
     ]
    }
   ],
   "source": [
    "net2 = Net()\n",
    "\n",
    "print(\"label: \", yb[0])\n",
    "print(\"predictions: \", F.softmax(net2(Xb[0]), dim=1))"
   ]
  },
  {
   "cell_type": "markdown",
   "metadata": {},
   "source": [
    "So let's load the parameters from our checkpoint:"
   ]
  },
  {
   "cell_type": "code",
   "execution_count": 80,
   "metadata": {},
   "outputs": [
    {
     "name": "stdout",
     "output_type": "stream",
     "text": [
      "label:  tensor(9)\n",
      "predictions:  tensor([[0.0028, 0.0008, 0.0266, 0.0187, 0.1190, 0.0054, 0.0342, 0.0343, 0.3854,\n",
      "         0.3728]], grad_fn=<SoftmaxBackward>)\n"
     ]
    }
   ],
   "source": [
    "net2.load_state_dict(torch.load('mynet.pth'))\n",
    "net2.eval() # needed when we use layers that behave different in training and testing (e.g. Batchnorm, Dropout)\n",
    "print(\"label: \", yb[0])\n",
    "print(\"predictions: \", F.softmax(net2(Xb[0]), dim=1))"
   ]
  },
  {
   "cell_type": "code",
   "execution_count": 81,
   "metadata": {
    "scrolled": false
   },
   "outputs": [
    {
     "data": {
      "image/png": "[encoded data removed]",
      "text/plain": [
       "<Figure size 864x648 with 24 Axes>"
      ]
     },
     "metadata": {
      "needs_background": "light"
     },
     "output_type": "display_data"
    }
   ],
   "source": [
    "show_image_grid(Xb, net2(Xb).argmax(dim=1))"
   ]
  },
  {
   "cell_type": "markdown",
   "metadata": {},
   "source": [
    "# Your Task:\n",
    "\n",
    " - What happens if you increase/decrease the learning rate?\n",
    " - Do you also observe that the training loss is less or at least not much higher then the validation loss? What does that mean?\n",
    " - What happens if you use a very small batch size (try 2 or 4)?\n",
    " - Does learning for more epochs improve performance?\n",
    " - Try adding more layers to the network\n",
    " - Try even more complex architectures and change the number of hidden neurons - can you get even better accuracy?\n",
    " - Visualize some images from the validation set that are misclassified - what can you see?\n",
    " - Instead of MNIST, try FashionMNIST, which has the same format but is much harder then MNIST\n"
   ]
  }
 ],
 "metadata": {
  "kernelspec": {
   "display_name": "Python 3",
   "language": "python",
   "name": "python3"
  },
  "language_info": {
   "codemirror_mode": {
    "name": "ipython",
    "version": 3
   },
   "file_extension": ".py",
   "mimetype": "text/x-python",
   "name": "python",
   "nbconvert_exporter": "python",
   "pygments_lexer": "ipython3",
   "version": "3.7.2"
  }
 },
 "nbformat": 4,
 "nbformat_minor": 2
}
