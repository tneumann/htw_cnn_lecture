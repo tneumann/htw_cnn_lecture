{
 "cells": [
  {
   "cell_type": "markdown",
   "metadata": {},
   "source": [
    "# Intro to Pytorch - MNIST Digit Classification\n",
    "\n",
    "In this notebook, we cover the basics of PyTorch and will train our first (shallow) neural network from scratch on the MNIST digit classification dataset.\n",
    "\n",
    "Let's start by importing the libraries that we will need and setting up jupyter. You can add additional imports later and re-run the cell to make those imports available throughout the notebook."
   ]
  },
  {
   "cell_type": "code",
   "execution_count": 14,
   "metadata": {},
   "outputs": [],
   "source": [
    "# ipython magic that ensures that plots are inlined and saved along with the notebook\n",
    "%matplotlib inline\n",
    "\n",
    "# import numpy - array processing library\n",
    "import numpy as np \n",
    "\n",
    "# pytorch imports:\n",
    "import torch \n",
    "import torch.nn as nn\n",
    "import torch.nn.functional as F\n",
    "import torch.optim as optim\n",
    "\n",
    "# pytorch functionality for image datasets\n",
    "from torchvision import datasets, transforms\n",
    "\n",
    "# standard plotting library\n",
    "import matplotlib.pyplot as plt"
   ]
  },
  {
   "cell_type": "markdown",
   "metadata": {},
   "source": [
    "We supply you with a function to plot multiple images along with their labels. Please ignore for now:"
   ]
  },
  {
   "cell_type": "code",
   "execution_count": 15,
   "metadata": {},
   "outputs": [],
   "source": [
    "def show_image_grid(X, y=None, title=None, nrow=6, ncol=4, **kwargs):\n",
    "    max_num = nrow*ncol\n",
    "    X = X[:max_num]\n",
    "    if len(X) < max_num:\n",
    "        ncol = len(X) // nrow + 1\n",
    "    if isinstance(X, np.ndarray):\n",
    "        X = torch.from_numpy(X)\n",
    "    if X.dim() != 4:\n",
    "        X = X[:, None]\n",
    "\n",
    "    plt.figure(title, figsize=(2*nrow, 2*ncol + (0 if y is None else 1)))\n",
    "    if title:\n",
    "        plt.title(title)\n",
    "        \n",
    "    y = [None] * len(X) if y is None else y\n",
    "    if isinstance(y, torch.Tensor):\n",
    "        y = y.numpy()\n",
    "        \n",
    "    for i, (Xi, yi) in enumerate(zip(X, y)):\n",
    "        plt.subplot(ncol, nrow, i+1)\n",
    "        img = Xi.numpy().transpose((1, 2, 0))\n",
    "        if img.shape[2] == 1:\n",
    "            img = img[..., 0]\n",
    "        plt.imshow(img)\n",
    "        if yi is not None:\n",
    "            plt.title(str(yi))\n",
    "        plt.axis('off')\n",
    "    \n",
    "    plt.axis('off')\n"
   ]
  },
  {
   "cell_type": "markdown",
   "metadata": {},
   "source": [
    "## Loading the data\n",
    "\n",
    "First, lets load the dataset:"
   ]
  },
  {
   "cell_type": "code",
   "execution_count": 16,
   "metadata": {},
   "outputs": [
    {
     "data": {
      "text/plain": [
       "Dataset MNIST\n",
       "    Number of datapoints: 60000\n",
       "    Split: train\n",
       "    Root Location: ./data\n",
       "    Transforms (if any): ToTensor()\n",
       "    Target Transforms (if any): None"
      ]
     },
     "execution_count": 16,
     "metadata": {},
     "output_type": "execute_result"
    }
   ],
   "source": [
    "train_data = datasets.MNIST(root='./data', train=True, \n",
    "                            download=True, transform=transforms.ToTensor())\n",
    "train_data"
   ]
  },
  {
   "cell_type": "markdown",
   "metadata": {},
   "source": [
    "In order to sample from this dataset, we need a DataLoader. A DataLoader samples mini batches from a DataSet and can also be used to apply transformations to the data (here, we just want to transform the data to a pytorch tensor)."
   ]
  },
  {
   "cell_type": "code",
   "execution_count": 17,
   "metadata": {},
   "outputs": [
    {
     "data": {
      "text/plain": [
       "<torch.utils.data.dataloader.DataLoader at 0x7f5dc80b6e10>"
      ]
     },
     "execution_count": 17,
     "metadata": {},
     "output_type": "execute_result"
    }
   ],
   "source": [
    "batch_size = 128\n",
    "train_loader = torch.utils.data.DataLoader(train_data, shuffle=True, batch_size=batch_size)\n",
    "train_loader"
   ]
  },
  {
   "cell_type": "markdown",
   "metadata": {},
   "source": [
    "MNIST also provides a validation set that we can use to test how well our model performs."
   ]
  },
  {
   "cell_type": "code",
   "execution_count": 18,
   "metadata": {},
   "outputs": [],
   "source": [
    "valid_data = datasets.MNIST(root='./data', train=False, \n",
    "                            download=True, transform=transforms.ToTensor())\n",
    "valid_loader = torch.utils.data.DataLoader(valid_data, shuffle=False, batch_size=batch_size)"
   ]
  },
  {
   "cell_type": "markdown",
   "metadata": {},
   "source": [
    "Lets sample one batch of data from the dataset:"
   ]
  },
  {
   "cell_type": "code",
   "execution_count": 19,
   "metadata": {},
   "outputs": [],
   "source": [
    "Xb, yb = next(iter(train_loader))"
   ]
  },
  {
   "cell_type": "code",
   "execution_count": 20,
   "metadata": {},
   "outputs": [
    {
     "data": {
      "text/plain": [
       "torch.Size([128, 1, 28, 28])"
      ]
     },
     "execution_count": 20,
     "metadata": {},
     "output_type": "execute_result"
    }
   ],
   "source": [
    "Xb.shape"
   ]
  },
  {
   "cell_type": "code",
   "execution_count": 21,
   "metadata": {
    "scrolled": true
   },
   "outputs": [
    {
     "data": {
      "text/plain": [
       "tensor([[[0.0000, 0.0000, 0.0000, 0.0000, 0.0000, 0.0000, 0.0000, 0.0000,\n",
       "          0.0000, 0.0000, 0.0000, 0.0000, 0.0000, 0.0000, 0.0000, 0.0000,\n",
       "          0.0000, 0.0000, 0.0000, 0.0000, 0.0000, 0.0000, 0.0000, 0.0000,\n",
       "          0.0000, 0.0000, 0.0000, 0.0000],\n",
       "         [0.0000, 0.0000, 0.0000, 0.0000, 0.0000, 0.0000, 0.0000, 0.0000,\n",
       "          0.0000, 0.0000, 0.0000, 0.0000, 0.0000, 0.0000, 0.0000, 0.0000,\n",
       "          0.0000, 0.0000, 0.0000, 0.0000, 0.0000, 0.0000, 0.0000, 0.0000,\n",
       "          0.0000, 0.0000, 0.0000, 0.0000],\n",
       "         [0.0000, 0.0000, 0.0000, 0.0000, 0.0000, 0.0000, 0.0000, 0.0000,\n",
       "          0.0000, 0.0000, 0.0000, 0.0000, 0.0000, 0.0000, 0.0000, 0.0000,\n",
       "          0.0000, 0.0000, 0.0000, 0.0000, 0.0000, 0.0000, 0.0000, 0.0000,\n",
       "          0.0000, 0.0000, 0.0000, 0.0000],\n",
       "         [0.0000, 0.0000, 0.0000, 0.0000, 0.0000, 0.0000, 0.0000, 0.0000,\n",
       "          0.0000, 0.0000, 0.0000, 0.0000, 0.0000, 0.0000, 0.0000, 0.0000,\n",
       "          0.0000, 0.0000, 0.0000, 0.0000, 0.0000, 0.0000, 0.0000, 0.0000,\n",
       "          0.0000, 0.0000, 0.0000, 0.0000],\n",
       "         [0.0000, 0.0000, 0.0000, 0.0000, 0.0000, 0.0000, 0.0000, 0.0000,\n",
       "          0.0000, 0.0000, 0.0000, 0.0000, 0.0000, 0.0000, 0.0000, 0.0000,\n",
       "          0.0000, 0.0000, 0.0000, 0.0000, 0.0000, 0.0000, 0.0000, 0.0000,\n",
       "          0.0000, 0.0000, 0.0000, 0.0000],\n",
       "         [0.0000, 0.0000, 0.0000, 0.0000, 0.0000, 0.0000, 0.0000, 0.0000,\n",
       "          0.1961, 0.8000, 1.0000, 0.3647, 0.0000, 0.0000, 0.0000, 0.0000,\n",
       "          0.0000, 0.0000, 0.0000, 0.0000, 0.0000, 0.0000, 0.0000, 0.0000,\n",
       "          0.0000, 0.0000, 0.0000, 0.0000],\n",
       "         [0.0000, 0.0000, 0.0000, 0.0000, 0.0000, 0.0000, 0.0000, 0.0000,\n",
       "          0.4784, 0.9922, 0.9922, 0.8431, 0.0000, 0.0000, 0.0784, 0.3686,\n",
       "          0.3686, 0.3686, 0.1725, 0.0000, 0.0000, 0.0000, 0.0000, 0.0000,\n",
       "          0.0000, 0.0000, 0.0000, 0.0000],\n",
       "         [0.0000, 0.0000, 0.0000, 0.0000, 0.0000, 0.0000, 0.0000, 0.0824,\n",
       "          0.8784, 0.9922, 0.9922, 0.6471, 0.0000, 0.6353, 0.9647, 0.9922,\n",
       "          0.9922, 0.9922, 0.9725, 0.9569, 0.5569, 0.3137, 0.0235, 0.0000,\n",
       "          0.0000, 0.0000, 0.0000, 0.0000],\n",
       "         [0.0000, 0.0000, 0.0000, 0.0000, 0.0000, 0.0000, 0.0000, 0.4471,\n",
       "          0.9922, 0.9922, 0.9020, 0.0824, 0.3176, 0.9529, 0.9922, 0.9922,\n",
       "          0.9922, 0.9922, 0.9922, 0.9922, 0.9922, 0.9922, 0.7686, 0.4784,\n",
       "          0.1961, 0.0000, 0.0000, 0.0000],\n",
       "         [0.0000, 0.0000, 0.0000, 0.0000, 0.0000, 0.0000, 0.2314, 0.9451,\n",
       "          0.9922, 0.9843, 0.4706, 0.0000, 0.6078, 0.9922, 0.9725, 0.8902,\n",
       "          0.8235, 0.4863, 0.7020, 0.9647, 0.9922, 0.9922, 0.9922, 0.9922,\n",
       "          0.5843, 0.0000, 0.0000, 0.0000],\n",
       "         [0.0000, 0.0000, 0.0000, 0.0000, 0.0000, 0.0000, 0.7725, 0.9922,\n",
       "          0.9922, 0.8902, 0.0000, 0.0000, 0.0745, 0.4706, 0.2431, 0.0000,\n",
       "          0.0000, 0.0000, 0.0000, 0.2196, 0.6902, 0.9922, 0.9922, 0.9922,\n",
       "          0.5843, 0.0000, 0.0000, 0.0000],\n",
       "         [0.0000, 0.0000, 0.0000, 0.0000, 0.0000, 0.3569, 0.9686, 0.9922,\n",
       "          0.9725, 0.3373, 0.0000, 0.0000, 0.0000, 0.0000, 0.0000, 0.0000,\n",
       "          0.0000, 0.0000, 0.0000, 0.0000, 0.0118, 0.1216, 0.4706, 0.7843,\n",
       "          0.5490, 0.0000, 0.0000, 0.0000],\n",
       "         [0.0000, 0.0000, 0.0000, 0.0000, 0.0000, 0.6902, 0.9922, 0.9922,\n",
       "          0.6667, 0.0000, 0.0000, 0.0000, 0.0000, 0.0000, 0.0000, 0.0000,\n",
       "          0.0000, 0.0000, 0.0000, 0.0000, 0.0000, 0.0000, 0.0000, 0.0000,\n",
       "          0.0000, 0.0000, 0.0000, 0.0000],\n",
       "         [0.0000, 0.0000, 0.0000, 0.0000, 0.0000, 0.9961, 0.9922, 0.9922,\n",
       "          0.6745, 0.0196, 0.0000, 0.0000, 0.0000, 0.0000, 0.0000, 0.0000,\n",
       "          0.0000, 0.0000, 0.0000, 0.0000, 0.0000, 0.0000, 0.0000, 0.0000,\n",
       "          0.0000, 0.0000, 0.0000, 0.0000],\n",
       "         [0.0000, 0.0000, 0.0000, 0.0000, 0.0000, 0.6627, 0.9922, 0.9922,\n",
       "          0.9922, 0.9529, 0.6118, 0.2549, 0.1216, 0.1176, 0.0000, 0.0000,\n",
       "          0.0000, 0.0000, 0.0000, 0.0000, 0.0000, 0.0000, 0.0000, 0.0000,\n",
       "          0.0000, 0.0000, 0.0000, 0.0000],\n",
       "         [0.0000, 0.0000, 0.0000, 0.0000, 0.0000, 0.0392, 0.8196, 0.9922,\n",
       "          0.9922, 0.9922, 0.9922, 0.9922, 0.9137, 0.9098, 0.5412, 0.2392,\n",
       "          0.0000, 0.0000, 0.0000, 0.0000, 0.0000, 0.0000, 0.0000, 0.0000,\n",
       "          0.0000, 0.0000, 0.0000, 0.0000],\n",
       "         [0.0000, 0.0000, 0.0000, 0.0000, 0.0000, 0.0000, 0.0157, 0.6314,\n",
       "          0.8824, 0.9922, 0.9922, 0.9922, 0.9922, 0.9922, 0.9922, 0.9882,\n",
       "          0.9098, 0.5686, 0.1686, 0.0000, 0.0000, 0.0000, 0.0000, 0.0000,\n",
       "          0.0000, 0.0000, 0.0000, 0.0000],\n",
       "         [0.0000, 0.0000, 0.0000, 0.0000, 0.0000, 0.0000, 0.0000, 0.0000,\n",
       "          0.0824, 0.2431, 0.5216, 0.6471, 0.8745, 0.9922, 0.9922, 0.9922,\n",
       "          0.9922, 0.9922, 0.9647, 0.6275, 0.1765, 0.0000, 0.0000, 0.0000,\n",
       "          0.0000, 0.0000, 0.0000, 0.0000],\n",
       "         [0.0000, 0.0000, 0.0000, 0.0000, 0.0000, 0.0000, 0.0000, 0.0000,\n",
       "          0.0000, 0.0000, 0.0000, 0.0000, 0.0392, 0.0588, 0.3098, 0.6235,\n",
       "          0.8706, 0.9647, 0.9922, 0.9922, 0.8980, 0.0431, 0.0000, 0.0000,\n",
       "          0.0000, 0.0000, 0.0000, 0.0000],\n",
       "         [0.0000, 0.0000, 0.0000, 0.0000, 0.0000, 0.0000, 0.0000, 0.0000,\n",
       "          0.0000, 0.0000, 0.0000, 0.0000, 0.0000, 0.0000, 0.0000, 0.0000,\n",
       "          0.0000, 0.2157, 0.9529, 0.9922, 0.9922, 0.3255, 0.0000, 0.0000,\n",
       "          0.0000, 0.0000, 0.0000, 0.0000],\n",
       "         [0.0000, 0.0000, 0.0000, 0.0000, 0.0000, 0.0000, 0.0000, 0.0000,\n",
       "          0.0000, 0.0118, 0.0824, 0.0784, 0.0000, 0.0000, 0.0000, 0.0000,\n",
       "          0.0157, 0.2275, 0.9647, 0.9922, 0.9922, 0.3255, 0.0000, 0.0000,\n",
       "          0.0000, 0.0000, 0.0000, 0.0000],\n",
       "         [0.0000, 0.0000, 0.0000, 0.0000, 0.0000, 0.0000, 0.0000, 0.0000,\n",
       "          0.0000, 0.1059, 0.9922, 0.9725, 0.4078, 0.2667, 0.2667, 0.5882,\n",
       "          0.7255, 0.9922, 0.9922, 0.9922, 0.9725, 0.2392, 0.0000, 0.0000,\n",
       "          0.0000, 0.0000, 0.0000, 0.0000],\n",
       "         [0.0000, 0.0000, 0.0000, 0.0000, 0.0000, 0.0000, 0.0000, 0.0000,\n",
       "          0.0000, 0.0588, 0.8588, 0.9922, 0.9922, 0.9922, 0.9922, 0.9922,\n",
       "          0.9922, 0.9922, 0.9922, 0.9647, 0.3765, 0.0000, 0.0000, 0.0000,\n",
       "          0.0000, 0.0000, 0.0000, 0.0000],\n",
       "         [0.0000, 0.0000, 0.0000, 0.0000, 0.0000, 0.0000, 0.0000, 0.0000,\n",
       "          0.0000, 0.0000, 0.5373, 0.9686, 0.9922, 0.9922, 0.9922, 0.9922,\n",
       "          0.9922, 0.9176, 0.5529, 0.1059, 0.0000, 0.0000, 0.0000, 0.0000,\n",
       "          0.0000, 0.0000, 0.0000, 0.0000],\n",
       "         [0.0000, 0.0000, 0.0000, 0.0000, 0.0000, 0.0000, 0.0000, 0.0000,\n",
       "          0.0000, 0.0000, 0.0000, 0.3529, 0.5843, 0.9216, 0.5843, 0.2627,\n",
       "          0.1804, 0.1176, 0.0000, 0.0000, 0.0000, 0.0000, 0.0000, 0.0000,\n",
       "          0.0000, 0.0000, 0.0000, 0.0000],\n",
       "         [0.0000, 0.0000, 0.0000, 0.0000, 0.0000, 0.0000, 0.0000, 0.0000,\n",
       "          0.0000, 0.0000, 0.0000, 0.0000, 0.0000, 0.0000, 0.0000, 0.0000,\n",
       "          0.0000, 0.0000, 0.0000, 0.0000, 0.0000, 0.0000, 0.0000, 0.0000,\n",
       "          0.0000, 0.0000, 0.0000, 0.0000],\n",
       "         [0.0000, 0.0000, 0.0000, 0.0000, 0.0000, 0.0000, 0.0000, 0.0000,\n",
       "          0.0000, 0.0000, 0.0000, 0.0000, 0.0000, 0.0000, 0.0000, 0.0000,\n",
       "          0.0000, 0.0000, 0.0000, 0.0000, 0.0000, 0.0000, 0.0000, 0.0000,\n",
       "          0.0000, 0.0000, 0.0000, 0.0000],\n",
       "         [0.0000, 0.0000, 0.0000, 0.0000, 0.0000, 0.0000, 0.0000, 0.0000,\n",
       "          0.0000, 0.0000, 0.0000, 0.0000, 0.0000, 0.0000, 0.0000, 0.0000,\n",
       "          0.0000, 0.0000, 0.0000, 0.0000, 0.0000, 0.0000, 0.0000, 0.0000,\n",
       "          0.0000, 0.0000, 0.0000, 0.0000]]])"
      ]
     },
     "execution_count": 21,
     "metadata": {},
     "output_type": "execute_result"
    }
   ],
   "source": [
    "Xb[0]"
   ]
  },
  {
   "cell_type": "markdown",
   "metadata": {},
   "source": [
    "We can use matplotlib or the show_image_grid function to visualize the data."
   ]
  },
  {
   "cell_type": "code",
   "execution_count": 22,
   "metadata": {},
   "outputs": [
    {
     "data": {
      "text/plain": [
       "<matplotlib.image.AxesImage at 0x7f5dc809eef0>"
      ]
     },
     "execution_count": 22,
     "metadata": {},
     "output_type": "execute_result"
    },
    {
     "data": {
      "image/png": "[encoded data removed]",
      "text/plain": [
       "<Figure size 432x288 with 1 Axes>"
      ]
     },
     "metadata": {
      "needs_background": "light"
     },
     "output_type": "display_data"
    }
   ],
   "source": [
    "plt.gray() # sets matplotlib colormap\n",
    "plt.imshow(Xb[0,0])"
   ]
  },
  {
   "cell_type": "code",
   "execution_count": 23,
   "metadata": {},
   "outputs": [
    {
     "data": {
      "text/plain": [
       "tensor([5, 2, 4, 9, 9, 2, 1, 8, 9, 1, 7, 5, 7, 9, 0, 9, 2, 2, 5, 0, 7, 2, 5, 1,\n",
       "        2, 4, 3, 9, 0, 0, 4, 0, 1, 2, 4, 2, 8, 1, 6, 7, 3, 9, 8, 9, 8, 3, 4, 3,\n",
       "        2, 0, 5, 7, 3, 8, 6, 4, 7, 4, 6, 5, 2, 2, 3, 6, 2, 6, 3, 2, 3, 6, 1, 1,\n",
       "        1, 3, 6, 2, 3, 4, 4, 5, 8, 1, 7, 4, 4, 6, 5, 2, 5, 9, 9, 3, 1, 5, 9, 5,\n",
       "        9, 9, 4, 8, 0, 0, 3, 9, 9, 5, 1, 3, 4, 7, 2, 9, 1, 8, 1, 9, 7, 6, 0, 2,\n",
       "        6, 2, 4, 1, 4, 0, 9, 8])"
      ]
     },
     "execution_count": 23,
     "metadata": {},
     "output_type": "execute_result"
    }
   ],
   "source": [
    "yb"
   ]
  },
  {
   "cell_type": "code",
   "execution_count": 24,
   "metadata": {},
   "outputs": [
    {
     "data": {
      "text/plain": [
       "tensor(5)"
      ]
     },
     "execution_count": 24,
     "metadata": {},
     "output_type": "execute_result"
    },
    {
     "data": {
      "image/png": "[encoded data removed]",
      "text/plain": [
       "<Figure size 432x288 with 1 Axes>"
      ]
     },
     "metadata": {
      "needs_background": "light"
     },
     "output_type": "display_data"
    }
   ],
   "source": [
    "plt.imshow(Xb[0, 0])\n",
    "yb[0]"
   ]
  },
  {
   "cell_type": "code",
   "execution_count": 25,
   "metadata": {},
   "outputs": [
    {
     "data": {
      "text/plain": [
       "tensor(2)"
      ]
     },
     "execution_count": 25,
     "metadata": {},
     "output_type": "execute_result"
    },
    {
     "data": {
      "image/png": "[encoded data removed]",
      "text/plain": [
       "<Figure size 432x288 with 1 Axes>"
      ]
     },
     "metadata": {
      "needs_background": "light"
     },
     "output_type": "display_data"
    }
   ],
   "source": [
    "plt.imshow(Xb[1, 0])\n",
    "yb[1]"
   ]
  },
  {
   "cell_type": "code",
   "execution_count": 26,
   "metadata": {
    "scrolled": true
   },
   "outputs": [
    {
     "data": {
      "image/png": "[encoded data removed]",
      "text/plain": [
       "<Figure size 864x648 with 24 Axes>"
      ]
     },
     "metadata": {
      "needs_background": "light"
     },
     "output_type": "display_data"
    }
   ],
   "source": [
    "show_image_grid(Xb, yb)"
   ]
  },
  {
   "cell_type": "markdown",
   "metadata": {},
   "source": [
    "## Setup the model\n",
    "\n",
    "We want to train a linear model from a vectorized (flattened) version of the image. We first reshape our image tensor"
   ]
  },
  {
   "cell_type": "code",
   "execution_count": 27,
   "metadata": {},
   "outputs": [
    {
     "data": {
      "text/plain": [
       "torch.Size([128, 784])"
      ]
     },
     "execution_count": 27,
     "metadata": {},
     "output_type": "execute_result"
    }
   ],
   "source": [
    "Xb_flat = Xb.view(Xb.shape[0], -1)\n",
    "Xb_flat.shape"
   ]
  },
  {
   "cell_type": "markdown",
   "metadata": {},
   "source": [
    "We now initialize the weights and biases (parameters) of our network. We use a weight matrix to densely connect the 28x28 dimensional input to an output layer of size 10 and add a bias term. This simplistic shallow linear \"neural network\" outputs 10 class scores for each of the digit between 0-9."
   ]
  },
  {
   "cell_type": "code",
   "execution_count": 28,
   "metadata": {
    "scrolled": true
   },
   "outputs": [
    {
     "data": {
      "text/plain": [
       "torch.Size([128, 10])"
      ]
     },
     "execution_count": 28,
     "metadata": {},
     "output_type": "execute_result"
    }
   ],
   "source": [
    "weight = torch.randn((28*28, 10), requires_grad=True)\n",
    "bias = torch.zeros(10, requires_grad=True)\n",
    "\n",
    "output = Xb_flat @ weight  + bias\n",
    "output.shape"
   ]
  },
  {
   "cell_type": "code",
   "execution_count": 29,
   "metadata": {},
   "outputs": [
    {
     "data": {
      "text/plain": [
       "tensor([ -8.1864,   0.1109, -15.6547,   2.6231,   8.2058,   2.0751,   0.7794,\n",
       "          8.5531, -12.0538,   4.3981], grad_fn=<SelectBackward>)"
      ]
     },
     "execution_count": 29,
     "metadata": {},
     "output_type": "execute_result"
    }
   ],
   "source": [
    "output[0]"
   ]
  },
  {
   "cell_type": "markdown",
   "metadata": {},
   "source": [
    "Lets refactor our neural network forward pass and wrap it into a function that we can easily call later on"
   ]
  },
  {
   "cell_type": "code",
   "execution_count": 30,
   "metadata": {},
   "outputs": [
    {
     "data": {
      "text/plain": [
       "tensor([ -8.1864,   0.1109, -15.6547,   2.6231,   8.2058,   2.0751,   0.7794,\n",
       "          8.5531, -12.0538,   4.3981], grad_fn=<SelectBackward>)"
      ]
     },
     "execution_count": 30,
     "metadata": {},
     "output_type": "execute_result"
    }
   ],
   "source": [
    "def model(X, weight, bias):\n",
    "    return X.view(-1, 28*28) @ weight + bias\n",
    "\n",
    "model(Xb, weight, bias)[0]"
   ]
  },
  {
   "cell_type": "markdown",
   "metadata": {},
   "source": [
    "## Metrics\n",
    "\n",
    "We will also need a way of measuring how good our model is. Here, we will use the classification accuracy by comparing the label predicted by the network (simply the neuron with the largest score of our output layer) with the actual labels and counting how often those agree."
   ]
  },
  {
   "cell_type": "code",
   "execution_count": 31,
   "metadata": {
    "scrolled": false
   },
   "outputs": [
    {
     "name": "stdout",
     "output_type": "stream",
     "text": [
      "predicted label: tensor([7, 3, 4, 3, 4, 3, 4, 4, 3, 6, 3, 1, 4, 4, 6, 4, 6, 0, 5, 1, 4, 6, 6, 6,\n",
      "        3, 6, 7, 1, 3, 1, 6, 3, 6, 6, 4, 3, 3, 6, 3, 4, 1, 1, 3, 6, 3, 6, 6, 6,\n",
      "        9, 6, 4, 4, 3, 6, 6, 3, 3, 1, 2, 2, 9, 3, 7, 3, 6, 6, 6, 9, 6, 6, 6, 6,\n",
      "        6, 3, 6, 5, 6, 3, 6, 3, 4, 6, 6, 3, 3, 3, 6, 6, 3, 4, 6, 6, 6, 9, 3, 3,\n",
      "        4, 4, 3, 3, 6, 6, 3, 4, 4, 6, 6, 0, 6, 8, 0, 4, 9, 9, 6, 4, 3, 0, 1, 5,\n",
      "        3, 6, 6, 6, 6, 6, 6, 3])\n",
      "   actual label: tensor([5, 2, 4, 9, 9, 2, 1, 8, 9, 1, 7, 5, 7, 9, 0, 9, 2, 2, 5, 0, 7, 2, 5, 1,\n",
      "        2, 4, 3, 9, 0, 0, 4, 0, 1, 2, 4, 2, 8, 1, 6, 7, 3, 9, 8, 9, 8, 3, 4, 3,\n",
      "        2, 0, 5, 7, 3, 8, 6, 4, 7, 4, 6, 5, 2, 2, 3, 6, 2, 6, 3, 2, 3, 6, 1, 1,\n",
      "        1, 3, 6, 2, 3, 4, 4, 5, 8, 1, 7, 4, 4, 6, 5, 2, 5, 9, 9, 3, 1, 5, 9, 5,\n",
      "        9, 9, 4, 8, 0, 0, 3, 9, 9, 5, 1, 3, 4, 7, 2, 9, 1, 8, 1, 9, 7, 6, 0, 2,\n",
      "        6, 2, 4, 1, 4, 0, 9, 8])\n"
     ]
    },
    {
     "data": {
      "text/plain": [
       "tensor([0, 0, 1, 0, 0, 0, 0, 0, 0, 0, 0, 0, 0, 0, 0, 0, 0, 0, 1, 0, 0, 0, 0, 0,\n",
       "        0, 0, 0, 0, 0, 0, 0, 0, 0, 0, 1, 0, 0, 0, 0, 0, 0, 0, 0, 0, 0, 0, 0, 0,\n",
       "        0, 0, 0, 0, 1, 0, 1, 0, 0, 0, 0, 0, 0, 0, 0, 0, 0, 1, 0, 0, 0, 1, 0, 0,\n",
       "        0, 1, 1, 0, 0, 0, 0, 0, 0, 0, 0, 0, 0, 0, 0, 0, 0, 0, 0, 0, 0, 0, 0, 0,\n",
       "        0, 0, 0, 0, 0, 0, 1, 0, 0, 0, 0, 0, 0, 0, 0, 0, 0, 0, 0, 0, 0, 0, 0, 0,\n",
       "        0, 0, 0, 0, 0, 0, 0, 0], dtype=torch.uint8)"
      ]
     },
     "execution_count": 31,
     "metadata": {},
     "output_type": "execute_result"
    }
   ],
   "source": [
    "print(\"predicted label:\", output.argmax(1))\n",
    "print(\"   actual label:\", yb)\n",
    "\n",
    "yb == output.argmax(1)"
   ]
  },
  {
   "cell_type": "markdown",
   "metadata": {},
   "source": [
    "We can compute an accuracy between 0 and 1 simply by averaging the above binary vector. "
   ]
  },
  {
   "cell_type": "code",
   "execution_count": 32,
   "metadata": {},
   "outputs": [
    {
     "data": {
      "text/plain": [
       "tensor(0.0781)"
      ]
     },
     "execution_count": 32,
     "metadata": {},
     "output_type": "execute_result"
    }
   ],
   "source": [
    "def accuracy(output, label):\n",
    "    return (output.argmax(1) == label).float().mean()\n",
    "\n",
    "accuracy(output, yb)"
   ]
  },
  {
   "cell_type": "markdown",
   "metadata": {},
   "source": [
    "## Loss\n",
    "\n",
    "To measure how well our network does, we cannot directly use our accuracy metric - Do you know why?\n",
    "\n",
    "Instead, we will apply a softmax to the 10-dimensional output, which gives us a probability between 0 and 1 for each of the 10 classes."
   ]
  },
  {
   "cell_type": "code",
   "execution_count": 33,
   "metadata": {},
   "outputs": [
    {
     "data": {
      "text/plain": [
       "tensor([[3.1104e-08, 1.2482e-04, 1.7758e-11,  ..., 5.7900e-01, 6.5045e-10,\n",
       "         9.0820e-03],\n",
       "        [7.1919e-04, 9.6402e-04, 2.7927e-11,  ..., 5.7551e-10, 1.1733e-10,\n",
       "         6.9899e-07],\n",
       "        [1.1833e-08, 6.3282e-05, 2.8714e-09,  ..., 3.5083e-16, 3.7816e-08,\n",
       "         9.4464e-09],\n",
       "        ...,\n",
       "        [1.9093e-08, 3.7249e-05, 5.2061e-10,  ..., 6.2725e-15, 6.3179e-21,\n",
       "         5.4939e-14],\n",
       "        [9.0036e-06, 5.3658e-02, 2.0410e-09,  ..., 3.3696e-05, 2.2112e-09,\n",
       "         6.1804e-03],\n",
       "        [4.4597e-09, 1.9611e-03, 6.8141e-12,  ..., 4.7959e-04, 5.9482e-12,\n",
       "         7.1647e-05]], grad_fn=<SoftmaxBackward>)"
      ]
     },
     "execution_count": 33,
     "metadata": {},
     "output_type": "execute_result"
    }
   ],
   "source": [
    "F.softmax(output, dim=1)"
   ]
  },
  {
   "cell_type": "code",
   "execution_count": 34,
   "metadata": {},
   "outputs": [
    {
     "data": {
      "text/plain": [
       "tensor([1.0000, 1.0000, 1.0000, 1.0000, 1.0000, 1.0000, 1.0000, 1.0000, 1.0000,\n",
       "        1.0000, 1.0000, 1.0000, 1.0000, 1.0000, 1.0000, 1.0000, 1.0000, 1.0000,\n",
       "        1.0000, 1.0000, 1.0000, 1.0000, 1.0000, 1.0000, 1.0000, 1.0000, 1.0000,\n",
       "        1.0000, 1.0000, 1.0000, 1.0000, 1.0000, 1.0000, 1.0000, 1.0000, 1.0000,\n",
       "        1.0000, 1.0000, 1.0000, 1.0000, 1.0000, 1.0000, 1.0000, 1.0000, 1.0000,\n",
       "        1.0000, 1.0000, 1.0000, 1.0000, 1.0000, 1.0000, 1.0000, 1.0000, 1.0000,\n",
       "        1.0000, 1.0000, 1.0000, 1.0000, 1.0000, 1.0000, 1.0000, 1.0000, 1.0000,\n",
       "        1.0000, 1.0000, 1.0000, 1.0000, 1.0000, 1.0000, 1.0000, 1.0000, 1.0000,\n",
       "        1.0000, 1.0000, 1.0000, 1.0000, 1.0000, 1.0000, 1.0000, 1.0000, 1.0000,\n",
       "        1.0000, 1.0000, 1.0000, 1.0000, 1.0000, 1.0000, 1.0000, 1.0000, 1.0000,\n",
       "        1.0000, 1.0000, 1.0000, 1.0000, 1.0000, 1.0000, 1.0000, 1.0000, 1.0000,\n",
       "        1.0000, 1.0000, 1.0000, 1.0000, 1.0000, 1.0000, 1.0000, 1.0000, 1.0000,\n",
       "        1.0000, 1.0000, 1.0000, 1.0000, 1.0000, 1.0000, 1.0000, 1.0000, 1.0000,\n",
       "        1.0000, 1.0000, 1.0000, 1.0000, 1.0000, 1.0000, 1.0000, 1.0000, 1.0000,\n",
       "        1.0000, 1.0000], grad_fn=<SumBackward2>)"
      ]
     },
     "execution_count": 34,
     "metadata": {},
     "output_type": "execute_result"
    }
   ],
   "source": [
    "F.softmax(output, dim=1).sum(1)"
   ]
  },
  {
   "cell_type": "code",
   "execution_count": 35,
   "metadata": {},
   "outputs": [
    {
     "data": {
      "text/plain": [
       "tensor([3.1104e-08, 1.2482e-04, 1.7758e-11, 1.5394e-03, 4.0912e-01, 8.8986e-04,\n",
       "        2.4357e-04, 5.7900e-01, 6.5045e-10, 9.0820e-03],\n",
       "       grad_fn=<SelectBackward>)"
      ]
     },
     "execution_count": 35,
     "metadata": {},
     "output_type": "execute_result"
    }
   ],
   "source": [
    "F.softmax(output, dim=1)[0]"
   ]
  },
  {
   "cell_type": "code",
   "execution_count": 36,
   "metadata": {},
   "outputs": [
    {
     "data": {
      "text/plain": [
       "tensor([7.1919e-04, 9.6402e-04, 2.7927e-11, 9.9832e-01, 1.8427e-07, 5.1360e-08,\n",
       "        3.9775e-07, 5.7551e-10, 1.1733e-10, 6.9899e-07],\n",
       "       grad_fn=<SelectBackward>)"
      ]
     },
     "execution_count": 36,
     "metadata": {},
     "output_type": "execute_result"
    }
   ],
   "source": [
    "F.softmax(output, dim=1)[1]"
   ]
  },
  {
   "cell_type": "markdown",
   "metadata": {},
   "source": [
    "However, instead of computing the negative log-likelihood now from the softmax output, it is both quicker and numerically more stable to directly use the cross_entropy loss from PyTorch. Notice that you need to pass the output of your last layer directly to cross_entropy - NEVER pass softmaxed output directly, use the explicit softmax presented above only if you want to output class probabilities at test time. "
   ]
  },
  {
   "cell_type": "code",
   "execution_count": 37,
   "metadata": {},
   "outputs": [
    {
     "data": {
      "text/plain": [
       "tensor(13.0837, grad_fn=<NllLossBackward>)"
      ]
     },
     "execution_count": 37,
     "metadata": {},
     "output_type": "execute_result"
    }
   ],
   "source": [
    "loss = F.cross_entropy(output, yb)\n",
    "loss"
   ]
  },
  {
   "cell_type": "markdown",
   "metadata": {},
   "source": [
    "## Backpropagation\n",
    "\n",
    "We now need to compute the gradient of the weight and bias tensor with respect to the loss. Luckily, PyTorch supplies us with an autograd mechanism that internally computes the gradients at each operations and propagates the error from the output of the network to the input, often called the backward pass.\n",
    "\n",
    "The gradients of a tensor can be accessed by the .grad attribute after running backward on the output as follows. At first, the gradient is empty:"
   ]
  },
  {
   "cell_type": "code",
   "execution_count": 38,
   "metadata": {},
   "outputs": [],
   "source": [
    "bias.grad"
   ]
  },
  {
   "cell_type": "markdown",
   "metadata": {},
   "source": [
    "We then run backpropagation by calling:"
   ]
  },
  {
   "cell_type": "code",
   "execution_count": 39,
   "metadata": {},
   "outputs": [],
   "source": [
    "loss.backward()"
   ]
  },
  {
   "cell_type": "markdown",
   "metadata": {},
   "source": [
    "Then, we can read out the gradient:"
   ]
  },
  {
   "cell_type": "code",
   "execution_count": 40,
   "metadata": {},
   "outputs": [
    {
     "data": {
      "text/plain": [
       "tensor([-0.0422, -0.0449, -0.1238,  0.1374,  0.0499, -0.0683,  0.2997, -0.0497,\n",
       "        -0.0630, -0.0951])"
      ]
     },
     "execution_count": 40,
     "metadata": {},
     "output_type": "execute_result"
    }
   ],
   "source": [
    "bias.grad"
   ]
  },
  {
   "cell_type": "markdown",
   "metadata": {},
   "source": [
    "### Question\n",
    "\n",
    "What is the shape of the gradient of bias and weight?\n",
    "\n",
    "-\n",
    "\n",
    "-\n",
    "\n",
    "-\n",
    "\n",
    "-\n",
    "\n",
    "-\n",
    "\n",
    "-\n",
    "\n",
    "-\n",
    "\n",
    "-\n",
    "\n",
    "-\n",
    "\n",
    "-\n",
    "\n",
    "-\n",
    "\n",
    "-\n",
    "\n",
    "-\n",
    "\n",
    "-\n",
    "\n",
    "-\n",
    "\n",
    "-\n",
    "\n",
    "-\n",
    "\n",
    "-\n",
    "\n",
    "-\n",
    "\n",
    "-\n",
    "\n",
    "-"
   ]
  },
  {
   "cell_type": "markdown",
   "metadata": {},
   "source": [
    "bias.grad.shape"
   ]
  },
  {
   "cell_type": "code",
   "execution_count": 41,
   "metadata": {},
   "outputs": [
    {
     "data": {
      "text/plain": [
       "torch.Size([784, 10])"
      ]
     },
     "execution_count": 41,
     "metadata": {},
     "output_type": "execute_result"
    }
   ],
   "source": [
    "weight.grad.shape"
   ]
  },
  {
   "cell_type": "code",
   "execution_count": 42,
   "metadata": {},
   "outputs": [
    {
     "data": {
      "text/plain": [
       "tensor([[0., 0., 0.,  ..., 0., 0., 0.],\n",
       "        [0., 0., 0.,  ..., 0., 0., 0.],\n",
       "        [0., 0., 0.,  ..., 0., 0., 0.],\n",
       "        ...,\n",
       "        [0., 0., 0.,  ..., 0., 0., 0.],\n",
       "        [0., 0., 0.,  ..., 0., 0., 0.],\n",
       "        [0., 0., 0.,  ..., 0., 0., 0.]])"
      ]
     },
     "execution_count": 42,
     "metadata": {},
     "output_type": "execute_result"
    }
   ],
   "source": [
    "weight.grad"
   ]
  },
  {
   "cell_type": "markdown",
   "metadata": {},
   "source": [
    "## Gradient descent\n",
    "\n",
    "We can now change the weight and bias parameter in order to bring down the loss. Since we don't want to backpropagate through this gradient update step, we need to disable the autograd feature for these steps using with no_grad. We also need to define a learning rate (lr)."
   ]
  },
  {
   "cell_type": "code",
   "execution_count": 43,
   "metadata": {},
   "outputs": [
    {
     "name": "stdout",
     "output_type": "stream",
     "text": [
      "bias before:  tensor([0., 0., 0., 0., 0., 0., 0., 0., 0., 0.], requires_grad=True)\n",
      "bias after:  tensor([ 0.0042,  0.0045,  0.0124, -0.0137, -0.0050,  0.0068, -0.0300,  0.0050,\n",
      "         0.0063,  0.0095], requires_grad=True)\n"
     ]
    }
   ],
   "source": [
    "lr = 1.e-1\n",
    "\n",
    "print(\"bias before: \", bias)\n",
    "\n",
    "with torch.no_grad():\n",
    "    weight -= lr * weight.grad\n",
    "    weight.grad.zero_()\n",
    "    bias -= lr * bias.grad\n",
    "    bias.grad.zero_()\n",
    "    \n",
    "print(\"bias after: \", bias)"
   ]
  },
  {
   "cell_type": "markdown",
   "metadata": {},
   "source": [
    "Did our model already improve after this one small mini batch gradient update?"
   ]
  },
  {
   "cell_type": "code",
   "execution_count": 44,
   "metadata": {},
   "outputs": [
    {
     "data": {
      "text/plain": [
       "tensor(12.3407, grad_fn=<NllLossBackward>)"
      ]
     },
     "execution_count": 44,
     "metadata": {},
     "output_type": "execute_result"
    }
   ],
   "source": [
    "output = model(Xb, weight, bias)\n",
    "F.cross_entropy(output, yb)"
   ]
  },
  {
   "cell_type": "code",
   "execution_count": 45,
   "metadata": {},
   "outputs": [
    {
     "data": {
      "text/plain": [
       "tensor(0.0781)"
      ]
     },
     "execution_count": 45,
     "metadata": {},
     "output_type": "execute_result"
    }
   ],
   "source": [
    "accuracy(output, yb)"
   ]
  },
  {
   "cell_type": "markdown",
   "metadata": {},
   "source": [
    "# Full Training Loop\n",
    "\n",
    "In practice, we want to do these gradient update steps multiple times over the whole dataset. Usually, we construct an inner loop that runs over the whole (shuffled!) training set, and an outer loop that repeats this pass over the whole training for a set number of epochs.\n",
    "\n",
    "Also, we were not very smart in initializing our weights. Lets use the popular kaiming initialization for initializing the weight matrix. Initialization is quite important, but as we will see later most of the times PyTorch provides us with a safe default. We just don't use it here since we did not yet learn about nn.Modules, yet.\n",
    "\n",
    "We also measure the accuracy on our validation set after each epoch in this loop:"
   ]
  },
  {
   "cell_type": "code",
   "execution_count": 46,
   "metadata": {
    "scrolled": true
   },
   "outputs": [
    {
     "name": "stdout",
     "output_type": "stream",
     "text": [
      "epoch     0: loss:  0.57838 accuracy: 0.90\n",
      "epoch     1: loss:  0.37576 accuracy: 0.91\n",
      "epoch     2: loss:  0.34371 accuracy: 0.91\n",
      "epoch     3: loss:  0.32720 accuracy: 0.91\n",
      "epoch     4: loss:  0.31644 accuracy: 0.92\n"
     ]
    }
   ],
   "source": [
    "lr = 0.1\n",
    "\n",
    "# initialize weights\n",
    "weight = torch.zeros((28*28, 10), requires_grad=True)\n",
    "nn.init.kaiming_uniform_(weight, mode='fan_out')\n",
    "bias = torch.zeros(10, requires_grad=True)\n",
    "\n",
    "for epoch in range(5):\n",
    "    # train on mini batches\n",
    "    losses = []\n",
    "    for X, y in train_loader:\n",
    "        # forward pass\n",
    "        output = model(X, weight, bias)\n",
    "        # compute loss\n",
    "        loss = F.cross_entropy(output, y)\n",
    "        losses.append(loss.item())\n",
    "        # backward pass\n",
    "        loss.backward()\n",
    "        # gradient descent update\n",
    "        with torch.no_grad():\n",
    "            weight -= lr * weight.grad\n",
    "            bias -= lr * bias.grad\n",
    "            weight.grad.zero_()\n",
    "            bias.grad.zero_()\n",
    "            \n",
    "    # measure accuracy on the validation set\n",
    "    acc = np.mean([\n",
    "        accuracy(model(X, weight, bias), y)\n",
    "        for X, y in valid_loader\n",
    "    ])\n",
    "    print(\"epoch % 5d: loss: % 8.5f accuracy: %4.2f\" % (epoch, np.mean(losses), acc.item()))\n"
   ]
  },
  {
   "cell_type": "markdown",
   "metadata": {},
   "source": [
    "## Lets take a look inside\n",
    "\n",
    "Since our model is so simple, we can actually take a look at the learned parameters of the network, as the weight matrix is just a stack of vectorized 28x28 images itself. Basically, we have trained 10 linear digit detectors. Lets have a look:"
   ]
  },
  {
   "cell_type": "code",
   "execution_count": 47,
   "metadata": {},
   "outputs": [
    {
     "data": {
      "text/plain": [
       "torch.Size([784, 10])"
      ]
     },
     "execution_count": 47,
     "metadata": {},
     "output_type": "execute_result"
    }
   ],
   "source": [
    "W = weight.detach()\n",
    "W.shape"
   ]
  },
  {
   "cell_type": "code",
   "execution_count": 48,
   "metadata": {
    "scrolled": true
   },
   "outputs": [
    {
     "data": {
      "text/plain": [
       "tensor([ 3.3620e-02, -2.1541e-02, -2.8633e-02,  3.6139e-02,  2.2688e-04,\n",
       "         1.2303e-02,  5.8545e-02, -3.0358e-02,  4.2292e-03, -1.5589e-02,\n",
       "        -4.0281e-02, -4.2956e-02,  8.2317e-02,  1.5796e-02,  4.9561e-02,\n",
       "        -6.8773e-03, -8.9808e-03,  1.2548e-02, -5.2262e-02, -2.0090e-02,\n",
       "         6.3657e-02, -6.1389e-02, -1.6130e-02,  6.9148e-02, -5.7257e-02,\n",
       "        -4.6969e-02, -4.6976e-03,  1.8759e-02,  9.8997e-03,  5.3753e-02,\n",
       "        -7.6278e-02, -1.5355e-02, -4.9699e-02,  7.6736e-02,  8.6481e-02,\n",
       "         1.2022e-02,  8.4365e-02,  3.0938e-02,  4.8608e-02,  2.2679e-02,\n",
       "         6.8650e-02, -3.2782e-02,  2.7427e-02, -6.4431e-02, -5.6131e-02,\n",
       "        -7.8214e-02, -7.3174e-02, -7.2062e-02,  6.5354e-02,  7.8861e-02,\n",
       "         6.1164e-02, -8.5505e-02, -4.2757e-02,  7.3720e-02,  6.5745e-02,\n",
       "        -4.4194e-02, -7.0924e-02, -6.8436e-02,  6.7937e-02,  7.6640e-02,\n",
       "         5.5241e-03, -7.5968e-03, -5.2944e-02, -8.2824e-02,  6.9030e-02,\n",
       "         4.3475e-02,  5.8454e-02, -1.6094e-02, -7.8710e-02,  3.5168e-02,\n",
       "        -5.9095e-02, -6.4486e-02, -9.9207e-03, -4.3576e-02, -8.5539e-02,\n",
       "         3.5497e-02,  3.5496e-02,  2.5311e-02, -5.9995e-02, -7.8272e-02,\n",
       "         8.4589e-04,  5.4286e-02,  6.1715e-02,  4.7000e-02,  5.7632e-02,\n",
       "        -2.6694e-02, -6.6398e-02,  4.1905e-02,  9.3761e-04, -2.0827e-02,\n",
       "         5.6697e-02,  4.1906e-02, -8.2900e-02,  2.1226e-02,  3.8971e-02,\n",
       "        -3.6592e-02,  2.8955e-02, -7.5604e-02,  4.6074e-02, -4.1696e-02,\n",
       "        -5.6320e-02, -1.0267e-01, -7.1000e-02, -1.4741e-01,  3.2734e-02,\n",
       "        -9.5806e-02,  1.4057e-02, -9.2668e-02,  3.8223e-02, -8.8372e-02,\n",
       "         9.0276e-03,  8.6967e-02, -2.5746e-02,  2.5902e-02,  3.0529e-02,\n",
       "        -3.7797e-03,  2.5162e-02, -3.5816e-02, -2.5774e-02, -1.0402e-02,\n",
       "        -2.1131e-02, -4.4672e-02, -7.4564e-02, -1.1319e-02, -7.6330e-02,\n",
       "        -6.2437e-02, -5.6098e-02,  3.0288e-02, -5.1041e-02,  6.4939e-04,\n",
       "        -8.5722e-02, -8.2552e-04,  4.5761e-03, -1.5538e-02, -6.1949e-02,\n",
       "        -7.3114e-03,  1.4990e-02,  5.7335e-03, -3.2363e-02, -5.9139e-02,\n",
       "         2.4342e-02, -5.4622e-02, -6.9292e-03, -6.8589e-02,  6.4373e-02,\n",
       "        -6.9492e-02,  1.8449e-02, -4.5205e-02, -1.1355e-01, -1.0108e-01,\n",
       "        -7.5344e-02, -3.3733e-02,  1.1415e-01,  7.0005e-02,  1.2049e-01,\n",
       "         2.0538e-01,  9.0006e-02,  1.9209e-01,  5.1595e-02,  3.7501e-02,\n",
       "         7.5387e-02, -3.9826e-02,  4.7271e-02, -1.0755e-01, -3.3441e-02,\n",
       "         3.1278e-02,  5.1309e-03,  1.6702e-02, -1.5507e-02,  6.2590e-02,\n",
       "        -5.0099e-02,  7.9987e-02,  1.9826e-02,  5.6220e-02, -7.9188e-03,\n",
       "        -8.4074e-02,  9.9639e-03, -1.1509e-01, -4.7725e-02,  1.0637e-02,\n",
       "        -1.1790e-02,  1.0449e-01,  7.4515e-02,  1.0443e-01,  1.6536e-01,\n",
       "         2.6998e-01,  1.3006e-01,  4.8537e-02,  3.6867e-02,  5.9444e-02,\n",
       "         4.4243e-02, -4.6160e-03,  6.9555e-03, -5.1801e-02, -9.0563e-02,\n",
       "        -5.6489e-02,  6.8111e-02,  4.3801e-02, -7.2123e-02, -4.2991e-02,\n",
       "        -3.2776e-02, -4.0741e-02,  4.1980e-03, -1.3057e-01,  3.7458e-03,\n",
       "        -7.8625e-02,  1.4661e-02, -2.3684e-02,  1.3673e-01,  7.7361e-02,\n",
       "         4.1051e-02,  1.7403e-01,  1.2297e-01,  1.3256e-01,  1.4945e-01,\n",
       "         1.1935e-01,  1.1615e-01,  1.1693e-02,  2.9368e-02,  4.5449e-02,\n",
       "        -2.7681e-02,  2.3930e-02,  5.0331e-02, -7.4118e-02, -7.0665e-02,\n",
       "        -8.3684e-02, -2.2243e-02,  7.9959e-02, -7.3577e-02, -1.1081e-01,\n",
       "        -3.4815e-02, -2.6903e-02, -8.7591e-02,  3.0229e-02,  1.8790e-02,\n",
       "        -5.5414e-02,  3.9734e-02,  9.7649e-03,  1.4288e-01,  1.6399e-01,\n",
       "         1.8512e-01,  2.0840e-01,  1.8081e-01,  9.3021e-02,  1.0829e-01,\n",
       "         1.4868e-02,  1.4096e-01,  1.4030e-01, -8.1087e-02, -1.3570e-01,\n",
       "         1.1207e-02,  8.2653e-02,  2.7930e-02,  1.8004e-02,  5.8204e-02,\n",
       "        -5.3769e-02, -3.8399e-02,  1.2118e-02, -7.5761e-02, -7.5537e-02,\n",
       "        -7.4618e-02,  4.6698e-03, -2.3805e-02, -3.1690e-02, -1.9077e-02,\n",
       "         1.3249e-02,  1.2292e-01,  2.9269e-02,  1.2790e-01,  1.2885e-01,\n",
       "         1.6906e-01,  1.5002e-01,  1.0410e-01,  1.2890e-02,  2.1064e-01,\n",
       "         8.7718e-02,  2.6168e-02, -8.5368e-02, -9.6360e-02,  2.2182e-02,\n",
       "         2.9316e-02,  7.4886e-02, -5.5836e-02, -2.4162e-02, -8.8377e-02,\n",
       "        -7.5774e-03,  4.3965e-02, -5.5732e-02,  4.5970e-02,  3.0892e-02,\n",
       "        -8.5305e-02,  9.2379e-02,  1.3264e-01, -2.8948e-03,  1.0651e-02,\n",
       "        -1.7491e-01, -1.0407e-01,  6.1484e-02,  9.7192e-02,  1.1719e-01,\n",
       "         1.6260e-01,  9.2541e-02,  1.9916e-01,  1.9577e-01,  1.3791e-01,\n",
       "        -7.1377e-02,  4.9725e-02,  4.5842e-03,  6.1751e-02,  1.2258e-02,\n",
       "        -5.7277e-02, -8.7868e-02, -1.2698e-01, -1.0587e-01, -4.8338e-02,\n",
       "         2.3314e-02, -4.0355e-02, -3.3257e-02,  1.8460e-02,  9.8738e-02,\n",
       "        -5.7881e-02,  1.7918e-02, -1.3075e-01, -2.8299e-01, -2.2549e-01,\n",
       "        -1.8027e-01,  2.9734e-02,  3.5963e-02,  3.3993e-02,  1.0120e-01,\n",
       "         2.4226e-01,  2.8347e-01,  2.7662e-02, -5.3084e-02,  2.5905e-02,\n",
       "        -3.0267e-02, -7.2460e-02, -3.7721e-02,  2.1966e-02,  2.9334e-02,\n",
       "        -1.8907e-02, -8.6804e-02,  1.3488e-01,  3.6750e-02,  6.7521e-02,\n",
       "         5.2855e-02, -2.9292e-02,  5.7215e-02,  4.9714e-02, -9.4764e-02,\n",
       "        -3.5342e-01, -4.4357e-01, -4.1079e-01, -2.1913e-01, -4.0735e-02,\n",
       "         8.4596e-02,  4.9088e-02,  1.4697e-01,  3.3745e-01,  2.6980e-01,\n",
       "         2.0061e-01,  5.1232e-03,  7.6997e-02,  4.1805e-02, -8.6649e-02,\n",
       "         5.9600e-02, -6.5378e-02, -7.0007e-02, -8.8468e-03, -3.2228e-02,\n",
       "         1.2791e-01,  5.9661e-02,  2.5163e-02,  1.0322e-01,  7.0374e-02,\n",
       "         8.4595e-02, -5.6629e-02, -2.8873e-01, -4.7965e-01, -4.6208e-01,\n",
       "        -4.3684e-01, -2.7575e-01, -1.4947e-01, -7.2294e-02,  2.2017e-02,\n",
       "         7.7857e-02,  1.7736e-01,  1.9457e-01,  1.5489e-01,  3.3506e-02,\n",
       "        -5.0505e-02,  7.0899e-02, -7.7356e-02, -1.6833e-02, -6.3676e-02,\n",
       "        -5.6128e-02,  2.3882e-02,  1.0351e-01,  9.9379e-02,  1.5026e-01,\n",
       "         1.1162e-01,  1.9441e-01,  1.4238e-01,  4.6340e-02, -1.1035e-01,\n",
       "        -2.3866e-01, -4.4911e-01, -4.3572e-01, -3.6240e-01, -2.3131e-01,\n",
       "        -1.4081e-01, -1.1585e-01,  5.9984e-02,  7.5359e-02,  2.3993e-01,\n",
       "         2.7879e-01,  7.2258e-02,  2.2047e-02,  3.6213e-02, -3.9412e-02,\n",
       "        -6.9974e-02,  5.6073e-02,  3.1670e-02,  7.1574e-03,  1.2404e-02,\n",
       "         1.5300e-01,  1.1910e-01,  1.2247e-01,  1.2128e-01,  1.4243e-01,\n",
       "         1.8981e-01,  1.8861e-02, -2.0126e-01, -3.4807e-01, -5.4707e-01,\n",
       "        -4.8114e-01, -4.3711e-01, -1.9202e-01, -1.6833e-02, -2.3497e-02,\n",
       "         8.7307e-02,  3.4904e-02,  1.2577e-01,  1.7996e-01,  1.8703e-01,\n",
       "        -7.7700e-02, -8.5219e-02,  8.0593e-02,  1.9964e-02,  6.4000e-02,\n",
       "         5.7065e-02,  6.9804e-04, -5.4400e-02,  9.2188e-02,  2.5868e-01,\n",
       "         1.8269e-01,  1.9047e-01,  2.7237e-01,  1.2064e-01,  1.2972e-02,\n",
       "        -2.9512e-01, -4.4113e-01, -5.1514e-01, -3.1886e-01, -2.3161e-01,\n",
       "        -1.0805e-01, -3.4335e-03,  7.2239e-03,  1.0495e-02,  1.4450e-01,\n",
       "         1.1891e-01,  6.7271e-02,  9.4601e-02,  7.6685e-02, -1.8115e-02,\n",
       "         4.7001e-03,  4.7351e-02, -4.4429e-02, -6.9942e-02, -8.9690e-02,\n",
       "         6.0318e-02,  1.2211e-01,  1.6918e-01,  1.6907e-01,  9.4475e-02,\n",
       "         2.3614e-01,  1.8567e-01, -4.4295e-02, -2.7577e-01, -3.1909e-01,\n",
       "        -4.4003e-01, -3.3819e-01, -9.0785e-02,  4.9061e-02, -3.3861e-02,\n",
       "         4.2251e-02,  6.2091e-02,  1.4537e-01,  1.3508e-01,  4.0576e-02,\n",
       "         2.7932e-02,  6.2112e-02, -3.0251e-02,  1.6529e-02, -7.0458e-02,\n",
       "         5.2339e-02, -1.0970e-02, -4.2439e-02, -3.0388e-02,  9.1352e-02,\n",
       "         1.2500e-01,  1.6102e-01,  1.8225e-01,  1.2658e-01,  2.2349e-01,\n",
       "         6.5816e-02, -1.9690e-01, -2.5483e-01, -2.7314e-01, -1.3336e-01,\n",
       "        -9.3349e-03, -2.8848e-02,  2.1719e-02, -3.5115e-02,  1.5010e-02,\n",
       "        -2.0292e-02,  1.1079e-02,  1.8016e-02, -5.4460e-02,  1.9778e-02,\n",
       "        -5.9110e-02,  5.8283e-02,  5.8685e-02,  6.8029e-03,  6.2787e-02,\n",
       "         2.7964e-03, -9.2974e-02,  8.2273e-02,  1.6093e-01,  1.1596e-01,\n",
       "         6.3512e-02,  1.8508e-01,  2.0047e-01,  1.7185e-01, -4.7826e-02,\n",
       "        -1.0177e-01, -7.6705e-02, -1.2319e-01, -1.8085e-02,  5.0650e-02,\n",
       "         4.0946e-02, -1.4339e-02, -1.3390e-02,  4.9626e-02, -1.7795e-02,\n",
       "        -2.7824e-02, -3.6052e-02, -3.1833e-02, -3.5008e-02, -4.2712e-03,\n",
       "        -4.5138e-02, -1.2271e-02, -7.7281e-02,  5.1467e-02, -4.8850e-02,\n",
       "         2.2913e-02,  6.7763e-02,  7.2546e-02,  1.4626e-01,  2.0668e-01,\n",
       "         2.0681e-01,  1.9149e-01,  8.5457e-02,  1.0135e-01,  3.2625e-02,\n",
       "        -8.4470e-02,  3.9504e-02, -3.7430e-02,  1.1187e-02, -5.5456e-02,\n",
       "        -1.6661e-03,  6.6861e-02,  3.1196e-03, -4.2482e-02, -9.1014e-02,\n",
       "        -1.7713e-02, -8.7265e-02,  7.2442e-02,  2.5649e-02, -8.1724e-02,\n",
       "        -7.5361e-02,  5.0109e-02, -7.2898e-02,  8.8366e-02,  2.5397e-02,\n",
       "         6.3115e-02,  9.0656e-02,  1.6426e-01,  2.3376e-01,  1.6128e-01,\n",
       "         1.3201e-01,  4.4239e-03,  4.8900e-02,  7.3867e-02, -6.6626e-02,\n",
       "        -4.7264e-02, -1.1036e-01, -9.2625e-02, -9.3640e-02, -6.1502e-03,\n",
       "         2.9239e-02, -7.0744e-02,  6.2107e-02,  8.1087e-02, -5.6568e-03,\n",
       "         9.1264e-03,  8.2166e-02, -4.3381e-02,  2.9988e-02, -1.9113e-02,\n",
       "        -4.0876e-02,  2.3316e-02,  8.1978e-02,  1.4957e-01,  8.2500e-02,\n",
       "         1.1533e-01,  1.7450e-01,  1.5345e-01,  2.3627e-01,  1.5762e-01,\n",
       "         7.2516e-02,  1.3513e-01,  5.1761e-02, -7.1546e-02,  6.5729e-03,\n",
       "        -1.4125e-02, -9.0492e-02, -1.0517e-01, -8.2745e-02,  1.0324e-02,\n",
       "        -1.0999e-03, -7.8815e-02,  7.4497e-02, -5.5330e-02, -7.6014e-02,\n",
       "         6.2351e-02, -8.2900e-02, -2.9430e-02,  1.4538e-02, -3.2790e-02,\n",
       "         1.9212e-02, -2.3219e-02,  4.0735e-02,  7.9205e-02,  2.0093e-01,\n",
       "         1.4840e-01,  2.0256e-01,  2.8107e-01,  1.2354e-01,  8.6017e-02,\n",
       "        -4.3219e-02, -1.6646e-02, -1.2251e-01, -2.0036e-02, -1.2247e-01,\n",
       "        -1.1748e-01, -6.0683e-02, -4.8403e-02, -2.3254e-02, -1.4418e-03,\n",
       "        -1.7717e-02, -3.1229e-02, -4.3229e-02,  1.2006e-02,  5.6908e-02,\n",
       "         6.4097e-02, -7.7090e-02, -4.5668e-02, -5.4455e-02, -3.2787e-02,\n",
       "        -3.6599e-02, -6.3973e-02, -6.6988e-02, -1.1036e-02,  1.0751e-01,\n",
       "        -4.9516e-02, -7.4780e-02,  6.5750e-03, -2.9957e-02, -1.5533e-01,\n",
       "        -6.3355e-02, -1.1317e-01, -4.0206e-02, -7.4045e-02, -7.1601e-02,\n",
       "         1.6436e-02, -4.4369e-02,  5.1563e-02, -5.4383e-03, -7.9479e-03,\n",
       "        -3.2278e-02,  3.5199e-03, -6.9088e-02,  9.6159e-03, -5.1644e-02,\n",
       "        -5.5970e-02, -6.7862e-02, -2.1980e-02, -6.1024e-02, -1.1862e-01,\n",
       "        -1.4644e-01, -6.0868e-02, -5.3271e-02, -6.6446e-02, -7.2918e-02,\n",
       "        -7.2196e-02, -2.2967e-02, -1.0664e-01,  2.6282e-02, -1.1211e-01,\n",
       "         2.1185e-02,  1.0701e-02, -8.6365e-03,  2.9161e-02,  6.0274e-02,\n",
       "         8.4313e-02,  4.1705e-03,  4.5489e-02,  6.3221e-02,  3.2370e-02,\n",
       "        -5.0587e-02,  7.6563e-02, -9.0111e-04, -5.7849e-02, -3.1547e-02,\n",
       "        -1.7674e-02,  7.0373e-02, -9.8364e-02, -7.6490e-02,  5.6545e-02,\n",
       "         3.0919e-02, -3.5375e-02, -7.8405e-02,  4.3353e-02, -5.9546e-03,\n",
       "         4.0888e-02, -6.5779e-02, -8.3440e-02,  1.4776e-02, -4.2480e-02,\n",
       "         2.3607e-02,  5.2914e-02,  3.4748e-02,  4.4019e-02, -2.4527e-03,\n",
       "         2.4162e-02, -2.6104e-02,  7.0425e-02,  7.9189e-02,  2.6152e-06,\n",
       "         6.6112e-02, -5.5727e-02,  6.0316e-02,  1.2756e-02,  2.4341e-02,\n",
       "         4.8217e-02, -7.6137e-02, -4.1670e-02, -4.3967e-02,  5.8520e-02,\n",
       "         8.1410e-02, -1.3573e-02, -4.2236e-02,  7.9134e-02, -8.3002e-02,\n",
       "        -3.9916e-02,  8.4576e-02,  1.6376e-02, -4.3292e-02,  2.1803e-02,\n",
       "         7.2040e-03, -5.6121e-02,  3.2762e-02, -5.6924e-02])"
      ]
     },
     "execution_count": 48,
     "metadata": {},
     "output_type": "execute_result"
    }
   ],
   "source": [
    "W[:, 0]"
   ]
  },
  {
   "cell_type": "code",
   "execution_count": 49,
   "metadata": {},
   "outputs": [
    {
     "data": {
      "text/plain": [
       "<matplotlib.image.AxesImage at 0x7f5dd2bda128>"
      ]
     },
     "execution_count": 49,
     "metadata": {},
     "output_type": "execute_result"
    },
    {
     "data": {
      "image/png": "[encoded data removed]",
      "text/plain": [
       "<Figure size 432x288 with 1 Axes>"
      ]
     },
     "metadata": {
      "needs_background": "light"
     },
     "output_type": "display_data"
    }
   ],
   "source": [
    "plt.imshow(W[:, 0].reshape(28, 28))"
   ]
  },
  {
   "cell_type": "code",
   "execution_count": 50,
   "metadata": {},
   "outputs": [
    {
     "data": {
      "image/png": "[encoded data removed]",
      "text/plain": [
       "<Figure size 576x432 with 10 Axes>"
      ]
     },
     "metadata": {
      "needs_background": "light"
     },
     "output_type": "display_data"
    }
   ],
   "source": [
    "show_image_grid(W.reshape(28, 28, 10).permute(2, 0, 1), nrow=4)"
   ]
  },
  {
   "cell_type": "markdown",
   "metadata": {},
   "source": [
    "## Simplifying our lives with pytorch.optim and nn.Module\n",
    "\n",
    "Unless you have a good reason, there is no need to code like above in practice. PyTorch supplies us with comfortable classes for constructing neural networks (nn.Module), constructing layers (e.g. nn.Linear) and for stochastic gradient descent algorithms in pytorch.optim\n",
    "\n",
    "Lets use those modules to refactor our training loop:"
   ]
  },
  {
   "cell_type": "code",
   "execution_count": 51,
   "metadata": {},
   "outputs": [
    {
     "data": {
      "text/plain": [
       "Net(\n",
       "  (fc1): Linear(in_features=784, out_features=10, bias=True)\n",
       ")"
      ]
     },
     "execution_count": 51,
     "metadata": {},
     "output_type": "execute_result"
    }
   ],
   "source": [
    "class Net(nn.Module):\n",
    "    def __init__(self):\n",
    "        super(Net, self).__init__()\n",
    "        self.fc1 = nn.Linear(28*28, 10, bias=True)\n",
    "\n",
    "    def forward(self, x):\n",
    "        x = x.view(x.shape[0], -1)\n",
    "        x = self.fc1(x)\n",
    "        return x\n",
    "    \n",
    "net = Net()\n",
    "net"
   ]
  },
  {
   "cell_type": "code",
   "execution_count": 52,
   "metadata": {},
   "outputs": [
    {
     "name": "stdout",
     "output_type": "stream",
     "text": [
      "epoch     0: loss:  2.20416 accuracy: 0.89\n",
      "epoch     1: loss:  4.07127 accuracy: 0.87\n",
      "epoch     2: loss:  6.07253 accuracy: 0.88\n",
      "epoch     3: loss:  8.04837 accuracy: 0.89\n",
      "epoch     4: loss:  9.78697 accuracy: 0.88\n"
     ]
    }
   ],
   "source": [
    "net = Net()\n",
    "sgd = optim.SGD(net.parameters(), lr=1.e-1)\n",
    "\n",
    "for epoch in range(5):\n",
    "    # train on mini batches\n",
    "    losses = []\n",
    "    for X, y in train_loader:\n",
    "        output = net(X)\n",
    "        loss = F.cross_entropy(output, y)\n",
    "        losses.append(loss.item())\n",
    "\n",
    "        loss.backward()\n",
    "        sgd.step()\n",
    "            \n",
    "    # measure accuracy on the validation set\n",
    "    acc = np.mean([\n",
    "        accuracy(net(X), y)\n",
    "        for X, y in valid_loader\n",
    "    ])\n",
    "    print(\"epoch % 5d: loss: % 8.5f accuracy: %4.2f\" % (epoch, np.mean(losses), acc.item()))"
   ]
  },
  {
   "cell_type": "markdown",
   "metadata": {},
   "source": [
    "## Simplifying our lives even further with additional libraries\n",
    "\n",
    "We can simpify even further using additional libraries. [Poutyne](https://poutyne.org/) provides a simple training loop including callbacks. [fastai](https://github.com/fastai/fastai) is similar in this regard, but has an even higher level of abstraction and much more stuff included (they have a free online cours). Another alternative is [Keras](https://keras.io/) that is based on tensorflow. We also use [Tensorboard](https://www.tensorflow.org/guide/summaries_and_tensorboard) via [tensorboardX](https://tensorboardx.readthedocs.io/) in order to plot the loss and accuracy during training.\n",
    "\n",
    "We will also take the code we prototyped here and put it into an executable python file in VSCode (@Oliver)"
   ]
  },
  {
   "cell_type": "code",
   "execution_count": 53,
   "metadata": {
    "scrolled": true
   },
   "outputs": [
    {
     "name": "stdout",
     "output_type": "stream",
     "text": [
      "Epoch 1/5 5.77s Step 469/469: loss: 0.573872, acc: 86.050000, val_loss: 0.380886, val_acc: 89.980000\n",
      "Epoch 2/5 5.67s Step 469/469: loss: 0.374325, acc: 89.765000, val_loss: 0.335186, val_acc: 90.780000\n",
      "Epoch 3/5 5.73s Step 469/469: loss: 0.342678, acc: 90.456667, val_loss: 0.317418, val_acc: 91.240000\n",
      "Epoch 4/5 5.70s Step 469/469: loss: 0.326284, acc: 90.928333, val_loss: 0.305822, val_acc: 91.610000\n",
      "Epoch 5/5 5.73s Step 469/469: loss: 0.315355, acc: 91.195000, val_loss: 0.298669, val_acc: 91.710000\n"
     ]
    },
    {
     "data": {
      "text/plain": [
       "[{'epoch': 1,\n",
       "  'loss': 0.573871515973409,\n",
       "  'time': 5.772986855357885,\n",
       "  'acc': 86.05000000813803,\n",
       "  'val_loss': 0.38088616633415223,\n",
       "  'val_acc': 89.98},\n",
       " {'epoch': 2,\n",
       "  'loss': 0.37432456034819284,\n",
       "  'time': 5.666503623127937,\n",
       "  'acc': 89.76499999186198,\n",
       "  'val_loss': 0.33518612599372866,\n",
       "  'val_acc': 90.78},\n",
       " {'epoch': 3,\n",
       "  'loss': 0.3426781941254934,\n",
       "  'time': 5.7326202895492315,\n",
       "  'acc': 90.45666665852865,\n",
       "  'val_loss': 0.31741848874092105,\n",
       "  'val_acc': 91.24},\n",
       " {'epoch': 4,\n",
       "  'loss': 0.32628422327836354,\n",
       "  'time': 5.695964425802231,\n",
       "  'acc': 90.92833332519531,\n",
       "  'val_loss': 0.3058224995136261,\n",
       "  'val_acc': 91.61},\n",
       " {'epoch': 5,\n",
       "  'loss': 0.31535481368700663,\n",
       "  'time': 5.727434961125255,\n",
       "  'acc': 91.195,\n",
       "  'val_loss': 0.2986694077014923,\n",
       "  'val_acc': 91.71}]"
      ]
     },
     "execution_count": 53,
     "metadata": {},
     "output_type": "execute_result"
    }
   ],
   "source": [
    "from poutyne.framework import Model\n",
    "from poutyne.framework.callbacks import TensorBoardLogger\n",
    "from tensorboardX import SummaryWriter\n",
    "\n",
    "net = Net()\n",
    "sgd = optim.SGD(net.parameters(), lr=1.e-1)\n",
    "model = Model(net, sgd, 'cross_entropy', metrics=['accuracy']) \n",
    "model.cuda() \n",
    "model.fit_generator(\n",
    "    train_loader, valid_loader,\n",
    "    epochs=5,\n",
    "    callbacks=[TensorBoardLogger(SummaryWriter())]\n",
    ")"
   ]
  },
  {
   "cell_type": "markdown",
   "metadata": {},
   "source": [
    "## Saving & Loading models"
   ]
  },
  {
   "cell_type": "code",
   "execution_count": 54,
   "metadata": {},
   "outputs": [],
   "source": [
    "torch.save(net.state_dict(), 'mynet.pth')"
   ]
  },
  {
   "cell_type": "markdown",
   "metadata": {},
   "source": [
    "Now, we can re-instantiate the network, for example when we restart our jupyter session after a couple days of training or if we want to use the model in production. However, all the weights are lost :("
   ]
  },
  {
   "cell_type": "code",
   "execution_count": 55,
   "metadata": {},
   "outputs": [
    {
     "name": "stdout",
     "output_type": "stream",
     "text": [
      "label:  tensor(5)\n",
      "predictions:  tensor([[0.1128, 0.0817, 0.1010, 0.1162, 0.0663, 0.1449, 0.1296, 0.0752, 0.0827,\n",
      "         0.0896]], grad_fn=<SoftmaxBackward>)\n"
     ]
    }
   ],
   "source": [
    "net2 = Net()\n",
    "\n",
    "print(\"label: \", yb[0])\n",
    "print(\"predictions: \", F.softmax(net2(Xb[0]), dim=1))"
   ]
  },
  {
   "cell_type": "markdown",
   "metadata": {},
   "source": [
    "So let's load the parameters from our checkpoint:"
   ]
  },
  {
   "cell_type": "code",
   "execution_count": 56,
   "metadata": {},
   "outputs": [
    {
     "name": "stdout",
     "output_type": "stream",
     "text": [
      "label:  tensor(5)\n",
      "predictions:  tensor([[1.1191e-01, 5.0207e-07, 1.0762e-02, 2.3478e-03, 7.9720e-04, 5.4881e-01,\n",
      "         6.9114e-05, 8.2678e-04, 3.2224e-01, 2.2498e-03]],\n",
      "       grad_fn=<SoftmaxBackward>)\n"
     ]
    }
   ],
   "source": [
    "net2.load_state_dict(torch.load('mynet.pth'))\n",
    "net2.eval() # needed when we use layers that behave different in training and testing (e.g. Batchnorm, Dropout)\n",
    "print(\"label: \", yb[0])\n",
    "print(\"predictions: \", F.softmax(net2(Xb[0]), dim=1))"
   ]
  },
  {
   "cell_type": "code",
   "execution_count": 57,
   "metadata": {
    "scrolled": false
   },
   "outputs": [
    {
     "data": {
      "image/png": "[encoded data removed]",
      "text/plain": [
       "<Figure size 864x648 with 24 Axes>"
      ]
     },
     "metadata": {
      "needs_background": "light"
     },
     "output_type": "display_data"
    }
   ],
   "source": [
    "show_image_grid(Xb, net2(Xb).argmax(dim=1))"
   ]
  },
  {
   "cell_type": "markdown",
   "metadata": {},
   "source": [
    "# Your Task:\n",
    "\n",
    " - What happens if you increase/decrease the learning rate?\n",
    " - Do you also observe that the training loss is less or at least not much higher then the validation loss? What does that mean?\n",
    " - What happens if you use a very small batch size (try 2 or 4)?\n",
    " - Does learning for more epochs improve performance?\n",
    " - Try adding more layers to the network\n",
    " - Try even more complex architectures and change the number of hidden neurons - can you get even better accuracy?\n",
    " - Visualize some images from the validation set that are misclassified - what can you see?\n",
    " - Instead of MNIST, try FashionMNIST, which has the same format but is much harder then MNIST\n"
   ]
  }
 ],
 "metadata": {
  "kernelspec": {
   "display_name": "Python 3",
   "language": "python",
   "name": "python3"
  },
  "language_info": {
   "codemirror_mode": {
    "name": "ipython",
    "version": 3
   },
   "file_extension": ".py",
   "mimetype": "text/x-python",
   "name": "python",
   "nbconvert_exporter": "python",
   "pygments_lexer": "ipython3",
   "version": "3.7.2"
  }
 },
 "nbformat": 4,
 "nbformat_minor": 2
}
