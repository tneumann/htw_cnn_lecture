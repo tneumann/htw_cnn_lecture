{
 "cells": [
  {
   "cell_type": "markdown",
   "metadata": {},
   "source": [
    "# Intro to Pytorch - MNIST Digit Classification\n",
    "\n",
    "In this notebook, we cover the basics of PyTorch and will train our first (shallow) neural network from scratch on the MNIST digit classification dataset.\n",
    "\n",
    "Let's start by importing the libraries that we will need and setting up jupyter. You can add additional imports later and re-run the cell to make those imports available throughout the notebook."
   ]
  },
  {
   "cell_type": "code",
   "execution_count": 1,
   "metadata": {},
   "outputs": [],
   "source": [
    "# ipython magic that ensures that plots are inlined and saved along with the notebook\n",
    "%matplotlib inline\n",
    "\n",
    "# import numpy - array processing library\n",
    "import numpy as np \n",
    "\n",
    "# pytorch imports:\n",
    "import torch \n",
    "import torch.nn as nn\n",
    "import torch.nn.functional as F\n",
    "import torch.optim as optim\n",
    "\n",
    "# pytorch functionality for image datasets\n",
    "from torchvision import datasets, transforms\n",
    "\n",
    "# standard plotting library\n",
    "import matplotlib.pyplot as plt"
   ]
  },
  {
   "cell_type": "markdown",
   "metadata": {},
   "source": [
    "We supply you with a function to plot multiple images along with their labels. Please ignore for now:"
   ]
  },
  {
   "cell_type": "code",
   "execution_count": 2,
   "metadata": {},
   "outputs": [],
   "source": [
    "def show_image_grid(X, y=None, title=None, nrow=6, ncol=4, **kwargs):\n",
    "    max_num = nrow*ncol\n",
    "    X = X[:max_num]\n",
    "    if len(X) < max_num:\n",
    "        ncol = len(X) // nrow + 1\n",
    "    if isinstance(X, np.ndarray):\n",
    "        X = torch.from_numpy(X)\n",
    "    if X.dim() != 4:\n",
    "        X = X[:, None]\n",
    "\n",
    "    plt.figure(title, figsize=(2*nrow, 2*ncol + (0 if y is None else 1)))\n",
    "    if title:\n",
    "        plt.title(title)\n",
    "        \n",
    "    y = [None] * len(X) if y is None else y\n",
    "    if isinstance(y, torch.Tensor):\n",
    "        y = y.numpy()\n",
    "        \n",
    "    for i, (Xi, yi) in enumerate(zip(X, y)):\n",
    "        plt.subplot(ncol, nrow, i+1)\n",
    "        img = Xi.numpy().transpose((1, 2, 0))\n",
    "        if img.shape[2] == 1:\n",
    "            img = img[..., 0]\n",
    "        plt.imshow(img)\n",
    "        if yi is not None:\n",
    "            plt.title(str(yi))\n",
    "        plt.axis('off')\n",
    "    \n",
    "    plt.axis('off')\n"
   ]
  },
  {
   "cell_type": "markdown",
   "metadata": {},
   "source": [
    "## Some PyTorch basics\n",
    "\n",
    "Creating tensors:"
   ]
  },
  {
   "cell_type": "code",
   "execution_count": 3,
   "metadata": {},
   "outputs": [
    {
     "data": {
      "text/plain": [
       "tensor([1., 2., 3.])"
      ]
     },
     "execution_count": 3,
     "metadata": {},
     "output_type": "execute_result"
    }
   ],
   "source": [
    "V = torch.tensor([1., 2., 3.])\n",
    "V"
   ]
  },
  {
   "cell_type": "code",
   "execution_count": 4,
   "metadata": {},
   "outputs": [
    {
     "data": {
      "text/plain": [
       "tensor([[1., 2., 3.],\n",
       "        [4., 5., 6.]])"
      ]
     },
     "execution_count": 4,
     "metadata": {},
     "output_type": "execute_result"
    }
   ],
   "source": [
    "M = torch.tensor([[1., 2., 3.], [4., 5., 6]])\n",
    "M"
   ]
  },
  {
   "cell_type": "code",
   "execution_count": 5,
   "metadata": {},
   "outputs": [
    {
     "data": {
      "text/plain": [
       "tensor([[[1., 2.],\n",
       "         [3., 4.]],\n",
       "\n",
       "        [[5., 6.],\n",
       "         [7., 8.]]])"
      ]
     },
     "execution_count": 5,
     "metadata": {},
     "output_type": "execute_result"
    }
   ],
   "source": [
    "# Create a 3D tensor of size 2x2x2.\n",
    "T = torch.tensor([[[1., 2.], [3., 4.]],\n",
    "          [[5., 6.], [7., 8.]]])\n",
    "T"
   ]
  },
  {
   "cell_type": "code",
   "execution_count": 6,
   "metadata": {
    "scrolled": true
   },
   "outputs": [
    {
     "data": {
      "text/plain": [
       "tensor([[[[ 0.2023,  2.4365],\n",
       "          [ 1.5235,  0.3136],\n",
       "          [-0.1725,  2.0450],\n",
       "          [ 1.0513, -3.0113],\n",
       "          [ 1.9477,  0.8964]],\n",
       "\n",
       "         [[ 0.7966,  1.7909],\n",
       "          [ 0.2203,  0.8977],\n",
       "          [ 1.0592,  0.5051],\n",
       "          [-0.1172, -0.1964],\n",
       "          [-0.6481,  0.4154]]],\n",
       "\n",
       "\n",
       "        [[[-0.9966,  0.4326],\n",
       "          [-0.7480,  1.1857],\n",
       "          [ 0.2611, -0.6793],\n",
       "          [-1.4389,  0.4017],\n",
       "          [ 1.0047,  0.1642]],\n",
       "\n",
       "         [[-1.6396, -1.9281],\n",
       "          [-0.8798,  0.7390],\n",
       "          [-0.1424,  0.2104],\n",
       "          [ 0.8403, -1.3880],\n",
       "          [ 0.0588,  0.6995]]],\n",
       "\n",
       "\n",
       "        [[[ 1.0181,  0.0693],\n",
       "          [ 2.2290,  0.8302],\n",
       "          [-0.4961,  0.4396],\n",
       "          [ 0.1260,  2.7948],\n",
       "          [ 0.3170, -1.4874]],\n",
       "\n",
       "         [[-0.1779, -0.2361],\n",
       "          [-1.0006,  0.8396],\n",
       "          [-1.9743,  1.1977],\n",
       "          [-0.7920,  0.1232],\n",
       "          [-0.5277, -1.8741]]]])"
      ]
     },
     "execution_count": 6,
     "metadata": {},
     "output_type": "execute_result"
    }
   ],
   "source": [
    "# create a tensor with random numbers\n",
    "torch.randn((3, 2, 5, 2))"
   ]
  },
  {
   "cell_type": "markdown",
   "metadata": {},
   "source": [
    "Indexing into tensors gives you elements or tensor views:"
   ]
  },
  {
   "cell_type": "code",
   "execution_count": 7,
   "metadata": {},
   "outputs": [
    {
     "data": {
      "text/plain": [
       "tensor(1.)"
      ]
     },
     "execution_count": 7,
     "metadata": {},
     "output_type": "execute_result"
    }
   ],
   "source": [
    "V[0]"
   ]
  },
  {
   "cell_type": "code",
   "execution_count": 8,
   "metadata": {},
   "outputs": [
    {
     "data": {
      "text/plain": [
       "1.0"
      ]
     },
     "execution_count": 8,
     "metadata": {},
     "output_type": "execute_result"
    }
   ],
   "source": [
    "V[0].item()"
   ]
  },
  {
   "cell_type": "code",
   "execution_count": 9,
   "metadata": {},
   "outputs": [
    {
     "data": {
      "text/plain": [
       "tensor([1., 2., 3.])"
      ]
     },
     "execution_count": 9,
     "metadata": {},
     "output_type": "execute_result"
    }
   ],
   "source": [
    "M[0]"
   ]
  },
  {
   "cell_type": "code",
   "execution_count": 10,
   "metadata": {},
   "outputs": [
    {
     "data": {
      "text/plain": [
       "tensor(2.)"
      ]
     },
     "execution_count": 10,
     "metadata": {},
     "output_type": "execute_result"
    }
   ],
   "source": [
    "M[0, 1]"
   ]
  },
  {
   "cell_type": "markdown",
   "metadata": {},
   "source": [
    "Fancy indexing:"
   ]
  },
  {
   "cell_type": "code",
   "execution_count": 11,
   "metadata": {},
   "outputs": [
    {
     "data": {
      "text/plain": [
       "tensor([1., 4.])"
      ]
     },
     "execution_count": 11,
     "metadata": {},
     "output_type": "execute_result"
    }
   ],
   "source": [
    "M[:, 0]"
   ]
  },
  {
   "cell_type": "markdown",
   "metadata": {},
   "source": [
    "Typical mathematical operators are overloaded for tensors, so you can add all entries of one matrix to another matrix with a simple line. No need to write for loops :)"
   ]
  },
  {
   "cell_type": "code",
   "execution_count": 12,
   "metadata": {},
   "outputs": [
    {
     "data": {
      "text/plain": [
       "tensor([[-0.5781,  0.2518],\n",
       "        [ 0.3376, -0.5409],\n",
       "        [ 0.5412, -0.6992]])"
      ]
     },
     "execution_count": 12,
     "metadata": {},
     "output_type": "execute_result"
    }
   ],
   "source": [
    "A = torch.randn((3, 2))\n",
    "A"
   ]
  },
  {
   "cell_type": "code",
   "execution_count": 13,
   "metadata": {},
   "outputs": [
    {
     "data": {
      "text/plain": [
       "tensor([[-0.0039,  0.9286],\n",
       "        [ 1.5287, -1.2031],\n",
       "        [ 1.0134, -1.2150]])"
      ]
     },
     "execution_count": 13,
     "metadata": {},
     "output_type": "execute_result"
    }
   ],
   "source": [
    "B = torch.randn((3, 2))\n",
    "B"
   ]
  },
  {
   "cell_type": "code",
   "execution_count": 14,
   "metadata": {},
   "outputs": [
    {
     "data": {
      "text/plain": [
       "tensor([[-0.5820,  1.1804],\n",
       "        [ 1.8662, -1.7440],\n",
       "        [ 1.5546, -1.9143]])"
      ]
     },
     "execution_count": 14,
     "metadata": {},
     "output_type": "execute_result"
    }
   ],
   "source": [
    "A + B"
   ]
  },
  {
   "cell_type": "code",
   "execution_count": 15,
   "metadata": {},
   "outputs": [
    {
     "data": {
      "text/plain": [
       "tensor([[0.0022, 0.2338],\n",
       "        [0.5161, 0.6507],\n",
       "        [0.5485, 0.8496]])"
      ]
     },
     "execution_count": 15,
     "metadata": {},
     "output_type": "execute_result"
    }
   ],
   "source": [
    "A * B"
   ]
  },
  {
   "cell_type": "code",
   "execution_count": 16,
   "metadata": {},
   "outputs": [
    {
     "data": {
      "text/plain": [
       "tensor([[-1.1563,  0.5036],\n",
       "        [ 0.6752, -1.0817],\n",
       "        [ 1.0824, -1.3985]])"
      ]
     },
     "execution_count": 16,
     "metadata": {},
     "output_type": "execute_result"
    }
   ],
   "source": [
    "2 * A"
   ]
  },
  {
   "cell_type": "markdown",
   "metadata": {},
   "source": [
    "## Let's get started: loading the data\n",
    "\n",
    "First, lets load the dataset:"
   ]
  },
  {
   "cell_type": "code",
   "execution_count": 17,
   "metadata": {},
   "outputs": [
    {
     "data": {
      "text/plain": [
       "Dataset MNIST\n",
       "    Number of datapoints: 60000\n",
       "    Split: train\n",
       "    Root Location: ./data\n",
       "    Transforms (if any): ToTensor()\n",
       "    Target Transforms (if any): None"
      ]
     },
     "execution_count": 17,
     "metadata": {},
     "output_type": "execute_result"
    }
   ],
   "source": [
    "train_data = datasets.MNIST(root='./data', train=True, \n",
    "                            download=True, transform=transforms.ToTensor())\n",
    "train_data"
   ]
  },
  {
   "cell_type": "markdown",
   "metadata": {},
   "source": [
    "In order to sample from this dataset, we need a DataLoader. A DataLoader samples mini batches from a DataSet and can also be used to apply transformations to the data (here, we just want to transform the data to a pytorch tensor)."
   ]
  },
  {
   "cell_type": "code",
   "execution_count": 18,
   "metadata": {},
   "outputs": [
    {
     "data": {
      "text/plain": [
       "<torch.utils.data.dataloader.DataLoader at 0x7fc8cf2a88d0>"
      ]
     },
     "execution_count": 18,
     "metadata": {},
     "output_type": "execute_result"
    }
   ],
   "source": [
    "batch_size = 128\n",
    "train_loader = torch.utils.data.DataLoader(train_data, shuffle=True, batch_size=batch_size)\n",
    "train_loader"
   ]
  },
  {
   "cell_type": "markdown",
   "metadata": {},
   "source": [
    "MNIST also provides a validation set that we can use to test how well our model performs."
   ]
  },
  {
   "cell_type": "code",
   "execution_count": 19,
   "metadata": {},
   "outputs": [],
   "source": [
    "valid_data = datasets.MNIST(root='./data', train=False, \n",
    "                            download=True, transform=transforms.ToTensor())\n",
    "valid_loader = torch.utils.data.DataLoader(valid_data, shuffle=False, batch_size=batch_size)"
   ]
  },
  {
   "cell_type": "markdown",
   "metadata": {},
   "source": [
    "Lets sample one batch of data from the dataset:"
   ]
  },
  {
   "cell_type": "code",
   "execution_count": 20,
   "metadata": {},
   "outputs": [],
   "source": [
    "Xb, yb = next(iter(train_loader))"
   ]
  },
  {
   "cell_type": "code",
   "execution_count": 21,
   "metadata": {},
   "outputs": [
    {
     "data": {
      "text/plain": [
       "torch.Size([128, 1, 28, 28])"
      ]
     },
     "execution_count": 21,
     "metadata": {},
     "output_type": "execute_result"
    }
   ],
   "source": [
    "Xb.shape"
   ]
  },
  {
   "cell_type": "code",
   "execution_count": 22,
   "metadata": {
    "scrolled": true
   },
   "outputs": [
    {
     "data": {
      "text/plain": [
       "tensor([[[0.0000, 0.0000, 0.0000, 0.0000, 0.0000, 0.0000, 0.0000, 0.0000,\n",
       "          0.0000, 0.0000, 0.0000, 0.0000, 0.0000, 0.0000, 0.0000, 0.0000,\n",
       "          0.0000, 0.0000, 0.0000, 0.0000, 0.0000, 0.0000, 0.0000, 0.0000,\n",
       "          0.0000, 0.0000, 0.0000, 0.0000],\n",
       "         [0.0000, 0.0000, 0.0000, 0.0000, 0.0000, 0.0000, 0.0000, 0.0000,\n",
       "          0.0000, 0.0000, 0.0000, 0.0000, 0.0000, 0.0000, 0.0000, 0.0000,\n",
       "          0.0000, 0.0000, 0.0000, 0.0000, 0.0000, 0.0000, 0.0000, 0.0000,\n",
       "          0.0000, 0.0000, 0.0000, 0.0000],\n",
       "         [0.0000, 0.0000, 0.0000, 0.0000, 0.0000, 0.0000, 0.0000, 0.0000,\n",
       "          0.0000, 0.0000, 0.0000, 0.0000, 0.0000, 0.0000, 0.0000, 0.0000,\n",
       "          0.0000, 0.0000, 0.0000, 0.0000, 0.0000, 0.0000, 0.0000, 0.0000,\n",
       "          0.0000, 0.0000, 0.0000, 0.0000],\n",
       "         [0.0000, 0.0000, 0.0000, 0.0000, 0.0000, 0.0000, 0.0000, 0.0000,\n",
       "          0.0000, 0.0000, 0.0000, 0.0000, 0.0000, 0.0000, 0.0902, 0.6667,\n",
       "          0.4275, 0.0000, 0.0000, 0.0000, 0.0000, 0.0000, 0.0000, 0.0000,\n",
       "          0.0000, 0.0000, 0.0000, 0.0000],\n",
       "         [0.0000, 0.0000, 0.0000, 0.0000, 0.0000, 0.0000, 0.0000, 0.0000,\n",
       "          0.0000, 0.0000, 0.0000, 0.0000, 0.0000, 0.0000, 0.2784, 0.9961,\n",
       "          0.6118, 0.0000, 0.0000, 0.0000, 0.0000, 0.0000, 0.0000, 0.0000,\n",
       "          0.0000, 0.0000, 0.0000, 0.0000],\n",
       "         [0.0000, 0.0000, 0.0000, 0.0000, 0.0000, 0.0000, 0.0000, 0.0000,\n",
       "          0.0000, 0.0000, 0.0000, 0.0000, 0.0000, 0.0863, 0.8784, 0.9961,\n",
       "          0.6118, 0.0000, 0.0000, 0.0000, 0.0000, 0.0000, 0.0000, 0.0000,\n",
       "          0.0000, 0.0000, 0.0000, 0.0000],\n",
       "         [0.0000, 0.0000, 0.0000, 0.0000, 0.0000, 0.0000, 0.0000, 0.0000,\n",
       "          0.0000, 0.0000, 0.0000, 0.0000, 0.0000, 0.3451, 0.9961, 0.9961,\n",
       "          0.5176, 0.0000, 0.0000, 0.0000, 0.0000, 0.0000, 0.0000, 0.0000,\n",
       "          0.0000, 0.0000, 0.0000, 0.0000],\n",
       "         [0.0000, 0.0000, 0.0000, 0.0000, 0.0000, 0.0000, 0.0000, 0.0000,\n",
       "          0.0000, 0.0000, 0.0000, 0.0000, 0.0784, 0.9294, 0.9961, 0.9961,\n",
       "          0.3098, 0.0000, 0.0000, 0.0000, 0.0000, 0.0000, 0.0000, 0.0000,\n",
       "          0.0000, 0.0000, 0.0000, 0.0000],\n",
       "         [0.0000, 0.0000, 0.0000, 0.0000, 0.0000, 0.0000, 0.0000, 0.0000,\n",
       "          0.0000, 0.0000, 0.0000, 0.0510, 0.7608, 0.9961, 0.9961, 0.9961,\n",
       "          0.1216, 0.0000, 0.0000, 0.0000, 0.0000, 0.0000, 0.0000, 0.0000,\n",
       "          0.0000, 0.0000, 0.0000, 0.0000],\n",
       "         [0.0000, 0.0000, 0.0000, 0.0000, 0.0000, 0.0000, 0.0000, 0.0000,\n",
       "          0.0000, 0.0000, 0.0000, 0.7333, 0.9961, 0.8627, 0.8667, 0.9961,\n",
       "          0.3098, 0.0000, 0.0000, 0.0000, 0.0000, 0.0000, 0.0000, 0.0000,\n",
       "          0.0000, 0.0000, 0.0000, 0.0000],\n",
       "         [0.0000, 0.0000, 0.0000, 0.0000, 0.0000, 0.0000, 0.0000, 0.0000,\n",
       "          0.0000, 0.0000, 0.2392, 0.9686, 0.9490, 0.1333, 0.8431, 0.9961,\n",
       "          0.0235, 0.0000, 0.0000, 0.0000, 0.0000, 0.0000, 0.0000, 0.0000,\n",
       "          0.0000, 0.0000, 0.0000, 0.0000],\n",
       "         [0.0000, 0.0000, 0.0000, 0.0000, 0.0000, 0.0000, 0.0000, 0.0000,\n",
       "          0.0000, 0.0000, 0.5020, 0.9216, 0.2863, 0.0000, 0.8471, 0.7843,\n",
       "          0.0000, 0.0000, 0.0000, 0.0000, 0.0000, 0.0000, 0.0000, 0.0000,\n",
       "          0.0000, 0.0000, 0.0000, 0.0000],\n",
       "         [0.0000, 0.0000, 0.0000, 0.0000, 0.0000, 0.0000, 0.0000, 0.0000,\n",
       "          0.0000, 0.0000, 0.0000, 0.0000, 0.0000, 0.0275, 0.8667, 0.6863,\n",
       "          0.0000, 0.0000, 0.0000, 0.0000, 0.0000, 0.0000, 0.0000, 0.0000,\n",
       "          0.0000, 0.0000, 0.0000, 0.0000],\n",
       "         [0.0000, 0.0000, 0.0000, 0.0000, 0.0000, 0.0000, 0.0000, 0.0000,\n",
       "          0.0000, 0.0000, 0.0000, 0.0000, 0.0000, 0.1569, 0.9961, 0.6863,\n",
       "          0.0000, 0.0000, 0.0000, 0.0000, 0.0000, 0.0000, 0.0000, 0.0000,\n",
       "          0.0000, 0.0000, 0.0000, 0.0000],\n",
       "         [0.0000, 0.0000, 0.0000, 0.0000, 0.0000, 0.0000, 0.0000, 0.0000,\n",
       "          0.0000, 0.0000, 0.0000, 0.0000, 0.0000, 0.1569, 0.9961, 0.6863,\n",
       "          0.0000, 0.0000, 0.0000, 0.0000, 0.0000, 0.0000, 0.0000, 0.0000,\n",
       "          0.0000, 0.0000, 0.0000, 0.0000],\n",
       "         [0.0000, 0.0000, 0.0000, 0.0000, 0.0000, 0.0000, 0.0000, 0.0000,\n",
       "          0.0000, 0.0000, 0.0000, 0.0000, 0.0000, 0.1569, 0.9961, 0.6902,\n",
       "          0.0000, 0.0000, 0.0000, 0.0000, 0.0000, 0.0000, 0.0000, 0.0000,\n",
       "          0.0000, 0.0000, 0.0000, 0.0000],\n",
       "         [0.0000, 0.0000, 0.0000, 0.0000, 0.0000, 0.0000, 0.0000, 0.0000,\n",
       "          0.0000, 0.0000, 0.0000, 0.0000, 0.0000, 0.1569, 0.9961, 0.6392,\n",
       "          0.0000, 0.0000, 0.0000, 0.0000, 0.0000, 0.0000, 0.0000, 0.0000,\n",
       "          0.0000, 0.0000, 0.0000, 0.0000],\n",
       "         [0.0000, 0.0000, 0.0000, 0.0000, 0.0000, 0.0000, 0.0000, 0.0000,\n",
       "          0.0000, 0.0000, 0.0000, 0.0000, 0.0000, 0.2275, 0.9961, 0.3843,\n",
       "          0.0000, 0.0000, 0.0000, 0.0000, 0.0000, 0.0000, 0.0000, 0.0000,\n",
       "          0.0000, 0.0000, 0.0000, 0.0000],\n",
       "         [0.0000, 0.0000, 0.0000, 0.0000, 0.0000, 0.0000, 0.0000, 0.0000,\n",
       "          0.0000, 0.0000, 0.0000, 0.0000, 0.0000, 0.4627, 0.9961, 0.2902,\n",
       "          0.0000, 0.0000, 0.0000, 0.0000, 0.0000, 0.0000, 0.0000, 0.0000,\n",
       "          0.0000, 0.0000, 0.0000, 0.0000],\n",
       "         [0.0000, 0.0000, 0.0000, 0.0000, 0.0000, 0.0000, 0.0000, 0.0000,\n",
       "          0.0000, 0.0000, 0.0431, 0.0078, 0.0000, 0.5804, 0.9961, 0.1725,\n",
       "          0.0000, 0.0000, 0.0000, 0.0000, 0.0000, 0.0000, 0.0000, 0.0000,\n",
       "          0.0000, 0.0000, 0.0000, 0.0000],\n",
       "         [0.0000, 0.0000, 0.0000, 0.0000, 0.0000, 0.0000, 0.0000, 0.0000,\n",
       "          0.0000, 0.5020, 0.8902, 0.7843, 0.7686, 0.9412, 0.9961, 0.5961,\n",
       "          0.1569, 0.0863, 0.0000, 0.0000, 0.0000, 0.0000, 0.0000, 0.0000,\n",
       "          0.0000, 0.0000, 0.0000, 0.0000],\n",
       "         [0.0000, 0.0000, 0.0000, 0.0000, 0.0000, 0.0000, 0.0000, 0.0000,\n",
       "          0.0000, 0.6941, 0.9961, 0.9961, 1.0000, 0.9961, 0.9961, 0.9961,\n",
       "          1.0000, 0.9255, 0.2980, 0.0000, 0.0000, 0.0000, 0.0000, 0.0000,\n",
       "          0.0000, 0.0000, 0.0000, 0.0000],\n",
       "         [0.0000, 0.0000, 0.0000, 0.0000, 0.0000, 0.0000, 0.0000, 0.0000,\n",
       "          0.0000, 0.0353, 0.0745, 0.0745, 0.1961, 0.5216, 0.6157, 0.4784,\n",
       "          0.8078, 0.9961, 0.3647, 0.0000, 0.0000, 0.0000, 0.0000, 0.0000,\n",
       "          0.0000, 0.0000, 0.0000, 0.0000],\n",
       "         [0.0000, 0.0000, 0.0000, 0.0000, 0.0000, 0.0000, 0.0000, 0.0000,\n",
       "          0.0000, 0.0000, 0.0000, 0.0000, 0.0000, 0.0000, 0.0000, 0.0000,\n",
       "          0.0000, 0.0000, 0.0000, 0.0000, 0.0000, 0.0000, 0.0000, 0.0000,\n",
       "          0.0000, 0.0000, 0.0000, 0.0000],\n",
       "         [0.0000, 0.0000, 0.0000, 0.0000, 0.0000, 0.0000, 0.0000, 0.0000,\n",
       "          0.0000, 0.0000, 0.0000, 0.0000, 0.0000, 0.0000, 0.0000, 0.0000,\n",
       "          0.0000, 0.0000, 0.0000, 0.0000, 0.0000, 0.0000, 0.0000, 0.0000,\n",
       "          0.0000, 0.0000, 0.0000, 0.0000],\n",
       "         [0.0000, 0.0000, 0.0000, 0.0000, 0.0000, 0.0000, 0.0000, 0.0000,\n",
       "          0.0000, 0.0000, 0.0000, 0.0000, 0.0000, 0.0000, 0.0000, 0.0000,\n",
       "          0.0000, 0.0000, 0.0000, 0.0000, 0.0000, 0.0000, 0.0000, 0.0000,\n",
       "          0.0000, 0.0000, 0.0000, 0.0000],\n",
       "         [0.0000, 0.0000, 0.0000, 0.0000, 0.0000, 0.0000, 0.0000, 0.0000,\n",
       "          0.0000, 0.0000, 0.0000, 0.0000, 0.0000, 0.0000, 0.0000, 0.0000,\n",
       "          0.0000, 0.0000, 0.0000, 0.0000, 0.0000, 0.0000, 0.0000, 0.0000,\n",
       "          0.0000, 0.0000, 0.0000, 0.0000],\n",
       "         [0.0000, 0.0000, 0.0000, 0.0000, 0.0000, 0.0000, 0.0000, 0.0000,\n",
       "          0.0000, 0.0000, 0.0000, 0.0000, 0.0000, 0.0000, 0.0000, 0.0000,\n",
       "          0.0000, 0.0000, 0.0000, 0.0000, 0.0000, 0.0000, 0.0000, 0.0000,\n",
       "          0.0000, 0.0000, 0.0000, 0.0000]]])"
      ]
     },
     "execution_count": 22,
     "metadata": {},
     "output_type": "execute_result"
    }
   ],
   "source": [
    "Xb[0]"
   ]
  },
  {
   "cell_type": "markdown",
   "metadata": {},
   "source": [
    "We can use matplotlib or the show_image_grid function to visualize the data."
   ]
  },
  {
   "cell_type": "code",
   "execution_count": 23,
   "metadata": {},
   "outputs": [
    {
     "data": {
      "text/plain": [
       "<matplotlib.image.AxesImage at 0x7fc8cbc67e48>"
      ]
     },
     "execution_count": 23,
     "metadata": {},
     "output_type": "execute_result"
    },
    {
     "data": {
      "image/png": "[encoded data removed]",
      "text/plain": [
       "<Figure size 432x288 with 1 Axes>"
      ]
     },
     "metadata": {
      "needs_background": "light"
     },
     "output_type": "display_data"
    }
   ],
   "source": [
    "plt.gray() # sets matplotlib colormap\n",
    "plt.imshow(Xb[0,0])"
   ]
  },
  {
   "cell_type": "code",
   "execution_count": 24,
   "metadata": {},
   "outputs": [
    {
     "data": {
      "text/plain": [
       "tensor([1, 1, 3, 5, 8, 1, 5, 7, 0, 4, 5, 9, 3, 2, 7, 3, 7, 3, 5, 6, 9, 5, 6, 8,\n",
       "        2, 2, 2, 4, 0, 1, 4, 1, 0, 6, 7, 6, 2, 0, 2, 7, 2, 1, 1, 0, 4, 1, 3, 0,\n",
       "        6, 3, 6, 6, 1, 7, 7, 8, 5, 7, 9, 1, 4, 1, 4, 3, 1, 7, 3, 6, 9, 0, 1, 6,\n",
       "        1, 8, 1, 8, 2, 9, 4, 7, 6, 2, 8, 3, 2, 6, 3, 8, 9, 9, 9, 3, 8, 9, 8, 6,\n",
       "        5, 6, 2, 7, 0, 1, 3, 1, 2, 1, 3, 9, 6, 2, 5, 8, 4, 0, 1, 7, 5, 0, 5, 5,\n",
       "        3, 9, 2, 7, 4, 5, 2, 7])"
      ]
     },
     "execution_count": 24,
     "metadata": {},
     "output_type": "execute_result"
    }
   ],
   "source": [
    "yb"
   ]
  },
  {
   "cell_type": "code",
   "execution_count": 25,
   "metadata": {},
   "outputs": [
    {
     "data": {
      "text/plain": [
       "tensor(1)"
      ]
     },
     "execution_count": 25,
     "metadata": {},
     "output_type": "execute_result"
    },
    {
     "data": {
      "image/png": "[encoded data removed]",
      "text/plain": [
       "<Figure size 432x288 with 1 Axes>"
      ]
     },
     "metadata": {
      "needs_background": "light"
     },
     "output_type": "display_data"
    }
   ],
   "source": [
    "plt.imshow(Xb[0, 0])\n",
    "yb[0]"
   ]
  },
  {
   "cell_type": "code",
   "execution_count": 26,
   "metadata": {},
   "outputs": [
    {
     "data": {
      "text/plain": [
       "tensor(1)"
      ]
     },
     "execution_count": 26,
     "metadata": {},
     "output_type": "execute_result"
    },
    {
     "data": {
      "image/png": "[encoded data removed]",
      "text/plain": [
       "<Figure size 432x288 with 1 Axes>"
      ]
     },
     "metadata": {
      "needs_background": "light"
     },
     "output_type": "display_data"
    }
   ],
   "source": [
    "plt.imshow(Xb[1, 0])\n",
    "yb[1]"
   ]
  },
  {
   "cell_type": "code",
   "execution_count": 27,
   "metadata": {
    "scrolled": true
   },
   "outputs": [
    {
     "data": {
      "image/png": "[encoded data removed]",
      "text/plain": [
       "<Figure size 864x648 with 24 Axes>"
      ]
     },
     "metadata": {
      "needs_background": "light"
     },
     "output_type": "display_data"
    }
   ],
   "source": [
    "show_image_grid(Xb, yb)"
   ]
  },
  {
   "cell_type": "markdown",
   "metadata": {},
   "source": [
    "## Setup the model\n",
    "\n",
    "We want to train a linear model from a vectorized (flattened) version of the image. We first reshape our image tensor"
   ]
  },
  {
   "cell_type": "code",
   "execution_count": 28,
   "metadata": {},
   "outputs": [
    {
     "data": {
      "text/plain": [
       "torch.Size([128, 784])"
      ]
     },
     "execution_count": 28,
     "metadata": {},
     "output_type": "execute_result"
    }
   ],
   "source": [
    "Xb_flat = Xb.view(Xb.shape[0], -1)\n",
    "Xb_flat.shape"
   ]
  },
  {
   "cell_type": "markdown",
   "metadata": {},
   "source": [
    "We now initialize the weights and biases (parameters) of our network. We use a weight matrix to densely connect the 28x28 dimensional input to an output layer of size 10 and add a bias term. This simplistic shallow linear \"neural network\" outputs 10 class scores for each of the digit between 0-9."
   ]
  },
  {
   "cell_type": "code",
   "execution_count": 29,
   "metadata": {
    "scrolled": true
   },
   "outputs": [
    {
     "data": {
      "text/plain": [
       "torch.Size([128, 10])"
      ]
     },
     "execution_count": 29,
     "metadata": {},
     "output_type": "execute_result"
    }
   ],
   "source": [
    "weight = torch.randn((28*28, 10), requires_grad=True)\n",
    "bias = torch.zeros(10, requires_grad=True)\n",
    "\n",
    "output = Xb_flat @ weight  + bias\n",
    "output.shape"
   ]
  },
  {
   "cell_type": "code",
   "execution_count": 30,
   "metadata": {},
   "outputs": [
    {
     "data": {
      "text/plain": [
       "tensor([-12.9499,  -7.5915,  -1.5107,  -7.8935,  -1.2034,  -2.5946,  -2.3174,\n",
       "         -1.1106,  -4.6926, -12.9689], grad_fn=<SelectBackward>)"
      ]
     },
     "execution_count": 30,
     "metadata": {},
     "output_type": "execute_result"
    }
   ],
   "source": [
    "output[0]"
   ]
  },
  {
   "cell_type": "markdown",
   "metadata": {},
   "source": [
    "Lets refactor our neural network forward pass and wrap it into a function that we can easily call later on"
   ]
  },
  {
   "cell_type": "code",
   "execution_count": 31,
   "metadata": {},
   "outputs": [
    {
     "data": {
      "text/plain": [
       "tensor([-12.9499,  -7.5915,  -1.5107,  -7.8935,  -1.2034,  -2.5946,  -2.3174,\n",
       "         -1.1106,  -4.6926, -12.9689], grad_fn=<SelectBackward>)"
      ]
     },
     "execution_count": 31,
     "metadata": {},
     "output_type": "execute_result"
    }
   ],
   "source": [
    "def model(X, weight, bias):\n",
    "    return X.view(-1, 28*28) @ weight + bias\n",
    "\n",
    "model(Xb, weight, bias)[0]"
   ]
  },
  {
   "cell_type": "markdown",
   "metadata": {},
   "source": [
    "## Metrics\n",
    "\n",
    "We will also need a way of measuring how good our model is. Here, we will use the classification accuracy by comparing the label predicted by the network (simply the neuron with the largest score of our output layer) with the actual labels and counting how often those agree."
   ]
  },
  {
   "cell_type": "code",
   "execution_count": 32,
   "metadata": {
    "scrolled": false
   },
   "outputs": [
    {
     "name": "stdout",
     "output_type": "stream",
     "text": [
      "predicted label: tensor([7, 5, 7, 9, 4, 4, 9, 9, 9, 4, 9, 9, 7, 5, 1, 1, 9, 4, 9, 1, 9, 9, 4, 6,\n",
      "        5, 7, 4, 1, 5, 4, 4, 4, 4, 4, 4, 1, 4, 5, 7, 7, 4, 4, 4, 1, 1, 4, 7, 1,\n",
      "        4, 5, 1, 1, 7, 4, 4, 4, 5, 1, 3, 4, 4, 4, 4, 7, 4, 1, 4, 1, 1, 4, 4, 6,\n",
      "        4, 7, 4, 4, 1, 9, 1, 3, 1, 4, 4, 5, 6, 1, 4, 1, 7, 1, 6, 7, 4, 4, 1, 4,\n",
      "        1, 1, 4, 4, 1, 4, 4, 4, 7, 4, 4, 4, 1, 1, 9, 1, 1, 1, 5, 3, 9, 9, 9, 9,\n",
      "        4, 1, 4, 9, 4, 2, 4, 4])\n",
      "   actual label: tensor([1, 1, 3, 5, 8, 1, 5, 7, 0, 4, 5, 9, 3, 2, 7, 3, 7, 3, 5, 6, 9, 5, 6, 8,\n",
      "        2, 2, 2, 4, 0, 1, 4, 1, 0, 6, 7, 6, 2, 0, 2, 7, 2, 1, 1, 0, 4, 1, 3, 0,\n",
      "        6, 3, 6, 6, 1, 7, 7, 8, 5, 7, 9, 1, 4, 1, 4, 3, 1, 7, 3, 6, 9, 0, 1, 6,\n",
      "        1, 8, 1, 8, 2, 9, 4, 7, 6, 2, 8, 3, 2, 6, 3, 8, 9, 9, 9, 3, 8, 9, 8, 6,\n",
      "        5, 6, 2, 7, 0, 1, 3, 1, 2, 1, 3, 9, 6, 2, 5, 8, 4, 0, 1, 7, 5, 0, 5, 5,\n",
      "        3, 9, 2, 7, 4, 5, 2, 7])\n"
     ]
    },
    {
     "data": {
      "text/plain": [
       "tensor([0, 0, 0, 0, 0, 0, 0, 0, 0, 1, 0, 1, 0, 0, 0, 0, 0, 0, 0, 0, 1, 0, 0, 0,\n",
       "        0, 0, 0, 0, 0, 0, 1, 0, 0, 0, 0, 0, 0, 0, 0, 1, 0, 0, 0, 0, 0, 0, 0, 0,\n",
       "        0, 0, 0, 0, 0, 0, 0, 0, 1, 0, 0, 0, 1, 0, 1, 0, 0, 0, 0, 0, 0, 0, 0, 1,\n",
       "        0, 0, 0, 0, 0, 1, 0, 0, 0, 0, 0, 0, 0, 0, 0, 0, 0, 0, 0, 0, 0, 0, 0, 0,\n",
       "        0, 0, 0, 0, 0, 0, 0, 0, 0, 0, 0, 0, 0, 0, 0, 0, 0, 0, 0, 0, 0, 0, 0, 0,\n",
       "        0, 0, 0, 0, 1, 0, 0, 0], dtype=torch.uint8)"
      ]
     },
     "execution_count": 32,
     "metadata": {},
     "output_type": "execute_result"
    }
   ],
   "source": [
    "print(\"predicted label:\", output.argmax(1))\n",
    "print(\"   actual label:\", yb)\n",
    "\n",
    "yb == output.argmax(1)"
   ]
  },
  {
   "cell_type": "markdown",
   "metadata": {},
   "source": [
    "We can compute an accuracy between 0 and 1 simply by averaging the above binary vector. "
   ]
  },
  {
   "cell_type": "code",
   "execution_count": 33,
   "metadata": {},
   "outputs": [
    {
     "data": {
      "text/plain": [
       "tensor(0.0859)"
      ]
     },
     "execution_count": 33,
     "metadata": {},
     "output_type": "execute_result"
    }
   ],
   "source": [
    "def accuracy(output, label):\n",
    "    return (output.argmax(1) == label).float().mean()\n",
    "\n",
    "accuracy(output, yb)"
   ]
  },
  {
   "cell_type": "markdown",
   "metadata": {},
   "source": [
    "## Loss\n",
    "\n",
    "To measure how well our network does, we cannot directly use our accuracy metric - Do you know why?\n",
    "\n",
    "Instead, we will apply a softmax to the 10-dimensional output, which gives us a probability between 0 and 1 for each of the 10 classes."
   ]
  },
  {
   "cell_type": "code",
   "execution_count": 34,
   "metadata": {},
   "outputs": [
    {
     "data": {
      "text/plain": [
       "tensor([[2.2994e-06, 4.8835e-04, 2.1360e-01,  ..., 3.1866e-01, 8.8651e-03,\n",
       "         2.2561e-06],\n",
       "        [3.4973e-03, 1.9490e-01, 2.1078e-02,  ..., 5.8025e-04, 1.4219e-03,\n",
       "         1.2969e-05],\n",
       "        [1.0843e-13, 1.2997e-02, 7.8677e-09,  ..., 9.8547e-01, 7.8119e-13,\n",
       "         1.5139e-03],\n",
       "        ...,\n",
       "        [6.4727e-08, 2.4808e-03, 9.6684e-01,  ..., 6.6150e-04, 9.0303e-10,\n",
       "         5.8757e-05],\n",
       "        [9.8509e-10, 4.5719e-01, 2.8262e-08,  ..., 1.2003e-05, 8.4198e-06,\n",
       "         2.6053e-11],\n",
       "        [7.6654e-13, 8.6485e-06, 4.3304e-08,  ..., 1.9611e-04, 1.4368e-10,\n",
       "         1.3260e-05]], grad_fn=<SoftmaxBackward>)"
      ]
     },
     "execution_count": 34,
     "metadata": {},
     "output_type": "execute_result"
    }
   ],
   "source": [
    "F.softmax(output, dim=1)"
   ]
  },
  {
   "cell_type": "code",
   "execution_count": 35,
   "metadata": {},
   "outputs": [
    {
     "data": {
      "text/plain": [
       "tensor([1.0000, 1.0000, 1.0000, 1.0000, 1.0000, 1.0000, 1.0000, 1.0000, 1.0000,\n",
       "        1.0000, 1.0000, 1.0000, 1.0000, 1.0000, 1.0000, 1.0000, 1.0000, 1.0000,\n",
       "        1.0000, 1.0000, 1.0000, 1.0000, 1.0000, 1.0000, 1.0000, 1.0000, 1.0000,\n",
       "        1.0000, 1.0000, 1.0000, 1.0000, 1.0000, 1.0000, 1.0000, 1.0000, 1.0000,\n",
       "        1.0000, 1.0000, 1.0000, 1.0000, 1.0000, 1.0000, 1.0000, 1.0000, 1.0000,\n",
       "        1.0000, 1.0000, 1.0000, 1.0000, 1.0000, 1.0000, 1.0000, 1.0000, 1.0000,\n",
       "        1.0000, 1.0000, 1.0000, 1.0000, 1.0000, 1.0000, 1.0000, 1.0000, 1.0000,\n",
       "        1.0000, 1.0000, 1.0000, 1.0000, 1.0000, 1.0000, 1.0000, 1.0000, 1.0000,\n",
       "        1.0000, 1.0000, 1.0000, 1.0000, 1.0000, 1.0000, 1.0000, 1.0000, 1.0000,\n",
       "        1.0000, 1.0000, 1.0000, 1.0000, 1.0000, 1.0000, 1.0000, 1.0000, 1.0000,\n",
       "        1.0000, 1.0000, 1.0000, 1.0000, 1.0000, 1.0000, 1.0000, 1.0000, 1.0000,\n",
       "        1.0000, 1.0000, 1.0000, 1.0000, 1.0000, 1.0000, 1.0000, 1.0000, 1.0000,\n",
       "        1.0000, 1.0000, 1.0000, 1.0000, 1.0000, 1.0000, 1.0000, 1.0000, 1.0000,\n",
       "        1.0000, 1.0000, 1.0000, 1.0000, 1.0000, 1.0000, 1.0000, 1.0000, 1.0000,\n",
       "        1.0000, 1.0000], grad_fn=<SumBackward2>)"
      ]
     },
     "execution_count": 35,
     "metadata": {},
     "output_type": "execute_result"
    }
   ],
   "source": [
    "F.softmax(output, dim=1).sum(1)"
   ]
  },
  {
   "cell_type": "code",
   "execution_count": 36,
   "metadata": {},
   "outputs": [
    {
     "data": {
      "text/plain": [
       "tensor([2.2994e-06, 4.8835e-04, 2.1360e-01, 3.6105e-04, 2.9044e-01, 7.2253e-02,\n",
       "        9.5336e-02, 3.1866e-01, 8.8651e-03, 2.2561e-06],\n",
       "       grad_fn=<SelectBackward>)"
      ]
     },
     "execution_count": 36,
     "metadata": {},
     "output_type": "execute_result"
    }
   ],
   "source": [
    "F.softmax(output, dim=1)[0]"
   ]
  },
  {
   "cell_type": "code",
   "execution_count": 37,
   "metadata": {},
   "outputs": [
    {
     "data": {
      "text/plain": [
       "tensor([3.4973e-03, 1.9490e-01, 2.1078e-02, 2.1308e-06, 5.9252e-02, 7.0041e-01,\n",
       "        1.8854e-02, 5.8025e-04, 1.4219e-03, 1.2969e-05],\n",
       "       grad_fn=<SelectBackward>)"
      ]
     },
     "execution_count": 37,
     "metadata": {},
     "output_type": "execute_result"
    }
   ],
   "source": [
    "F.softmax(output, dim=1)[1]"
   ]
  },
  {
   "cell_type": "markdown",
   "metadata": {},
   "source": [
    "However, instead of computing the negative log-likelihood now from the softmax output, it is both quicker and numerically more stable to directly use the cross_entropy loss from PyTorch. Notice that you need to pass the output of your last layer directly to cross_entropy - NEVER pass softmaxed output directly, use the explicit softmax presented above only if you want to output class probabilities at test time. "
   ]
  },
  {
   "cell_type": "code",
   "execution_count": 38,
   "metadata": {},
   "outputs": [
    {
     "data": {
      "text/plain": [
       "tensor(14.8453, grad_fn=<NllLossBackward>)"
      ]
     },
     "execution_count": 38,
     "metadata": {},
     "output_type": "execute_result"
    }
   ],
   "source": [
    "loss = F.cross_entropy(output, yb)\n",
    "loss"
   ]
  },
  {
   "cell_type": "markdown",
   "metadata": {},
   "source": [
    "## Backpropagation\n",
    "\n",
    "We now need to compute the gradient of the weight and bias tensor with respect to the loss. Luckily, PyTorch supplies us with an autograd mechanism that internally computes the gradients at each operations and propagates the error from the output of the network to the input, often called the backward pass.\n",
    "\n",
    "The gradients of a tensor can be accessed by the .grad attribute after running backward on the output as follows. At first, the gradient is empty:"
   ]
  },
  {
   "cell_type": "code",
   "execution_count": 39,
   "metadata": {},
   "outputs": [],
   "source": [
    "bias.grad"
   ]
  },
  {
   "cell_type": "markdown",
   "metadata": {},
   "source": [
    "We then run backpropagation by calling:"
   ]
  },
  {
   "cell_type": "code",
   "execution_count": 40,
   "metadata": {},
   "outputs": [],
   "source": [
    "loss.backward()"
   ]
  },
  {
   "cell_type": "markdown",
   "metadata": {},
   "source": [
    "Then, we can read out the gradient:"
   ]
  },
  {
   "cell_type": "code",
   "execution_count": 41,
   "metadata": {},
   "outputs": [
    {
     "data": {
      "text/plain": [
       "tensor([-0.0779,  0.0919, -0.1034, -0.0851,  0.3051, -0.0235, -0.0702, -0.0194,\n",
       "        -0.0715,  0.0540])"
      ]
     },
     "execution_count": 41,
     "metadata": {},
     "output_type": "execute_result"
    }
   ],
   "source": [
    "bias.grad"
   ]
  },
  {
   "cell_type": "markdown",
   "metadata": {},
   "source": [
    "### Question\n",
    "\n",
    "What is the shape of the gradient of bias and weight?\n",
    "\n",
    "-\n",
    "\n",
    "-\n",
    "\n",
    "-\n",
    "\n",
    "-\n",
    "\n",
    "-\n",
    "\n",
    "-\n",
    "\n",
    "-\n",
    "\n",
    "-\n",
    "\n",
    "-\n",
    "\n",
    "-\n",
    "\n",
    "-\n",
    "\n",
    "-\n",
    "\n",
    "-\n",
    "\n",
    "-\n",
    "\n",
    "-\n",
    "\n",
    "-\n",
    "\n",
    "-\n",
    "\n",
    "-\n",
    "\n",
    "-\n",
    "\n",
    "-\n",
    "\n",
    "-"
   ]
  },
  {
   "cell_type": "code",
   "execution_count": 42,
   "metadata": {},
   "outputs": [
    {
     "data": {
      "text/plain": [
       "torch.Size([10])"
      ]
     },
     "execution_count": 42,
     "metadata": {},
     "output_type": "execute_result"
    }
   ],
   "source": [
    "bias.grad.shape"
   ]
  },
  {
   "cell_type": "code",
   "execution_count": 43,
   "metadata": {},
   "outputs": [
    {
     "data": {
      "text/plain": [
       "torch.Size([784, 10])"
      ]
     },
     "execution_count": 43,
     "metadata": {},
     "output_type": "execute_result"
    }
   ],
   "source": [
    "weight.grad.shape"
   ]
  },
  {
   "cell_type": "code",
   "execution_count": 44,
   "metadata": {},
   "outputs": [
    {
     "data": {
      "text/plain": [
       "tensor([[0., 0., 0.,  ..., 0., 0., 0.],\n",
       "        [0., 0., 0.,  ..., 0., 0., 0.],\n",
       "        [0., 0., 0.,  ..., 0., 0., 0.],\n",
       "        ...,\n",
       "        [0., 0., 0.,  ..., 0., 0., 0.],\n",
       "        [0., 0., 0.,  ..., 0., 0., 0.],\n",
       "        [0., 0., 0.,  ..., 0., 0., 0.]])"
      ]
     },
     "execution_count": 44,
     "metadata": {},
     "output_type": "execute_result"
    }
   ],
   "source": [
    "weight.grad"
   ]
  },
  {
   "cell_type": "markdown",
   "metadata": {},
   "source": [
    "## Gradient descent\n",
    "\n",
    "We can now change the weight and bias parameter in order to bring down the loss. Since we don't want to backpropagate through this gradient update step, we need to disable the autograd feature for these steps using with no_grad. We also need to define a learning rate (lr)."
   ]
  },
  {
   "cell_type": "code",
   "execution_count": 45,
   "metadata": {},
   "outputs": [
    {
     "name": "stdout",
     "output_type": "stream",
     "text": [
      "bias before:  tensor([0., 0., 0., 0., 0., 0., 0., 0., 0., 0.], requires_grad=True)\n",
      "bias after:  tensor([ 0.0078, -0.0092,  0.0103,  0.0085, -0.0305,  0.0024,  0.0070,  0.0019,\n",
      "         0.0071, -0.0054], requires_grad=True)\n"
     ]
    }
   ],
   "source": [
    "lr = 1.e-1\n",
    "\n",
    "print(\"bias before: \", bias)\n",
    "\n",
    "with torch.no_grad():\n",
    "    weight -= lr * weight.grad\n",
    "    weight.grad.zero_()\n",
    "    bias -= lr * bias.grad\n",
    "    bias.grad.zero_()\n",
    "    \n",
    "print(\"bias after: \", bias)"
   ]
  },
  {
   "cell_type": "markdown",
   "metadata": {},
   "source": [
    "Did our model already improve after this one small mini batch gradient update?"
   ]
  },
  {
   "cell_type": "code",
   "execution_count": 46,
   "metadata": {},
   "outputs": [
    {
     "data": {
      "text/plain": [
       "tensor(14.0852, grad_fn=<NllLossBackward>)"
      ]
     },
     "execution_count": 46,
     "metadata": {},
     "output_type": "execute_result"
    }
   ],
   "source": [
    "output = model(Xb, weight, bias)\n",
    "F.cross_entropy(output, yb)"
   ]
  },
  {
   "cell_type": "code",
   "execution_count": 47,
   "metadata": {},
   "outputs": [
    {
     "data": {
      "text/plain": [
       "tensor(0.0703)"
      ]
     },
     "execution_count": 47,
     "metadata": {},
     "output_type": "execute_result"
    }
   ],
   "source": [
    "accuracy(output, yb)"
   ]
  },
  {
   "cell_type": "markdown",
   "metadata": {},
   "source": [
    "# Full Training Loop\n",
    "\n",
    "In practice, we want to do these gradient update steps multiple times over the whole dataset. Usually, we construct an inner loop that runs over the whole (shuffled!) training set, and an outer loop that repeats this pass over the whole training for a set number of epochs.\n",
    "\n",
    "Also, we were not very smart in initializing our weights. Lets use the popular kaiming initialization for initializing the weight matrix. Initialization is quite important, but as we will see later most of the times PyTorch provides us with a safe default. We just don't use it here since we did not yet learn about nn.Modules, yet.\n",
    "\n",
    "We also measure the accuracy on our validation set after each epoch in this loop:"
   ]
  },
  {
   "cell_type": "code",
   "execution_count": 48,
   "metadata": {
    "scrolled": true
   },
   "outputs": [
    {
     "name": "stdout",
     "output_type": "stream",
     "text": [
      "epoch     0: loss:  0.57980 accuracy: 0.90\n",
      "epoch     1: loss:  0.37589 accuracy: 0.91\n",
      "epoch     2: loss:  0.34380 accuracy: 0.91\n",
      "epoch     3: loss:  0.32720 accuracy: 0.92\n",
      "epoch     4: loss:  0.31643 accuracy: 0.92\n"
     ]
    }
   ],
   "source": [
    "lr = 0.1\n",
    "\n",
    "# initialize weights\n",
    "weight = torch.zeros((28*28, 10), requires_grad=True)\n",
    "nn.init.kaiming_uniform_(weight, mode='fan_out')\n",
    "bias = torch.zeros(10, requires_grad=True)\n",
    "\n",
    "for epoch in range(5):\n",
    "    # train on mini batches\n",
    "    losses = []\n",
    "    for X, y in train_loader:\n",
    "        # forward pass\n",
    "        output = model(X, weight, bias)\n",
    "        # compute loss\n",
    "        loss = F.cross_entropy(output, y)\n",
    "        losses.append(loss.item())\n",
    "        # backward pass\n",
    "        loss.backward()\n",
    "        # gradient descent update\n",
    "        with torch.no_grad():\n",
    "            weight -= lr * weight.grad\n",
    "            bias -= lr * bias.grad\n",
    "            weight.grad.zero_()\n",
    "            bias.grad.zero_()\n",
    "            \n",
    "    # measure accuracy on the validation set\n",
    "    acc = np.mean([\n",
    "        accuracy(model(X, weight, bias), y)\n",
    "        for X, y in valid_loader\n",
    "    ])\n",
    "    print(\"epoch % 5d: loss: % 8.5f accuracy: %4.2f\" % (epoch, np.mean(losses), acc.item()))\n"
   ]
  },
  {
   "cell_type": "markdown",
   "metadata": {},
   "source": [
    "## Lets take a look inside\n",
    "\n",
    "Since our model is so simple, we can actually take a look at the learned parameters of the network, as the weight matrix is just a stack of vectorized 28x28 images itself. Basically, we have trained 10 linear digit detectors. Lets have a look:"
   ]
  },
  {
   "cell_type": "code",
   "execution_count": 49,
   "metadata": {},
   "outputs": [
    {
     "data": {
      "text/plain": [
       "torch.Size([784, 10])"
      ]
     },
     "execution_count": 49,
     "metadata": {},
     "output_type": "execute_result"
    }
   ],
   "source": [
    "W = weight.detach()\n",
    "W.shape"
   ]
  },
  {
   "cell_type": "code",
   "execution_count": 50,
   "metadata": {
    "scrolled": true
   },
   "outputs": [
    {
     "data": {
      "text/plain": [
       "tensor([-8.2284e-02, -4.3574e-02, -5.5765e-02,  7.7003e-02, -1.6245e-02,\n",
       "        -6.3772e-02, -2.5606e-02,  7.1073e-02, -4.9816e-02, -3.8570e-02,\n",
       "        -1.5415e-02,  8.5473e-02,  2.3797e-02,  5.6847e-02,  7.4506e-02,\n",
       "         6.4113e-02,  3.7285e-02,  4.2257e-02,  5.1808e-02, -8.0045e-02,\n",
       "         6.8571e-02,  6.5436e-02, -1.5961e-02,  3.4463e-02, -3.1239e-02,\n",
       "        -4.2898e-02,  3.3842e-03,  3.3230e-02, -3.7361e-03, -8.8670e-03,\n",
       "         2.7880e-03,  6.7037e-02,  1.3181e-02, -4.8452e-02, -1.1745e-02,\n",
       "        -7.9726e-02,  5.6412e-02, -4.8268e-02, -8.0723e-02, -5.6218e-02,\n",
       "         4.8691e-02, -7.4267e-02,  5.2405e-02, -4.3141e-02,  3.3175e-02,\n",
       "         3.8789e-03,  4.0176e-02,  7.0909e-02, -4.5776e-02, -6.1333e-02,\n",
       "        -1.9013e-02,  6.5981e-02, -5.5523e-02, -4.2972e-02, -6.0872e-02,\n",
       "        -1.3206e-02, -7.6199e-02, -4.6711e-02,  7.6708e-02,  7.2464e-02,\n",
       "         7.2172e-03, -2.1034e-02, -7.1289e-02, -8.5580e-02,  6.7306e-02,\n",
       "        -7.0178e-02, -2.0490e-02,  2.2807e-02,  1.6824e-02,  3.4697e-02,\n",
       "        -3.4495e-02, -4.6347e-02,  7.7539e-03,  2.5327e-02, -5.8713e-02,\n",
       "         1.4887e-02, -9.0850e-02, -8.5206e-02,  4.5158e-02, -8.5451e-02,\n",
       "        -6.7386e-02, -1.9262e-02, -3.0012e-02,  6.4560e-02,  2.5294e-03,\n",
       "        -1.3024e-02, -4.0167e-02,  6.4118e-02,  2.2106e-02, -4.2911e-02,\n",
       "        -5.4026e-02, -5.8633e-02, -7.0882e-02,  1.9240e-02, -9.0322e-02,\n",
       "         5.8769e-03, -4.6411e-02, -7.8809e-02, -5.6011e-02, -1.0527e-01,\n",
       "        -1.1828e-01, -7.0217e-02, -9.9393e-02, -6.4719e-02, -3.0310e-02,\n",
       "        -5.6847e-02,  2.7520e-02,  3.4414e-02,  7.1024e-02, -4.5949e-02,\n",
       "         2.8728e-02, -3.2309e-02, -6.9696e-02, -1.3704e-02,  7.5931e-02,\n",
       "        -6.7887e-02, -1.8287e-02, -8.7363e-02,  2.1988e-02,  4.9759e-02,\n",
       "        -1.1307e-01,  2.9952e-02, -3.6545e-02,  3.4864e-02,  3.2680e-02,\n",
       "        -3.3101e-02, -2.7672e-02,  7.3253e-03,  4.6563e-02,  3.8305e-02,\n",
       "        -8.0849e-02, -9.9631e-02, -1.0997e-01, -8.0067e-02,  8.3994e-03,\n",
       "        -7.2532e-02, -1.1651e-02, -5.6980e-02, -6.7532e-02, -1.9486e-02,\n",
       "        -6.0900e-02, -4.0056e-03,  5.0573e-02, -3.3909e-02,  7.4452e-02,\n",
       "        -6.6856e-02,  1.9155e-02,  2.9519e-02,  9.5216e-06, -8.9838e-02,\n",
       "        -1.0903e-01,  5.9692e-03,  5.7258e-02,  7.8382e-02,  1.1973e-01,\n",
       "         1.8523e-01,  8.2803e-02,  1.4875e-01,  7.5048e-02,  4.9335e-02,\n",
       "        -2.3124e-02,  6.4660e-02,  2.3328e-02, -9.9191e-03,  2.4040e-02,\n",
       "        -8.6489e-02,  7.4623e-02, -1.9333e-02,  2.2551e-02, -6.3907e-02,\n",
       "         8.2431e-02, -3.3231e-02,  3.7424e-02,  3.9173e-02, -1.2418e-02,\n",
       "        -4.8351e-02, -9.4828e-02, -1.2897e-01, -5.2000e-02,  7.3983e-02,\n",
       "         3.6487e-02,  5.6014e-02,  9.0741e-02,  6.0189e-02,  2.4010e-01,\n",
       "         1.3930e-01,  1.6823e-01,  8.3954e-02,  4.3981e-02,  3.5151e-02,\n",
       "         5.4124e-02, -4.0353e-02, -2.0413e-02, -3.0367e-02, -7.8564e-02,\n",
       "         5.0328e-02,  1.4030e-02,  8.6413e-02,  3.1948e-02,  3.3236e-02,\n",
       "         3.3095e-03, -2.6031e-02, -1.2680e-01, -3.3817e-02, -7.8904e-02,\n",
       "         4.0050e-02, -2.7559e-02,  1.5217e-02,  1.2214e-01, -1.2958e-03,\n",
       "         7.7978e-02,  9.2594e-02,  2.0717e-01,  1.4480e-01,  1.1002e-01,\n",
       "         1.8688e-01,  1.0361e-01,  1.1943e-01,  8.6286e-02, -2.0063e-03,\n",
       "        -1.3180e-01, -1.2978e-02, -5.6595e-02, -7.1118e-02,  2.7070e-02,\n",
       "        -7.5724e-02,  6.6635e-02, -1.0780e-02, -1.0133e-01, -9.5123e-02,\n",
       "        -4.5629e-02, -6.4558e-02, -1.4079e-01,  6.9262e-02, -1.9799e-02,\n",
       "         5.2641e-02,  9.9412e-02,  2.2247e-02,  1.1000e-01,  1.7124e-01,\n",
       "         2.1315e-01,  1.7493e-01,  1.9506e-01,  8.0329e-02,  2.4415e-02,\n",
       "         7.2640e-02,  4.9542e-02,  2.7826e-02, -6.9614e-02, -7.0750e-03,\n",
       "         3.5443e-02,  9.4247e-03, -8.2798e-02,  7.5500e-02,  4.7582e-02,\n",
       "         7.1234e-02, -2.6003e-02, -1.0479e-01,  7.7746e-03, -3.6921e-02,\n",
       "        -8.7984e-02, -3.7023e-02, -2.9817e-02, -4.7357e-02,  4.2382e-02,\n",
       "         5.5485e-02,  9.0648e-03,  4.8860e-02,  1.0706e-01,  1.6345e-01,\n",
       "         2.2446e-01,  1.7369e-01,  7.3620e-02,  1.4405e-01,  1.0163e-01,\n",
       "         1.7144e-01, -3.9180e-02, -2.4583e-02,  2.2609e-02,  4.0158e-02,\n",
       "         2.6416e-02, -3.1643e-02,  5.0220e-02, -8.0627e-02, -8.4635e-02,\n",
       "        -4.1016e-02, -3.2003e-03,  4.2655e-02,  1.9242e-02,  5.0368e-02,\n",
       "        -6.4087e-02,  1.0818e-02,  1.1394e-01,  3.8988e-02,  1.8624e-02,\n",
       "        -1.3131e-01, -9.3198e-02,  1.4720e-02,  1.9157e-01,  7.5326e-02,\n",
       "         6.4920e-02,  7.9850e-02,  1.7465e-01,  2.6866e-01,  8.1612e-02,\n",
       "        -1.2225e-01, -6.2995e-02,  6.6662e-02,  3.2151e-02, -8.5810e-02,\n",
       "        -2.8118e-03,  3.9412e-02, -1.0913e-01, -1.5987e-02, -7.9857e-02,\n",
       "         8.7168e-02, -7.0476e-03, -1.4249e-04, -7.1324e-03,  6.7927e-02,\n",
       "         9.3289e-03, -8.6871e-02, -2.0748e-01, -3.1554e-01, -1.7741e-01,\n",
       "        -1.3073e-01, -2.6024e-03,  4.5852e-02,  1.3694e-01,  2.0208e-01,\n",
       "         1.8367e-01,  1.8744e-01,  1.1926e-01, -7.9750e-02, -1.8769e-02,\n",
       "        -1.5188e-02, -6.8007e-02,  4.5260e-02,  2.2905e-02,  1.2501e-02,\n",
       "        -1.0175e-01,  1.5025e-02, -1.6024e-02,  2.9260e-03,  2.9441e-03,\n",
       "         5.4262e-02,  9.8510e-02,  8.3992e-02, -3.1388e-02, -1.2115e-01,\n",
       "        -2.3922e-01, -4.6066e-01, -4.2763e-01, -2.5899e-01, -8.0093e-02,\n",
       "        -7.6731e-03,  3.3829e-02,  6.8466e-02,  2.0508e-01,  2.8934e-01,\n",
       "         1.7396e-01, -5.3151e-02,  6.0240e-03,  3.9841e-02, -4.0369e-02,\n",
       "         5.3726e-03, -8.2469e-02,  4.8516e-02, -1.0850e-01,  7.6005e-02,\n",
       "         4.4585e-02,  1.5079e-01,  8.7034e-02,  3.2103e-02,  5.8142e-02,\n",
       "         5.8219e-02, -3.0842e-02, -2.6606e-01, -4.3509e-01, -4.9840e-01,\n",
       "        -3.7561e-01, -1.6076e-01, -1.2257e-01, -1.0773e-01,  5.5893e-02,\n",
       "         1.4272e-01,  2.5844e-01,  3.0348e-01,  1.3358e-01,  5.7373e-02,\n",
       "         4.7870e-02, -4.0971e-02, -4.2097e-02, -6.9476e-02, -5.1305e-02,\n",
       "        -2.8935e-03, -9.7515e-02,  1.7032e-01,  1.6580e-01,  1.1745e-01,\n",
       "         8.9134e-02,  1.2964e-01,  2.3182e-01,  1.3824e-01, -1.0486e-01,\n",
       "        -2.7341e-01, -4.8706e-01, -4.0426e-01, -4.8994e-01, -2.7435e-01,\n",
       "        -1.9815e-02,  6.4384e-03,  2.1882e-03,  7.2603e-02,  1.8337e-01,\n",
       "         2.2004e-01,  1.9332e-01, -7.1390e-02,  3.5294e-02,  6.2221e-02,\n",
       "        -7.1147e-02, -7.1438e-02, -2.2882e-02, -2.7072e-02,  1.1557e-02,\n",
       "         7.0165e-02,  1.9371e-01,  1.3148e-01,  2.1033e-01,  1.7766e-01,\n",
       "         1.4085e-01, -2.9114e-03, -2.6129e-01, -4.7309e-01, -4.4127e-01,\n",
       "        -4.7610e-01, -3.5110e-01, -2.2955e-01, -8.1657e-02, -3.3070e-02,\n",
       "         3.1209e-02,  8.4292e-02,  1.2562e-01,  1.4220e-01,  3.3142e-02,\n",
       "        -1.4791e-03,  6.6943e-02, -2.9152e-02,  6.7612e-02,  1.9124e-02,\n",
       "        -7.1239e-02,  1.1668e-02, -6.9475e-02,  1.8265e-01,  1.8664e-01,\n",
       "         1.9543e-01,  1.1418e-01,  2.5957e-01,  2.4959e-01, -6.3129e-02,\n",
       "        -2.5482e-01, -3.8400e-01, -4.2490e-01, -4.0621e-01, -2.3236e-01,\n",
       "        -1.9246e-02, -8.1982e-02,  9.0312e-02, -1.5607e-03,  1.6592e-01,\n",
       "         1.0110e-01,  9.6680e-02,  8.3580e-03,  2.0989e-02, -3.6185e-02,\n",
       "        -5.2124e-04, -1.0740e-02,  5.7007e-02,  5.8772e-02, -1.0936e-01,\n",
       "         1.8530e-02,  1.7326e-01,  1.3780e-01,  1.9459e-01,  1.9591e-01,\n",
       "         1.2839e-01,  1.4940e-01, -2.6496e-02, -2.4112e-01, -4.0914e-01,\n",
       "        -4.6593e-01, -2.2845e-01, -1.2573e-01, -6.7915e-02,  1.4762e-02,\n",
       "         6.3558e-02,  8.9076e-02,  2.5360e-02,  1.4408e-01,  2.8165e-02,\n",
       "         5.0651e-02,  2.3435e-02, -1.4285e-02,  5.6941e-02,  2.5419e-02,\n",
       "        -8.6615e-02,  8.4641e-02, -5.9928e-03, -6.9742e-03,  6.1473e-02,\n",
       "         1.3249e-01,  9.9040e-02,  1.6877e-01,  2.4245e-01,  2.8597e-01,\n",
       "        -3.9881e-02, -1.8304e-01, -2.1276e-01, -2.9515e-01, -1.3338e-01,\n",
       "        -1.0707e-01,  6.2388e-02,  4.4834e-02, -5.6237e-02, -2.9448e-02,\n",
       "         1.1152e-01,  1.1038e-03,  6.7021e-02, -6.3544e-02,  1.4462e-02,\n",
       "         4.5834e-02, -3.2616e-02, -8.1929e-02,  3.3209e-02,  7.9464e-02,\n",
       "         1.0555e-02, -4.6899e-02,  4.6139e-02,  8.9010e-02,  2.1463e-01,\n",
       "         1.6428e-01,  1.7859e-01,  1.8229e-01,  1.1405e-01,  1.2047e-03,\n",
       "        -1.5798e-01, -6.5630e-02, -8.1807e-02,  3.5564e-02,  1.2194e-02,\n",
       "         2.8586e-02,  4.6591e-02, -3.6770e-02,  8.4843e-03,  5.1980e-02,\n",
       "         1.6952e-02, -6.2321e-02,  5.8121e-02,  8.4530e-02,  3.1597e-02,\n",
       "         5.2104e-02, -5.0241e-02, -6.0870e-02,  1.9985e-02, -1.0901e-02,\n",
       "        -4.0834e-03,  1.3940e-01,  1.1499e-01,  6.0822e-02,  1.8176e-01,\n",
       "         2.3188e-01,  2.9049e-01,  1.6892e-01, -1.9525e-02, -1.0460e-02,\n",
       "         4.3042e-02, -6.1126e-02, -2.9865e-02, -1.0145e-01, -1.1902e-02,\n",
       "         1.6289e-02,  7.4132e-03, -7.6173e-02, -6.3124e-02,  6.6568e-02,\n",
       "        -4.5763e-03,  6.6350e-03,  1.6974e-02, -6.7871e-04,  4.5206e-02,\n",
       "        -7.4001e-02, -1.0333e-01, -4.9184e-02,  1.2154e-02,  1.2646e-01,\n",
       "         1.4760e-01,  8.3135e-02,  1.1381e-01,  1.9784e-01,  1.5709e-01,\n",
       "         7.9585e-02,  7.3460e-02, -6.6036e-04, -2.9112e-02, -3.8209e-02,\n",
       "        -1.0502e-02, -8.9520e-02, -5.1074e-02, -1.3887e-02, -1.0388e-01,\n",
       "         5.4052e-03,  4.5155e-02,  4.0850e-02, -3.4757e-02, -8.1063e-02,\n",
       "         3.8236e-02, -1.1343e-02, -8.7189e-02,  6.7519e-02,  6.5270e-02,\n",
       "         2.9904e-02,  2.9779e-02,  5.9922e-02, -1.1330e-03,  2.4368e-02,\n",
       "         1.5508e-01,  1.6678e-01,  2.6230e-01,  1.7923e-01,  1.9843e-01,\n",
       "         1.1602e-01,  3.2606e-02,  4.7408e-02,  2.7730e-02, -1.3205e-01,\n",
       "         9.3878e-03, -1.2185e-01, -1.2966e-01,  7.9983e-03, -3.1791e-02,\n",
       "         9.6548e-03, -2.8102e-02, -3.8826e-02,  5.6405e-02, -6.8014e-02,\n",
       "         6.4564e-02, -1.3273e-03, -2.5692e-02, -1.0824e-01,  5.2765e-02,\n",
       "        -3.6893e-02,  3.7912e-04,  1.3594e-01,  1.2207e-01,  2.0172e-01,\n",
       "         1.6703e-01,  2.8190e-01,  1.4599e-01,  2.0874e-01,  1.5076e-03,\n",
       "        -5.9388e-04, -8.9815e-03, -1.2436e-01, -3.6216e-02, -1.0013e-01,\n",
       "         8.4070e-03,  9.8542e-03,  3.2005e-02, -7.8352e-02, -1.4336e-02,\n",
       "        -3.3794e-03, -2.7535e-02,  5.6413e-02, -4.3811e-02, -4.0141e-02,\n",
       "         2.7674e-02,  2.0155e-02,  4.6463e-02, -3.2171e-02, -1.8633e-02,\n",
       "        -5.7105e-02, -2.1201e-02, -6.8157e-02, -8.4013e-02,  1.0304e-01,\n",
       "        -1.1022e-02, -7.8091e-02, -1.2418e-02,  1.5420e-03, -9.6739e-02,\n",
       "        -1.6009e-01, -9.2342e-02, -5.6453e-02, -6.5291e-03, -7.5666e-02,\n",
       "         4.0514e-02, -8.0818e-02, -3.6386e-02, -5.2033e-02,  7.1473e-02,\n",
       "        -3.4914e-02, -8.0634e-02, -2.5618e-03,  3.9520e-02,  6.7415e-02,\n",
       "         2.9164e-02, -4.5117e-02, -7.8871e-02, -1.1989e-01, -3.6771e-02,\n",
       "        -5.1554e-02, -2.9618e-02, -1.4393e-01, -2.0882e-02, -1.0050e-01,\n",
       "        -1.8146e-02, -1.0382e-01, -5.1059e-02, -7.1522e-02, -6.1481e-02,\n",
       "        -7.3357e-02, -8.9533e-02, -3.0805e-02,  4.3447e-02, -1.2112e-02,\n",
       "        -8.5243e-02, -2.8336e-02,  8.4425e-02,  3.5409e-02, -3.0417e-02,\n",
       "        -2.0850e-02, -5.9323e-02, -5.3705e-02, -6.1989e-02,  5.1107e-02,\n",
       "         3.5733e-02,  2.2814e-02,  4.1780e-02,  5.3167e-02, -1.0821e-01,\n",
       "        -4.9483e-03,  3.7389e-02, -7.6804e-02, -6.2137e-02,  3.6163e-02,\n",
       "        -8.6299e-05, -4.7313e-02,  1.4999e-02,  1.2768e-02,  7.8479e-02,\n",
       "         3.8251e-02, -5.9004e-02,  8.2172e-02, -6.4937e-02, -6.2498e-02,\n",
       "         1.5635e-02,  2.6154e-02,  1.7556e-02,  4.6823e-02,  3.9383e-02,\n",
       "         3.3015e-02, -4.2412e-02,  7.2940e-02, -8.6735e-02, -3.2602e-02,\n",
       "         3.7817e-02, -5.2589e-03,  7.4666e-02, -5.8005e-03, -8.4508e-02,\n",
       "        -6.9397e-02, -3.3930e-03,  6.9685e-02, -2.7827e-02,  2.6515e-02,\n",
       "         3.7823e-02,  4.7913e-02, -7.1410e-03,  8.1120e-02,  3.0020e-02,\n",
       "         6.6896e-02,  3.7721e-02, -3.9027e-03,  5.1917e-02])"
      ]
     },
     "execution_count": 50,
     "metadata": {},
     "output_type": "execute_result"
    }
   ],
   "source": [
    "W[:, 0]"
   ]
  },
  {
   "cell_type": "code",
   "execution_count": 51,
   "metadata": {},
   "outputs": [
    {
     "data": {
      "text/plain": [
       "<matplotlib.image.AxesImage at 0x7fc8cb5709b0>"
      ]
     },
     "execution_count": 51,
     "metadata": {},
     "output_type": "execute_result"
    },
    {
     "data": {
      "image/png": "[encoded data removed]",
      "text/plain": [
       "<Figure size 432x288 with 1 Axes>"
      ]
     },
     "metadata": {
      "needs_background": "light"
     },
     "output_type": "display_data"
    }
   ],
   "source": [
    "plt.imshow(W[:, 0].reshape(28, 28))"
   ]
  },
  {
   "cell_type": "code",
   "execution_count": 52,
   "metadata": {},
   "outputs": [
    {
     "data": {
      "image/png": "[encoded data removed]",
      "text/plain": [
       "<Figure size 576x432 with 10 Axes>"
      ]
     },
     "metadata": {
      "needs_background": "light"
     },
     "output_type": "display_data"
    }
   ],
   "source": [
    "show_image_grid(W.reshape(28, 28, 10).permute(2, 0, 1), nrow=4)"
   ]
  },
  {
   "cell_type": "markdown",
   "metadata": {},
   "source": [
    "## Simplifying our lives with pytorch.optim and nn.Module\n",
    "\n",
    "Unless you have a good reason, there is no need to code like above in practice. PyTorch supplies us with comfortable classes for constructing neural networks (nn.Module), constructing layers (e.g. nn.Linear) and for stochastic gradient descent algorithms in pytorch.optim\n",
    "\n",
    "Lets use those modules to refactor our training loop:"
   ]
  },
  {
   "cell_type": "code",
   "execution_count": 53,
   "metadata": {},
   "outputs": [
    {
     "data": {
      "text/plain": [
       "Net(\n",
       "  (fc1): Linear(in_features=784, out_features=10, bias=True)\n",
       ")"
      ]
     },
     "execution_count": 53,
     "metadata": {},
     "output_type": "execute_result"
    }
   ],
   "source": [
    "class Net(nn.Module):\n",
    "    def __init__(self):\n",
    "        super(Net, self).__init__()\n",
    "        self.fc1 = nn.Linear(28*28, 10, bias=True)\n",
    "\n",
    "    def forward(self, x):\n",
    "        x = x.view(x.shape[0], -1)\n",
    "        x = self.fc1(x)\n",
    "        return x\n",
    "    \n",
    "net = Net()\n",
    "net"
   ]
  },
  {
   "cell_type": "code",
   "execution_count": 54,
   "metadata": {},
   "outputs": [
    {
     "name": "stdout",
     "output_type": "stream",
     "text": [
      "epoch     0: loss:  0.57360 accuracy: 0.90\n",
      "epoch     1: loss:  0.37397 accuracy: 0.91\n",
      "epoch     2: loss:  0.34215 accuracy: 0.91\n",
      "epoch     3: loss:  0.32603 accuracy: 0.92\n",
      "epoch     4: loss:  0.31537 accuracy: 0.92\n"
     ]
    }
   ],
   "source": [
    "net = Net()\n",
    "sgd = optim.SGD(net.parameters(), lr=1.e-1)\n",
    "\n",
    "for epoch in range(5):\n",
    "    # train on mini batches\n",
    "    net.train()\n",
    "    losses = []\n",
    "    for X, y in train_loader:\n",
    "        sgd.zero_grad()\n",
    "        output = net(X)\n",
    "        loss = F.cross_entropy(output, y)\n",
    "        losses.append(loss.item())\n",
    "\n",
    "        loss.backward()\n",
    "        sgd.step()\n",
    "            \n",
    "    # measure accuracy on the validation set\n",
    "    net.eval()\n",
    "    with torch.no_grad():\n",
    "        acc = np.mean([\n",
    "            accuracy(net(X), y)\n",
    "            for X, y in valid_loader\n",
    "        ])\n",
    "        print(\"epoch % 5d: loss: % 8.5f accuracy: %4.2f\" % (epoch, np.mean(losses), acc.item()))"
   ]
  },
  {
   "cell_type": "markdown",
   "metadata": {},
   "source": [
    "## Simplifying our lives even further with additional libraries\n",
    "\n",
    "We can simpify even further using additional libraries. [Poutyne](https://poutyne.org/) provides a simple training loop including callbacks. [fastai](https://github.com/fastai/fastai) is similar in this regard, but has an even higher level of abstraction and much more stuff included (they have a free online cours). Another alternative is [Keras](https://keras.io/) that is based on tensorflow. We also use [Tensorboard](https://www.tensorflow.org/guide/summaries_and_tensorboard) via [tensorboardX](https://tensorboardx.readthedocs.io/) in order to plot the loss and accuracy during training.\n",
    "\n",
    "We will also take the code we prototyped here and put it into an executable python file in VSCode (@Oliver)"
   ]
  },
  {
   "cell_type": "code",
   "execution_count": 77,
   "metadata": {
    "scrolled": true
   },
   "outputs": [
    {
     "name": "stdout",
     "output_type": "stream",
     "text": [
      "Epoch 1/5 5.47s Step 469/469: loss: 0.571431, acc: 86.228333, val_loss: 0.380430, val_acc: 90.130000\n",
      "Epoch 2/5 5.68s Step 469/469: loss: 0.373345, acc: 89.775000, val_loss: 0.335915, val_acc: 90.800000\n",
      "Epoch 3/5 5.48s Step 469/469: loss: 0.342097, acc: 90.498333, val_loss: 0.316224, val_acc: 91.280000\n",
      "Epoch 4/5 5.55s Step 469/469: loss: 0.325709, acc: 91.003333, val_loss: 0.306083, val_acc: 91.580000\n",
      "Epoch 5/5 5.50s Step 469/469: loss: 0.315252, acc: 91.226667, val_loss: 0.297954, val_acc: 91.730000\n"
     ]
    },
    {
     "data": {
      "text/plain": [
       "[{'epoch': 1,\n",
       "  'loss': 0.5714310395558675,\n",
       "  'time': 5.472436159849167,\n",
       "  'acc': 86.22833333333334,\n",
       "  'val_loss': 0.3804295210361481,\n",
       "  'val_acc': 90.13},\n",
       " {'epoch': 2,\n",
       "  'loss': 0.3733452877998352,\n",
       "  'time': 5.677092030644417,\n",
       "  'acc': 89.77499999186197,\n",
       "  'val_loss': 0.3359154708623886,\n",
       "  'val_acc': 90.8},\n",
       " {'epoch': 3,\n",
       "  'loss': 0.3420966678619385,\n",
       "  'time': 5.481374135240912,\n",
       "  'acc': 90.49833332519532,\n",
       "  'val_loss': 0.3162235161781311,\n",
       "  'val_acc': 91.28},\n",
       " {'epoch': 4,\n",
       "  'loss': 0.3257090063412984,\n",
       "  'time': 5.55189105309546,\n",
       "  'acc': 91.00333332519531,\n",
       "  'val_loss': 0.3060828198432922,\n",
       "  'val_acc': 91.58},\n",
       " {'epoch': 5,\n",
       "  'loss': 0.3152516704161962,\n",
       "  'time': 5.495405642315745,\n",
       "  'acc': 91.22666667480469,\n",
       "  'val_loss': 0.29795360612869265,\n",
       "  'val_acc': 91.73}]"
      ]
     },
     "execution_count": 77,
     "metadata": {},
     "output_type": "execute_result"
    }
   ],
   "source": [
    "from poutyne.framework import Model\n",
    "from poutyne.framework.callbacks import TensorBoardLogger\n",
    "from tensorboardX import SummaryWriter\n",
    "\n",
    "net = Net()\n",
    "sgd = optim.SGD(net.parameters(), lr=1.e-1)\n",
    "model = Model(net, sgd, 'cross_entropy', metrics=['accuracy']) \n",
    "model.cuda() \n",
    "model.fit_generator(\n",
    "    train_loader, valid_loader,\n",
    "    epochs=5,\n",
    "    callbacks=[TensorBoardLogger(SummaryWriter())]\n",
    ")"
   ]
  },
  {
   "cell_type": "markdown",
   "metadata": {},
   "source": [
    "## Saving & Loading models"
   ]
  },
  {
   "cell_type": "code",
   "execution_count": 78,
   "metadata": {},
   "outputs": [],
   "source": [
    "torch.save(net.state_dict(), 'mynet.pth')"
   ]
  },
  {
   "cell_type": "markdown",
   "metadata": {},
   "source": [
    "Now, we can re-instantiate the network, for example when we restart our jupyter session after a couple days of training or if we want to use the model in production. However, all the weights are lost :("
   ]
  },
  {
   "cell_type": "code",
   "execution_count": 79,
   "metadata": {},
   "outputs": [
    {
     "name": "stdout",
     "output_type": "stream",
     "text": [
      "label:  tensor(9)\n",
      "predictions:  tensor([[0.0658, 0.0967, 0.1024, 0.0735, 0.0929, 0.1145, 0.1014, 0.1182, 0.1303,\n",
      "         0.1042]], grad_fn=<SoftmaxBackward>)\n"
     ]
    }
   ],
   "source": [
    "net2 = Net()\n",
    "\n",
    "print(\"label: \", yb[0])\n",
    "print(\"predictions: \", F.softmax(net2(Xb[0]), dim=1))"
   ]
  },
  {
   "cell_type": "markdown",
   "metadata": {},
   "source": [
    "So let's load the parameters from our checkpoint:"
   ]
  },
  {
   "cell_type": "code",
   "execution_count": 80,
   "metadata": {},
   "outputs": [
    {
     "name": "stdout",
     "output_type": "stream",
     "text": [
      "label:  tensor(9)\n",
      "predictions:  tensor([[0.0028, 0.0008, 0.0266, 0.0187, 0.1190, 0.0054, 0.0342, 0.0343, 0.3854,\n",
      "         0.3728]], grad_fn=<SoftmaxBackward>)\n"
     ]
    }
   ],
   "source": [
    "net2.load_state_dict(torch.load('mynet.pth'))\n",
    "net2.eval() # needed when we use layers that behave different in training and testing (e.g. Batchnorm, Dropout)\n",
    "print(\"label: \", yb[0])\n",
    "print(\"predictions: \", F.softmax(net2(Xb[0]), dim=1))"
   ]
  },
  {
   "cell_type": "code",
   "execution_count": 81,
   "metadata": {
    "scrolled": false
   },
   "outputs": [
    {
     "data": {
      "image/png": "[encoded data removed]",
      "text/plain": [
       "<Figure size 864x648 with 24 Axes>"
      ]
     },
     "metadata": {
      "needs_background": "light"
     },
     "output_type": "display_data"
    }
   ],
   "source": [
    "show_image_grid(Xb, net2(Xb).argmax(dim=1))"
   ]
  },
  {
   "cell_type": "markdown",
   "metadata": {},
   "source": [
    "# Your Task:\n",
    "\n",
    " - What happens if you increase/decrease the learning rate?\n",
    " - Do you also observe that the training loss is less or at least not much higher then the validation loss? What does that mean?\n",
    " - What happens if you use a very small batch size (try 2 or 4)?\n",
    " - Does learning for more epochs improve performance?\n",
    " - Try adding more layers to the network\n",
    " - Try even more complex architectures and change the number of hidden neurons - can you get even better accuracy?\n",
    " - Visualize some images from the validation set that are misclassified - what can you see?\n",
    " - Instead of MNIST, try FashionMNIST, which has the same format but is much harder then MNIST\n"
   ]
  }
 ],
 "metadata": {
  "kernelspec": {
   "display_name": "Python 3",
   "language": "python",
   "name": "python3"
  },
  "language_info": {
   "codemirror_mode": {
    "name": "ipython",
    "version": 3
   },
   "file_extension": ".py",
   "mimetype": "text/x-python",
   "name": "python",
   "nbconvert_exporter": "python",
   "pygments_lexer": "ipython3",
   "version": "3.7.2"
  }
 },
 "nbformat": 4,
 "nbformat_minor": 2
}
