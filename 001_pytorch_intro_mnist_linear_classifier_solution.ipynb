{
  "nbformat": 4,
  "nbformat_minor": 0,
  "metadata": {
    "colab": {
      "name": "001-pytorch-intro-mnist-linear-classifier-solution.ipynb",
      "provenance": [],
      "collapsed_sections": [],
      "authorship_tag": "ABX9TyMO+tqMN2gMKlwotxzhhhHF"
    },
    "kernelspec": {
      "name": "python3",
      "display_name": "Python 3"
    }
  },
  "cells": [
    {
      "cell_type": "code",
      "metadata": {
        "id": "mVFCEw538lFf",
        "colab": {
          "base_uri": "https://localhost:8080/"
        },
        "outputId": "ba6d0d69-2958-4774-c5ca-79e12e5109da"
      },
      "source": [
        "# import numpy - array processing library\n",
        "import numpy as np \n",
        "\n",
        "# pytorch imports:\n",
        "import torch as th\n",
        "import torch.nn as nn\n",
        "import torch.nn.functional as F\n",
        "import torch.optim as optim\n",
        "\n",
        "# pytorch functionality for image datasets\n",
        "from torchvision import datasets, transforms\n",
        "\n",
        "import matplotlib.pyplot as plt\n",
        "\n",
        "def show_image_grid(X, y=None, y_pred=None, title=None, nrow=6, ncol=4, **kwargs):\n",
        "    max_num = nrow*ncol\n",
        "    X = X[:max_num]\n",
        "    if len(X) < max_num:\n",
        "        ncol = len(X) // nrow + 1\n",
        "    if isinstance(X, np.ndarray):\n",
        "        X = th.from_numpy(X)\n",
        "    if X.dim() != 4:\n",
        "        X = X[:, None]\n",
        "\n",
        "    plt.figure(title, figsize=(2*nrow, 2*ncol + (0 if y is None else 1)))\n",
        "    if title:\n",
        "        plt.title(title)\n",
        "        \n",
        "    if isinstance(y, th.Tensor):\n",
        "        y = y.numpy()\n",
        "        \n",
        "    for i, Xi in enumerate(X):\n",
        "        plt.subplot(ncol, nrow, i+1)\n",
        "        img = Xi.numpy().transpose((1, 2, 0))\n",
        "        if img.shape[2] == 1:\n",
        "            img = img[..., 0]\n",
        "        plt.imshow(img, cmap=\"gray\")\n",
        "\n",
        "        title = \"\"\n",
        "        if y is not None:\n",
        "          title += str(int(y[i]))\n",
        "        if y_pred is not None:\n",
        "          title += \"/\" + str(int(y_pred[i]))\n",
        "        if len(title) > 0: \n",
        "          plt.title(title)\n",
        "\n",
        "        plt.axis('off')\n",
        "    \n",
        "    plt.axis('off')\n",
        "\n",
        "\n",
        "batch_size = 128\n",
        "train_data = datasets.MNIST(root='./data', train=True, \n",
        "                            download=True, transform=transforms.ToTensor())\n",
        "train_loader = th.utils.data.DataLoader(train_data, shuffle=True, batch_size=batch_size)\n",
        "valid_data = datasets.MNIST(root='./data', train=False, \n",
        "                            download=True, transform=transforms.ToTensor())\n",
        "valid_loader = th.utils.data.DataLoader(valid_data, shuffle=False, batch_size=batch_size)\n",
        "\n",
        "\n",
        "def forward(X, weight, bias):\n",
        "    return X.view(-1, 28*28) @ weight + bias\n",
        "\n",
        "lr = 0.1\n",
        "\n",
        "# initialize weights\n",
        "weight = th.zeros((28*28, 10), requires_grad=True)\n",
        "nn.init.kaiming_uniform_(weight, mode='fan_out')\n",
        "bias = th.zeros(10, requires_grad=True)\n",
        "\n",
        "for epoch in range(5):\n",
        "    # train on mini batches\n",
        "    losses = []\n",
        "    for X, y in train_loader:\n",
        "        output = forward(X, weight, bias)\n",
        "\n",
        "        # compute loss\n",
        "        loss = F.cross_entropy(output, y)\n",
        "        losses.append(loss.item())\n",
        "\n",
        "        # backpropagation\n",
        "        loss.backward()\n",
        "\n",
        "        # gradient descent update\n",
        "        with th.no_grad():\n",
        "          weight -= lr * weight.grad\n",
        "          bias -= lr * bias.grad\n",
        "          weight.grad.zero_()\n",
        "          bias.grad.zero_()\n",
        "            \n",
        "    # measure accuracy on the validation set\n",
        "    with th.no_grad():\n",
        "      num_correct = 0\n",
        "      for X, y in valid_loader:\n",
        "        num_correct += (forward(X, weight, bias).argmax(1) == y).sum().item()\n",
        "      acc = 100 * num_correct / len(valid_data)\n",
        "\n",
        "    print(f\"epoch {epoch: 3d} | loss {np.mean(losses):8.5f} | accuracy: {acc: 4.2f}%\")\n"
      ],
      "execution_count": 21,
      "outputs": [
        {
          "output_type": "stream",
          "text": [
            "epoch   0 | loss  0.58078 | accuracy:  89.92%\n",
            "epoch   1 | loss  0.37546 | accuracy:  90.89%\n",
            "epoch   2 | loss  0.34312 | accuracy:  91.37%\n",
            "epoch   3 | loss  0.32651 | accuracy:  91.46%\n",
            "epoch   4 | loss  0.31588 | accuracy:  91.75%\n"
          ],
          "name": "stdout"
        }
      ]
    },
    {
      "cell_type": "markdown",
      "metadata": {
        "id": "8qJzaZkLQkU5"
      },
      "source": [
        "Visualizing the wrong predictions on the validation set:"
      ]
    },
    {
      "cell_type": "code",
      "metadata": {
        "id": "hJfO32NY1n-P",
        "colab": {
          "base_uri": "https://localhost:8080/",
          "height": 525
        },
        "outputId": "9375950f-1c52-4ba2-94e5-a295b1bf0851"
      },
      "source": [
        "X_wrong = []\n",
        "y_wrong_label = []\n",
        "y_wrong_pred = []\n",
        "loss = []\n",
        "\n",
        "for X, y_label in valid_loader:\n",
        "  output = forward(X, weight, bias)\n",
        "  y_pred = output.argmax(1)     # predicted labels\n",
        "  is_wrong = y_pred != y_label  # boolean tensor\n",
        "\n",
        "  X_wrong.append(X[is_wrong])\n",
        "  y_wrong_label.append(y_label[is_wrong])\n",
        "  y_wrong_pred.append(y_pred[is_wrong])\n",
        "\n",
        "  # compute loss for each wrong image\n",
        "  loss.append(F.cross_entropy(output[is_wrong], y_label[is_wrong], reduction='none'))\n",
        "\n",
        "X_wrong = th.cat(X_wrong)\n",
        "y_wrong_label = th.cat(y_wrong_label)\n",
        "y_wrong_pred = th.cat(y_wrong_pred)\n",
        "\n",
        "# sort by highest loss first\n",
        "order = th.cat(loss).argsort(descending=True)\n",
        "\n",
        "show_image_grid(\n",
        "    X_wrong[order], y_wrong_label[order], y_wrong_pred[order],\n",
        ")"
      ],
      "execution_count": 43,
      "outputs": [
        {
          "output_type": "display_data",
          "data": {
            "image/png": "[encoded data removed]",
            "text/plain": [
              "<Figure size 864x648 with 24 Axes>"
            ]
          },
          "metadata": {
            "tags": [],
            "needs_background": "light"
          }
        }
      ]
    }
  ]
}