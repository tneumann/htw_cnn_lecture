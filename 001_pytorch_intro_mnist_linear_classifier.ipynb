{
  "nbformat": 4,
  "nbformat_minor": 0,
  "metadata": {
    "kernelspec": {
      "display_name": "Python 3",
      "language": "python",
      "name": "python3"
    },
    "language_info": {
      "codemirror_mode": {
        "name": "ipython",
        "version": 3
      },
      "file_extension": ".py",
      "mimetype": "text/x-python",
      "name": "python",
      "nbconvert_exporter": "python",
      "pygments_lexer": "ipython3",
      "version": "3.7.2"
    },
    "colab": {
      "name": "001-pytorch-intro-mnist-linear-classifier.ipynb",
      "provenance": [],
      "collapsed_sections": []
    },
    "widgets": {
      "application/vnd.jupyter.widget-state+json": {
        "e1a42507817846898033e06cfd8e4e80": {
          "model_module": "@jupyter-widgets/controls",
          "model_name": "HBoxModel",
          "model_module_version": "1.5.0",
          "state": {
            "_dom_classes": [],
            "_model_module": "@jupyter-widgets/controls",
            "_model_module_version": "1.5.0",
            "_model_name": "HBoxModel",
            "_view_count": null,
            "_view_module": "@jupyter-widgets/controls",
            "_view_module_version": "1.5.0",
            "_view_name": "HBoxView",
            "box_style": "",
            "children": [
              "IPY_MODEL_ea834beac2824b41bfd922bf003315b7",
              "IPY_MODEL_8b0d8705187549aa8064fbf36f58cbbb",
              "IPY_MODEL_81b80939704e4fe0b8d3473e25864682"
            ],
            "layout": "IPY_MODEL_c8e2ce735cba40efa55c193f0d4c20f6"
          }
        },
        "ea834beac2824b41bfd922bf003315b7": {
          "model_module": "@jupyter-widgets/controls",
          "model_name": "HTMLModel",
          "model_module_version": "1.5.0",
          "state": {
            "_dom_classes": [],
            "_model_module": "@jupyter-widgets/controls",
            "_model_module_version": "1.5.0",
            "_model_name": "HTMLModel",
            "_view_count": null,
            "_view_module": "@jupyter-widgets/controls",
            "_view_module_version": "1.5.0",
            "_view_name": "HTMLView",
            "description": "",
            "description_tooltip": null,
            "layout": "IPY_MODEL_5e38440fd87d4abba9e2d43e14fb7d2a",
            "placeholder": "​",
            "style": "IPY_MODEL_95013b233d734c35b801f8ba1911f5f0",
            "value": ""
          }
        },
        "8b0d8705187549aa8064fbf36f58cbbb": {
          "model_module": "@jupyter-widgets/controls",
          "model_name": "FloatProgressModel",
          "model_module_version": "1.5.0",
          "state": {
            "_dom_classes": [],
            "_model_module": "@jupyter-widgets/controls",
            "_model_module_version": "1.5.0",
            "_model_name": "FloatProgressModel",
            "_view_count": null,
            "_view_module": "@jupyter-widgets/controls",
            "_view_module_version": "1.5.0",
            "_view_name": "ProgressView",
            "bar_style": "success",
            "description": "",
            "description_tooltip": null,
            "layout": "IPY_MODEL_eae73693e53e4e76a241cb20559d2c9d",
            "max": 9912422,
            "min": 0,
            "orientation": "horizontal",
            "style": "IPY_MODEL_4b0864912dcc4ba294fe69b1bf1eeb89",
            "value": 9912422
          }
        },
        "81b80939704e4fe0b8d3473e25864682": {
          "model_module": "@jupyter-widgets/controls",
          "model_name": "HTMLModel",
          "model_module_version": "1.5.0",
          "state": {
            "_dom_classes": [],
            "_model_module": "@jupyter-widgets/controls",
            "_model_module_version": "1.5.0",
            "_model_name": "HTMLModel",
            "_view_count": null,
            "_view_module": "@jupyter-widgets/controls",
            "_view_module_version": "1.5.0",
            "_view_name": "HTMLView",
            "description": "",
            "description_tooltip": null,
            "layout": "IPY_MODEL_9e9c9f9ecb634ef29c13df11b841fb4a",
            "placeholder": "​",
            "style": "IPY_MODEL_f01a91b0e212438ebb6d66aa841bf459",
            "value": " 9913344/? [00:00&lt;00:00, 40911548.83it/s]"
          }
        },
        "c8e2ce735cba40efa55c193f0d4c20f6": {
          "model_module": "@jupyter-widgets/base",
          "model_name": "LayoutModel",
          "model_module_version": "1.2.0",
          "state": {
            "_model_module": "@jupyter-widgets/base",
            "_model_module_version": "1.2.0",
            "_model_name": "LayoutModel",
            "_view_count": null,
            "_view_module": "@jupyter-widgets/base",
            "_view_module_version": "1.2.0",
            "_view_name": "LayoutView",
            "align_content": null,
            "align_items": null,
            "align_self": null,
            "border": null,
            "bottom": null,
            "display": null,
            "flex": null,
            "flex_flow": null,
            "grid_area": null,
            "grid_auto_columns": null,
            "grid_auto_flow": null,
            "grid_auto_rows": null,
            "grid_column": null,
            "grid_gap": null,
            "grid_row": null,
            "grid_template_areas": null,
            "grid_template_columns": null,
            "grid_template_rows": null,
            "height": null,
            "justify_content": null,
            "justify_items": null,
            "left": null,
            "margin": null,
            "max_height": null,
            "max_width": null,
            "min_height": null,
            "min_width": null,
            "object_fit": null,
            "object_position": null,
            "order": null,
            "overflow": null,
            "overflow_x": null,
            "overflow_y": null,
            "padding": null,
            "right": null,
            "top": null,
            "visibility": null,
            "width": null
          }
        },
        "5e38440fd87d4abba9e2d43e14fb7d2a": {
          "model_module": "@jupyter-widgets/base",
          "model_name": "LayoutModel",
          "model_module_version": "1.2.0",
          "state": {
            "_model_module": "@jupyter-widgets/base",
            "_model_module_version": "1.2.0",
            "_model_name": "LayoutModel",
            "_view_count": null,
            "_view_module": "@jupyter-widgets/base",
            "_view_module_version": "1.2.0",
            "_view_name": "LayoutView",
            "align_content": null,
            "align_items": null,
            "align_self": null,
            "border": null,
            "bottom": null,
            "display": null,
            "flex": null,
            "flex_flow": null,
            "grid_area": null,
            "grid_auto_columns": null,
            "grid_auto_flow": null,
            "grid_auto_rows": null,
            "grid_column": null,
            "grid_gap": null,
            "grid_row": null,
            "grid_template_areas": null,
            "grid_template_columns": null,
            "grid_template_rows": null,
            "height": null,
            "justify_content": null,
            "justify_items": null,
            "left": null,
            "margin": null,
            "max_height": null,
            "max_width": null,
            "min_height": null,
            "min_width": null,
            "object_fit": null,
            "object_position": null,
            "order": null,
            "overflow": null,
            "overflow_x": null,
            "overflow_y": null,
            "padding": null,
            "right": null,
            "top": null,
            "visibility": null,
            "width": null
          }
        },
        "95013b233d734c35b801f8ba1911f5f0": {
          "model_module": "@jupyter-widgets/controls",
          "model_name": "DescriptionStyleModel",
          "model_module_version": "1.5.0",
          "state": {
            "_model_module": "@jupyter-widgets/controls",
            "_model_module_version": "1.5.0",
            "_model_name": "DescriptionStyleModel",
            "_view_count": null,
            "_view_module": "@jupyter-widgets/base",
            "_view_module_version": "1.2.0",
            "_view_name": "StyleView",
            "description_width": ""
          }
        },
        "eae73693e53e4e76a241cb20559d2c9d": {
          "model_module": "@jupyter-widgets/base",
          "model_name": "LayoutModel",
          "model_module_version": "1.2.0",
          "state": {
            "_model_module": "@jupyter-widgets/base",
            "_model_module_version": "1.2.0",
            "_model_name": "LayoutModel",
            "_view_count": null,
            "_view_module": "@jupyter-widgets/base",
            "_view_module_version": "1.2.0",
            "_view_name": "LayoutView",
            "align_content": null,
            "align_items": null,
            "align_self": null,
            "border": null,
            "bottom": null,
            "display": null,
            "flex": null,
            "flex_flow": null,
            "grid_area": null,
            "grid_auto_columns": null,
            "grid_auto_flow": null,
            "grid_auto_rows": null,
            "grid_column": null,
            "grid_gap": null,
            "grid_row": null,
            "grid_template_areas": null,
            "grid_template_columns": null,
            "grid_template_rows": null,
            "height": null,
            "justify_content": null,
            "justify_items": null,
            "left": null,
            "margin": null,
            "max_height": null,
            "max_width": null,
            "min_height": null,
            "min_width": null,
            "object_fit": null,
            "object_position": null,
            "order": null,
            "overflow": null,
            "overflow_x": null,
            "overflow_y": null,
            "padding": null,
            "right": null,
            "top": null,
            "visibility": null,
            "width": null
          }
        },
        "4b0864912dcc4ba294fe69b1bf1eeb89": {
          "model_module": "@jupyter-widgets/controls",
          "model_name": "ProgressStyleModel",
          "model_module_version": "1.5.0",
          "state": {
            "_model_module": "@jupyter-widgets/controls",
            "_model_module_version": "1.5.0",
            "_model_name": "ProgressStyleModel",
            "_view_count": null,
            "_view_module": "@jupyter-widgets/base",
            "_view_module_version": "1.2.0",
            "_view_name": "StyleView",
            "bar_color": null,
            "description_width": ""
          }
        },
        "9e9c9f9ecb634ef29c13df11b841fb4a": {
          "model_module": "@jupyter-widgets/base",
          "model_name": "LayoutModel",
          "model_module_version": "1.2.0",
          "state": {
            "_model_module": "@jupyter-widgets/base",
            "_model_module_version": "1.2.0",
            "_model_name": "LayoutModel",
            "_view_count": null,
            "_view_module": "@jupyter-widgets/base",
            "_view_module_version": "1.2.0",
            "_view_name": "LayoutView",
            "align_content": null,
            "align_items": null,
            "align_self": null,
            "border": null,
            "bottom": null,
            "display": null,
            "flex": null,
            "flex_flow": null,
            "grid_area": null,
            "grid_auto_columns": null,
            "grid_auto_flow": null,
            "grid_auto_rows": null,
            "grid_column": null,
            "grid_gap": null,
            "grid_row": null,
            "grid_template_areas": null,
            "grid_template_columns": null,
            "grid_template_rows": null,
            "height": null,
            "justify_content": null,
            "justify_items": null,
            "left": null,
            "margin": null,
            "max_height": null,
            "max_width": null,
            "min_height": null,
            "min_width": null,
            "object_fit": null,
            "object_position": null,
            "order": null,
            "overflow": null,
            "overflow_x": null,
            "overflow_y": null,
            "padding": null,
            "right": null,
            "top": null,
            "visibility": null,
            "width": null
          }
        },
        "f01a91b0e212438ebb6d66aa841bf459": {
          "model_module": "@jupyter-widgets/controls",
          "model_name": "DescriptionStyleModel",
          "model_module_version": "1.5.0",
          "state": {
            "_model_module": "@jupyter-widgets/controls",
            "_model_module_version": "1.5.0",
            "_model_name": "DescriptionStyleModel",
            "_view_count": null,
            "_view_module": "@jupyter-widgets/base",
            "_view_module_version": "1.2.0",
            "_view_name": "StyleView",
            "description_width": ""
          }
        },
        "6e0350d838234c98b2d3a45f53bd48aa": {
          "model_module": "@jupyter-widgets/controls",
          "model_name": "HBoxModel",
          "model_module_version": "1.5.0",
          "state": {
            "_dom_classes": [],
            "_model_module": "@jupyter-widgets/controls",
            "_model_module_version": "1.5.0",
            "_model_name": "HBoxModel",
            "_view_count": null,
            "_view_module": "@jupyter-widgets/controls",
            "_view_module_version": "1.5.0",
            "_view_name": "HBoxView",
            "box_style": "",
            "children": [
              "IPY_MODEL_23052023ec6e462caeefee80afbf04d9",
              "IPY_MODEL_aa85807df62145668b0e0245ee7a8d08",
              "IPY_MODEL_c61c9d4c1e6a43008caecd09975b2902"
            ],
            "layout": "IPY_MODEL_2654e6011d4a43fd9cfc66d091a71115"
          }
        },
        "23052023ec6e462caeefee80afbf04d9": {
          "model_module": "@jupyter-widgets/controls",
          "model_name": "HTMLModel",
          "model_module_version": "1.5.0",
          "state": {
            "_dom_classes": [],
            "_model_module": "@jupyter-widgets/controls",
            "_model_module_version": "1.5.0",
            "_model_name": "HTMLModel",
            "_view_count": null,
            "_view_module": "@jupyter-widgets/controls",
            "_view_module_version": "1.5.0",
            "_view_name": "HTMLView",
            "description": "",
            "description_tooltip": null,
            "layout": "IPY_MODEL_32f95a1fa17546c78aae15b6b8fda69f",
            "placeholder": "​",
            "style": "IPY_MODEL_8eee7291555041c8a9aa2917f864a715",
            "value": ""
          }
        },
        "aa85807df62145668b0e0245ee7a8d08": {
          "model_module": "@jupyter-widgets/controls",
          "model_name": "FloatProgressModel",
          "model_module_version": "1.5.0",
          "state": {
            "_dom_classes": [],
            "_model_module": "@jupyter-widgets/controls",
            "_model_module_version": "1.5.0",
            "_model_name": "FloatProgressModel",
            "_view_count": null,
            "_view_module": "@jupyter-widgets/controls",
            "_view_module_version": "1.5.0",
            "_view_name": "ProgressView",
            "bar_style": "success",
            "description": "",
            "description_tooltip": null,
            "layout": "IPY_MODEL_a6421bc7fdd94aa6a45a01020cea319f",
            "max": 28881,
            "min": 0,
            "orientation": "horizontal",
            "style": "IPY_MODEL_5b94f5ddfdd0492d8c0d17e9ef855388",
            "value": 28881
          }
        },
        "c61c9d4c1e6a43008caecd09975b2902": {
          "model_module": "@jupyter-widgets/controls",
          "model_name": "HTMLModel",
          "model_module_version": "1.5.0",
          "state": {
            "_dom_classes": [],
            "_model_module": "@jupyter-widgets/controls",
            "_model_module_version": "1.5.0",
            "_model_name": "HTMLModel",
            "_view_count": null,
            "_view_module": "@jupyter-widgets/controls",
            "_view_module_version": "1.5.0",
            "_view_name": "HTMLView",
            "description": "",
            "description_tooltip": null,
            "layout": "IPY_MODEL_cb6d60ec9822446b84b946b36239f756",
            "placeholder": "​",
            "style": "IPY_MODEL_88ea081cf1c44da3b5166e7fbaaba4a7",
            "value": " 29696/? [00:00&lt;00:00, 854725.73it/s]"
          }
        },
        "2654e6011d4a43fd9cfc66d091a71115": {
          "model_module": "@jupyter-widgets/base",
          "model_name": "LayoutModel",
          "model_module_version": "1.2.0",
          "state": {
            "_model_module": "@jupyter-widgets/base",
            "_model_module_version": "1.2.0",
            "_model_name": "LayoutModel",
            "_view_count": null,
            "_view_module": "@jupyter-widgets/base",
            "_view_module_version": "1.2.0",
            "_view_name": "LayoutView",
            "align_content": null,
            "align_items": null,
            "align_self": null,
            "border": null,
            "bottom": null,
            "display": null,
            "flex": null,
            "flex_flow": null,
            "grid_area": null,
            "grid_auto_columns": null,
            "grid_auto_flow": null,
            "grid_auto_rows": null,
            "grid_column": null,
            "grid_gap": null,
            "grid_row": null,
            "grid_template_areas": null,
            "grid_template_columns": null,
            "grid_template_rows": null,
            "height": null,
            "justify_content": null,
            "justify_items": null,
            "left": null,
            "margin": null,
            "max_height": null,
            "max_width": null,
            "min_height": null,
            "min_width": null,
            "object_fit": null,
            "object_position": null,
            "order": null,
            "overflow": null,
            "overflow_x": null,
            "overflow_y": null,
            "padding": null,
            "right": null,
            "top": null,
            "visibility": null,
            "width": null
          }
        },
        "32f95a1fa17546c78aae15b6b8fda69f": {
          "model_module": "@jupyter-widgets/base",
          "model_name": "LayoutModel",
          "model_module_version": "1.2.0",
          "state": {
            "_model_module": "@jupyter-widgets/base",
            "_model_module_version": "1.2.0",
            "_model_name": "LayoutModel",
            "_view_count": null,
            "_view_module": "@jupyter-widgets/base",
            "_view_module_version": "1.2.0",
            "_view_name": "LayoutView",
            "align_content": null,
            "align_items": null,
            "align_self": null,
            "border": null,
            "bottom": null,
            "display": null,
            "flex": null,
            "flex_flow": null,
            "grid_area": null,
            "grid_auto_columns": null,
            "grid_auto_flow": null,
            "grid_auto_rows": null,
            "grid_column": null,
            "grid_gap": null,
            "grid_row": null,
            "grid_template_areas": null,
            "grid_template_columns": null,
            "grid_template_rows": null,
            "height": null,
            "justify_content": null,
            "justify_items": null,
            "left": null,
            "margin": null,
            "max_height": null,
            "max_width": null,
            "min_height": null,
            "min_width": null,
            "object_fit": null,
            "object_position": null,
            "order": null,
            "overflow": null,
            "overflow_x": null,
            "overflow_y": null,
            "padding": null,
            "right": null,
            "top": null,
            "visibility": null,
            "width": null
          }
        },
        "8eee7291555041c8a9aa2917f864a715": {
          "model_module": "@jupyter-widgets/controls",
          "model_name": "DescriptionStyleModel",
          "model_module_version": "1.5.0",
          "state": {
            "_model_module": "@jupyter-widgets/controls",
            "_model_module_version": "1.5.0",
            "_model_name": "DescriptionStyleModel",
            "_view_count": null,
            "_view_module": "@jupyter-widgets/base",
            "_view_module_version": "1.2.0",
            "_view_name": "StyleView",
            "description_width": ""
          }
        },
        "a6421bc7fdd94aa6a45a01020cea319f": {
          "model_module": "@jupyter-widgets/base",
          "model_name": "LayoutModel",
          "model_module_version": "1.2.0",
          "state": {
            "_model_module": "@jupyter-widgets/base",
            "_model_module_version": "1.2.0",
            "_model_name": "LayoutModel",
            "_view_count": null,
            "_view_module": "@jupyter-widgets/base",
            "_view_module_version": "1.2.0",
            "_view_name": "LayoutView",
            "align_content": null,
            "align_items": null,
            "align_self": null,
            "border": null,
            "bottom": null,
            "display": null,
            "flex": null,
            "flex_flow": null,
            "grid_area": null,
            "grid_auto_columns": null,
            "grid_auto_flow": null,
            "grid_auto_rows": null,
            "grid_column": null,
            "grid_gap": null,
            "grid_row": null,
            "grid_template_areas": null,
            "grid_template_columns": null,
            "grid_template_rows": null,
            "height": null,
            "justify_content": null,
            "justify_items": null,
            "left": null,
            "margin": null,
            "max_height": null,
            "max_width": null,
            "min_height": null,
            "min_width": null,
            "object_fit": null,
            "object_position": null,
            "order": null,
            "overflow": null,
            "overflow_x": null,
            "overflow_y": null,
            "padding": null,
            "right": null,
            "top": null,
            "visibility": null,
            "width": null
          }
        },
        "5b94f5ddfdd0492d8c0d17e9ef855388": {
          "model_module": "@jupyter-widgets/controls",
          "model_name": "ProgressStyleModel",
          "model_module_version": "1.5.0",
          "state": {
            "_model_module": "@jupyter-widgets/controls",
            "_model_module_version": "1.5.0",
            "_model_name": "ProgressStyleModel",
            "_view_count": null,
            "_view_module": "@jupyter-widgets/base",
            "_view_module_version": "1.2.0",
            "_view_name": "StyleView",
            "bar_color": null,
            "description_width": ""
          }
        },
        "cb6d60ec9822446b84b946b36239f756": {
          "model_module": "@jupyter-widgets/base",
          "model_name": "LayoutModel",
          "model_module_version": "1.2.0",
          "state": {
            "_model_module": "@jupyter-widgets/base",
            "_model_module_version": "1.2.0",
            "_model_name": "LayoutModel",
            "_view_count": null,
            "_view_module": "@jupyter-widgets/base",
            "_view_module_version": "1.2.0",
            "_view_name": "LayoutView",
            "align_content": null,
            "align_items": null,
            "align_self": null,
            "border": null,
            "bottom": null,
            "display": null,
            "flex": null,
            "flex_flow": null,
            "grid_area": null,
            "grid_auto_columns": null,
            "grid_auto_flow": null,
            "grid_auto_rows": null,
            "grid_column": null,
            "grid_gap": null,
            "grid_row": null,
            "grid_template_areas": null,
            "grid_template_columns": null,
            "grid_template_rows": null,
            "height": null,
            "justify_content": null,
            "justify_items": null,
            "left": null,
            "margin": null,
            "max_height": null,
            "max_width": null,
            "min_height": null,
            "min_width": null,
            "object_fit": null,
            "object_position": null,
            "order": null,
            "overflow": null,
            "overflow_x": null,
            "overflow_y": null,
            "padding": null,
            "right": null,
            "top": null,
            "visibility": null,
            "width": null
          }
        },
        "88ea081cf1c44da3b5166e7fbaaba4a7": {
          "model_module": "@jupyter-widgets/controls",
          "model_name": "DescriptionStyleModel",
          "model_module_version": "1.5.0",
          "state": {
            "_model_module": "@jupyter-widgets/controls",
            "_model_module_version": "1.5.0",
            "_model_name": "DescriptionStyleModel",
            "_view_count": null,
            "_view_module": "@jupyter-widgets/base",
            "_view_module_version": "1.2.0",
            "_view_name": "StyleView",
            "description_width": ""
          }
        },
        "d2b0766126684ba18de9c1bcceff4161": {
          "model_module": "@jupyter-widgets/controls",
          "model_name": "HBoxModel",
          "model_module_version": "1.5.0",
          "state": {
            "_dom_classes": [],
            "_model_module": "@jupyter-widgets/controls",
            "_model_module_version": "1.5.0",
            "_model_name": "HBoxModel",
            "_view_count": null,
            "_view_module": "@jupyter-widgets/controls",
            "_view_module_version": "1.5.0",
            "_view_name": "HBoxView",
            "box_style": "",
            "children": [
              "IPY_MODEL_e490ae5dad02407c830e435d915a0644",
              "IPY_MODEL_f9e0f41c6f954000801e60cf8e43b4a9",
              "IPY_MODEL_c057dd731bb9462fb57af1e40c98e045"
            ],
            "layout": "IPY_MODEL_494b8d9f229948f6a27d05f2e3010135"
          }
        },
        "e490ae5dad02407c830e435d915a0644": {
          "model_module": "@jupyter-widgets/controls",
          "model_name": "HTMLModel",
          "model_module_version": "1.5.0",
          "state": {
            "_dom_classes": [],
            "_model_module": "@jupyter-widgets/controls",
            "_model_module_version": "1.5.0",
            "_model_name": "HTMLModel",
            "_view_count": null,
            "_view_module": "@jupyter-widgets/controls",
            "_view_module_version": "1.5.0",
            "_view_name": "HTMLView",
            "description": "",
            "description_tooltip": null,
            "layout": "IPY_MODEL_5077005d6df14ed090cde47b7803aab7",
            "placeholder": "​",
            "style": "IPY_MODEL_950d2195e9e74a9799b57ef77ad2c880",
            "value": ""
          }
        },
        "f9e0f41c6f954000801e60cf8e43b4a9": {
          "model_module": "@jupyter-widgets/controls",
          "model_name": "FloatProgressModel",
          "model_module_version": "1.5.0",
          "state": {
            "_dom_classes": [],
            "_model_module": "@jupyter-widgets/controls",
            "_model_module_version": "1.5.0",
            "_model_name": "FloatProgressModel",
            "_view_count": null,
            "_view_module": "@jupyter-widgets/controls",
            "_view_module_version": "1.5.0",
            "_view_name": "ProgressView",
            "bar_style": "success",
            "description": "",
            "description_tooltip": null,
            "layout": "IPY_MODEL_f50aeaf8e4844eb3bfd4cdcb3693e879",
            "max": 1648877,
            "min": 0,
            "orientation": "horizontal",
            "style": "IPY_MODEL_9cd4982fcf8a4dd3978946ca72bd28ca",
            "value": 1648877
          }
        },
        "c057dd731bb9462fb57af1e40c98e045": {
          "model_module": "@jupyter-widgets/controls",
          "model_name": "HTMLModel",
          "model_module_version": "1.5.0",
          "state": {
            "_dom_classes": [],
            "_model_module": "@jupyter-widgets/controls",
            "_model_module_version": "1.5.0",
            "_model_name": "HTMLModel",
            "_view_count": null,
            "_view_module": "@jupyter-widgets/controls",
            "_view_module_version": "1.5.0",
            "_view_name": "HTMLView",
            "description": "",
            "description_tooltip": null,
            "layout": "IPY_MODEL_dfc257c82cb64c5a94eb2373a7c60c11",
            "placeholder": "​",
            "style": "IPY_MODEL_dcd5520c0b5e450b826e6929eab35295",
            "value": " 1649664/? [00:00&lt;00:00, 23605001.00it/s]"
          }
        },
        "494b8d9f229948f6a27d05f2e3010135": {
          "model_module": "@jupyter-widgets/base",
          "model_name": "LayoutModel",
          "model_module_version": "1.2.0",
          "state": {
            "_model_module": "@jupyter-widgets/base",
            "_model_module_version": "1.2.0",
            "_model_name": "LayoutModel",
            "_view_count": null,
            "_view_module": "@jupyter-widgets/base",
            "_view_module_version": "1.2.0",
            "_view_name": "LayoutView",
            "align_content": null,
            "align_items": null,
            "align_self": null,
            "border": null,
            "bottom": null,
            "display": null,
            "flex": null,
            "flex_flow": null,
            "grid_area": null,
            "grid_auto_columns": null,
            "grid_auto_flow": null,
            "grid_auto_rows": null,
            "grid_column": null,
            "grid_gap": null,
            "grid_row": null,
            "grid_template_areas": null,
            "grid_template_columns": null,
            "grid_template_rows": null,
            "height": null,
            "justify_content": null,
            "justify_items": null,
            "left": null,
            "margin": null,
            "max_height": null,
            "max_width": null,
            "min_height": null,
            "min_width": null,
            "object_fit": null,
            "object_position": null,
            "order": null,
            "overflow": null,
            "overflow_x": null,
            "overflow_y": null,
            "padding": null,
            "right": null,
            "top": null,
            "visibility": null,
            "width": null
          }
        },
        "5077005d6df14ed090cde47b7803aab7": {
          "model_module": "@jupyter-widgets/base",
          "model_name": "LayoutModel",
          "model_module_version": "1.2.0",
          "state": {
            "_model_module": "@jupyter-widgets/base",
            "_model_module_version": "1.2.0",
            "_model_name": "LayoutModel",
            "_view_count": null,
            "_view_module": "@jupyter-widgets/base",
            "_view_module_version": "1.2.0",
            "_view_name": "LayoutView",
            "align_content": null,
            "align_items": null,
            "align_self": null,
            "border": null,
            "bottom": null,
            "display": null,
            "flex": null,
            "flex_flow": null,
            "grid_area": null,
            "grid_auto_columns": null,
            "grid_auto_flow": null,
            "grid_auto_rows": null,
            "grid_column": null,
            "grid_gap": null,
            "grid_row": null,
            "grid_template_areas": null,
            "grid_template_columns": null,
            "grid_template_rows": null,
            "height": null,
            "justify_content": null,
            "justify_items": null,
            "left": null,
            "margin": null,
            "max_height": null,
            "max_width": null,
            "min_height": null,
            "min_width": null,
            "object_fit": null,
            "object_position": null,
            "order": null,
            "overflow": null,
            "overflow_x": null,
            "overflow_y": null,
            "padding": null,
            "right": null,
            "top": null,
            "visibility": null,
            "width": null
          }
        },
        "950d2195e9e74a9799b57ef77ad2c880": {
          "model_module": "@jupyter-widgets/controls",
          "model_name": "DescriptionStyleModel",
          "model_module_version": "1.5.0",
          "state": {
            "_model_module": "@jupyter-widgets/controls",
            "_model_module_version": "1.5.0",
            "_model_name": "DescriptionStyleModel",
            "_view_count": null,
            "_view_module": "@jupyter-widgets/base",
            "_view_module_version": "1.2.0",
            "_view_name": "StyleView",
            "description_width": ""
          }
        },
        "f50aeaf8e4844eb3bfd4cdcb3693e879": {
          "model_module": "@jupyter-widgets/base",
          "model_name": "LayoutModel",
          "model_module_version": "1.2.0",
          "state": {
            "_model_module": "@jupyter-widgets/base",
            "_model_module_version": "1.2.0",
            "_model_name": "LayoutModel",
            "_view_count": null,
            "_view_module": "@jupyter-widgets/base",
            "_view_module_version": "1.2.0",
            "_view_name": "LayoutView",
            "align_content": null,
            "align_items": null,
            "align_self": null,
            "border": null,
            "bottom": null,
            "display": null,
            "flex": null,
            "flex_flow": null,
            "grid_area": null,
            "grid_auto_columns": null,
            "grid_auto_flow": null,
            "grid_auto_rows": null,
            "grid_column": null,
            "grid_gap": null,
            "grid_row": null,
            "grid_template_areas": null,
            "grid_template_columns": null,
            "grid_template_rows": null,
            "height": null,
            "justify_content": null,
            "justify_items": null,
            "left": null,
            "margin": null,
            "max_height": null,
            "max_width": null,
            "min_height": null,
            "min_width": null,
            "object_fit": null,
            "object_position": null,
            "order": null,
            "overflow": null,
            "overflow_x": null,
            "overflow_y": null,
            "padding": null,
            "right": null,
            "top": null,
            "visibility": null,
            "width": null
          }
        },
        "9cd4982fcf8a4dd3978946ca72bd28ca": {
          "model_module": "@jupyter-widgets/controls",
          "model_name": "ProgressStyleModel",
          "model_module_version": "1.5.0",
          "state": {
            "_model_module": "@jupyter-widgets/controls",
            "_model_module_version": "1.5.0",
            "_model_name": "ProgressStyleModel",
            "_view_count": null,
            "_view_module": "@jupyter-widgets/base",
            "_view_module_version": "1.2.0",
            "_view_name": "StyleView",
            "bar_color": null,
            "description_width": ""
          }
        },
        "dfc257c82cb64c5a94eb2373a7c60c11": {
          "model_module": "@jupyter-widgets/base",
          "model_name": "LayoutModel",
          "model_module_version": "1.2.0",
          "state": {
            "_model_module": "@jupyter-widgets/base",
            "_model_module_version": "1.2.0",
            "_model_name": "LayoutModel",
            "_view_count": null,
            "_view_module": "@jupyter-widgets/base",
            "_view_module_version": "1.2.0",
            "_view_name": "LayoutView",
            "align_content": null,
            "align_items": null,
            "align_self": null,
            "border": null,
            "bottom": null,
            "display": null,
            "flex": null,
            "flex_flow": null,
            "grid_area": null,
            "grid_auto_columns": null,
            "grid_auto_flow": null,
            "grid_auto_rows": null,
            "grid_column": null,
            "grid_gap": null,
            "grid_row": null,
            "grid_template_areas": null,
            "grid_template_columns": null,
            "grid_template_rows": null,
            "height": null,
            "justify_content": null,
            "justify_items": null,
            "left": null,
            "margin": null,
            "max_height": null,
            "max_width": null,
            "min_height": null,
            "min_width": null,
            "object_fit": null,
            "object_position": null,
            "order": null,
            "overflow": null,
            "overflow_x": null,
            "overflow_y": null,
            "padding": null,
            "right": null,
            "top": null,
            "visibility": null,
            "width": null
          }
        },
        "dcd5520c0b5e450b826e6929eab35295": {
          "model_module": "@jupyter-widgets/controls",
          "model_name": "DescriptionStyleModel",
          "model_module_version": "1.5.0",
          "state": {
            "_model_module": "@jupyter-widgets/controls",
            "_model_module_version": "1.5.0",
            "_model_name": "DescriptionStyleModel",
            "_view_count": null,
            "_view_module": "@jupyter-widgets/base",
            "_view_module_version": "1.2.0",
            "_view_name": "StyleView",
            "description_width": ""
          }
        },
        "0ae5914027974eaf849d18645d3df978": {
          "model_module": "@jupyter-widgets/controls",
          "model_name": "HBoxModel",
          "model_module_version": "1.5.0",
          "state": {
            "_dom_classes": [],
            "_model_module": "@jupyter-widgets/controls",
            "_model_module_version": "1.5.0",
            "_model_name": "HBoxModel",
            "_view_count": null,
            "_view_module": "@jupyter-widgets/controls",
            "_view_module_version": "1.5.0",
            "_view_name": "HBoxView",
            "box_style": "",
            "children": [
              "IPY_MODEL_70e2b0e951d246fba4f0ba033b884e81",
              "IPY_MODEL_9d5d191d1b1c4acc98223a2f9a1d2159",
              "IPY_MODEL_111392f31d1f4c888668b8d73647be76"
            ],
            "layout": "IPY_MODEL_51eac51db7f04bcd8a0d2cd81d8b33ab"
          }
        },
        "70e2b0e951d246fba4f0ba033b884e81": {
          "model_module": "@jupyter-widgets/controls",
          "model_name": "HTMLModel",
          "model_module_version": "1.5.0",
          "state": {
            "_dom_classes": [],
            "_model_module": "@jupyter-widgets/controls",
            "_model_module_version": "1.5.0",
            "_model_name": "HTMLModel",
            "_view_count": null,
            "_view_module": "@jupyter-widgets/controls",
            "_view_module_version": "1.5.0",
            "_view_name": "HTMLView",
            "description": "",
            "description_tooltip": null,
            "layout": "IPY_MODEL_dff26b97aae54d8eb2d839afa8dd60c0",
            "placeholder": "​",
            "style": "IPY_MODEL_a88e8e908d8541dea7531eb6e2a15aa5",
            "value": ""
          }
        },
        "9d5d191d1b1c4acc98223a2f9a1d2159": {
          "model_module": "@jupyter-widgets/controls",
          "model_name": "FloatProgressModel",
          "model_module_version": "1.5.0",
          "state": {
            "_dom_classes": [],
            "_model_module": "@jupyter-widgets/controls",
            "_model_module_version": "1.5.0",
            "_model_name": "FloatProgressModel",
            "_view_count": null,
            "_view_module": "@jupyter-widgets/controls",
            "_view_module_version": "1.5.0",
            "_view_name": "ProgressView",
            "bar_style": "success",
            "description": "",
            "description_tooltip": null,
            "layout": "IPY_MODEL_4c048ae5acb04f0892d304f50c167aca",
            "max": 4542,
            "min": 0,
            "orientation": "horizontal",
            "style": "IPY_MODEL_4deca616ef004c97983d72035d0e99f1",
            "value": 4542
          }
        },
        "111392f31d1f4c888668b8d73647be76": {
          "model_module": "@jupyter-widgets/controls",
          "model_name": "HTMLModel",
          "model_module_version": "1.5.0",
          "state": {
            "_dom_classes": [],
            "_model_module": "@jupyter-widgets/controls",
            "_model_module_version": "1.5.0",
            "_model_name": "HTMLModel",
            "_view_count": null,
            "_view_module": "@jupyter-widgets/controls",
            "_view_module_version": "1.5.0",
            "_view_name": "HTMLView",
            "description": "",
            "description_tooltip": null,
            "layout": "IPY_MODEL_100ef4b1c59742219899e6cf2dec3fbe",
            "placeholder": "​",
            "style": "IPY_MODEL_617062f4de644d208e8f9d3be91e00f8",
            "value": " 5120/? [00:00&lt;00:00, 123627.49it/s]"
          }
        },
        "51eac51db7f04bcd8a0d2cd81d8b33ab": {
          "model_module": "@jupyter-widgets/base",
          "model_name": "LayoutModel",
          "model_module_version": "1.2.0",
          "state": {
            "_model_module": "@jupyter-widgets/base",
            "_model_module_version": "1.2.0",
            "_model_name": "LayoutModel",
            "_view_count": null,
            "_view_module": "@jupyter-widgets/base",
            "_view_module_version": "1.2.0",
            "_view_name": "LayoutView",
            "align_content": null,
            "align_items": null,
            "align_self": null,
            "border": null,
            "bottom": null,
            "display": null,
            "flex": null,
            "flex_flow": null,
            "grid_area": null,
            "grid_auto_columns": null,
            "grid_auto_flow": null,
            "grid_auto_rows": null,
            "grid_column": null,
            "grid_gap": null,
            "grid_row": null,
            "grid_template_areas": null,
            "grid_template_columns": null,
            "grid_template_rows": null,
            "height": null,
            "justify_content": null,
            "justify_items": null,
            "left": null,
            "margin": null,
            "max_height": null,
            "max_width": null,
            "min_height": null,
            "min_width": null,
            "object_fit": null,
            "object_position": null,
            "order": null,
            "overflow": null,
            "overflow_x": null,
            "overflow_y": null,
            "padding": null,
            "right": null,
            "top": null,
            "visibility": null,
            "width": null
          }
        },
        "dff26b97aae54d8eb2d839afa8dd60c0": {
          "model_module": "@jupyter-widgets/base",
          "model_name": "LayoutModel",
          "model_module_version": "1.2.0",
          "state": {
            "_model_module": "@jupyter-widgets/base",
            "_model_module_version": "1.2.0",
            "_model_name": "LayoutModel",
            "_view_count": null,
            "_view_module": "@jupyter-widgets/base",
            "_view_module_version": "1.2.0",
            "_view_name": "LayoutView",
            "align_content": null,
            "align_items": null,
            "align_self": null,
            "border": null,
            "bottom": null,
            "display": null,
            "flex": null,
            "flex_flow": null,
            "grid_area": null,
            "grid_auto_columns": null,
            "grid_auto_flow": null,
            "grid_auto_rows": null,
            "grid_column": null,
            "grid_gap": null,
            "grid_row": null,
            "grid_template_areas": null,
            "grid_template_columns": null,
            "grid_template_rows": null,
            "height": null,
            "justify_content": null,
            "justify_items": null,
            "left": null,
            "margin": null,
            "max_height": null,
            "max_width": null,
            "min_height": null,
            "min_width": null,
            "object_fit": null,
            "object_position": null,
            "order": null,
            "overflow": null,
            "overflow_x": null,
            "overflow_y": null,
            "padding": null,
            "right": null,
            "top": null,
            "visibility": null,
            "width": null
          }
        },
        "a88e8e908d8541dea7531eb6e2a15aa5": {
          "model_module": "@jupyter-widgets/controls",
          "model_name": "DescriptionStyleModel",
          "model_module_version": "1.5.0",
          "state": {
            "_model_module": "@jupyter-widgets/controls",
            "_model_module_version": "1.5.0",
            "_model_name": "DescriptionStyleModel",
            "_view_count": null,
            "_view_module": "@jupyter-widgets/base",
            "_view_module_version": "1.2.0",
            "_view_name": "StyleView",
            "description_width": ""
          }
        },
        "4c048ae5acb04f0892d304f50c167aca": {
          "model_module": "@jupyter-widgets/base",
          "model_name": "LayoutModel",
          "model_module_version": "1.2.0",
          "state": {
            "_model_module": "@jupyter-widgets/base",
            "_model_module_version": "1.2.0",
            "_model_name": "LayoutModel",
            "_view_count": null,
            "_view_module": "@jupyter-widgets/base",
            "_view_module_version": "1.2.0",
            "_view_name": "LayoutView",
            "align_content": null,
            "align_items": null,
            "align_self": null,
            "border": null,
            "bottom": null,
            "display": null,
            "flex": null,
            "flex_flow": null,
            "grid_area": null,
            "grid_auto_columns": null,
            "grid_auto_flow": null,
            "grid_auto_rows": null,
            "grid_column": null,
            "grid_gap": null,
            "grid_row": null,
            "grid_template_areas": null,
            "grid_template_columns": null,
            "grid_template_rows": null,
            "height": null,
            "justify_content": null,
            "justify_items": null,
            "left": null,
            "margin": null,
            "max_height": null,
            "max_width": null,
            "min_height": null,
            "min_width": null,
            "object_fit": null,
            "object_position": null,
            "order": null,
            "overflow": null,
            "overflow_x": null,
            "overflow_y": null,
            "padding": null,
            "right": null,
            "top": null,
            "visibility": null,
            "width": null
          }
        },
        "4deca616ef004c97983d72035d0e99f1": {
          "model_module": "@jupyter-widgets/controls",
          "model_name": "ProgressStyleModel",
          "model_module_version": "1.5.0",
          "state": {
            "_model_module": "@jupyter-widgets/controls",
            "_model_module_version": "1.5.0",
            "_model_name": "ProgressStyleModel",
            "_view_count": null,
            "_view_module": "@jupyter-widgets/base",
            "_view_module_version": "1.2.0",
            "_view_name": "StyleView",
            "bar_color": null,
            "description_width": ""
          }
        },
        "100ef4b1c59742219899e6cf2dec3fbe": {
          "model_module": "@jupyter-widgets/base",
          "model_name": "LayoutModel",
          "model_module_version": "1.2.0",
          "state": {
            "_model_module": "@jupyter-widgets/base",
            "_model_module_version": "1.2.0",
            "_model_name": "LayoutModel",
            "_view_count": null,
            "_view_module": "@jupyter-widgets/base",
            "_view_module_version": "1.2.0",
            "_view_name": "LayoutView",
            "align_content": null,
            "align_items": null,
            "align_self": null,
            "border": null,
            "bottom": null,
            "display": null,
            "flex": null,
            "flex_flow": null,
            "grid_area": null,
            "grid_auto_columns": null,
            "grid_auto_flow": null,
            "grid_auto_rows": null,
            "grid_column": null,
            "grid_gap": null,
            "grid_row": null,
            "grid_template_areas": null,
            "grid_template_columns": null,
            "grid_template_rows": null,
            "height": null,
            "justify_content": null,
            "justify_items": null,
            "left": null,
            "margin": null,
            "max_height": null,
            "max_width": null,
            "min_height": null,
            "min_width": null,
            "object_fit": null,
            "object_position": null,
            "order": null,
            "overflow": null,
            "overflow_x": null,
            "overflow_y": null,
            "padding": null,
            "right": null,
            "top": null,
            "visibility": null,
            "width": null
          }
        },
        "617062f4de644d208e8f9d3be91e00f8": {
          "model_module": "@jupyter-widgets/controls",
          "model_name": "DescriptionStyleModel",
          "model_module_version": "1.5.0",
          "state": {
            "_model_module": "@jupyter-widgets/controls",
            "_model_module_version": "1.5.0",
            "_model_name": "DescriptionStyleModel",
            "_view_count": null,
            "_view_module": "@jupyter-widgets/base",
            "_view_module_version": "1.2.0",
            "_view_name": "StyleView",
            "description_width": ""
          }
        }
      }
    }
  },
  "cells": [
    {
      "cell_type": "markdown",
      "metadata": {
        "id": "1-pni-DJisVH"
      },
      "source": [
        "# Intro to Pytorch - MNIST Digit Classification\n",
        "\n",
        "In this notebook, we cover the basics of PyTorch and will train our first (shallow) neural network from scratch on the MNIST digit classification dataset.\n",
        "\n",
        "Let's start by importing the libraries that we will need and setting up jupyter. You can add additional imports later and re-run the cell to make those imports available throughout the notebook."
      ]
    },
    {
      "cell_type": "code",
      "metadata": {
        "id": "Zo2vrFrMisVI"
      },
      "source": [
        "%matplotlib inline\n",
        "\n",
        "# import numpy - array processing library\n",
        "import numpy as np \n",
        "\n",
        "# pytorch imports:\n",
        "import torch \n",
        "import torch.nn as nn\n",
        "import torch.nn.functional as F\n",
        "import torch.optim as optim\n",
        "\n",
        "# pytorch functionality for image datasets\n",
        "from torchvision import datasets, transforms\n",
        "\n",
        "# standard plotting library\n",
        "import matplotlib.pyplot as plt"
      ],
      "execution_count": null,
      "outputs": []
    },
    {
      "cell_type": "markdown",
      "metadata": {
        "id": "FAtAtBFIisVO"
      },
      "source": [
        "We supply you with a function to plot multiple images along with their labels. Please ignore for now:"
      ]
    },
    {
      "cell_type": "code",
      "metadata": {
        "id": "DqO9_GIlisVP"
      },
      "source": [
        "def show_image_grid(X, y=None, y_pred=None, title=None, nrow=6, ncol=4, **kwargs):\n",
        "    max_num = nrow*ncol\n",
        "    X = X[:max_num]\n",
        "    if len(X) < max_num:\n",
        "        ncol = len(X) // nrow + 1\n",
        "    if isinstance(X, np.ndarray):\n",
        "        X = torch.from_numpy(X)\n",
        "    if X.dim() != 4:\n",
        "        X = X[:, None]\n",
        "\n",
        "    plt.figure(title, figsize=(2*nrow, 2*ncol + (0 if y is None else 1)))\n",
        "    if title:\n",
        "        plt.title(title)\n",
        "        \n",
        "    if isinstance(y, torch.Tensor):\n",
        "        y = y.numpy()\n",
        "        \n",
        "    for i, Xi in enumerate(X):\n",
        "        plt.subplot(ncol, nrow, i+1)\n",
        "        img = Xi.numpy().transpose((1, 2, 0))\n",
        "        if img.shape[2] == 1:\n",
        "            img = img[..., 0]\n",
        "        plt.imshow(img)\n",
        "\n",
        "        title = \"\"\n",
        "        if y is not None:\n",
        "          title += str(int(y[i]))\n",
        "        if y_pred is not None:\n",
        "          title += \"/\" + str(int(y_pred[i]))\n",
        "        if len(title) > 0: \n",
        "          plt.title(title)\n",
        "\n",
        "        plt.axis('off')\n",
        "    \n",
        "    plt.axis('off')\n"
      ],
      "execution_count": null,
      "outputs": []
    },
    {
      "cell_type": "markdown",
      "metadata": {
        "id": "CHul_YGDisVU"
      },
      "source": [
        "## Some PyTorch basics\n",
        "\n",
        "Creating tensors:"
      ]
    },
    {
      "cell_type": "code",
      "metadata": {
        "id": "2ykme0y2isVV",
        "colab": {
          "base_uri": "https://localhost:8080/"
        },
        "outputId": "96d75386-118a-4e9d-ec3a-519be1b06803"
      },
      "source": [
        "V = torch.tensor([20., 23., 31.])\n",
        "V"
      ],
      "execution_count": null,
      "outputs": [
        {
          "output_type": "execute_result",
          "data": {
            "text/plain": [
              "tensor([20., 23., 31.])"
            ]
          },
          "metadata": {},
          "execution_count": 3
        }
      ]
    },
    {
      "cell_type": "markdown",
      "metadata": {
        "id": "dEVoz1PDisVv"
      },
      "source": [
        "Indexing into tensors gives you the elements of your tensor"
      ]
    },
    {
      "cell_type": "code",
      "metadata": {
        "id": "M0YTLbKKk_6V",
        "colab": {
          "base_uri": "https://localhost:8080/"
        },
        "outputId": "3871e2dd-eecc-4bef-de77-ffc84b44bbde"
      },
      "source": [
        "V[0]"
      ],
      "execution_count": null,
      "outputs": [
        {
          "output_type": "execute_result",
          "data": {
            "text/plain": [
              "tensor(20.)"
            ]
          },
          "metadata": {},
          "execution_count": 4
        }
      ]
    },
    {
      "cell_type": "code",
      "metadata": {
        "id": "eEnfJp1WlD88",
        "colab": {
          "base_uri": "https://localhost:8080/"
        },
        "outputId": "e7e8c04c-6a41-40d0-b6b3-9f4e253bb556"
      },
      "source": [
        "V[1]"
      ],
      "execution_count": null,
      "outputs": [
        {
          "output_type": "execute_result",
          "data": {
            "text/plain": [
              "tensor(23.)"
            ]
          },
          "metadata": {},
          "execution_count": 5
        }
      ]
    },
    {
      "cell_type": "code",
      "metadata": {
        "id": "EZFcT6ifC_xT"
      },
      "source": [
        "#V[3]"
      ],
      "execution_count": null,
      "outputs": []
    },
    {
      "cell_type": "code",
      "metadata": {
        "id": "X5CqjXeRisWA",
        "colab": {
          "base_uri": "https://localhost:8080/"
        },
        "outputId": "f2e1e9a0-9f3b-43bc-86b1-c3224f1c2459"
      },
      "source": [
        "V[0].item()"
      ],
      "execution_count": null,
      "outputs": [
        {
          "output_type": "execute_result",
          "data": {
            "text/plain": [
              "20.0"
            ]
          },
          "metadata": {},
          "execution_count": 7
        }
      ]
    },
    {
      "cell_type": "markdown",
      "metadata": {
        "id": "0nI2LLrtlygl"
      },
      "source": [
        "Tensors can be multi-dimensional, e.g. matrices:"
      ]
    },
    {
      "cell_type": "code",
      "metadata": {
        "id": "O6PcNSUKisVe",
        "colab": {
          "base_uri": "https://localhost:8080/"
        },
        "outputId": "7ff9389b-9959-4696-abf7-9a231ec8b507"
      },
      "source": [
        "M = torch.tensor([[1., 2., 3.], [4., 5., 6]])\n",
        "M"
      ],
      "execution_count": null,
      "outputs": [
        {
          "output_type": "execute_result",
          "data": {
            "text/plain": [
              "tensor([[1., 2., 3.],\n",
              "        [4., 5., 6.]])"
            ]
          },
          "metadata": {},
          "execution_count": 9
        }
      ]
    },
    {
      "cell_type": "markdown",
      "metadata": {
        "id": "VI4TTetyDqiT"
      },
      "source": [
        "When we index a matrix, we get one row as a vector."
      ]
    },
    {
      "cell_type": "code",
      "metadata": {
        "id": "XLPAktX8isWG",
        "colab": {
          "base_uri": "https://localhost:8080/"
        },
        "outputId": "eaf47699-9a5e-499b-cf2d-9ed0661c1577"
      },
      "source": [
        "M[0]"
      ],
      "execution_count": null,
      "outputs": [
        {
          "output_type": "execute_result",
          "data": {
            "text/plain": [
              "tensor([1., 2., 3.])"
            ]
          },
          "metadata": {},
          "execution_count": 10
        }
      ]
    },
    {
      "cell_type": "code",
      "metadata": {
        "id": "pp9SDpd5isWL",
        "colab": {
          "base_uri": "https://localhost:8080/"
        },
        "outputId": "3e0c8815-a497-475b-bb84-348c17696eab"
      },
      "source": [
        "M[0, 1]"
      ],
      "execution_count": null,
      "outputs": [
        {
          "output_type": "execute_result",
          "data": {
            "text/plain": [
              "tensor(2.)"
            ]
          },
          "metadata": {},
          "execution_count": 11
        }
      ]
    },
    {
      "cell_type": "markdown",
      "metadata": {
        "id": "eyuVUW1xisWP"
      },
      "source": [
        "We can get one column from that matrix by using the fancy `:` notation in indexing, meaning that we want to take all the elements from that *axis*.\n"
      ]
    },
    {
      "cell_type": "code",
      "metadata": {
        "id": "AvmVNIW_isWQ",
        "colab": {
          "base_uri": "https://localhost:8080/"
        },
        "outputId": "e509c1f7-e384-42e3-fb6a-61fd7e43b616"
      },
      "source": [
        "M[:, 1]"
      ],
      "execution_count": null,
      "outputs": [
        {
          "output_type": "execute_result",
          "data": {
            "text/plain": [
              "tensor([2., 5.])"
            ]
          },
          "metadata": {},
          "execution_count": 12
        }
      ]
    },
    {
      "cell_type": "code",
      "metadata": {
        "id": "ZQeMVZ1nEH4e",
        "colab": {
          "base_uri": "https://localhost:8080/"
        },
        "outputId": "295dac39-21ea-414b-c32a-3d4d5e1aa9e4"
      },
      "source": [
        "M[:, 1:3]"
      ],
      "execution_count": null,
      "outputs": [
        {
          "output_type": "execute_result",
          "data": {
            "text/plain": [
              "tensor([[2., 3.],\n",
              "        [5., 6.]])"
            ]
          },
          "metadata": {},
          "execution_count": 13
        }
      ]
    },
    {
      "cell_type": "markdown",
      "metadata": {
        "id": "uEdEG4muDWxe"
      },
      "source": [
        "Tensors can have higher number of dimensions, for example rank-3 tensors are basically arrays of matrices:"
      ]
    },
    {
      "cell_type": "code",
      "metadata": {
        "id": "2wQWXPl0isVk",
        "colab": {
          "base_uri": "https://localhost:8080/"
        },
        "outputId": "d5a27703-5b4b-4545-ceec-adf56712d00e"
      },
      "source": [
        "# Create a rank 3 tensor of size 2x2x2.\n",
        "T = torch.tensor([[[1., 2.], [3., 4.]],\n",
        "                  [[5., 6.], [7., 8.]]])\n",
        "T"
      ],
      "execution_count": null,
      "outputs": [
        {
          "output_type": "execute_result",
          "data": {
            "text/plain": [
              "tensor([[[1., 2.],\n",
              "         [3., 4.]],\n",
              "\n",
              "        [[5., 6.],\n",
              "         [7., 8.]]])"
            ]
          },
          "metadata": {},
          "execution_count": 15
        }
      ]
    },
    {
      "cell_type": "code",
      "metadata": {
        "scrolled": true,
        "id": "-33nmJ8IisVo",
        "colab": {
          "base_uri": "https://localhost:8080/"
        },
        "outputId": "f346b753-a3c1-4dd5-ec07-5c37f875bc90"
      },
      "source": [
        "# create a tensor with random numbers\n",
        "torch.randn((3, 2, 5, 2))"
      ],
      "execution_count": null,
      "outputs": [
        {
          "output_type": "execute_result",
          "data": {
            "text/plain": [
              "tensor([[[[-0.5350,  0.6024],\n",
              "          [ 1.4287, -0.2062],\n",
              "          [-0.1335,  0.7421],\n",
              "          [ 0.0695,  2.4458],\n",
              "          [ 0.1593, -0.3205]],\n",
              "\n",
              "         [[ 0.1405,  1.7738],\n",
              "          [ 1.6060, -0.5531],\n",
              "          [ 0.1078, -1.5313],\n",
              "          [-0.3597,  0.3899],\n",
              "          [-1.5266,  0.1814]]],\n",
              "\n",
              "\n",
              "        [[[ 1.0887,  0.3570],\n",
              "          [ 0.0563, -0.0390],\n",
              "          [-0.2594,  0.0771],\n",
              "          [-1.3839, -0.7016],\n",
              "          [ 1.3721, -1.5192]],\n",
              "\n",
              "         [[ 1.0896, -0.4000],\n",
              "          [-0.4214, -0.7715],\n",
              "          [-0.2621,  0.1482],\n",
              "          [ 1.6472,  1.0528],\n",
              "          [ 0.6935,  0.3173]]],\n",
              "\n",
              "\n",
              "        [[[-1.7338,  0.5192],\n",
              "          [ 1.3491, -2.0262],\n",
              "          [ 0.6315, -1.5753],\n",
              "          [-0.4450, -0.1922],\n",
              "          [-0.4994,  0.2620]],\n",
              "\n",
              "         [[ 2.3946,  0.4724],\n",
              "          [ 0.9988, -0.6402],\n",
              "          [-0.2565,  0.4408],\n",
              "          [-0.9900,  0.6610],\n",
              "          [-0.2034, -0.1562]]]])"
            ]
          },
          "metadata": {},
          "execution_count": 16
        }
      ]
    },
    {
      "cell_type": "markdown",
      "metadata": {
        "id": "QySGUR02isWV"
      },
      "source": [
        "Typical mathematical operators are overloaded for tensors, so you can add all entries of one matrix to another matrix with a simple line. No need to write for loops :)"
      ]
    },
    {
      "cell_type": "code",
      "metadata": {
        "id": "23bxjYKpisWW",
        "colab": {
          "base_uri": "https://localhost:8080/"
        },
        "outputId": "015e0aca-23e4-43cf-885b-5cadb1f09e7e"
      },
      "source": [
        "A = torch.randn((3, 2))\n",
        "A"
      ],
      "execution_count": null,
      "outputs": [
        {
          "output_type": "execute_result",
          "data": {
            "text/plain": [
              "tensor([[ 0.8988,  0.2533],\n",
              "        [ 1.4707, -0.3025],\n",
              "        [ 1.1432,  0.8806]])"
            ]
          },
          "metadata": {},
          "execution_count": 17
        }
      ]
    },
    {
      "cell_type": "code",
      "metadata": {
        "id": "69UGYfW5isWZ",
        "colab": {
          "base_uri": "https://localhost:8080/"
        },
        "outputId": "af813373-82f8-4bc8-ca9e-f1fc3e6bd60a"
      },
      "source": [
        "B = torch.randn((3, 2))\n",
        "B"
      ],
      "execution_count": null,
      "outputs": [
        {
          "output_type": "execute_result",
          "data": {
            "text/plain": [
              "tensor([[ 1.0905, -0.3546],\n",
              "        [-0.0968,  0.3702],\n",
              "        [ 0.4455,  0.8274]])"
            ]
          },
          "metadata": {},
          "execution_count": 18
        }
      ]
    },
    {
      "cell_type": "code",
      "metadata": {
        "id": "OApm2dk-isWd",
        "colab": {
          "base_uri": "https://localhost:8080/"
        },
        "outputId": "89d1dde2-c5c8-43d2-d492-a7ffb8193c74"
      },
      "source": [
        "A + B"
      ],
      "execution_count": null,
      "outputs": [
        {
          "output_type": "execute_result",
          "data": {
            "text/plain": [
              "tensor([[ 1.9893, -0.1013],\n",
              "        [ 1.3739,  0.0676],\n",
              "        [ 1.5887,  1.7080]])"
            ]
          },
          "metadata": {},
          "execution_count": 28
        }
      ]
    },
    {
      "cell_type": "markdown",
      "source": [
        "This behavior is called \"broadcasting\" or \"vectorized\" operations, and it is a much faster to work with and executes much faster in comparison to the custom for loop:\n"
      ],
      "metadata": {
        "id": "RcXCWSJz9ezG"
      }
    },
    {
      "cell_type": "code",
      "source": [
        "C = torch.empty_like(A)\n",
        "for i in range(A.shape[0]):\n",
        "  for j in range(A.shape[1]):\n",
        "    C[i, j] = A[i, j] + B[i, j]\n",
        "\n",
        "C"
      ],
      "metadata": {
        "id": "4jU4mgTH7t6a",
        "outputId": "fd208eef-a0fd-435b-9108-6525da31dd41",
        "colab": {
          "base_uri": "https://localhost:8080/"
        }
      },
      "execution_count": null,
      "outputs": [
        {
          "output_type": "execute_result",
          "data": {
            "text/plain": [
              "tensor([[ 1.9893, -0.1013],\n",
              "        [ 1.3739,  0.0676],\n",
              "        [ 1.5887,  1.7080]])"
            ]
          },
          "metadata": {},
          "execution_count": 29
        }
      ]
    },
    {
      "cell_type": "markdown",
      "source": [
        "All kinds of mathematical operations are supported..."
      ],
      "metadata": {
        "id": "R9Au8Mpr954k"
      }
    },
    {
      "cell_type": "code",
      "metadata": {
        "id": "nVvEOkhyisWg",
        "colab": {
          "base_uri": "https://localhost:8080/"
        },
        "outputId": "8c489212-8f69-473c-85c6-e4c422eaefee"
      },
      "source": [
        "A * B"
      ],
      "execution_count": null,
      "outputs": [
        {
          "output_type": "execute_result",
          "data": {
            "text/plain": [
              "tensor([[ 0.9801, -0.0898],\n",
              "        [-0.1423, -0.1120],\n",
              "        [ 0.5093,  0.7286]])"
            ]
          },
          "metadata": {},
          "execution_count": 31
        }
      ]
    },
    {
      "cell_type": "code",
      "metadata": {
        "id": "pZGraeMQisWk",
        "colab": {
          "base_uri": "https://localhost:8080/"
        },
        "outputId": "0ae64f4e-d8ae-4d96-b8c9-27e828f2118b"
      },
      "source": [
        "2 * A"
      ],
      "execution_count": null,
      "outputs": [
        {
          "output_type": "execute_result",
          "data": {
            "text/plain": [
              "tensor([[ 1.7976,  0.5066],\n",
              "        [ 2.9413, -0.6051],\n",
              "        [ 2.2864,  1.7611]])"
            ]
          },
          "metadata": {},
          "execution_count": 32
        }
      ]
    },
    {
      "cell_type": "code",
      "metadata": {
        "id": "1PUdK_Q6lVGG",
        "colab": {
          "base_uri": "https://localhost:8080/"
        },
        "outputId": "c7890078-b11d-405c-b961-dcf523d9e24a"
      },
      "source": [
        "torch.log(A)"
      ],
      "execution_count": null,
      "outputs": [
        {
          "output_type": "execute_result",
          "data": {
            "text/plain": [
              "tensor([[-0.1067, -1.3733],\n",
              "        [ 0.3857,     nan],\n",
              "        [ 0.1338, -0.1272]])"
            ]
          },
          "metadata": {},
          "execution_count": 33
        }
      ]
    },
    {
      "cell_type": "markdown",
      "metadata": {
        "id": "wLVvKHWxisWr"
      },
      "source": [
        "\n",
        "\n",
        "## Let's get started: loading the data\n",
        "\n",
        "First, lets load the dataset:"
      ]
    },
    {
      "cell_type": "code",
      "metadata": {
        "id": "ZoQ_WImXisWs",
        "colab": {
          "base_uri": "https://localhost:8080/",
          "height": 519,
          "referenced_widgets": [
            "e1a42507817846898033e06cfd8e4e80",
            "ea834beac2824b41bfd922bf003315b7",
            "8b0d8705187549aa8064fbf36f58cbbb",
            "81b80939704e4fe0b8d3473e25864682",
            "c8e2ce735cba40efa55c193f0d4c20f6",
            "5e38440fd87d4abba9e2d43e14fb7d2a",
            "95013b233d734c35b801f8ba1911f5f0",
            "eae73693e53e4e76a241cb20559d2c9d",
            "4b0864912dcc4ba294fe69b1bf1eeb89",
            "9e9c9f9ecb634ef29c13df11b841fb4a",
            "f01a91b0e212438ebb6d66aa841bf459",
            "6e0350d838234c98b2d3a45f53bd48aa",
            "23052023ec6e462caeefee80afbf04d9",
            "aa85807df62145668b0e0245ee7a8d08",
            "c61c9d4c1e6a43008caecd09975b2902",
            "2654e6011d4a43fd9cfc66d091a71115",
            "32f95a1fa17546c78aae15b6b8fda69f",
            "8eee7291555041c8a9aa2917f864a715",
            "a6421bc7fdd94aa6a45a01020cea319f",
            "5b94f5ddfdd0492d8c0d17e9ef855388",
            "cb6d60ec9822446b84b946b36239f756",
            "88ea081cf1c44da3b5166e7fbaaba4a7",
            "d2b0766126684ba18de9c1bcceff4161",
            "e490ae5dad02407c830e435d915a0644",
            "f9e0f41c6f954000801e60cf8e43b4a9",
            "c057dd731bb9462fb57af1e40c98e045",
            "494b8d9f229948f6a27d05f2e3010135",
            "5077005d6df14ed090cde47b7803aab7",
            "950d2195e9e74a9799b57ef77ad2c880",
            "f50aeaf8e4844eb3bfd4cdcb3693e879",
            "9cd4982fcf8a4dd3978946ca72bd28ca",
            "dfc257c82cb64c5a94eb2373a7c60c11",
            "dcd5520c0b5e450b826e6929eab35295",
            "0ae5914027974eaf849d18645d3df978",
            "70e2b0e951d246fba4f0ba033b884e81",
            "9d5d191d1b1c4acc98223a2f9a1d2159",
            "111392f31d1f4c888668b8d73647be76",
            "51eac51db7f04bcd8a0d2cd81d8b33ab",
            "dff26b97aae54d8eb2d839afa8dd60c0",
            "a88e8e908d8541dea7531eb6e2a15aa5",
            "4c048ae5acb04f0892d304f50c167aca",
            "4deca616ef004c97983d72035d0e99f1",
            "100ef4b1c59742219899e6cf2dec3fbe",
            "617062f4de644d208e8f9d3be91e00f8"
          ]
        },
        "outputId": "70c88bf9-155d-464a-ccfc-eeab9f7c9c2f"
      },
      "source": [
        "train_data = datasets.MNIST(root='./data', train=True, \n",
        "                            download=True, transform=transforms.ToTensor())\n",
        "train_data"
      ],
      "execution_count": null,
      "outputs": [
        {
          "output_type": "stream",
          "name": "stdout",
          "text": [
            "Downloading http://yann.lecun.com/exdb/mnist/train-images-idx3-ubyte.gz\n",
            "Downloading http://yann.lecun.com/exdb/mnist/train-images-idx3-ubyte.gz to ./data/MNIST/raw/train-images-idx3-ubyte.gz\n"
          ]
        },
        {
          "output_type": "display_data",
          "data": {
            "text/plain": [
              "  0%|          | 0/9912422 [00:00<?, ?it/s]"
            ],
            "application/vnd.jupyter.widget-view+json": {
              "version_major": 2,
              "version_minor": 0,
              "model_id": "e1a42507817846898033e06cfd8e4e80"
            }
          },
          "metadata": {}
        },
        {
          "output_type": "stream",
          "name": "stdout",
          "text": [
            "Extracting ./data/MNIST/raw/train-images-idx3-ubyte.gz to ./data/MNIST/raw\n",
            "\n",
            "Downloading http://yann.lecun.com/exdb/mnist/train-labels-idx1-ubyte.gz\n",
            "Downloading http://yann.lecun.com/exdb/mnist/train-labels-idx1-ubyte.gz to ./data/MNIST/raw/train-labels-idx1-ubyte.gz\n"
          ]
        },
        {
          "output_type": "display_data",
          "data": {
            "text/plain": [
              "  0%|          | 0/28881 [00:00<?, ?it/s]"
            ],
            "application/vnd.jupyter.widget-view+json": {
              "version_major": 2,
              "version_minor": 0,
              "model_id": "6e0350d838234c98b2d3a45f53bd48aa"
            }
          },
          "metadata": {}
        },
        {
          "output_type": "stream",
          "name": "stdout",
          "text": [
            "Extracting ./data/MNIST/raw/train-labels-idx1-ubyte.gz to ./data/MNIST/raw\n",
            "\n",
            "Downloading http://yann.lecun.com/exdb/mnist/t10k-images-idx3-ubyte.gz\n",
            "Downloading http://yann.lecun.com/exdb/mnist/t10k-images-idx3-ubyte.gz to ./data/MNIST/raw/t10k-images-idx3-ubyte.gz\n"
          ]
        },
        {
          "output_type": "display_data",
          "data": {
            "text/plain": [
              "  0%|          | 0/1648877 [00:00<?, ?it/s]"
            ],
            "application/vnd.jupyter.widget-view+json": {
              "version_major": 2,
              "version_minor": 0,
              "model_id": "d2b0766126684ba18de9c1bcceff4161"
            }
          },
          "metadata": {}
        },
        {
          "output_type": "stream",
          "name": "stdout",
          "text": [
            "Extracting ./data/MNIST/raw/t10k-images-idx3-ubyte.gz to ./data/MNIST/raw\n",
            "\n",
            "Downloading http://yann.lecun.com/exdb/mnist/t10k-labels-idx1-ubyte.gz\n",
            "Downloading http://yann.lecun.com/exdb/mnist/t10k-labels-idx1-ubyte.gz to ./data/MNIST/raw/t10k-labels-idx1-ubyte.gz\n"
          ]
        },
        {
          "output_type": "display_data",
          "data": {
            "text/plain": [
              "  0%|          | 0/4542 [00:00<?, ?it/s]"
            ],
            "application/vnd.jupyter.widget-view+json": {
              "version_major": 2,
              "version_minor": 0,
              "model_id": "0ae5914027974eaf849d18645d3df978"
            }
          },
          "metadata": {}
        },
        {
          "output_type": "stream",
          "name": "stdout",
          "text": [
            "Extracting ./data/MNIST/raw/t10k-labels-idx1-ubyte.gz to ./data/MNIST/raw\n",
            "\n"
          ]
        },
        {
          "output_type": "execute_result",
          "data": {
            "text/plain": [
              "Dataset MNIST\n",
              "    Number of datapoints: 60000\n",
              "    Root location: ./data\n",
              "    Split: Train\n",
              "    StandardTransform\n",
              "Transform: ToTensor()"
            ]
          },
          "metadata": {},
          "execution_count": 34
        }
      ]
    },
    {
      "cell_type": "markdown",
      "metadata": {
        "id": "gjTyDWWJisWv"
      },
      "source": [
        "In order to sample from this dataset, we need a DataLoader. A DataLoader samples mini batches from a DataSet and can also be used to apply transformations to the data (here, we just want to transform the data to a pytorch tensor)."
      ]
    },
    {
      "cell_type": "code",
      "metadata": {
        "id": "MSOuX8OcisWv",
        "colab": {
          "base_uri": "https://localhost:8080/"
        },
        "outputId": "7bc224bb-93af-4346-cf5d-a3928a210185"
      },
      "source": [
        "batch_size = 128\n",
        "train_loader = torch.utils.data.DataLoader(train_data, shuffle=True, batch_size=batch_size)\n",
        "train_loader"
      ],
      "execution_count": null,
      "outputs": [
        {
          "output_type": "execute_result",
          "data": {
            "text/plain": [
              "<torch.utils.data.dataloader.DataLoader at 0x7fc792240050>"
            ]
          },
          "metadata": {},
          "execution_count": 35
        }
      ]
    },
    {
      "cell_type": "markdown",
      "metadata": {
        "id": "GYmW3KZJisW4"
      },
      "source": [
        "MNIST also provides a validation set that we can use to test how well our model performs."
      ]
    },
    {
      "cell_type": "code",
      "metadata": {
        "id": "uy0A78rpisW6"
      },
      "source": [
        "valid_data = datasets.MNIST(root='./data', train=False, \n",
        "                            download=True, transform=transforms.ToTensor())\n",
        "valid_loader = torch.utils.data.DataLoader(valid_data, shuffle=False, batch_size=batch_size)"
      ],
      "execution_count": null,
      "outputs": []
    },
    {
      "cell_type": "markdown",
      "metadata": {
        "id": "jGa5UhunisW-"
      },
      "source": [
        "Lets sample one batch of data from the dataset:"
      ]
    },
    {
      "cell_type": "code",
      "metadata": {
        "id": "r4gM-vb2isW-"
      },
      "source": [
        "#for Xb, yb in train_loader:\n",
        "#  print(Xb)\n",
        "#  break\n",
        "\n",
        "Xb, yb = next(iter(train_loader))"
      ],
      "execution_count": null,
      "outputs": []
    },
    {
      "cell_type": "code",
      "metadata": {
        "id": "4SgD8t49isXB",
        "colab": {
          "base_uri": "https://localhost:8080/"
        },
        "outputId": "412ce949-73cc-4173-fc55-a619098ac2c0"
      },
      "source": [
        "Xb.shape"
      ],
      "execution_count": null,
      "outputs": [
        {
          "output_type": "execute_result",
          "data": {
            "text/plain": [
              "torch.Size([128, 1, 28, 28])"
            ]
          },
          "metadata": {},
          "execution_count": 38
        }
      ]
    },
    {
      "cell_type": "code",
      "metadata": {
        "scrolled": true,
        "id": "rkEJy38_isXG",
        "colab": {
          "base_uri": "https://localhost:8080/"
        },
        "outputId": "191d81cb-2b40-4d7c-be1d-94b381631cbd"
      },
      "source": [
        "Xb[0]"
      ],
      "execution_count": null,
      "outputs": [
        {
          "output_type": "execute_result",
          "data": {
            "text/plain": [
              "tensor([[[0.0000, 0.0000, 0.0000, 0.0000, 0.0000, 0.0000, 0.0000, 0.0000,\n",
              "          0.0000, 0.0000, 0.0000, 0.0000, 0.0000, 0.0000, 0.0000, 0.0000,\n",
              "          0.0000, 0.0000, 0.0000, 0.0000, 0.0000, 0.0000, 0.0000, 0.0000,\n",
              "          0.0000, 0.0000, 0.0000, 0.0000],\n",
              "         [0.0000, 0.0000, 0.0000, 0.0000, 0.0000, 0.0000, 0.0000, 0.0000,\n",
              "          0.0000, 0.0000, 0.0000, 0.0000, 0.0000, 0.0000, 0.0000, 0.0000,\n",
              "          0.0000, 0.0000, 0.0000, 0.0000, 0.0000, 0.0000, 0.0000, 0.0000,\n",
              "          0.0000, 0.0000, 0.0000, 0.0000],\n",
              "         [0.0000, 0.0000, 0.0000, 0.0000, 0.0000, 0.0000, 0.0000, 0.0000,\n",
              "          0.0000, 0.0000, 0.0000, 0.0000, 0.0000, 0.0000, 0.0000, 0.0000,\n",
              "          0.0000, 0.0000, 0.0000, 0.0000, 0.0000, 0.0000, 0.0000, 0.0000,\n",
              "          0.0000, 0.0000, 0.0000, 0.0000],\n",
              "         [0.0000, 0.0000, 0.0000, 0.0000, 0.0000, 0.0000, 0.0000, 0.0000,\n",
              "          0.0000, 0.0000, 0.0000, 0.0000, 0.0000, 0.0000, 0.0000, 0.0000,\n",
              "          0.0000, 0.0000, 0.0000, 0.0000, 0.0000, 0.0000, 0.0000, 0.0000,\n",
              "          0.0000, 0.0000, 0.0000, 0.0000],\n",
              "         [0.0000, 0.0000, 0.0000, 0.0000, 0.0000, 0.0000, 0.0000, 0.0000,\n",
              "          0.0000, 0.0000, 0.0000, 0.0000, 0.0000, 0.0000, 0.0000, 0.0000,\n",
              "          0.0000, 0.0000, 0.0000, 0.0000, 0.0000, 0.0000, 0.0000, 0.0000,\n",
              "          0.0000, 0.0000, 0.0000, 0.0000],\n",
              "         [0.0000, 0.0000, 0.0000, 0.0000, 0.0000, 0.0000, 0.0000, 0.0000,\n",
              "          0.0000, 0.0000, 0.0000, 0.0000, 0.0000, 0.0000, 0.0000, 0.0000,\n",
              "          0.0000, 0.0000, 0.0000, 0.0000, 0.0000, 0.0000, 0.0000, 0.0000,\n",
              "          0.0000, 0.0000, 0.0000, 0.0000],\n",
              "         [0.0000, 0.0000, 0.0000, 0.0000, 0.0000, 0.0000, 0.0000, 0.0000,\n",
              "          0.0000, 0.0000, 0.0000, 0.0000, 0.0000, 0.0000, 0.0000, 0.0000,\n",
              "          0.0000, 0.0000, 0.0000, 0.0000, 0.0000, 0.0000, 0.0000, 0.0000,\n",
              "          0.0000, 0.0000, 0.0000, 0.0000],\n",
              "         [0.0000, 0.0000, 0.0706, 0.2627, 0.2627, 0.1843, 0.0000, 0.0000,\n",
              "          0.0000, 0.0000, 0.1961, 0.0000, 0.1647, 0.2627, 0.2627, 0.7529,\n",
              "          0.9961, 0.9961, 1.0000, 0.7725, 0.0000, 0.0000, 0.0000, 0.0000,\n",
              "          0.0000, 0.0000, 0.0000, 0.0000],\n",
              "         [0.0000, 0.0000, 0.6431, 0.9922, 0.9922, 0.8510, 0.5176, 0.5176,\n",
              "          0.5176, 0.5176, 0.8706, 0.5176, 0.8157, 0.9922, 0.9922, 0.9922,\n",
              "          0.9922, 0.9922, 0.9922, 0.8863, 0.2706, 0.0000, 0.0000, 0.0000,\n",
              "          0.0000, 0.0000, 0.0000, 0.0000],\n",
              "         [0.0000, 0.0000, 0.9961, 0.9922, 0.9922, 0.9922, 0.9922, 0.9922,\n",
              "          0.9922, 0.9922, 0.9922, 0.9922, 0.9922, 0.9922, 0.9922, 0.9922,\n",
              "          0.9922, 0.9922, 0.9922, 0.9922, 0.8863, 0.2000, 0.0000, 0.0000,\n",
              "          0.0000, 0.0000, 0.0000, 0.0000],\n",
              "         [0.0000, 0.0000, 0.9961, 0.9922, 0.9922, 0.9922, 0.9922, 0.9922,\n",
              "          0.9922, 0.9922, 0.9922, 0.9922, 0.9922, 0.9922, 0.8706, 0.6941,\n",
              "          0.7490, 0.9922, 0.9922, 0.9922, 0.9922, 0.2549, 0.0000, 0.0000,\n",
              "          0.0000, 0.0000, 0.0000, 0.0000],\n",
              "         [0.0000, 0.0000, 0.4431, 0.4392, 0.4392, 0.4392, 0.4392, 0.4392,\n",
              "          0.4392, 0.4392, 0.4392, 0.4392, 0.4392, 0.4392, 0.2588, 0.0000,\n",
              "          0.1882, 0.9922, 0.9922, 0.9922, 0.7216, 0.1137, 0.0000, 0.0000,\n",
              "          0.0000, 0.0000, 0.0000, 0.0000],\n",
              "         [0.0000, 0.0000, 0.0000, 0.0000, 0.0000, 0.0000, 0.0000, 0.0000,\n",
              "          0.0000, 0.0000, 0.0000, 0.0000, 0.0000, 0.0000, 0.0000, 0.0510,\n",
              "          0.7961, 0.9922, 0.9922, 0.8078, 0.0941, 0.0000, 0.0000, 0.0000,\n",
              "          0.0000, 0.0000, 0.0000, 0.0000],\n",
              "         [0.0000, 0.0000, 0.0000, 0.0000, 0.0000, 0.0000, 0.0000, 0.0000,\n",
              "          0.0000, 0.0000, 0.0000, 0.0000, 0.0000, 0.0000, 0.0000, 0.6627,\n",
              "          0.9922, 0.9922, 0.9922, 0.7686, 0.0000, 0.0000, 0.0000, 0.0000,\n",
              "          0.0000, 0.0000, 0.0000, 0.0000],\n",
              "         [0.0000, 0.0000, 0.0000, 0.0000, 0.0000, 0.0000, 0.0000, 0.0000,\n",
              "          0.0000, 0.0000, 0.0000, 0.0000, 0.0000, 0.0000, 0.0000, 0.6627,\n",
              "          0.9922, 0.9922, 0.9922, 0.3294, 0.0000, 0.0000, 0.0000, 0.0000,\n",
              "          0.0000, 0.0000, 0.0000, 0.0000],\n",
              "         [0.0000, 0.0000, 0.0000, 0.0000, 0.0000, 0.0000, 0.0000, 0.0000,\n",
              "          0.0000, 0.0000, 0.0000, 0.0000, 0.0000, 0.0000, 0.0471, 0.7020,\n",
              "          0.9922, 0.9922, 0.9922, 0.0314, 0.0000, 0.0000, 0.0000, 0.0000,\n",
              "          0.0000, 0.0000, 0.0000, 0.0000],\n",
              "         [0.0000, 0.0000, 0.0000, 0.0000, 0.0000, 0.0000, 0.0000, 0.0000,\n",
              "          0.0000, 0.0000, 0.0000, 0.0000, 0.0000, 0.0000, 0.4078, 0.9922,\n",
              "          0.9922, 0.9922, 0.9922, 0.0314, 0.0000, 0.0000, 0.0000, 0.0000,\n",
              "          0.0000, 0.0000, 0.0000, 0.0000],\n",
              "         [0.0000, 0.0000, 0.0000, 0.0000, 0.0000, 0.0000, 0.0000, 0.0000,\n",
              "          0.0000, 0.0000, 0.0000, 0.0000, 0.0000, 0.0941, 0.7765, 0.9922,\n",
              "          0.9922, 0.9922, 0.9922, 0.0314, 0.0000, 0.0000, 0.0000, 0.0000,\n",
              "          0.0000, 0.0000, 0.0000, 0.0000],\n",
              "         [0.0000, 0.0000, 0.0000, 0.0000, 0.0000, 0.0000, 0.0000, 0.0000,\n",
              "          0.0000, 0.0000, 0.0000, 0.0000, 0.0000, 0.2588, 0.9922, 0.9922,\n",
              "          0.9922, 0.9255, 0.3216, 0.0039, 0.0000, 0.0000, 0.0000, 0.0000,\n",
              "          0.0000, 0.0000, 0.0000, 0.0000],\n",
              "         [0.0000, 0.0000, 0.0000, 0.0000, 0.0000, 0.0000, 0.0000, 0.0000,\n",
              "          0.0000, 0.0000, 0.0000, 0.0000, 0.0000, 0.8863, 0.9922, 0.9922,\n",
              "          0.9922, 0.5451, 0.0000, 0.0000, 0.0000, 0.0000, 0.0000, 0.0000,\n",
              "          0.0000, 0.0000, 0.0000, 0.0000],\n",
              "         [0.0000, 0.0000, 0.0000, 0.0000, 0.0000, 0.0000, 0.0000, 0.0000,\n",
              "          0.0000, 0.0000, 0.0000, 0.0000, 0.0000, 0.8863, 0.9922, 0.9922,\n",
              "          0.9922, 0.5451, 0.0000, 0.0000, 0.0000, 0.0000, 0.0000, 0.0000,\n",
              "          0.0000, 0.0000, 0.0000, 0.0000],\n",
              "         [0.0000, 0.0000, 0.0000, 0.0000, 0.0000, 0.0000, 0.0000, 0.0000,\n",
              "          0.0000, 0.0000, 0.0000, 0.0000, 0.0000, 0.8863, 0.9922, 0.9922,\n",
              "          0.9922, 0.5451, 0.0000, 0.0000, 0.0000, 0.0000, 0.0000, 0.0000,\n",
              "          0.0000, 0.0000, 0.0000, 0.0000],\n",
              "         [0.0000, 0.0000, 0.0000, 0.0000, 0.0000, 0.0000, 0.0000, 0.0000,\n",
              "          0.0000, 0.0000, 0.0000, 0.0000, 0.0000, 0.8863, 0.9922, 0.9922,\n",
              "          0.9059, 0.3059, 0.0000, 0.0000, 0.0000, 0.0000, 0.0000, 0.0000,\n",
              "          0.0000, 0.0000, 0.0000, 0.0000],\n",
              "         [0.0000, 0.0000, 0.0000, 0.0000, 0.0000, 0.0000, 0.0000, 0.0000,\n",
              "          0.0000, 0.0000, 0.0000, 0.0000, 0.0000, 0.8863, 0.9922, 0.9922,\n",
              "          0.8039, 0.0000, 0.0000, 0.0000, 0.0000, 0.0000, 0.0000, 0.0000,\n",
              "          0.0000, 0.0000, 0.0000, 0.0000],\n",
              "         [0.0000, 0.0000, 0.0000, 0.0000, 0.0000, 0.0000, 0.0000, 0.0000,\n",
              "          0.0000, 0.0000, 0.0000, 0.0000, 0.0000, 0.7216, 0.9922, 0.9922,\n",
              "          0.9843, 0.5294, 0.0000, 0.0000, 0.0000, 0.0000, 0.0000, 0.0000,\n",
              "          0.0000, 0.0000, 0.0000, 0.0000],\n",
              "         [0.0000, 0.0000, 0.0000, 0.0000, 0.0000, 0.0000, 0.0000, 0.0000,\n",
              "          0.0000, 0.0000, 0.0000, 0.0000, 0.0000, 0.1490, 0.9922, 0.9922,\n",
              "          0.9922, 0.5451, 0.0000, 0.0000, 0.0000, 0.0000, 0.0000, 0.0000,\n",
              "          0.0000, 0.0000, 0.0000, 0.0000],\n",
              "         [0.0000, 0.0000, 0.0000, 0.0000, 0.0000, 0.0000, 0.0000, 0.0000,\n",
              "          0.0000, 0.0000, 0.0000, 0.0000, 0.0000, 0.0392, 0.5529, 0.9922,\n",
              "          0.9922, 0.5451, 0.0000, 0.0000, 0.0000, 0.0000, 0.0000, 0.0000,\n",
              "          0.0000, 0.0000, 0.0000, 0.0000],\n",
              "         [0.0000, 0.0000, 0.0000, 0.0000, 0.0000, 0.0000, 0.0000, 0.0000,\n",
              "          0.0000, 0.0000, 0.0000, 0.0000, 0.0000, 0.0000, 0.0000, 0.0000,\n",
              "          0.0000, 0.0000, 0.0000, 0.0000, 0.0000, 0.0000, 0.0000, 0.0000,\n",
              "          0.0000, 0.0000, 0.0000, 0.0000]]])"
            ]
          },
          "metadata": {},
          "execution_count": 39
        }
      ]
    },
    {
      "cell_type": "markdown",
      "metadata": {
        "id": "UeSAU9U3isXL"
      },
      "source": [
        "We can use matplotlib or the show_image_grid function to visualize the data."
      ]
    },
    {
      "cell_type": "code",
      "metadata": {
        "id": "_AEFLrEyisXL",
        "colab": {
          "base_uri": "https://localhost:8080/",
          "height": 282
        },
        "outputId": "9ff61f98-22c6-4c60-b938-5a7f44c7842a"
      },
      "source": [
        "plt.gray() # sets matplotlib colormap\n",
        "plt.imshow(Xb[0,0])"
      ],
      "execution_count": null,
      "outputs": [
        {
          "output_type": "execute_result",
          "data": {
            "text/plain": [
              "<matplotlib.image.AxesImage at 0x7fc79221f950>"
            ]
          },
          "metadata": {},
          "execution_count": 40
        },
        {
          "output_type": "display_data",
          "data": {
            "text/plain": [
              "<Figure size 432x288 with 1 Axes>"
            ],
            "image/png": "[encoded data removed]"
          },
          "metadata": {
            "needs_background": "light"
          }
        }
      ]
    },
    {
      "cell_type": "code",
      "metadata": {
        "id": "putffO0WisXP",
        "colab": {
          "base_uri": "https://localhost:8080/"
        },
        "outputId": "80c81a8d-89bc-4913-8296-b8bcff9eeaff"
      },
      "source": [
        "yb"
      ],
      "execution_count": null,
      "outputs": [
        {
          "output_type": "execute_result",
          "data": {
            "text/plain": [
              "tensor([7, 4, 0, 3, 4, 7, 1, 9, 2, 0, 3, 2, 9, 5, 5, 6, 4, 4, 4, 6, 1, 0, 3, 6,\n",
              "        5, 3, 2, 2, 7, 2, 9, 9, 6, 0, 3, 7, 1, 2, 2, 8, 5, 4, 5, 4, 6, 0, 6, 1,\n",
              "        4, 1, 7, 3, 4, 1, 1, 8, 8, 2, 5, 8, 6, 0, 1, 3, 8, 5, 9, 8, 8, 8, 2, 6,\n",
              "        5, 0, 4, 7, 9, 8, 8, 8, 4, 9, 5, 2, 0, 0, 4, 4, 0, 3, 8, 8, 4, 3, 5, 3,\n",
              "        6, 0, 1, 2, 1, 0, 0, 9, 3, 4, 1, 4, 1, 0, 1, 2, 0, 2, 0, 1, 4, 9, 6, 9,\n",
              "        6, 6, 6, 6, 8, 6, 2, 4])"
            ]
          },
          "metadata": {},
          "execution_count": 41
        }
      ]
    },
    {
      "cell_type": "code",
      "metadata": {
        "id": "WyNr70YWisXS",
        "colab": {
          "base_uri": "https://localhost:8080/",
          "height": 281
        },
        "outputId": "b39ae1e4-2f49-418c-f5a2-5432cf02fa0c"
      },
      "source": [
        "plt.imshow(Xb[0, 0])\n",
        "plt.title(f\"This is a {yb[0]}\")\n",
        "plt.show()"
      ],
      "execution_count": null,
      "outputs": [
        {
          "output_type": "display_data",
          "data": {
            "text/plain": [
              "<Figure size 432x288 with 1 Axes>"
            ],
            "image/png": "[encoded data removed]"
          },
          "metadata": {
            "needs_background": "light"
          }
        }
      ]
    },
    {
      "cell_type": "code",
      "metadata": {
        "scrolled": true,
        "id": "BmkgtHzEisXY",
        "colab": {
          "base_uri": "https://localhost:8080/",
          "height": 525
        },
        "outputId": "7e41bcce-19b7-436d-98ca-4fac3c2d5d0d"
      },
      "source": [
        "show_image_grid(Xb, yb)"
      ],
      "execution_count": null,
      "outputs": [
        {
          "output_type": "display_data",
          "data": {
            "text/plain": [
              "<Figure size 864x648 with 24 Axes>"
            ],
            "image/png": "[encoded data removed]"
          },
          "metadata": {
            "needs_background": "light"
          }
        }
      ]
    },
    {
      "cell_type": "markdown",
      "metadata": {
        "id": "7LOof-ExisXc"
      },
      "source": [
        "## Setup the model\n",
        "\n",
        "We want to train a linear model from a vectorized (flattened) version of the image. We first reshape our image tensor"
      ]
    },
    {
      "cell_type": "code",
      "metadata": {
        "id": "9m0-6kC6isXc",
        "colab": {
          "base_uri": "https://localhost:8080/"
        },
        "outputId": "bfc44709-e510-43bb-a722-6209c20cd4f0"
      },
      "source": [
        "Xb_flat = Xb.view(Xb.shape[0], -1)\n",
        "Xb_flat.shape"
      ],
      "execution_count": null,
      "outputs": [
        {
          "output_type": "execute_result",
          "data": {
            "text/plain": [
              "torch.Size([128, 784])"
            ]
          },
          "metadata": {},
          "execution_count": 44
        }
      ]
    },
    {
      "cell_type": "markdown",
      "metadata": {
        "id": "w9bCKgG-isXf"
      },
      "source": [
        "We now initialize the weights and biases (parameters) of our network. We use a weight matrix to densely connect the 28x28 dimensional input to an output layer of size 10 and add a bias term. This simplistic shallow linear \"neural network\" outputs 10 class scores for each of the digit between 0-9."
      ]
    },
    {
      "cell_type": "code",
      "metadata": {
        "scrolled": true,
        "id": "FXJk7aQrisXf",
        "colab": {
          "base_uri": "https://localhost:8080/"
        },
        "outputId": "eb4a428e-c2cb-4dee-fe6b-627770aa2564"
      },
      "source": [
        "weight = torch.randn((28*28, 10))\n",
        "bias = torch.zeros(10)\n",
        "\n",
        "output = Xb_flat @ weight  + bias\n",
        "output.shape"
      ],
      "execution_count": null,
      "outputs": [
        {
          "output_type": "execute_result",
          "data": {
            "text/plain": [
              "torch.Size([128, 10])"
            ]
          },
          "metadata": {},
          "execution_count": 46
        }
      ]
    },
    {
      "cell_type": "code",
      "metadata": {
        "id": "arQF4W4QisXh",
        "colab": {
          "base_uri": "https://localhost:8080/"
        },
        "outputId": "2bf7d8f3-68fc-4b53-a549-d1694426668d"
      },
      "source": [
        "output[0]"
      ],
      "execution_count": null,
      "outputs": [
        {
          "output_type": "execute_result",
          "data": {
            "text/plain": [
              "tensor([ -1.0889,  14.3629,   5.8504, -13.9267, -21.4242,  10.5562,  13.3775,\n",
              "          6.5945,  -6.3882,  -2.8893])"
            ]
          },
          "metadata": {},
          "execution_count": 48
        }
      ]
    },
    {
      "cell_type": "markdown",
      "source": [
        "For comparison, here is the same code written using python for loops:"
      ],
      "metadata": {
        "id": "eBkGAGl1Bfds"
      }
    },
    {
      "cell_type": "code",
      "source": [
        "output1 = torch.zeros((batch_size, 10))\n",
        "\n",
        "# for each example in the minibatch\n",
        "for b in range(batch_size):\n",
        "  # for each output neuron\n",
        "  for o in range(10):\n",
        "    # compute a weighted sum of weight multiplied by input neuron activation\n",
        "    activation = 0\n",
        "    for pixel in range(28*28):\n",
        "      activation += Xb_flat[b, pixel] * weight[pixel, o]\n",
        "\n",
        "    # finally, add the bias term\n",
        "    output1[b, o] = activation + bias[o]\n",
        "\n",
        "# a small test case that checks if our for loop is correct\n",
        "torch.testing.assert_allclose(output1, output)\n",
        "\n",
        "output1[0]"
      ],
      "metadata": {
        "id": "Q_pJ1hon-gCR",
        "outputId": "51804f62-3575-4bd0-9dd8-aa2996da3720",
        "colab": {
          "base_uri": "https://localhost:8080/"
        }
      },
      "execution_count": null,
      "outputs": [
        {
          "output_type": "execute_result",
          "data": {
            "text/plain": [
              "tensor([ -1.0889,  14.3629,   5.8504, -13.9267, -21.4242,  10.5562,  13.3775,\n",
              "          6.5945,  -6.3882,  -2.8893])"
            ]
          },
          "metadata": {},
          "execution_count": 56
        }
      ]
    },
    {
      "cell_type": "markdown",
      "metadata": {
        "id": "W3BMEmH-isXk"
      },
      "source": [
        "Lets refactor our neural network forward pass and wrap it into a function that we can easily call later on"
      ]
    },
    {
      "cell_type": "code",
      "metadata": {
        "id": "Tuld-zS1isXk",
        "colab": {
          "base_uri": "https://localhost:8080/"
        },
        "outputId": "af75592c-658f-4a7a-eb2b-d4d769d0e401"
      },
      "source": [
        "def forward(X, weight, bias):\n",
        "    return X.view(-1, 28*28) @ weight + bias\n",
        "\n",
        "forward(Xb, weight, bias)[0]"
      ],
      "execution_count": null,
      "outputs": [
        {
          "output_type": "execute_result",
          "data": {
            "text/plain": [
              "tensor([ -1.0889,  14.3629,   5.8504, -13.9267, -21.4242,  10.5562,  13.3775,\n",
              "          6.5945,  -6.3882,  -2.8893])"
            ]
          },
          "metadata": {},
          "execution_count": 57
        }
      ]
    },
    {
      "cell_type": "markdown",
      "metadata": {
        "id": "wPUSbR_nisXm"
      },
      "source": [
        "## Metrics\n",
        "\n",
        "We will also need a way of measuring how good our model is. Here, we will use the classification accuracy by comparing the label predicted by the network (simply the neuron with the largest score of our output layer) with the actual labels and counting how often those agree."
      ]
    },
    {
      "cell_type": "code",
      "metadata": {
        "scrolled": false,
        "id": "FThhfyrlisXm",
        "colab": {
          "base_uri": "https://localhost:8080/"
        },
        "outputId": "e73e72bc-ff2b-4ff6-e3c0-0e31d6cc966f"
      },
      "source": [
        "print(\"predicted label:\", output.argmax(1))\n",
        "print(\"   actual label:\", yb)\n",
        "\n",
        "yb == output.argmax(1)"
      ],
      "execution_count": null,
      "outputs": [
        {
          "output_type": "stream",
          "name": "stdout",
          "text": [
            "predicted label: tensor([1, 0, 6, 0, 9, 6, 0, 5, 0, 4, 6, 5, 0, 0, 1, 0, 9, 0, 1, 0, 1, 6, 0, 7,\n",
            "        6, 0, 2, 7, 6, 6, 1, 6, 0, 0, 0, 0, 6, 0, 0, 1, 6, 0, 1, 6, 1, 0, 7, 8,\n",
            "        2, 0, 6, 1, 6, 0, 0, 1, 6, 0, 0, 1, 6, 1, 6, 0, 1, 6, 2, 9, 9, 4, 0, 7,\n",
            "        7, 6, 5, 0, 6, 6, 7, 1, 4, 6, 7, 0, 6, 1, 9, 9, 0, 0, 6, 1, 9, 0, 0, 1,\n",
            "        7, 1, 8, 0, 7, 6, 6, 9, 1, 6, 0, 9, 0, 0, 7, 0, 0, 0, 0, 7, 6, 1, 9, 2,\n",
            "        7, 7, 7, 6, 9, 7, 2, 6])\n",
            "   actual label: tensor([7, 4, 0, 3, 4, 7, 1, 9, 2, 0, 3, 2, 9, 5, 5, 6, 4, 4, 4, 6, 1, 0, 3, 6,\n",
            "        5, 3, 2, 2, 7, 2, 9, 9, 6, 0, 3, 7, 1, 2, 2, 8, 5, 4, 5, 4, 6, 0, 6, 1,\n",
            "        4, 1, 7, 3, 4, 1, 1, 8, 8, 2, 5, 8, 6, 0, 1, 3, 8, 5, 9, 8, 8, 8, 2, 6,\n",
            "        5, 0, 4, 7, 9, 8, 8, 8, 4, 9, 5, 2, 0, 0, 4, 4, 0, 3, 8, 8, 4, 3, 5, 3,\n",
            "        6, 0, 1, 2, 1, 0, 0, 9, 3, 4, 1, 4, 1, 0, 1, 2, 0, 2, 0, 1, 4, 9, 6, 9,\n",
            "        6, 6, 6, 6, 8, 6, 2, 4])\n"
          ]
        },
        {
          "output_type": "execute_result",
          "data": {
            "text/plain": [
              "tensor([False, False, False, False, False, False, False, False, False, False,\n",
              "        False, False, False, False, False, False, False, False, False, False,\n",
              "         True, False, False, False, False, False,  True, False, False, False,\n",
              "        False, False, False,  True, False, False, False, False, False, False,\n",
              "        False, False, False, False, False,  True, False, False, False, False,\n",
              "        False, False, False, False, False, False, False, False, False, False,\n",
              "         True, False, False, False, False, False, False, False, False, False,\n",
              "        False, False, False, False, False, False, False, False, False, False,\n",
              "         True, False, False, False, False, False, False, False,  True, False,\n",
              "        False, False, False, False, False, False, False, False, False, False,\n",
              "        False, False, False,  True, False, False, False, False, False,  True,\n",
              "        False, False,  True, False,  True, False, False, False, False, False,\n",
              "        False, False, False,  True, False, False,  True, False])"
            ]
          },
          "metadata": {},
          "execution_count": 58
        }
      ]
    },
    {
      "cell_type": "markdown",
      "metadata": {
        "id": "7YRpwfhfisXp"
      },
      "source": [
        "We can compute an accuracy between 0 and 1 simply by averaging the above binary vector. "
      ]
    },
    {
      "cell_type": "code",
      "metadata": {
        "id": "l3RuSsMSisXq",
        "colab": {
          "base_uri": "https://localhost:8080/"
        },
        "outputId": "2c3988d7-4de7-4a06-ea1b-6d9e5822bab6"
      },
      "source": [
        "def accuracy(output, label):\n",
        "    return (output.argmax(1) == label).float().mean()\n",
        "\n",
        "accuracy(output, yb)"
      ],
      "execution_count": null,
      "outputs": [
        {
          "output_type": "execute_result",
          "data": {
            "text/plain": [
              "tensor(0.1016)"
            ]
          },
          "metadata": {},
          "execution_count": 59
        }
      ]
    },
    {
      "cell_type": "markdown",
      "metadata": {
        "id": "bTY8veNhisXs"
      },
      "source": [
        "## Loss\n",
        "\n",
        "To measure how well our network does, we cannot directly use our accuracy metric - Do you know why?\n",
        "\n",
        "Instead, we will apply a softmax to the 10-dimensional output, which gives us a probability between 0 and 1 for each of the 10 classes."
      ]
    },
    {
      "cell_type": "code",
      "metadata": {
        "id": "yYEhEdeuisXs",
        "colab": {
          "base_uri": "https://localhost:8080/"
        },
        "outputId": "0cad8732-e721-4a0a-87c4-f5bd2ddb1839"
      },
      "source": [
        "F.softmax(output, dim=1)"
      ],
      "execution_count": null,
      "outputs": [
        {
          "output_type": "execute_result",
          "data": {
            "text/plain": [
              "tensor([[1.3946e-07, 7.1625e-01, 1.4392e-04,  ..., 3.0290e-04, 6.9659e-10,\n",
              "         2.3044e-08],\n",
              "        [7.9579e-01, 1.7475e-01, 3.9941e-05,  ..., 9.0509e-07, 1.9619e-10,\n",
              "         4.4337e-03],\n",
              "        [1.4742e-01, 6.6390e-12, 2.4143e-09,  ..., 1.4421e-07, 9.1911e-16,\n",
              "         6.7451e-16],\n",
              "        ...,\n",
              "        [6.7562e-09, 5.7197e-07, 6.8687e-10,  ..., 9.9982e-01, 8.2954e-16,\n",
              "         1.4571e-05],\n",
              "        [3.3575e-04, 4.4242e-02, 9.5177e-01,  ..., 1.4738e-03, 3.2182e-10,\n",
              "         1.3473e-03],\n",
              "        [9.4715e-07, 8.2715e-03, 2.4976e-01,  ..., 8.7510e-03, 1.5326e-10,\n",
              "         1.1085e-01]])"
            ]
          },
          "metadata": {},
          "execution_count": 60
        }
      ]
    },
    {
      "cell_type": "code",
      "metadata": {
        "id": "jrND9m4AKEoQ",
        "colab": {
          "base_uri": "https://localhost:8080/"
        },
        "outputId": "61ca0f8e-4ae1-4c8a-eb6c-dc91e77f165f"
      },
      "source": [
        "F.softmax(output, dim=1)[0]"
      ],
      "execution_count": null,
      "outputs": [
        {
          "output_type": "execute_result",
          "data": {
            "text/plain": [
              "tensor([1.3946e-07, 7.1625e-01, 1.4392e-04, 3.7071e-13, 2.0555e-16, 1.5917e-02,\n",
              "        2.6739e-01, 3.0290e-04, 6.9659e-10, 2.3044e-08])"
            ]
          },
          "metadata": {},
          "execution_count": 61
        }
      ]
    },
    {
      "cell_type": "code",
      "metadata": {
        "id": "rdxk-FKgisXv",
        "colab": {
          "base_uri": "https://localhost:8080/"
        },
        "outputId": "3f5eaeb4-8b8c-4087-981b-21bd0654b3cb"
      },
      "source": [
        "F.softmax(output, dim=1).sum(1)"
      ],
      "execution_count": null,
      "outputs": [
        {
          "output_type": "execute_result",
          "data": {
            "text/plain": [
              "tensor([1.0000, 1.0000, 1.0000, 1.0000, 1.0000, 1.0000, 1.0000, 1.0000, 1.0000,\n",
              "        1.0000, 1.0000, 1.0000, 1.0000, 1.0000, 1.0000, 1.0000, 1.0000, 1.0000,\n",
              "        1.0000, 1.0000, 1.0000, 1.0000, 1.0000, 1.0000, 1.0000, 1.0000, 1.0000,\n",
              "        1.0000, 1.0000, 1.0000, 1.0000, 1.0000, 1.0000, 1.0000, 1.0000, 1.0000,\n",
              "        1.0000, 1.0000, 1.0000, 1.0000, 1.0000, 1.0000, 1.0000, 1.0000, 1.0000,\n",
              "        1.0000, 1.0000, 1.0000, 1.0000, 1.0000, 1.0000, 1.0000, 1.0000, 1.0000,\n",
              "        1.0000, 1.0000, 1.0000, 1.0000, 1.0000, 1.0000, 1.0000, 1.0000, 1.0000,\n",
              "        1.0000, 1.0000, 1.0000, 1.0000, 1.0000, 1.0000, 1.0000, 1.0000, 1.0000,\n",
              "        1.0000, 1.0000, 1.0000, 1.0000, 1.0000, 1.0000, 1.0000, 1.0000, 1.0000,\n",
              "        1.0000, 1.0000, 1.0000, 1.0000, 1.0000, 1.0000, 1.0000, 1.0000, 1.0000,\n",
              "        1.0000, 1.0000, 1.0000, 1.0000, 1.0000, 1.0000, 1.0000, 1.0000, 1.0000,\n",
              "        1.0000, 1.0000, 1.0000, 1.0000, 1.0000, 1.0000, 1.0000, 1.0000, 1.0000,\n",
              "        1.0000, 1.0000, 1.0000, 1.0000, 1.0000, 1.0000, 1.0000, 1.0000, 1.0000,\n",
              "        1.0000, 1.0000, 1.0000, 1.0000, 1.0000, 1.0000, 1.0000, 1.0000, 1.0000,\n",
              "        1.0000, 1.0000])"
            ]
          },
          "metadata": {},
          "execution_count": 62
        }
      ]
    },
    {
      "cell_type": "markdown",
      "metadata": {
        "id": "-wEU6lbNisX3"
      },
      "source": [
        "However, instead of computing the negative log-likelihood now from the softmax output, it is both quicker and numerically more stable to directly use the cross_entropy loss from PyTorch. Notice that you need to pass the output of your last layer directly to cross_entropy - **NEVER pass softmaxed output directly, use the explicit softmax presented above only if you want to output class probabilities at test time.** "
      ]
    },
    {
      "cell_type": "code",
      "metadata": {
        "id": "W_O3GdoGisX4",
        "colab": {
          "base_uri": "https://localhost:8080/"
        },
        "outputId": "300fb33e-20f5-46e1-c271-c135c7dee968"
      },
      "source": [
        "loss = F.cross_entropy(output, yb)\n",
        "loss"
      ],
      "execution_count": null,
      "outputs": [
        {
          "output_type": "execute_result",
          "data": {
            "text/plain": [
              "tensor(13.9882)"
            ]
          },
          "metadata": {},
          "execution_count": 63
        }
      ]
    },
    {
      "cell_type": "markdown",
      "metadata": {
        "id": "6jU4sQ91Mtl-"
      },
      "source": [
        "You can learn more about this function here: https://pytorch.org/docs/master/nn.html#crossentropyloss\n",
        "\n",
        "There, it says that it just combines LogSoftmax and NLLLoss, whose functional variants are:"
      ]
    },
    {
      "cell_type": "code",
      "metadata": {
        "id": "LsrGDhN5LpRE",
        "colab": {
          "base_uri": "https://localhost:8080/"
        },
        "outputId": "720f33e2-b6db-4448-f50e-5b9c4160950e"
      },
      "source": [
        "F.nll_loss(F.log_softmax(output, dim=1), yb)"
      ],
      "execution_count": null,
      "outputs": [
        {
          "output_type": "execute_result",
          "data": {
            "text/plain": [
              "tensor(13.9882)"
            ]
          },
          "metadata": {},
          "execution_count": 64
        }
      ]
    },
    {
      "cell_type": "markdown",
      "metadata": {
        "id": "enbDWjfJNIXt"
      },
      "source": [
        "Indeed, this gives us the same result, and we can further split this to see that it just applies log to the softmax result:"
      ]
    },
    {
      "cell_type": "code",
      "metadata": {
        "id": "TucIVh_QL0cv",
        "colab": {
          "base_uri": "https://localhost:8080/"
        },
        "outputId": "151c6289-9628-4107-bd3a-974823e260a7"
      },
      "source": [
        "F.nll_loss(torch.log(F.softmax(output, dim=1)), yb)"
      ],
      "execution_count": null,
      "outputs": [
        {
          "output_type": "execute_result",
          "data": {
            "text/plain": [
              "tensor(13.9882)"
            ]
          },
          "metadata": {},
          "execution_count": 65
        }
      ]
    },
    {
      "cell_type": "markdown",
      "metadata": {
        "id": "g74B2oKOPL57"
      },
      "source": [
        "In fact, even unpacking that call results in relatively compact code. We can see that the negative log likelihood loss simply averages the log-probabilities for the correct classes stored in `yb`. This makes sense, we want the probabilities of the correct classes to be as high as possible. In other words we want to maximize that average *or* minimize negated value of that average (we negate it because we always want to *minimize* a loss, since a loss should measure the *lousiness* of our network)."
      ]
    },
    {
      "cell_type": "code",
      "metadata": {
        "id": "3iMWL1mLNRtX",
        "colab": {
          "base_uri": "https://localhost:8080/"
        },
        "outputId": "4e4aea7b-df9e-428c-b516-3bb81ad0bac6"
      },
      "source": [
        "probs = F.softmax(output, dim=1)\n",
        "log_probs = torch.log(probs)\n",
        "# here comes F.nll_loss:\n",
        "correct_class_log_probs = log_probs[torch.arange(batch_size), yb]\n",
        "-torch.sum(correct_class_log_probs) / batch_size"
      ],
      "execution_count": null,
      "outputs": [
        {
          "output_type": "execute_result",
          "data": {
            "text/plain": [
              "tensor(13.9882)"
            ]
          },
          "metadata": {},
          "execution_count": 66
        }
      ]
    },
    {
      "cell_type": "code",
      "metadata": {
        "id": "-eKYk9tDSuII",
        "colab": {
          "base_uri": "https://localhost:8080/",
          "height": 299
        },
        "outputId": "9aaf1171-16c2-40a5-c085-0c7c47d8299b"
      },
      "source": [
        "prob = np.linspace(0.0, 1, 10000)\n",
        "plt.plot(prob, -np.log(prob))\n",
        "plt.grid()"
      ],
      "execution_count": null,
      "outputs": [
        {
          "output_type": "stream",
          "name": "stderr",
          "text": [
            "/usr/local/lib/python3.7/dist-packages/ipykernel_launcher.py:2: RuntimeWarning: divide by zero encountered in log\n",
            "  \n"
          ]
        },
        {
          "output_type": "display_data",
          "data": {
            "text/plain": [
              "<Figure size 432x288 with 1 Axes>"
            ],
            "image/png": "[encoded data removed]"
          },
          "metadata": {
            "needs_background": "light"
          }
        }
      ]
    },
    {
      "cell_type": "markdown",
      "metadata": {
        "id": "bDqrVFZtai2G"
      },
      "source": [
        "### Further Info about loss functions\n",
        "\n",
        "Note that what we're using here is commonly called the (softmax-) cross-entropy, sometimes also abbreviated log-loss. \n",
        "\n",
        "If you want to learn more about different loss functions, this is a nice overview: https://arxiv.org/abs/1702.05659\n",
        "\n",
        "In general, for multi-class classification problems the cross-entropy loss works very well. What is important from time-to-time is to use the `weight` parameter of the `CrossEntropyLoss` class (or `F.cross_entropy function`) to perform class-weighting in imbalanced datasets that \"happen\" frequently in practice, see e.g. in this paper:\n",
        "http://openaccess.thecvf.com/content_CVPR_2019/html/Cui_Class-Balanced_Loss_Based_on_Effective_Number_of_Samples_CVPR_2019_paper.html\n"
      ]
    },
    {
      "cell_type": "markdown",
      "metadata": {
        "id": "PAnAvUjPisX6"
      },
      "source": [
        "## Backpropagation\n",
        "\n",
        "We now need to compute the gradient of the weight and bias tensor with respect to the loss. Luckily, PyTorch supplies us with an autograd mechanism that internally computes the gradients at each operations and propagates the error from the output of the network to the input, often called the backward pass.\n",
        "\n",
        "Remember, that is what we did until now:"
      ]
    },
    {
      "cell_type": "code",
      "metadata": {
        "id": "PBx7CofPdhW_",
        "colab": {
          "base_uri": "https://localhost:8080/"
        },
        "outputId": "b2c664ed-7d19-415a-85ce-57e324dfde4a"
      },
      "source": [
        "# initialize network parameters\n",
        "weight = torch.randn((28*28, 10), requires_grad=True)\n",
        "bias = torch.zeros(10, requires_grad=True)\n",
        "# run one batch of images (Xb) through the network\n",
        "output = forward(Xb, weight, bias)\n",
        "# compute loss\n",
        "loss = F.cross_entropy(output, yb)\n",
        "loss"
      ],
      "execution_count": null,
      "outputs": [
        {
          "output_type": "execute_result",
          "data": {
            "text/plain": [
              "tensor(13.8342, grad_fn=<NllLossBackward0>)"
            ]
          },
          "metadata": {},
          "execution_count": 68
        }
      ]
    },
    {
      "cell_type": "markdown",
      "metadata": {
        "id": "espLFHZKeEWA"
      },
      "source": [
        "Now we want to know how we should change the bias and weight parameter in order to *decrease* the loss. For this, we're using the *gradient* of the parameters (with respect to the *loss*).\n",
        "\n",
        "The gradients of a tensor can be accessed by the .grad attribute after running backward on the output as follows. At first, the gradient is empty:"
      ]
    },
    {
      "cell_type": "code",
      "metadata": {
        "id": "k8P5tZkOisX7"
      },
      "source": [
        "bias.grad"
      ],
      "execution_count": null,
      "outputs": []
    },
    {
      "cell_type": "markdown",
      "metadata": {
        "id": "lkX_qbx5isX-"
      },
      "source": [
        "We then run backpropagation by calling:"
      ]
    },
    {
      "cell_type": "code",
      "metadata": {
        "id": "ZB5rrAqVisX-"
      },
      "source": [
        "loss.backward()"
      ],
      "execution_count": null,
      "outputs": []
    },
    {
      "cell_type": "markdown",
      "metadata": {
        "id": "yNx3vwmyisYC"
      },
      "source": [
        "Then, we can read out the gradient using `bias.grad`, which returns a tensor that has the derivative of all the values in the `bias` parameter with respect to the loss.\n",
        "\n",
        "### Question\n",
        "\n",
        "What is the shape of the gradient of `bias` and `weight`?\n",
        "\n",
        "-\n",
        "\n",
        "-\n",
        "\n",
        "-\n",
        "\n",
        "-\n",
        "\n",
        "-\n",
        "\n",
        "-\n",
        "\n",
        "-\n",
        "\n",
        "-\n",
        "\n",
        "-\n",
        "\n",
        "-\n",
        "\n",
        "-\n",
        "\n",
        "-\n",
        "\n",
        "-\n",
        "\n",
        "-\n",
        "\n",
        "-\n",
        "\n",
        "-\n",
        "\n",
        "-\n",
        "\n",
        "-\n",
        "\n",
        "-\n",
        "\n",
        "-\n",
        "\n",
        "-"
      ]
    },
    {
      "cell_type": "code",
      "metadata": {
        "id": "0GtrSmWYisYC",
        "colab": {
          "base_uri": "https://localhost:8080/"
        },
        "outputId": "bf9c4907-b3cf-4d75-d043-eb8e8db00d6f"
      },
      "source": [
        "bias.grad"
      ],
      "execution_count": null,
      "outputs": [
        {
          "output_type": "execute_result",
          "data": {
            "text/plain": [
              "tensor([-0.1142,  0.1693,  0.0381, -0.0858,  0.0286,  0.1086, -0.0231,  0.0029,\n",
              "        -0.0469, -0.0777])"
            ]
          },
          "metadata": {},
          "execution_count": 71
        }
      ]
    },
    {
      "cell_type": "code",
      "metadata": {
        "id": "Us5zSR-2isYG",
        "colab": {
          "base_uri": "https://localhost:8080/"
        },
        "outputId": "4b9cc89e-3eff-4b14-927e-ff181570f134"
      },
      "source": [
        "bias.grad.shape"
      ],
      "execution_count": null,
      "outputs": [
        {
          "output_type": "execute_result",
          "data": {
            "text/plain": [
              "torch.Size([10])"
            ]
          },
          "metadata": {},
          "execution_count": 72
        }
      ]
    },
    {
      "cell_type": "code",
      "metadata": {
        "id": "kWu9vZeoisYJ",
        "colab": {
          "base_uri": "https://localhost:8080/"
        },
        "outputId": "16389fd1-be60-4377-8724-6f139292b612"
      },
      "source": [
        "weight.grad.shape"
      ],
      "execution_count": null,
      "outputs": [
        {
          "output_type": "execute_result",
          "data": {
            "text/plain": [
              "torch.Size([784, 10])"
            ]
          },
          "metadata": {},
          "execution_count": 73
        }
      ]
    },
    {
      "cell_type": "code",
      "metadata": {
        "id": "XBSmhnd1isYL",
        "colab": {
          "base_uri": "https://localhost:8080/"
        },
        "outputId": "41bbff31-049b-4425-f43f-5d7b6989c3fe"
      },
      "source": [
        "weight.grad"
      ],
      "execution_count": null,
      "outputs": [
        {
          "output_type": "execute_result",
          "data": {
            "text/plain": [
              "tensor([[0., 0., 0.,  ..., 0., 0., 0.],\n",
              "        [0., 0., 0.,  ..., 0., 0., 0.],\n",
              "        [0., 0., 0.,  ..., 0., 0., 0.],\n",
              "        ...,\n",
              "        [0., 0., 0.,  ..., 0., 0., 0.],\n",
              "        [0., 0., 0.,  ..., 0., 0., 0.],\n",
              "        [0., 0., 0.,  ..., 0., 0., 0.]])"
            ]
          },
          "metadata": {},
          "execution_count": 74
        }
      ]
    },
    {
      "cell_type": "markdown",
      "metadata": {
        "id": "NPAain1kTrsP"
      },
      "source": [
        "You can learn more about backpropagation and the math basics here:\n",
        " - **extremely good animations and explanations** of neural networks, backpropagation and gradient descent are the [video series by 3blue1brown](https://www.youtube.com/playlist?list=PLZHQObOWTQDNU6R1_67000Dx_ZCJB-3pi)\n",
        " - study [Micrograd](https://github.com/karpathy/micrograd) - a tine autograd engine written in Python, only about 100 lines of code\n",
        " - a very [gentle writeup](https://explained.ai/matrix-calculus/) of the mathematical background of matrix and derivative calculus needed by deep learning\n",
        " - read [the autograd tutorial](https://pytorch.org/tutorials/beginner/blitz/autograd_tutorial.html) from the PyTorch authors\n",
        "\n"
      ]
    },
    {
      "cell_type": "markdown",
      "metadata": {
        "id": "f9mMDJMIisYN"
      },
      "source": [
        "## Gradient descent\n",
        "\n",
        "We can now change the weight and bias parameter in order to bring down the loss. Since we don't want to backpropagate through this gradient update step, we need to disable the autograd feature for these steps using with no_grad. We also need to define a learning rate (lr)."
      ]
    },
    {
      "cell_type": "code",
      "metadata": {
        "id": "a_2KtbxBisYO",
        "colab": {
          "base_uri": "https://localhost:8080/"
        },
        "outputId": "856e42ce-450b-4d90-fdb4-892fd5ed9993"
      },
      "source": [
        "lr = 1.e-1\n",
        "\n",
        "print(\"bias before: \", bias)\n",
        "\n",
        "with torch.no_grad(): # TODO: why do we need this?\n",
        "    weight -= lr * weight.grad\n",
        "    weight.grad.zero_()\n",
        "    bias -= lr * bias.grad\n",
        "    bias.grad.zero_()\n",
        "    \n",
        "print(\"bias after: \", bias)"
      ],
      "execution_count": null,
      "outputs": [
        {
          "output_type": "stream",
          "name": "stdout",
          "text": [
            "bias before:  tensor([0., 0., 0., 0., 0., 0., 0., 0., 0., 0.], requires_grad=True)\n",
            "bias after:  tensor([ 0.0114, -0.0169, -0.0038,  0.0086, -0.0029, -0.0109,  0.0023, -0.0003,\n",
            "         0.0047,  0.0078], requires_grad=True)\n"
          ]
        }
      ]
    },
    {
      "cell_type": "markdown",
      "metadata": {
        "id": "pInV6bBPisYS"
      },
      "source": [
        "Did our model already improve after this one small mini batch gradient update?"
      ]
    },
    {
      "cell_type": "code",
      "metadata": {
        "id": "KZIyaP-5isYT",
        "colab": {
          "base_uri": "https://localhost:8080/"
        },
        "outputId": "5b192e31-f874-40f7-cb58-ab0aae1d48a8"
      },
      "source": [
        "output = forward(Xb, weight, bias)\n",
        "F.cross_entropy(output, yb)"
      ],
      "execution_count": null,
      "outputs": [
        {
          "output_type": "execute_result",
          "data": {
            "text/plain": [
              "tensor(13.2690, grad_fn=<NllLossBackward0>)"
            ]
          },
          "metadata": {},
          "execution_count": 76
        }
      ]
    },
    {
      "cell_type": "code",
      "metadata": {
        "id": "Dg0msz0tisYV",
        "colab": {
          "base_uri": "https://localhost:8080/"
        },
        "outputId": "faca8e03-d74d-4069-b458-3bbc367a27ac"
      },
      "source": [
        "accuracy(output, yb)"
      ],
      "execution_count": null,
      "outputs": [
        {
          "output_type": "execute_result",
          "data": {
            "text/plain": [
              "tensor(0.0938)"
            ]
          },
          "metadata": {},
          "execution_count": 77
        }
      ]
    },
    {
      "cell_type": "markdown",
      "metadata": {
        "id": "lgdo26-MisYb"
      },
      "source": [
        "# Full Training Loop\n",
        "\n",
        "In practice, we want to do these gradient update steps multiple times over the whole dataset. Usually, we construct an inner loop that runs over the whole (shuffled!) training set, and an outer loop that repeats this for a set number of epochs.\n",
        "\n",
        "Also, we were not very smart in initializing our weights. Lets use the popular [kaiming initialization](https://arxiv.org/abs/1502.01852) for initializing the weight matrix. Initialization is quite important, but as we will see later most of the times PyTorch provides us with a safe default. We just don't use it here since we did not yet learn about nn.Modules, yet.\n",
        "\n",
        "We should also measure the accuracy on our validation set after each epoch.\n",
        "\n",
        "## Your Tasks:\n",
        "\n",
        " - Finish the training loop prepared below and train the network for 5 epochs. What accuracy do you achieve?\n",
        " - Bonus: Visualize some images from the validation set that are misclassified - what can you see?\n",
        " - Bonus: Instead of MNIST, try FashionMNIST, which has the same format but is much harder then MNIST\n"
      ]
    },
    {
      "cell_type": "code",
      "metadata": {
        "id": "lhIcyQjDXE6e",
        "colab": {
          "base_uri": "https://localhost:8080/",
          "height": 130
        },
        "outputId": "e1480491-d48a-4a45-cc00-bc3cb0a82ccb"
      },
      "source": [
        "def forward(X, weight, bias):\n",
        "    return X.view(-1, 28*28) @ weight + bias\n",
        "\n",
        "def accuracy(output, label):\n",
        "    return (output.argmax(1) == label).float().mean()\n",
        "\n",
        "lr = 0.1\n",
        "\n",
        "# initialize weights\n",
        "weight = torch.zeros((28*28, 10), requires_grad=True)\n",
        "nn.init.kaiming_uniform_(weight, mode='fan_out')\n",
        "bias = torch.zeros(10, requires_grad=True)\n",
        "\n",
        "for epoch in range(5):\n",
        "    # train on mini batches\n",
        "    losses = []\n",
        "    for X, y in train_loader:\n",
        "        # TODO: forward pass\n",
        "        # compute loss\n",
        "        loss = # TODO\n",
        "        losses.append(loss.item())\n",
        "        # TODO: backward pass\n",
        "        with torch.no_grad():\n",
        "          # TODO: gradient descent update\n",
        "          # TODO: set gradients to zero\n",
        "            \n",
        "    # measure accuracy on the validation set\n",
        "    acc = # TODO use valid_loader and compute accuracy\n",
        "    print(\"epoch % 5d: loss: % 8.5f accuracy: %4.2f\" % (epoch, np.mean(losses), acc.item()))\n"
      ],
      "execution_count": null,
      "outputs": [
        {
          "output_type": "error",
          "ename": "SyntaxError",
          "evalue": "ignored",
          "traceback": [
            "\u001b[0;36m  File \u001b[0;32m\"<ipython-input-78-f28c92daf9eb>\"\u001b[0;36m, line \u001b[0;32m20\u001b[0m\n\u001b[0;31m    loss = # TODO\u001b[0m\n\u001b[0m                 ^\u001b[0m\n\u001b[0;31mSyntaxError\u001b[0m\u001b[0;31m:\u001b[0m invalid syntax\n"
          ]
        }
      ]
    },
    {
      "cell_type": "markdown",
      "metadata": {
        "id": "gjj8HBnMY80X"
      },
      "source": [
        "After training, you can visualize predictions of digits from the validation set to check if they are correct:"
      ]
    },
    {
      "cell_type": "code",
      "metadata": {
        "id": "kv1vv8yy4mOQ",
        "outputId": "1c9dfb82-b63e-48d3-d802-a0831b93700a",
        "colab": {
          "base_uri": "https://localhost:8080/",
          "height": 525
        }
      },
      "source": [
        "Xv, yv = next(iter(valid_loader))\n",
        "show_image_grid(Xv, y=yv, y_pred=forward(Xv, weight, bias).argmax(dim=1))"
      ],
      "execution_count": null,
      "outputs": [
        {
          "output_type": "display_data",
          "data": {
            "text/plain": [
              "<Figure size 864x648 with 24 Axes>"
            ],
            "image/png": "[encoded data removed]"
          },
          "metadata": {
            "needs_background": "light"
          }
        }
      ]
    },
    {
      "cell_type": "markdown",
      "metadata": {
        "id": "CouQookFisYe"
      },
      "source": [
        "## Lets take a look inside\n",
        "\n",
        "Since our model is so simple, we can actually take a look at the learned parameters of the network, as the weight matrix is just a stack of vectorized 28x28 images itself. Basically, we have trained 10 linear digit detectors. Lets have a look:"
      ]
    },
    {
      "cell_type": "code",
      "metadata": {
        "id": "plxd0eiWisYg",
        "outputId": "d3a2881a-44ab-4875-a9f3-b87502969fef",
        "colab": {
          "base_uri": "https://localhost:8080/"
        }
      },
      "source": [
        "W = weight.detach()\n",
        "W.shape"
      ],
      "execution_count": null,
      "outputs": [
        {
          "output_type": "execute_result",
          "data": {
            "text/plain": [
              "torch.Size([784, 10])"
            ]
          },
          "metadata": {},
          "execution_count": 80
        }
      ]
    },
    {
      "cell_type": "code",
      "metadata": {
        "scrolled": true,
        "id": "D8rg6c7bisYr",
        "outputId": "14cc37b3-773d-452e-8a57-9a8a5020d7bd",
        "colab": {
          "base_uri": "https://localhost:8080/"
        }
      },
      "source": [
        "W[:, 0]"
      ],
      "execution_count": null,
      "outputs": [
        {
          "output_type": "execute_result",
          "data": {
            "text/plain": [
              "tensor([ 6.9497e-01,  7.6999e-01, -8.8444e-01,  1.0352e+00, -8.1032e-01,\n",
              "        -8.8273e-01, -8.3868e-01, -8.4758e-01,  6.0253e-01, -6.0143e-01,\n",
              "        -8.1962e-01, -1.1512e+00,  1.0886e+00,  5.1548e-01,  1.4823e+00,\n",
              "        -1.2737e+00, -1.3297e+00, -1.4246e+00,  9.5161e-01, -6.2500e-01,\n",
              "        -2.9297e-01, -9.8733e-01,  4.2576e-01,  5.0264e-01, -2.1835e-01,\n",
              "        -6.7051e-01,  3.7444e-01,  9.5254e-01,  9.8771e-01, -4.2595e-01,\n",
              "         4.2698e-01,  2.1479e+00, -1.0667e-01,  8.0996e-01,  2.1163e+00,\n",
              "        -2.5674e+00, -7.3376e-01,  1.0967e+00, -9.0240e-01, -1.8675e+00,\n",
              "         2.0416e-01,  7.6713e-01,  3.4484e-01,  9.0056e-01, -1.2389e-01,\n",
              "         5.5370e-01, -5.2137e-01,  7.4251e-02,  2.9418e-02,  1.0264e+00,\n",
              "         8.0736e-01, -3.2818e-01,  5.2977e-01,  7.9523e-01,  2.1416e-01,\n",
              "        -2.2617e-01, -2.6911e-01, -7.5314e-01,  6.7864e-01,  1.1060e+00,\n",
              "         7.2453e-01, -1.2246e+00,  1.1216e+00, -2.3988e+00, -2.0463e-01,\n",
              "         6.2469e-01,  4.5027e-01, -3.0509e-01, -7.2869e-01, -3.3867e-01,\n",
              "        -6.1060e-01, -2.1661e-01,  5.4372e-01,  3.5019e-01,  1.2501e+00,\n",
              "        -3.3102e-01,  1.0359e+00, -2.0724e+00,  1.2469e+00, -1.1203e+00,\n",
              "         5.2221e-01,  2.2353e-01, -3.4736e-02,  3.8926e-01,  1.9605e+00,\n",
              "         1.3367e-01, -1.4185e+00, -4.2495e-01, -1.2795e+00, -4.0663e-01,\n",
              "         3.6072e-01,  1.8037e-01,  4.8362e-01,  7.6553e-01, -4.6930e-01,\n",
              "        -6.3938e-01,  7.7116e-01,  5.0260e-01,  1.0086e+00,  1.1411e+00,\n",
              "        -1.8182e+00,  2.2824e+00,  3.0059e-01,  3.4040e-01,  7.1179e-01,\n",
              "         2.8544e-01,  1.7192e-01, -7.6079e-01, -5.1218e-01,  5.0694e-01,\n",
              "         8.7443e-01, -5.0878e-01,  1.8066e+00,  1.0767e+00, -6.2808e-01,\n",
              "         2.6926e-01,  2.7424e-01,  2.1406e-01, -6.7519e-01, -1.0289e+00,\n",
              "        -7.1543e-01, -1.5131e+00, -1.0879e+00,  6.7230e-01, -6.2163e-03,\n",
              "        -6.9798e-02, -1.4358e+00, -3.0476e-01,  1.7735e+00,  1.7511e-01,\n",
              "         4.1665e-01,  2.4634e-02, -6.9531e-01, -4.5983e-01,  5.5518e-01,\n",
              "         1.2680e+00, -7.9033e-01, -8.1004e-01, -2.6142e+00, -5.4672e-02,\n",
              "        -1.1429e+00, -8.1110e-01,  9.4617e-01, -2.2093e+00,  5.6911e-01,\n",
              "        -4.3415e-01, -8.5780e-01,  2.7853e-01, -7.6374e-01,  6.5248e-01,\n",
              "         1.3948e+00,  1.7841e-01, -1.7338e+00, -1.6594e-01, -9.8335e-01,\n",
              "        -2.9415e-01, -9.8572e-01,  4.1579e-01,  4.2834e-01,  6.5769e-01,\n",
              "        -4.0575e-01, -1.3722e+00,  3.9407e-02, -5.1441e-01,  2.6535e-01,\n",
              "        -7.5160e-01,  1.3175e-01,  1.0116e+00, -2.5141e-01, -2.8634e-01,\n",
              "         7.7107e-01, -2.0138e+00, -2.1309e+00, -2.6616e-01,  3.8306e-01,\n",
              "         7.3801e-01, -2.8682e-01,  1.6037e+00, -8.6867e-01, -1.7158e+00,\n",
              "         1.3943e+00,  3.8775e-01, -5.1446e-01, -2.9873e+00,  4.0378e-01,\n",
              "        -2.5225e-02, -9.7870e-01, -1.0717e+00,  3.6253e-01,  1.0348e+00,\n",
              "         1.8446e+00, -8.4050e-03,  1.2185e+00,  1.1491e+00,  2.2778e-01,\n",
              "        -1.6956e+00, -5.4145e-01, -8.7225e-01, -3.9433e-01,  3.4637e-01,\n",
              "         1.2411e+00, -2.5690e-01, -4.1092e-01,  3.7788e-01, -1.4160e+00,\n",
              "         1.1896e+00, -2.5533e-01, -1.2098e+00,  1.3175e+00, -1.2536e+00,\n",
              "        -8.9133e-01, -3.6030e-01, -5.5125e-01,  1.3572e+00, -6.5578e-02,\n",
              "         2.9954e-01, -3.0966e-01, -1.3116e-01,  1.0371e+00, -2.7541e-01,\n",
              "         3.9078e-02,  2.3143e-01,  7.2101e-01, -1.4462e-02, -1.5012e+00,\n",
              "        -5.6288e-01,  1.1320e+00, -3.6523e-01,  7.1961e-01,  2.1814e-03,\n",
              "         1.7747e-01,  5.6314e-01,  1.5298e+00, -6.3782e-01,  3.7954e-01,\n",
              "        -1.6912e+00,  1.3040e+00, -1.5135e+00, -4.1725e-02, -8.6923e-01,\n",
              "         2.5737e-01,  6.1435e-01,  4.9995e-01,  2.1154e-01, -1.1827e+00,\n",
              "         1.0284e+00,  1.6268e+00,  1.4173e-01,  1.3701e+00, -6.4409e-01,\n",
              "        -1.6882e-01, -3.7438e-01, -4.7399e-01, -5.0793e-01,  1.1319e-01,\n",
              "         2.4772e-01,  1.7935e-01, -1.6728e+00,  3.1622e-01,  1.3510e+00,\n",
              "        -6.8465e-01,  1.2165e+00, -5.3139e-01, -1.1347e+00, -1.8946e+00,\n",
              "        -4.1734e-01, -1.7456e+00, -1.6334e-01, -1.7448e-01,  3.1674e-01,\n",
              "         2.4882e-03,  6.6298e-01, -5.6836e-01, -5.7866e-01,  2.2521e-01,\n",
              "        -6.8788e-01, -1.6889e-01, -3.8287e-01,  4.6310e-01,  3.3270e-01,\n",
              "        -1.6183e-01,  1.4944e+00, -1.5742e-01, -1.1798e+00,  1.0961e+00,\n",
              "        -1.0609e+00, -8.2411e-01, -8.7320e-01, -1.0646e+00,  1.9611e+00,\n",
              "         1.4395e+00,  7.5673e-01, -5.8531e-01,  1.0280e+00, -6.5112e-01,\n",
              "        -5.0009e-01,  3.9290e-01, -3.7148e-01, -2.5853e-01,  2.7800e-01,\n",
              "         1.0692e+00, -1.6395e+00, -2.0977e+00,  1.6576e+00, -9.0090e-01,\n",
              "         2.2032e+00,  3.3094e-01,  1.9493e+00,  7.5389e-01, -9.5967e-02,\n",
              "         2.1752e-01, -1.4226e+00, -5.1327e-01,  3.8855e-01, -1.8863e-01,\n",
              "        -5.8361e-01,  7.1321e-01, -7.5929e-01, -7.5322e-01,  5.5842e-01,\n",
              "        -4.8815e-03, -1.3171e-01, -4.1118e-01,  7.1521e-01,  1.1002e+00,\n",
              "        -1.2106e+00,  1.3189e+00,  1.4117e+00, -3.0502e-01, -1.1565e+00,\n",
              "         5.3839e-01, -4.2666e-01,  6.1710e-03,  4.6933e-02,  9.8846e-01,\n",
              "        -1.4368e+00, -6.0792e-01, -6.8190e-01,  1.0589e+00,  9.3096e-02,\n",
              "         1.3373e+00, -4.6248e-01, -5.9417e-01, -1.9553e+00, -4.7007e-01,\n",
              "         6.9965e-01, -7.0625e-01,  2.0034e+00,  1.1472e+00,  1.7494e-01,\n",
              "        -8.0685e-01,  7.9309e-01, -2.8587e-01, -4.5523e-01, -4.9076e-01,\n",
              "        -1.6171e-01, -9.4325e-01,  6.9080e-01,  8.4611e-01, -1.2843e+00,\n",
              "         4.4977e-01,  1.2348e-01,  1.9886e+00,  1.0559e+00,  2.2434e-01,\n",
              "        -7.8803e-01, -1.9317e-01,  1.9526e-01, -1.1756e+00,  1.7939e-01,\n",
              "        -1.7485e+00,  5.8590e-01, -1.6827e-01,  2.1099e+00,  9.2808e-01,\n",
              "        -8.1579e-01, -1.2410e+00,  9.7172e-01,  5.6458e-01, -6.4931e-01,\n",
              "         5.0578e-01,  7.4536e-01,  5.6994e-01,  2.3989e-01,  1.2129e+00,\n",
              "        -3.5567e-01,  1.1601e+00, -3.3341e-02, -3.1007e-01,  3.8789e-01,\n",
              "        -1.6092e+00,  8.8170e-01, -4.4187e-01,  7.7996e-01,  4.6377e-01,\n",
              "        -1.6186e+00,  1.6740e+00, -1.1611e+00, -8.0963e-01, -4.7083e-02,\n",
              "         1.4717e+00,  2.9019e-01, -4.3777e-01, -7.2370e-02, -1.0642e-01,\n",
              "        -1.0648e+00,  1.1379e-02, -6.3300e-01,  2.7582e-01,  9.3318e-01,\n",
              "        -1.7818e+00,  2.7188e-01, -1.1576e+00, -3.5689e-01,  1.0282e+00,\n",
              "        -4.2239e-01,  1.8337e-01,  9.9170e-02,  2.2471e-01, -1.2105e+00,\n",
              "         8.8216e-01, -7.9821e-01,  6.3152e-01, -8.4069e-04,  7.2646e-01,\n",
              "        -2.1494e+00, -2.3628e-01, -1.7366e-01,  3.8173e-01, -5.6721e-01,\n",
              "         5.7710e-01, -8.6813e-01, -4.5037e-01, -1.1645e+00,  5.4215e-01,\n",
              "        -2.9080e-01, -6.3834e-01, -1.3172e+00, -1.6727e+00,  1.9177e+00,\n",
              "         7.2419e-01,  2.8879e-01, -2.9166e-01, -1.5267e+00, -2.4507e+00,\n",
              "        -1.5832e-02, -1.2269e-01,  1.3354e+00,  3.0342e-02, -1.9126e-02,\n",
              "         5.9116e-02, -3.7365e-01, -1.0086e+00, -3.7672e-01,  5.0695e-01,\n",
              "         1.4080e+00,  8.4757e-02, -5.4217e-01,  3.1255e-01,  3.9833e-01,\n",
              "         1.4123e+00,  2.6181e-01, -1.4088e-01,  1.0291e+00,  4.3632e-01,\n",
              "        -3.3638e-03, -7.0504e-01, -4.2896e-01,  1.0246e+00,  2.5781e-01,\n",
              "         2.2547e+00, -1.3580e+00, -1.6455e+00,  8.3797e-01,  5.8364e-01,\n",
              "         8.3575e-01,  1.0214e+00, -6.6863e-01, -1.7224e+00,  1.2511e-01,\n",
              "        -6.9785e-01, -1.1195e+00,  6.9765e-02, -5.6588e-01, -1.0119e+00,\n",
              "        -1.6569e+00, -1.4863e+00, -4.3708e-01, -1.8007e+00,  8.8985e-01,\n",
              "        -1.0283e+00, -1.1911e-01, -6.6284e-01,  6.3036e-01,  5.6591e-01,\n",
              "         1.9519e+00,  1.5438e-01,  6.8540e-01,  2.1845e+00,  2.0854e-01,\n",
              "         7.4145e-01, -7.4618e-01, -7.9480e-01,  2.7761e-01, -1.0204e+00,\n",
              "        -5.0724e-01, -1.3491e-01, -9.1011e-01, -1.3949e+00, -4.4688e-01,\n",
              "        -2.6667e-01,  9.3648e-01, -3.7557e-02,  1.6879e+00,  8.8091e-02,\n",
              "        -3.8722e-01, -1.5309e-01, -1.3244e+00, -1.5805e+00, -1.2727e+00,\n",
              "         1.4332e-01,  3.8378e-02,  1.7165e+00,  3.4228e-01,  8.0919e-01,\n",
              "         1.7261e-01,  6.3033e-01,  1.5757e-01, -4.5516e-01,  1.0578e+00,\n",
              "         1.3766e-01, -1.2493e+00, -2.6549e-01,  1.2251e+00,  1.1517e+00,\n",
              "        -9.2512e-01,  3.1836e-01, -8.4556e-01, -7.0609e-01,  3.9394e-01,\n",
              "         1.4159e+00, -1.1445e+00, -3.9451e-01, -3.9062e-01, -1.0019e+00,\n",
              "        -3.8531e-01, -5.0268e-01,  6.1094e-03,  6.6319e-01,  3.0816e-01,\n",
              "        -1.5965e+00,  5.9803e-01,  1.4274e+00, -4.7657e-01, -9.7732e-01,\n",
              "         1.3123e+00,  7.7414e-01,  1.1957e+00, -3.7086e-02, -7.3061e-01,\n",
              "         2.5861e+00,  2.0619e-01, -1.2888e+00,  4.1438e-01, -1.2642e+00,\n",
              "         5.7061e-01, -4.3742e-03, -1.8407e+00,  2.2603e-01,  3.0595e-01,\n",
              "        -3.6319e-01,  4.2457e-01, -8.0027e-01,  1.0170e+00,  7.8786e-01,\n",
              "        -3.1678e-01, -1.0006e+00,  1.2721e+00,  7.1325e-01,  2.8968e-02,\n",
              "        -1.3257e-01,  1.0564e+00,  1.1371e+00, -2.0982e-01, -2.8510e-01,\n",
              "        -5.0934e-01,  7.9883e-01,  2.5477e-03,  4.6334e-01, -1.2503e-02,\n",
              "        -6.0340e-01,  3.8867e-01, -1.2201e+00, -1.7471e+00, -1.6175e+00,\n",
              "        -7.0824e-01,  2.1539e-01, -5.3468e-01, -7.9702e-02, -1.4105e+00,\n",
              "        -8.9455e-01,  3.9861e-01, -6.8968e-01,  1.0896e+00, -8.0281e-01,\n",
              "         1.5602e+00,  1.2300e+00,  1.1677e+00,  1.1792e+00, -4.3964e-01,\n",
              "        -2.5802e-01,  8.1118e-01, -5.0810e-01, -1.4111e+00, -4.6197e-01,\n",
              "         7.9569e-02,  1.2454e+00, -1.4938e+00,  2.0287e+00,  1.0408e+00,\n",
              "        -1.4534e+00,  1.0521e+00,  1.1717e+00, -3.1849e-01,  1.7128e+00,\n",
              "         1.2078e+00,  1.1616e+00,  1.3818e+00, -8.4338e-01,  2.2363e+00,\n",
              "         4.2696e-01,  5.4612e-01, -1.2720e+00, -1.2397e+00, -8.3373e-02,\n",
              "         1.5184e-01,  3.6579e-01,  2.1513e+00, -1.4283e+00, -3.0674e-01,\n",
              "         9.3850e-01, -1.0403e+00,  2.4895e-01, -9.3419e-02,  8.5019e-01,\n",
              "         7.3167e-02,  1.6537e-01, -1.1771e+00, -1.0931e+00,  1.0123e+00,\n",
              "         1.9437e-01,  1.7724e-01, -2.3367e+00,  1.0549e-01,  1.2466e+00,\n",
              "        -1.2352e-01,  3.0479e-01, -1.3807e+00,  1.3814e+00,  7.1428e-02,\n",
              "         9.0416e-01,  1.8750e-01,  1.0306e+00, -5.9083e-01, -2.0603e-01,\n",
              "        -2.5567e-01, -2.3696e+00,  5.2859e-02,  2.5293e-01, -9.8070e-01,\n",
              "         5.8424e-01,  1.0047e-01, -3.6759e-01,  3.9675e-02,  1.5990e-01,\n",
              "         2.1488e+00, -9.6484e-01,  3.2664e-01,  1.3786e+00, -1.2767e+00,\n",
              "         9.9926e-01,  5.4371e-01, -9.4687e-01,  4.6223e-01,  7.9276e-01,\n",
              "         8.9285e-01,  2.5505e-01, -5.7954e-01, -1.1208e+00, -3.8972e-01,\n",
              "        -1.6563e-01, -1.1254e+00, -7.1592e-01,  9.0190e-02, -8.9729e-01,\n",
              "        -9.1235e-01,  5.2687e-01, -4.8550e-01,  1.2079e+00, -8.0280e-01,\n",
              "        -1.4150e+00,  2.8672e-01, -5.1180e-01,  1.7795e-01,  9.7067e-01,\n",
              "        -1.2998e-01,  2.1784e+00, -2.2312e-01,  6.5327e-01,  7.9538e-02,\n",
              "        -7.6523e-02, -7.1598e-03, -4.3346e-01, -1.7535e+00, -8.2176e-01,\n",
              "         4.5537e-01, -3.3425e-01,  9.6316e-01,  2.3733e+00,  1.3680e+00,\n",
              "        -2.2068e+00,  6.3586e-02,  5.8053e-01, -1.0894e+00,  4.9208e-01,\n",
              "         3.9114e-01,  1.9363e-01, -7.6994e-01,  1.2095e-01, -1.2540e+00,\n",
              "         8.7970e-01,  1.8210e+00,  6.2075e-01, -8.9306e-01,  1.4983e+00,\n",
              "         4.0176e-01, -3.7584e-01,  7.6369e-01, -1.6368e-02,  7.9693e-01,\n",
              "         2.7398e-01, -4.3521e-01,  3.9199e-01,  4.3330e-01,  1.2618e+00,\n",
              "        -1.1308e+00, -2.4555e-01,  7.0952e-02, -6.5286e-01,  1.0476e+00,\n",
              "         8.5636e-01,  1.0834e-01,  2.2046e-01,  1.0446e+00, -1.1494e+00,\n",
              "         8.4014e-02, -9.1167e-01, -3.3793e-01,  1.1558e+00, -2.5229e-01,\n",
              "        -4.2321e-01, -1.5659e+00, -5.3289e-01,  2.3576e+00,  7.9868e-02,\n",
              "         7.3875e-02,  7.5239e-01,  7.1341e-01,  9.9532e-01,  7.0515e-01,\n",
              "        -3.6930e-01,  1.1723e+00,  1.4139e+00, -1.0496e-01,  5.9496e-01,\n",
              "         2.0080e+00,  6.8078e-01, -1.7237e+00, -3.9727e-01,  8.3465e-01,\n",
              "         9.0792e-01, -1.4907e-01, -1.9517e+00,  9.7471e-01])"
            ]
          },
          "metadata": {},
          "execution_count": 81
        }
      ]
    },
    {
      "cell_type": "markdown",
      "metadata": {
        "id": "xhQKnRp9UVvg"
      },
      "source": [
        "Each row basically corresponds to a template of that class, which we can visualize."
      ]
    },
    {
      "cell_type": "code",
      "metadata": {
        "id": "KhLYePtEisYw",
        "outputId": "7b823283-3456-4635-d86c-727535232b4e",
        "colab": {
          "base_uri": "https://localhost:8080/",
          "height": 282
        }
      },
      "source": [
        "plt.imshow(W[:, 0].reshape(28, 28))"
      ],
      "execution_count": null,
      "outputs": [
        {
          "output_type": "execute_result",
          "data": {
            "text/plain": [
              "<matplotlib.image.AxesImage at 0x7fc790cba490>"
            ]
          },
          "metadata": {},
          "execution_count": 82
        },
        {
          "output_type": "display_data",
          "data": {
            "text/plain": [
              "<Figure size 432x288 with 1 Axes>"
            ],
            "image/png": "[encoded data removed]"
          },
          "metadata": {
            "needs_background": "light"
          }
        }
      ]
    },
    {
      "cell_type": "code",
      "metadata": {
        "id": "SbVK5wnOisYz",
        "outputId": "e816ef1f-89de-4f14-9f6d-df453998479d",
        "colab": {
          "base_uri": "https://localhost:8080/",
          "height": 357
        }
      },
      "source": [
        "show_image_grid(W.reshape(28, 28, 10).permute(2, 0, 1), nrow=4)"
      ],
      "execution_count": null,
      "outputs": [
        {
          "output_type": "display_data",
          "data": {
            "text/plain": [
              "<Figure size 576x432 with 10 Axes>"
            ],
            "image/png": "[encoded data removed]"
          },
          "metadata": {
            "needs_background": "light"
          }
        }
      ]
    },
    {
      "cell_type": "code",
      "metadata": {
        "id": "qWbQuTccbANz"
      },
      "source": [
        ""
      ],
      "execution_count": null,
      "outputs": []
    }
  ]
}