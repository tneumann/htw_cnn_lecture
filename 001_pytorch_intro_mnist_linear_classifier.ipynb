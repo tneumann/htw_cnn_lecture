{
  "nbformat": 4,
  "nbformat_minor": 0,
  "metadata": {
    "kernelspec": {
      "display_name": "Python 3",
      "language": "python",
      "name": "python3"
    },
    "language_info": {
      "codemirror_mode": {
        "name": "ipython",
        "version": 3
      },
      "file_extension": ".py",
      "mimetype": "text/x-python",
      "name": "python",
      "nbconvert_exporter": "python",
      "pygments_lexer": "ipython3",
      "version": "3.7.2"
    },
    "colab": {
      "name": "001-pytorch-intro-mnist-linear-classifier.ipynb",
      "provenance": [],
      "collapsed_sections": []
    },
    "widgets": {
      "application/vnd.jupyter.widget-state+json": {
        "ba8e54aa0a3a42fa83682a5d16b973e7": {
          "model_module": "@jupyter-widgets/controls",
          "model_name": "HBoxModel",
          "state": {
            "_view_name": "HBoxView",
            "_dom_classes": [],
            "_model_name": "HBoxModel",
            "_view_module": "@jupyter-widgets/controls",
            "_model_module_version": "1.5.0",
            "_view_count": null,
            "_view_module_version": "1.5.0",
            "box_style": "",
            "layout": "IPY_MODEL_4f676b6dcbf949e0b3ea25e20409cf67",
            "_model_module": "@jupyter-widgets/controls",
            "children": [
              "IPY_MODEL_3a6c5223e0fe44b8af140589034364ae",
              "IPY_MODEL_e82d7dac616c4180a32e8a98a70bbc71"
            ]
          }
        },
        "4f676b6dcbf949e0b3ea25e20409cf67": {
          "model_module": "@jupyter-widgets/base",
          "model_name": "LayoutModel",
          "state": {
            "_view_name": "LayoutView",
            "grid_template_rows": null,
            "right": null,
            "justify_content": null,
            "_view_module": "@jupyter-widgets/base",
            "overflow": null,
            "_model_module_version": "1.2.0",
            "_view_count": null,
            "flex_flow": null,
            "width": null,
            "min_width": null,
            "border": null,
            "align_items": null,
            "bottom": null,
            "_model_module": "@jupyter-widgets/base",
            "top": null,
            "grid_column": null,
            "overflow_y": null,
            "overflow_x": null,
            "grid_auto_flow": null,
            "grid_area": null,
            "grid_template_columns": null,
            "flex": null,
            "_model_name": "LayoutModel",
            "justify_items": null,
            "grid_row": null,
            "max_height": null,
            "align_content": null,
            "visibility": null,
            "align_self": null,
            "height": null,
            "min_height": null,
            "padding": null,
            "grid_auto_rows": null,
            "grid_gap": null,
            "max_width": null,
            "order": null,
            "_view_module_version": "1.2.0",
            "grid_template_areas": null,
            "object_position": null,
            "object_fit": null,
            "grid_auto_columns": null,
            "margin": null,
            "display": null,
            "left": null
          }
        },
        "3a6c5223e0fe44b8af140589034364ae": {
          "model_module": "@jupyter-widgets/controls",
          "model_name": "FloatProgressModel",
          "state": {
            "_view_name": "ProgressView",
            "style": "IPY_MODEL_dac883b6ba6d4dc5a443afe791ea7b09",
            "_dom_classes": [],
            "description": "",
            "_model_name": "FloatProgressModel",
            "bar_style": "success",
            "max": 9912422,
            "_view_module": "@jupyter-widgets/controls",
            "_model_module_version": "1.5.0",
            "value": 9912422,
            "_view_count": null,
            "_view_module_version": "1.5.0",
            "orientation": "horizontal",
            "min": 0,
            "description_tooltip": null,
            "_model_module": "@jupyter-widgets/controls",
            "layout": "IPY_MODEL_4c806552aa694695a55330ef25222cf8"
          }
        },
        "e82d7dac616c4180a32e8a98a70bbc71": {
          "model_module": "@jupyter-widgets/controls",
          "model_name": "HTMLModel",
          "state": {
            "_view_name": "HTMLView",
            "style": "IPY_MODEL_6b57d928d809478b924256028c489a9b",
            "_dom_classes": [],
            "description": "",
            "_model_name": "HTMLModel",
            "placeholder": "​",
            "_view_module": "@jupyter-widgets/controls",
            "_model_module_version": "1.5.0",
            "value": " 9913344/? [00:02&lt;00:00, 3807139.80it/s]",
            "_view_count": null,
            "_view_module_version": "1.5.0",
            "description_tooltip": null,
            "_model_module": "@jupyter-widgets/controls",
            "layout": "IPY_MODEL_b750f2bf6ca64e5183914049b7907d24"
          }
        },
        "dac883b6ba6d4dc5a443afe791ea7b09": {
          "model_module": "@jupyter-widgets/controls",
          "model_name": "ProgressStyleModel",
          "state": {
            "_view_name": "StyleView",
            "_model_name": "ProgressStyleModel",
            "description_width": "initial",
            "_view_module": "@jupyter-widgets/base",
            "_model_module_version": "1.5.0",
            "_view_count": null,
            "_view_module_version": "1.2.0",
            "bar_color": null,
            "_model_module": "@jupyter-widgets/controls"
          }
        },
        "4c806552aa694695a55330ef25222cf8": {
          "model_module": "@jupyter-widgets/base",
          "model_name": "LayoutModel",
          "state": {
            "_view_name": "LayoutView",
            "grid_template_rows": null,
            "right": null,
            "justify_content": null,
            "_view_module": "@jupyter-widgets/base",
            "overflow": null,
            "_model_module_version": "1.2.0",
            "_view_count": null,
            "flex_flow": null,
            "width": null,
            "min_width": null,
            "border": null,
            "align_items": null,
            "bottom": null,
            "_model_module": "@jupyter-widgets/base",
            "top": null,
            "grid_column": null,
            "overflow_y": null,
            "overflow_x": null,
            "grid_auto_flow": null,
            "grid_area": null,
            "grid_template_columns": null,
            "flex": null,
            "_model_name": "LayoutModel",
            "justify_items": null,
            "grid_row": null,
            "max_height": null,
            "align_content": null,
            "visibility": null,
            "align_self": null,
            "height": null,
            "min_height": null,
            "padding": null,
            "grid_auto_rows": null,
            "grid_gap": null,
            "max_width": null,
            "order": null,
            "_view_module_version": "1.2.0",
            "grid_template_areas": null,
            "object_position": null,
            "object_fit": null,
            "grid_auto_columns": null,
            "margin": null,
            "display": null,
            "left": null
          }
        },
        "6b57d928d809478b924256028c489a9b": {
          "model_module": "@jupyter-widgets/controls",
          "model_name": "DescriptionStyleModel",
          "state": {
            "_view_name": "StyleView",
            "_model_name": "DescriptionStyleModel",
            "description_width": "",
            "_view_module": "@jupyter-widgets/base",
            "_model_module_version": "1.5.0",
            "_view_count": null,
            "_view_module_version": "1.2.0",
            "_model_module": "@jupyter-widgets/controls"
          }
        },
        "b750f2bf6ca64e5183914049b7907d24": {
          "model_module": "@jupyter-widgets/base",
          "model_name": "LayoutModel",
          "state": {
            "_view_name": "LayoutView",
            "grid_template_rows": null,
            "right": null,
            "justify_content": null,
            "_view_module": "@jupyter-widgets/base",
            "overflow": null,
            "_model_module_version": "1.2.0",
            "_view_count": null,
            "flex_flow": null,
            "width": null,
            "min_width": null,
            "border": null,
            "align_items": null,
            "bottom": null,
            "_model_module": "@jupyter-widgets/base",
            "top": null,
            "grid_column": null,
            "overflow_y": null,
            "overflow_x": null,
            "grid_auto_flow": null,
            "grid_area": null,
            "grid_template_columns": null,
            "flex": null,
            "_model_name": "LayoutModel",
            "justify_items": null,
            "grid_row": null,
            "max_height": null,
            "align_content": null,
            "visibility": null,
            "align_self": null,
            "height": null,
            "min_height": null,
            "padding": null,
            "grid_auto_rows": null,
            "grid_gap": null,
            "max_width": null,
            "order": null,
            "_view_module_version": "1.2.0",
            "grid_template_areas": null,
            "object_position": null,
            "object_fit": null,
            "grid_auto_columns": null,
            "margin": null,
            "display": null,
            "left": null
          }
        },
        "cd40130a64e444f5a9d05cba5588d527": {
          "model_module": "@jupyter-widgets/controls",
          "model_name": "HBoxModel",
          "state": {
            "_view_name": "HBoxView",
            "_dom_classes": [],
            "_model_name": "HBoxModel",
            "_view_module": "@jupyter-widgets/controls",
            "_model_module_version": "1.5.0",
            "_view_count": null,
            "_view_module_version": "1.5.0",
            "box_style": "",
            "layout": "IPY_MODEL_f3570313bb2142ff82d1157795b26295",
            "_model_module": "@jupyter-widgets/controls",
            "children": [
              "IPY_MODEL_dbc8a4b09fb24536922a288ad1ad71ef",
              "IPY_MODEL_05e19b6033e94186a74326fa6b4b1c5c"
            ]
          }
        },
        "f3570313bb2142ff82d1157795b26295": {
          "model_module": "@jupyter-widgets/base",
          "model_name": "LayoutModel",
          "state": {
            "_view_name": "LayoutView",
            "grid_template_rows": null,
            "right": null,
            "justify_content": null,
            "_view_module": "@jupyter-widgets/base",
            "overflow": null,
            "_model_module_version": "1.2.0",
            "_view_count": null,
            "flex_flow": null,
            "width": null,
            "min_width": null,
            "border": null,
            "align_items": null,
            "bottom": null,
            "_model_module": "@jupyter-widgets/base",
            "top": null,
            "grid_column": null,
            "overflow_y": null,
            "overflow_x": null,
            "grid_auto_flow": null,
            "grid_area": null,
            "grid_template_columns": null,
            "flex": null,
            "_model_name": "LayoutModel",
            "justify_items": null,
            "grid_row": null,
            "max_height": null,
            "align_content": null,
            "visibility": null,
            "align_self": null,
            "height": null,
            "min_height": null,
            "padding": null,
            "grid_auto_rows": null,
            "grid_gap": null,
            "max_width": null,
            "order": null,
            "_view_module_version": "1.2.0",
            "grid_template_areas": null,
            "object_position": null,
            "object_fit": null,
            "grid_auto_columns": null,
            "margin": null,
            "display": null,
            "left": null
          }
        },
        "dbc8a4b09fb24536922a288ad1ad71ef": {
          "model_module": "@jupyter-widgets/controls",
          "model_name": "FloatProgressModel",
          "state": {
            "_view_name": "ProgressView",
            "style": "IPY_MODEL_0734abb1e54a493089cbec0b55a290c9",
            "_dom_classes": [],
            "description": "",
            "_model_name": "FloatProgressModel",
            "bar_style": "success",
            "max": 28881,
            "_view_module": "@jupyter-widgets/controls",
            "_model_module_version": "1.5.0",
            "value": 28881,
            "_view_count": null,
            "_view_module_version": "1.5.0",
            "orientation": "horizontal",
            "min": 0,
            "description_tooltip": null,
            "_model_module": "@jupyter-widgets/controls",
            "layout": "IPY_MODEL_9288b13af84e4f0191dc2858e5401fff"
          }
        },
        "05e19b6033e94186a74326fa6b4b1c5c": {
          "model_module": "@jupyter-widgets/controls",
          "model_name": "HTMLModel",
          "state": {
            "_view_name": "HTMLView",
            "style": "IPY_MODEL_15f6f3485523485682ac6e8dae233190",
            "_dom_classes": [],
            "description": "",
            "_model_name": "HTMLModel",
            "placeholder": "​",
            "_view_module": "@jupyter-widgets/controls",
            "_model_module_version": "1.5.0",
            "value": " 29696/? [00:01&lt;00:00, 27443.49it/s]",
            "_view_count": null,
            "_view_module_version": "1.5.0",
            "description_tooltip": null,
            "_model_module": "@jupyter-widgets/controls",
            "layout": "IPY_MODEL_b99baff31f9f4adcb67c1cac519876f0"
          }
        },
        "0734abb1e54a493089cbec0b55a290c9": {
          "model_module": "@jupyter-widgets/controls",
          "model_name": "ProgressStyleModel",
          "state": {
            "_view_name": "StyleView",
            "_model_name": "ProgressStyleModel",
            "description_width": "initial",
            "_view_module": "@jupyter-widgets/base",
            "_model_module_version": "1.5.0",
            "_view_count": null,
            "_view_module_version": "1.2.0",
            "bar_color": null,
            "_model_module": "@jupyter-widgets/controls"
          }
        },
        "9288b13af84e4f0191dc2858e5401fff": {
          "model_module": "@jupyter-widgets/base",
          "model_name": "LayoutModel",
          "state": {
            "_view_name": "LayoutView",
            "grid_template_rows": null,
            "right": null,
            "justify_content": null,
            "_view_module": "@jupyter-widgets/base",
            "overflow": null,
            "_model_module_version": "1.2.0",
            "_view_count": null,
            "flex_flow": null,
            "width": null,
            "min_width": null,
            "border": null,
            "align_items": null,
            "bottom": null,
            "_model_module": "@jupyter-widgets/base",
            "top": null,
            "grid_column": null,
            "overflow_y": null,
            "overflow_x": null,
            "grid_auto_flow": null,
            "grid_area": null,
            "grid_template_columns": null,
            "flex": null,
            "_model_name": "LayoutModel",
            "justify_items": null,
            "grid_row": null,
            "max_height": null,
            "align_content": null,
            "visibility": null,
            "align_self": null,
            "height": null,
            "min_height": null,
            "padding": null,
            "grid_auto_rows": null,
            "grid_gap": null,
            "max_width": null,
            "order": null,
            "_view_module_version": "1.2.0",
            "grid_template_areas": null,
            "object_position": null,
            "object_fit": null,
            "grid_auto_columns": null,
            "margin": null,
            "display": null,
            "left": null
          }
        },
        "15f6f3485523485682ac6e8dae233190": {
          "model_module": "@jupyter-widgets/controls",
          "model_name": "DescriptionStyleModel",
          "state": {
            "_view_name": "StyleView",
            "_model_name": "DescriptionStyleModel",
            "description_width": "",
            "_view_module": "@jupyter-widgets/base",
            "_model_module_version": "1.5.0",
            "_view_count": null,
            "_view_module_version": "1.2.0",
            "_model_module": "@jupyter-widgets/controls"
          }
        },
        "b99baff31f9f4adcb67c1cac519876f0": {
          "model_module": "@jupyter-widgets/base",
          "model_name": "LayoutModel",
          "state": {
            "_view_name": "LayoutView",
            "grid_template_rows": null,
            "right": null,
            "justify_content": null,
            "_view_module": "@jupyter-widgets/base",
            "overflow": null,
            "_model_module_version": "1.2.0",
            "_view_count": null,
            "flex_flow": null,
            "width": null,
            "min_width": null,
            "border": null,
            "align_items": null,
            "bottom": null,
            "_model_module": "@jupyter-widgets/base",
            "top": null,
            "grid_column": null,
            "overflow_y": null,
            "overflow_x": null,
            "grid_auto_flow": null,
            "grid_area": null,
            "grid_template_columns": null,
            "flex": null,
            "_model_name": "LayoutModel",
            "justify_items": null,
            "grid_row": null,
            "max_height": null,
            "align_content": null,
            "visibility": null,
            "align_self": null,
            "height": null,
            "min_height": null,
            "padding": null,
            "grid_auto_rows": null,
            "grid_gap": null,
            "max_width": null,
            "order": null,
            "_view_module_version": "1.2.0",
            "grid_template_areas": null,
            "object_position": null,
            "object_fit": null,
            "grid_auto_columns": null,
            "margin": null,
            "display": null,
            "left": null
          }
        },
        "6fb68cfce2db4edf94c3713f9ce6ed68": {
          "model_module": "@jupyter-widgets/controls",
          "model_name": "HBoxModel",
          "state": {
            "_view_name": "HBoxView",
            "_dom_classes": [],
            "_model_name": "HBoxModel",
            "_view_module": "@jupyter-widgets/controls",
            "_model_module_version": "1.5.0",
            "_view_count": null,
            "_view_module_version": "1.5.0",
            "box_style": "",
            "layout": "IPY_MODEL_b30acd69425a4abd9df7d5776d13dcb6",
            "_model_module": "@jupyter-widgets/controls",
            "children": [
              "IPY_MODEL_a2d7d9f4e7144f8f9c45a214939b44d0",
              "IPY_MODEL_e9d5b0a45644417fbb5efdead15ae94c"
            ]
          }
        },
        "b30acd69425a4abd9df7d5776d13dcb6": {
          "model_module": "@jupyter-widgets/base",
          "model_name": "LayoutModel",
          "state": {
            "_view_name": "LayoutView",
            "grid_template_rows": null,
            "right": null,
            "justify_content": null,
            "_view_module": "@jupyter-widgets/base",
            "overflow": null,
            "_model_module_version": "1.2.0",
            "_view_count": null,
            "flex_flow": null,
            "width": null,
            "min_width": null,
            "border": null,
            "align_items": null,
            "bottom": null,
            "_model_module": "@jupyter-widgets/base",
            "top": null,
            "grid_column": null,
            "overflow_y": null,
            "overflow_x": null,
            "grid_auto_flow": null,
            "grid_area": null,
            "grid_template_columns": null,
            "flex": null,
            "_model_name": "LayoutModel",
            "justify_items": null,
            "grid_row": null,
            "max_height": null,
            "align_content": null,
            "visibility": null,
            "align_self": null,
            "height": null,
            "min_height": null,
            "padding": null,
            "grid_auto_rows": null,
            "grid_gap": null,
            "max_width": null,
            "order": null,
            "_view_module_version": "1.2.0",
            "grid_template_areas": null,
            "object_position": null,
            "object_fit": null,
            "grid_auto_columns": null,
            "margin": null,
            "display": null,
            "left": null
          }
        },
        "a2d7d9f4e7144f8f9c45a214939b44d0": {
          "model_module": "@jupyter-widgets/controls",
          "model_name": "FloatProgressModel",
          "state": {
            "_view_name": "ProgressView",
            "style": "IPY_MODEL_d86b1b9de3034131869da9dda6187d73",
            "_dom_classes": [],
            "description": "",
            "_model_name": "FloatProgressModel",
            "bar_style": "success",
            "max": 1648877,
            "_view_module": "@jupyter-widgets/controls",
            "_model_module_version": "1.5.0",
            "value": 1648877,
            "_view_count": null,
            "_view_module_version": "1.5.0",
            "orientation": "horizontal",
            "min": 0,
            "description_tooltip": null,
            "_model_module": "@jupyter-widgets/controls",
            "layout": "IPY_MODEL_63243e0c5a5c4bb2ab265dddd269f941"
          }
        },
        "e9d5b0a45644417fbb5efdead15ae94c": {
          "model_module": "@jupyter-widgets/controls",
          "model_name": "HTMLModel",
          "state": {
            "_view_name": "HTMLView",
            "style": "IPY_MODEL_45ab51ae13f44ef6b22863e28824f805",
            "_dom_classes": [],
            "description": "",
            "_model_name": "HTMLModel",
            "placeholder": "​",
            "_view_module": "@jupyter-widgets/controls",
            "_model_module_version": "1.5.0",
            "value": " 1649664/? [00:00&lt;00:00, 3175309.14it/s]",
            "_view_count": null,
            "_view_module_version": "1.5.0",
            "description_tooltip": null,
            "_model_module": "@jupyter-widgets/controls",
            "layout": "IPY_MODEL_1fb444c01c2a4d029030f849af5b9bd6"
          }
        },
        "d86b1b9de3034131869da9dda6187d73": {
          "model_module": "@jupyter-widgets/controls",
          "model_name": "ProgressStyleModel",
          "state": {
            "_view_name": "StyleView",
            "_model_name": "ProgressStyleModel",
            "description_width": "initial",
            "_view_module": "@jupyter-widgets/base",
            "_model_module_version": "1.5.0",
            "_view_count": null,
            "_view_module_version": "1.2.0",
            "bar_color": null,
            "_model_module": "@jupyter-widgets/controls"
          }
        },
        "63243e0c5a5c4bb2ab265dddd269f941": {
          "model_module": "@jupyter-widgets/base",
          "model_name": "LayoutModel",
          "state": {
            "_view_name": "LayoutView",
            "grid_template_rows": null,
            "right": null,
            "justify_content": null,
            "_view_module": "@jupyter-widgets/base",
            "overflow": null,
            "_model_module_version": "1.2.0",
            "_view_count": null,
            "flex_flow": null,
            "width": null,
            "min_width": null,
            "border": null,
            "align_items": null,
            "bottom": null,
            "_model_module": "@jupyter-widgets/base",
            "top": null,
            "grid_column": null,
            "overflow_y": null,
            "overflow_x": null,
            "grid_auto_flow": null,
            "grid_area": null,
            "grid_template_columns": null,
            "flex": null,
            "_model_name": "LayoutModel",
            "justify_items": null,
            "grid_row": null,
            "max_height": null,
            "align_content": null,
            "visibility": null,
            "align_self": null,
            "height": null,
            "min_height": null,
            "padding": null,
            "grid_auto_rows": null,
            "grid_gap": null,
            "max_width": null,
            "order": null,
            "_view_module_version": "1.2.0",
            "grid_template_areas": null,
            "object_position": null,
            "object_fit": null,
            "grid_auto_columns": null,
            "margin": null,
            "display": null,
            "left": null
          }
        },
        "45ab51ae13f44ef6b22863e28824f805": {
          "model_module": "@jupyter-widgets/controls",
          "model_name": "DescriptionStyleModel",
          "state": {
            "_view_name": "StyleView",
            "_model_name": "DescriptionStyleModel",
            "description_width": "",
            "_view_module": "@jupyter-widgets/base",
            "_model_module_version": "1.5.0",
            "_view_count": null,
            "_view_module_version": "1.2.0",
            "_model_module": "@jupyter-widgets/controls"
          }
        },
        "1fb444c01c2a4d029030f849af5b9bd6": {
          "model_module": "@jupyter-widgets/base",
          "model_name": "LayoutModel",
          "state": {
            "_view_name": "LayoutView",
            "grid_template_rows": null,
            "right": null,
            "justify_content": null,
            "_view_module": "@jupyter-widgets/base",
            "overflow": null,
            "_model_module_version": "1.2.0",
            "_view_count": null,
            "flex_flow": null,
            "width": null,
            "min_width": null,
            "border": null,
            "align_items": null,
            "bottom": null,
            "_model_module": "@jupyter-widgets/base",
            "top": null,
            "grid_column": null,
            "overflow_y": null,
            "overflow_x": null,
            "grid_auto_flow": null,
            "grid_area": null,
            "grid_template_columns": null,
            "flex": null,
            "_model_name": "LayoutModel",
            "justify_items": null,
            "grid_row": null,
            "max_height": null,
            "align_content": null,
            "visibility": null,
            "align_self": null,
            "height": null,
            "min_height": null,
            "padding": null,
            "grid_auto_rows": null,
            "grid_gap": null,
            "max_width": null,
            "order": null,
            "_view_module_version": "1.2.0",
            "grid_template_areas": null,
            "object_position": null,
            "object_fit": null,
            "grid_auto_columns": null,
            "margin": null,
            "display": null,
            "left": null
          }
        },
        "da8c418ef5e14337aee79a38495dd288": {
          "model_module": "@jupyter-widgets/controls",
          "model_name": "HBoxModel",
          "state": {
            "_view_name": "HBoxView",
            "_dom_classes": [],
            "_model_name": "HBoxModel",
            "_view_module": "@jupyter-widgets/controls",
            "_model_module_version": "1.5.0",
            "_view_count": null,
            "_view_module_version": "1.5.0",
            "box_style": "",
            "layout": "IPY_MODEL_8d59cd6927474a118c2fe7455e054bcb",
            "_model_module": "@jupyter-widgets/controls",
            "children": [
              "IPY_MODEL_189c27560f954cc8b20e8a795209ef54",
              "IPY_MODEL_8e0c01eb7bc04a00ae731cce4e1ab7d2"
            ]
          }
        },
        "8d59cd6927474a118c2fe7455e054bcb": {
          "model_module": "@jupyter-widgets/base",
          "model_name": "LayoutModel",
          "state": {
            "_view_name": "LayoutView",
            "grid_template_rows": null,
            "right": null,
            "justify_content": null,
            "_view_module": "@jupyter-widgets/base",
            "overflow": null,
            "_model_module_version": "1.2.0",
            "_view_count": null,
            "flex_flow": null,
            "width": null,
            "min_width": null,
            "border": null,
            "align_items": null,
            "bottom": null,
            "_model_module": "@jupyter-widgets/base",
            "top": null,
            "grid_column": null,
            "overflow_y": null,
            "overflow_x": null,
            "grid_auto_flow": null,
            "grid_area": null,
            "grid_template_columns": null,
            "flex": null,
            "_model_name": "LayoutModel",
            "justify_items": null,
            "grid_row": null,
            "max_height": null,
            "align_content": null,
            "visibility": null,
            "align_self": null,
            "height": null,
            "min_height": null,
            "padding": null,
            "grid_auto_rows": null,
            "grid_gap": null,
            "max_width": null,
            "order": null,
            "_view_module_version": "1.2.0",
            "grid_template_areas": null,
            "object_position": null,
            "object_fit": null,
            "grid_auto_columns": null,
            "margin": null,
            "display": null,
            "left": null
          }
        },
        "189c27560f954cc8b20e8a795209ef54": {
          "model_module": "@jupyter-widgets/controls",
          "model_name": "FloatProgressModel",
          "state": {
            "_view_name": "ProgressView",
            "style": "IPY_MODEL_888d91dd555f439eb55ad7e08bdba77f",
            "_dom_classes": [],
            "description": "",
            "_model_name": "FloatProgressModel",
            "bar_style": "success",
            "max": 4542,
            "_view_module": "@jupyter-widgets/controls",
            "_model_module_version": "1.5.0",
            "value": 4542,
            "_view_count": null,
            "_view_module_version": "1.5.0",
            "orientation": "horizontal",
            "min": 0,
            "description_tooltip": null,
            "_model_module": "@jupyter-widgets/controls",
            "layout": "IPY_MODEL_716dc9de73ae4894ab88e2baa8e61ec9"
          }
        },
        "8e0c01eb7bc04a00ae731cce4e1ab7d2": {
          "model_module": "@jupyter-widgets/controls",
          "model_name": "HTMLModel",
          "state": {
            "_view_name": "HTMLView",
            "style": "IPY_MODEL_a453b6cca1a640dd8b13b3a21baa4173",
            "_dom_classes": [],
            "description": "",
            "_model_name": "HTMLModel",
            "placeholder": "​",
            "_view_module": "@jupyter-widgets/controls",
            "_model_module_version": "1.5.0",
            "value": " 5120/? [00:00&lt;00:00, 9893.45it/s]",
            "_view_count": null,
            "_view_module_version": "1.5.0",
            "description_tooltip": null,
            "_model_module": "@jupyter-widgets/controls",
            "layout": "IPY_MODEL_1d2fecfe59f14f11ab28596a735a88a9"
          }
        },
        "888d91dd555f439eb55ad7e08bdba77f": {
          "model_module": "@jupyter-widgets/controls",
          "model_name": "ProgressStyleModel",
          "state": {
            "_view_name": "StyleView",
            "_model_name": "ProgressStyleModel",
            "description_width": "initial",
            "_view_module": "@jupyter-widgets/base",
            "_model_module_version": "1.5.0",
            "_view_count": null,
            "_view_module_version": "1.2.0",
            "bar_color": null,
            "_model_module": "@jupyter-widgets/controls"
          }
        },
        "716dc9de73ae4894ab88e2baa8e61ec9": {
          "model_module": "@jupyter-widgets/base",
          "model_name": "LayoutModel",
          "state": {
            "_view_name": "LayoutView",
            "grid_template_rows": null,
            "right": null,
            "justify_content": null,
            "_view_module": "@jupyter-widgets/base",
            "overflow": null,
            "_model_module_version": "1.2.0",
            "_view_count": null,
            "flex_flow": null,
            "width": null,
            "min_width": null,
            "border": null,
            "align_items": null,
            "bottom": null,
            "_model_module": "@jupyter-widgets/base",
            "top": null,
            "grid_column": null,
            "overflow_y": null,
            "overflow_x": null,
            "grid_auto_flow": null,
            "grid_area": null,
            "grid_template_columns": null,
            "flex": null,
            "_model_name": "LayoutModel",
            "justify_items": null,
            "grid_row": null,
            "max_height": null,
            "align_content": null,
            "visibility": null,
            "align_self": null,
            "height": null,
            "min_height": null,
            "padding": null,
            "grid_auto_rows": null,
            "grid_gap": null,
            "max_width": null,
            "order": null,
            "_view_module_version": "1.2.0",
            "grid_template_areas": null,
            "object_position": null,
            "object_fit": null,
            "grid_auto_columns": null,
            "margin": null,
            "display": null,
            "left": null
          }
        },
        "a453b6cca1a640dd8b13b3a21baa4173": {
          "model_module": "@jupyter-widgets/controls",
          "model_name": "DescriptionStyleModel",
          "state": {
            "_view_name": "StyleView",
            "_model_name": "DescriptionStyleModel",
            "description_width": "",
            "_view_module": "@jupyter-widgets/base",
            "_model_module_version": "1.5.0",
            "_view_count": null,
            "_view_module_version": "1.2.0",
            "_model_module": "@jupyter-widgets/controls"
          }
        },
        "1d2fecfe59f14f11ab28596a735a88a9": {
          "model_module": "@jupyter-widgets/base",
          "model_name": "LayoutModel",
          "state": {
            "_view_name": "LayoutView",
            "grid_template_rows": null,
            "right": null,
            "justify_content": null,
            "_view_module": "@jupyter-widgets/base",
            "overflow": null,
            "_model_module_version": "1.2.0",
            "_view_count": null,
            "flex_flow": null,
            "width": null,
            "min_width": null,
            "border": null,
            "align_items": null,
            "bottom": null,
            "_model_module": "@jupyter-widgets/base",
            "top": null,
            "grid_column": null,
            "overflow_y": null,
            "overflow_x": null,
            "grid_auto_flow": null,
            "grid_area": null,
            "grid_template_columns": null,
            "flex": null,
            "_model_name": "LayoutModel",
            "justify_items": null,
            "grid_row": null,
            "max_height": null,
            "align_content": null,
            "visibility": null,
            "align_self": null,
            "height": null,
            "min_height": null,
            "padding": null,
            "grid_auto_rows": null,
            "grid_gap": null,
            "max_width": null,
            "order": null,
            "_view_module_version": "1.2.0",
            "grid_template_areas": null,
            "object_position": null,
            "object_fit": null,
            "grid_auto_columns": null,
            "margin": null,
            "display": null,
            "left": null
          }
        }
      }
    }
  },
  "cells": [
    {
      "cell_type": "markdown",
      "metadata": {
        "id": "1-pni-DJisVH"
      },
      "source": [
        "# Intro to Pytorch - MNIST Digit Classification\n",
        "\n",
        "In this notebook, we cover the basics of PyTorch and will train our first (shallow) neural network from scratch on the MNIST digit classification dataset.\n",
        "\n",
        "Let's start by importing the libraries that we will need and setting up jupyter. You can add additional imports later and re-run the cell to make those imports available throughout the notebook."
      ]
    },
    {
      "cell_type": "code",
      "metadata": {
        "id": "Zo2vrFrMisVI"
      },
      "source": [
        "%matplotlib inline\n",
        "\n",
        "# import numpy - array processing library\n",
        "import numpy as np \n",
        "\n",
        "# pytorch imports:\n",
        "import torch \n",
        "import torch.nn as nn\n",
        "import torch.nn.functional as F\n",
        "import torch.optim as optim\n",
        "\n",
        "# pytorch functionality for image datasets\n",
        "from torchvision import datasets, transforms\n",
        "\n",
        "# standard plotting library\n",
        "import matplotlib.pyplot as plt"
      ],
      "execution_count": 14,
      "outputs": []
    },
    {
      "cell_type": "markdown",
      "metadata": {
        "id": "FAtAtBFIisVO"
      },
      "source": [
        "We supply you with a function to plot multiple images along with their labels. Please ignore for now:"
      ]
    },
    {
      "cell_type": "code",
      "metadata": {
        "id": "DqO9_GIlisVP"
      },
      "source": [
        "def show_image_grid(X, y=None, y_pred=None, title=None, nrow=6, ncol=4, **kwargs):\n",
        "    max_num = nrow*ncol\n",
        "    X = X[:max_num]\n",
        "    if len(X) < max_num:\n",
        "        ncol = len(X) // nrow + 1\n",
        "    if isinstance(X, np.ndarray):\n",
        "        X = torch.from_numpy(X)\n",
        "    if X.dim() != 4:\n",
        "        X = X[:, None]\n",
        "\n",
        "    plt.figure(title, figsize=(2*nrow, 2*ncol + (0 if y is None else 1)))\n",
        "    if title:\n",
        "        plt.title(title)\n",
        "        \n",
        "    if isinstance(y, torch.Tensor):\n",
        "        y = y.numpy()\n",
        "        \n",
        "    for i, Xi in enumerate(X):\n",
        "        plt.subplot(ncol, nrow, i+1)\n",
        "        img = Xi.numpy().transpose((1, 2, 0))\n",
        "        if img.shape[2] == 1:\n",
        "            img = img[..., 0]\n",
        "        plt.imshow(img)\n",
        "\n",
        "        title = \"\"\n",
        "        if y is not None:\n",
        "          title += str(int(y[i]))\n",
        "        if y_pred is not None:\n",
        "          title += \"/\" + str(int(y_pred[i]))\n",
        "        if len(title) > 0: \n",
        "          plt.title(title)\n",
        "\n",
        "        plt.axis('off')\n",
        "    \n",
        "    plt.axis('off')\n"
      ],
      "execution_count": 15,
      "outputs": []
    },
    {
      "cell_type": "markdown",
      "metadata": {
        "id": "CHul_YGDisVU"
      },
      "source": [
        "## Some PyTorch basics\n",
        "\n",
        "Creating tensors:"
      ]
    },
    {
      "cell_type": "code",
      "metadata": {
        "id": "2ykme0y2isVV",
        "colab": {
          "base_uri": "https://localhost:8080/"
        },
        "outputId": "c72a4650-4351-4888-9953-551d5398fffc"
      },
      "source": [
        "V = torch.tensor([20., 23., 31.])\n",
        "V"
      ],
      "execution_count": 16,
      "outputs": [
        {
          "output_type": "execute_result",
          "data": {
            "text/plain": [
              "tensor([20., 23., 31.])"
            ]
          },
          "metadata": {
            "tags": []
          },
          "execution_count": 16
        }
      ]
    },
    {
      "cell_type": "markdown",
      "metadata": {
        "id": "dEVoz1PDisVv"
      },
      "source": [
        "Indexing into tensors gives you the elements of your tensor"
      ]
    },
    {
      "cell_type": "code",
      "metadata": {
        "id": "M0YTLbKKk_6V",
        "colab": {
          "base_uri": "https://localhost:8080/"
        },
        "outputId": "f0104419-8998-4413-b9c6-30dad05c466d"
      },
      "source": [
        "V[0]"
      ],
      "execution_count": 17,
      "outputs": [
        {
          "output_type": "execute_result",
          "data": {
            "text/plain": [
              "tensor(20.)"
            ]
          },
          "metadata": {
            "tags": []
          },
          "execution_count": 17
        }
      ]
    },
    {
      "cell_type": "code",
      "metadata": {
        "id": "eEnfJp1WlD88",
        "colab": {
          "base_uri": "https://localhost:8080/"
        },
        "outputId": "f7bd8482-7420-43c6-e52e-6779f836ac94"
      },
      "source": [
        "V[1]"
      ],
      "execution_count": 18,
      "outputs": [
        {
          "output_type": "execute_result",
          "data": {
            "text/plain": [
              "tensor(23.)"
            ]
          },
          "metadata": {
            "tags": []
          },
          "execution_count": 18
        }
      ]
    },
    {
      "cell_type": "code",
      "metadata": {
        "id": "EZFcT6ifC_xT"
      },
      "source": [
        "#V[3]"
      ],
      "execution_count": 19,
      "outputs": []
    },
    {
      "cell_type": "code",
      "metadata": {
        "id": "X5CqjXeRisWA",
        "colab": {
          "base_uri": "https://localhost:8080/"
        },
        "outputId": "34147ea0-04b4-4007-fa00-0660ae5d6241"
      },
      "source": [
        "V[0].item()"
      ],
      "execution_count": 20,
      "outputs": [
        {
          "output_type": "execute_result",
          "data": {
            "text/plain": [
              "20.0"
            ]
          },
          "metadata": {
            "tags": []
          },
          "execution_count": 20
        }
      ]
    },
    {
      "cell_type": "markdown",
      "metadata": {
        "id": "0nI2LLrtlygl"
      },
      "source": [
        "Tensors can be multi-dimensional, e.g. matrices:"
      ]
    },
    {
      "cell_type": "code",
      "metadata": {
        "id": "O6PcNSUKisVe",
        "colab": {
          "base_uri": "https://localhost:8080/"
        },
        "outputId": "1aa40cc5-2e08-44e8-a5f6-5187bbb666e1"
      },
      "source": [
        "M = torch.tensor([[1., 2., 3.], [4., 5., 6]])\n",
        "M"
      ],
      "execution_count": 21,
      "outputs": [
        {
          "output_type": "execute_result",
          "data": {
            "text/plain": [
              "tensor([[1., 2., 3.],\n",
              "        [4., 5., 6.]])"
            ]
          },
          "metadata": {
            "tags": []
          },
          "execution_count": 21
        }
      ]
    },
    {
      "cell_type": "markdown",
      "metadata": {
        "id": "VI4TTetyDqiT"
      },
      "source": [
        "When we index a matrix, we get one row as a vector."
      ]
    },
    {
      "cell_type": "code",
      "metadata": {
        "id": "XLPAktX8isWG",
        "colab": {
          "base_uri": "https://localhost:8080/"
        },
        "outputId": "2fe8ab36-1310-4ee3-d3ef-2b0d77e8d9a0"
      },
      "source": [
        "M[0]"
      ],
      "execution_count": 22,
      "outputs": [
        {
          "output_type": "execute_result",
          "data": {
            "text/plain": [
              "tensor([1., 2., 3.])"
            ]
          },
          "metadata": {
            "tags": []
          },
          "execution_count": 22
        }
      ]
    },
    {
      "cell_type": "code",
      "metadata": {
        "id": "pp9SDpd5isWL",
        "colab": {
          "base_uri": "https://localhost:8080/"
        },
        "outputId": "393233c8-aab9-4b36-8a11-a5b56513afb8"
      },
      "source": [
        "M[0, 1]"
      ],
      "execution_count": 23,
      "outputs": [
        {
          "output_type": "execute_result",
          "data": {
            "text/plain": [
              "tensor(2.)"
            ]
          },
          "metadata": {
            "tags": []
          },
          "execution_count": 23
        }
      ]
    },
    {
      "cell_type": "markdown",
      "metadata": {
        "id": "eyuVUW1xisWP"
      },
      "source": [
        "We can get one column from that matrix by using the fancy `:` notation in indexing, meaning that we want to take all the elements from that *axis*.\n"
      ]
    },
    {
      "cell_type": "code",
      "metadata": {
        "id": "AvmVNIW_isWQ",
        "colab": {
          "base_uri": "https://localhost:8080/"
        },
        "outputId": "d759fa4e-f827-442c-dc6c-5369fbba4b71"
      },
      "source": [
        "M[:, 1]"
      ],
      "execution_count": 24,
      "outputs": [
        {
          "output_type": "execute_result",
          "data": {
            "text/plain": [
              "tensor([2., 5.])"
            ]
          },
          "metadata": {
            "tags": []
          },
          "execution_count": 24
        }
      ]
    },
    {
      "cell_type": "code",
      "metadata": {
        "id": "ZQeMVZ1nEH4e",
        "colab": {
          "base_uri": "https://localhost:8080/"
        },
        "outputId": "7cc40240-d1a0-4cdf-9196-6c2f452fdb83"
      },
      "source": [
        "M[:, 1:3]"
      ],
      "execution_count": 25,
      "outputs": [
        {
          "output_type": "execute_result",
          "data": {
            "text/plain": [
              "tensor([[2., 3.],\n",
              "        [5., 6.]])"
            ]
          },
          "metadata": {
            "tags": []
          },
          "execution_count": 25
        }
      ]
    },
    {
      "cell_type": "markdown",
      "metadata": {
        "id": "uEdEG4muDWxe"
      },
      "source": [
        "Tensors can have higher number of dimensions, for example rank-3 tensors are basically arrays of matrices:"
      ]
    },
    {
      "cell_type": "code",
      "metadata": {
        "id": "2wQWXPl0isVk",
        "colab": {
          "base_uri": "https://localhost:8080/"
        },
        "outputId": "0cd46e2d-ec13-4041-902d-64f6edf2be20"
      },
      "source": [
        "# Create a rank 3 tensor of size 2x2x2.\n",
        "T = torch.tensor([[[1., 2.], [3., 4.]],\n",
        "          [[5., 6.], [7., 8.]]])\n",
        "T"
      ],
      "execution_count": 26,
      "outputs": [
        {
          "output_type": "execute_result",
          "data": {
            "text/plain": [
              "tensor([[[1., 2.],\n",
              "         [3., 4.]],\n",
              "\n",
              "        [[5., 6.],\n",
              "         [7., 8.]]])"
            ]
          },
          "metadata": {
            "tags": []
          },
          "execution_count": 26
        }
      ]
    },
    {
      "cell_type": "code",
      "metadata": {
        "scrolled": true,
        "id": "-33nmJ8IisVo",
        "colab": {
          "base_uri": "https://localhost:8080/"
        },
        "outputId": "aba8c014-bc6b-4bc9-dbd9-ff85c443fcce"
      },
      "source": [
        "# create a tensor with random numbers\n",
        "torch.randn((3, 2, 5, 2))"
      ],
      "execution_count": 27,
      "outputs": [
        {
          "output_type": "execute_result",
          "data": {
            "text/plain": [
              "tensor([[[[ 1.2399,  0.0953],\n",
              "          [-0.8275,  0.9727],\n",
              "          [-1.1814, -0.4277],\n",
              "          [ 0.5204,  0.3215],\n",
              "          [ 0.0533, -1.3271]],\n",
              "\n",
              "         [[-1.5364, -0.1849],\n",
              "          [-0.7286, -0.3752],\n",
              "          [ 1.6888,  0.3335],\n",
              "          [ 1.4448,  1.1767],\n",
              "          [ 1.0265,  0.5279]]],\n",
              "\n",
              "\n",
              "        [[[-0.8188, -0.5630],\n",
              "          [ 0.2669, -0.6161],\n",
              "          [ 0.1186, -1.2381],\n",
              "          [-0.1865,  0.2041],\n",
              "          [-1.0122,  0.0081]],\n",
              "\n",
              "         [[-0.5953, -0.5985],\n",
              "          [ 0.0365,  0.5418],\n",
              "          [-0.6543, -0.4695],\n",
              "          [ 1.3992, -1.7184],\n",
              "          [-0.6746,  0.0537]]],\n",
              "\n",
              "\n",
              "        [[[ 0.0284, -0.7493],\n",
              "          [-0.3733,  0.3056],\n",
              "          [ 0.5020, -0.8963],\n",
              "          [-2.2775, -0.3702],\n",
              "          [-1.5787,  0.4280]],\n",
              "\n",
              "         [[ 0.3441, -0.9832],\n",
              "          [ 0.3389, -0.9102],\n",
              "          [ 2.6522, -0.9523],\n",
              "          [-0.3365,  2.7221],\n",
              "          [-0.7860,  2.4582]]]])"
            ]
          },
          "metadata": {
            "tags": []
          },
          "execution_count": 27
        }
      ]
    },
    {
      "cell_type": "markdown",
      "metadata": {
        "id": "QySGUR02isWV"
      },
      "source": [
        "Typical mathematical operators are overloaded for tensors, so you can add all entries of one matrix to another matrix with a simple line. No need to write for loops :)"
      ]
    },
    {
      "cell_type": "code",
      "metadata": {
        "id": "23bxjYKpisWW",
        "colab": {
          "base_uri": "https://localhost:8080/"
        },
        "outputId": "792c275b-75d9-4c34-dc2a-a04ff3450085"
      },
      "source": [
        "A = torch.randn((3, 2))\n",
        "A"
      ],
      "execution_count": 28,
      "outputs": [
        {
          "output_type": "execute_result",
          "data": {
            "text/plain": [
              "tensor([[-0.0228, -1.6861],\n",
              "        [ 0.4691, -1.1584],\n",
              "        [-1.9354, -0.7052]])"
            ]
          },
          "metadata": {
            "tags": []
          },
          "execution_count": 28
        }
      ]
    },
    {
      "cell_type": "code",
      "metadata": {
        "id": "69UGYfW5isWZ",
        "colab": {
          "base_uri": "https://localhost:8080/"
        },
        "outputId": "dd07a3fc-693b-4077-ff44-390ff4272efa"
      },
      "source": [
        "B = torch.randn((3, 2))\n",
        "B"
      ],
      "execution_count": 29,
      "outputs": [
        {
          "output_type": "execute_result",
          "data": {
            "text/plain": [
              "tensor([[-0.0602,  1.3872],\n",
              "        [ 0.7304,  0.7339],\n",
              "        [ 0.5907,  1.1740]])"
            ]
          },
          "metadata": {
            "tags": []
          },
          "execution_count": 29
        }
      ]
    },
    {
      "cell_type": "code",
      "metadata": {
        "id": "OApm2dk-isWd",
        "colab": {
          "base_uri": "https://localhost:8080/"
        },
        "outputId": "dcaee158-4382-4a9c-f88a-d701bad5df58"
      },
      "source": [
        "A + B"
      ],
      "execution_count": 30,
      "outputs": [
        {
          "output_type": "execute_result",
          "data": {
            "text/plain": [
              "tensor([[-0.0830, -0.2989],\n",
              "        [ 1.1995, -0.4245],\n",
              "        [-1.3447,  0.4689]])"
            ]
          },
          "metadata": {
            "tags": []
          },
          "execution_count": 30
        }
      ]
    },
    {
      "cell_type": "code",
      "metadata": {
        "id": "nVvEOkhyisWg",
        "colab": {
          "base_uri": "https://localhost:8080/"
        },
        "outputId": "8035ff05-3c32-4bf6-c853-68466dbd6fd7"
      },
      "source": [
        "A * B"
      ],
      "execution_count": 31,
      "outputs": [
        {
          "output_type": "execute_result",
          "data": {
            "text/plain": [
              "tensor([[ 1.3728e-03, -2.3390e+00],\n",
              "        [ 3.4265e-01, -8.5018e-01],\n",
              "        [-1.1432e+00, -8.2788e-01]])"
            ]
          },
          "metadata": {
            "tags": []
          },
          "execution_count": 31
        }
      ]
    },
    {
      "cell_type": "code",
      "metadata": {
        "id": "pZGraeMQisWk",
        "colab": {
          "base_uri": "https://localhost:8080/"
        },
        "outputId": "b081c2f9-12d3-46ff-b717-1ce3977bd402"
      },
      "source": [
        "2 * A"
      ],
      "execution_count": 32,
      "outputs": [
        {
          "output_type": "execute_result",
          "data": {
            "text/plain": [
              "tensor([[-0.0456, -3.3721],\n",
              "        [ 0.9383, -2.3168],\n",
              "        [-3.8708, -1.4103]])"
            ]
          },
          "metadata": {
            "tags": []
          },
          "execution_count": 32
        }
      ]
    },
    {
      "cell_type": "code",
      "metadata": {
        "id": "1PUdK_Q6lVGG",
        "colab": {
          "base_uri": "https://localhost:8080/"
        },
        "outputId": "174d4879-d40e-4179-8298-cc033ecfe1e7"
      },
      "source": [
        "torch.log(A)"
      ],
      "execution_count": 33,
      "outputs": [
        {
          "output_type": "execute_result",
          "data": {
            "text/plain": [
              "tensor([[    nan,     nan],\n",
              "        [-0.7569,     nan],\n",
              "        [    nan,     nan]])"
            ]
          },
          "metadata": {
            "tags": []
          },
          "execution_count": 33
        }
      ]
    },
    {
      "cell_type": "markdown",
      "metadata": {
        "id": "wLVvKHWxisWr"
      },
      "source": [
        "\n",
        "\n",
        "## Let's get started: loading the data\n",
        "\n",
        "First, lets load the dataset:"
      ]
    },
    {
      "cell_type": "code",
      "metadata": {
        "id": "ZoQ_WImXisWs",
        "colab": {
          "base_uri": "https://localhost:8080/",
          "height": 845,
          "referenced_widgets": [
            "ba8e54aa0a3a42fa83682a5d16b973e7",
            "4f676b6dcbf949e0b3ea25e20409cf67",
            "3a6c5223e0fe44b8af140589034364ae",
            "e82d7dac616c4180a32e8a98a70bbc71",
            "dac883b6ba6d4dc5a443afe791ea7b09",
            "4c806552aa694695a55330ef25222cf8",
            "6b57d928d809478b924256028c489a9b",
            "b750f2bf6ca64e5183914049b7907d24",
            "cd40130a64e444f5a9d05cba5588d527",
            "f3570313bb2142ff82d1157795b26295",
            "dbc8a4b09fb24536922a288ad1ad71ef",
            "05e19b6033e94186a74326fa6b4b1c5c",
            "0734abb1e54a493089cbec0b55a290c9",
            "9288b13af84e4f0191dc2858e5401fff",
            "15f6f3485523485682ac6e8dae233190",
            "b99baff31f9f4adcb67c1cac519876f0",
            "6fb68cfce2db4edf94c3713f9ce6ed68",
            "b30acd69425a4abd9df7d5776d13dcb6",
            "a2d7d9f4e7144f8f9c45a214939b44d0",
            "e9d5b0a45644417fbb5efdead15ae94c",
            "d86b1b9de3034131869da9dda6187d73",
            "63243e0c5a5c4bb2ab265dddd269f941",
            "45ab51ae13f44ef6b22863e28824f805",
            "1fb444c01c2a4d029030f849af5b9bd6",
            "da8c418ef5e14337aee79a38495dd288",
            "8d59cd6927474a118c2fe7455e054bcb",
            "189c27560f954cc8b20e8a795209ef54",
            "8e0c01eb7bc04a00ae731cce4e1ab7d2",
            "888d91dd555f439eb55ad7e08bdba77f",
            "716dc9de73ae4894ab88e2baa8e61ec9",
            "a453b6cca1a640dd8b13b3a21baa4173",
            "1d2fecfe59f14f11ab28596a735a88a9"
          ]
        },
        "outputId": "5b31092c-b8f6-4c6a-f5e6-0da0137bece9"
      },
      "source": [
        "train_data = datasets.MNIST(root='./data', train=True, \n",
        "                            download=True, transform=transforms.ToTensor())\n",
        "train_data"
      ],
      "execution_count": 34,
      "outputs": [
        {
          "output_type": "stream",
          "text": [
            "Downloading http://yann.lecun.com/exdb/mnist/train-images-idx3-ubyte.gz\n",
            "Downloading http://yann.lecun.com/exdb/mnist/train-images-idx3-ubyte.gz to ./data/MNIST/raw/train-images-idx3-ubyte.gz\n",
            "Failed to download (trying next):\n",
            "HTTP Error 503: Service Unavailable\n",
            "\n",
            "Downloading https://ossci-datasets.s3.amazonaws.com/mnist/train-images-idx3-ubyte.gz\n",
            "Downloading https://ossci-datasets.s3.amazonaws.com/mnist/train-images-idx3-ubyte.gz to ./data/MNIST/raw/train-images-idx3-ubyte.gz\n"
          ],
          "name": "stdout"
        },
        {
          "output_type": "display_data",
          "data": {
            "application/vnd.jupyter.widget-view+json": {
              "model_id": "ba8e54aa0a3a42fa83682a5d16b973e7",
              "version_minor": 0,
              "version_major": 2
            },
            "text/plain": [
              "HBox(children=(FloatProgress(value=0.0, max=9912422.0), HTML(value='')))"
            ]
          },
          "metadata": {
            "tags": []
          }
        },
        {
          "output_type": "stream",
          "text": [
            "\n",
            "Extracting ./data/MNIST/raw/train-images-idx3-ubyte.gz to ./data/MNIST/raw\n",
            "\n",
            "Downloading http://yann.lecun.com/exdb/mnist/train-labels-idx1-ubyte.gz\n",
            "Downloading http://yann.lecun.com/exdb/mnist/train-labels-idx1-ubyte.gz to ./data/MNIST/raw/train-labels-idx1-ubyte.gz\n"
          ],
          "name": "stdout"
        },
        {
          "output_type": "display_data",
          "data": {
            "application/vnd.jupyter.widget-view+json": {
              "model_id": "cd40130a64e444f5a9d05cba5588d527",
              "version_minor": 0,
              "version_major": 2
            },
            "text/plain": [
              "HBox(children=(FloatProgress(value=0.0, max=28881.0), HTML(value='')))"
            ]
          },
          "metadata": {
            "tags": []
          }
        },
        {
          "output_type": "stream",
          "text": [
            "\n",
            "Extracting ./data/MNIST/raw/train-labels-idx1-ubyte.gz to ./data/MNIST/raw\n",
            "\n",
            "Downloading http://yann.lecun.com/exdb/mnist/t10k-images-idx3-ubyte.gz\n",
            "Downloading http://yann.lecun.com/exdb/mnist/t10k-images-idx3-ubyte.gz to ./data/MNIST/raw/t10k-images-idx3-ubyte.gz\n",
            "Failed to download (trying next):\n",
            "HTTP Error 503: Service Unavailable\n",
            "\n",
            "Downloading https://ossci-datasets.s3.amazonaws.com/mnist/t10k-images-idx3-ubyte.gz\n",
            "Downloading https://ossci-datasets.s3.amazonaws.com/mnist/t10k-images-idx3-ubyte.gz to ./data/MNIST/raw/t10k-images-idx3-ubyte.gz\n"
          ],
          "name": "stdout"
        },
        {
          "output_type": "display_data",
          "data": {
            "application/vnd.jupyter.widget-view+json": {
              "model_id": "6fb68cfce2db4edf94c3713f9ce6ed68",
              "version_minor": 0,
              "version_major": 2
            },
            "text/plain": [
              "HBox(children=(FloatProgress(value=0.0, max=1648877.0), HTML(value='')))"
            ]
          },
          "metadata": {
            "tags": []
          }
        },
        {
          "output_type": "stream",
          "text": [
            "\n",
            "Extracting ./data/MNIST/raw/t10k-images-idx3-ubyte.gz to ./data/MNIST/raw\n",
            "\n",
            "Downloading http://yann.lecun.com/exdb/mnist/t10k-labels-idx1-ubyte.gz\n",
            "Downloading http://yann.lecun.com/exdb/mnist/t10k-labels-idx1-ubyte.gz to ./data/MNIST/raw/t10k-labels-idx1-ubyte.gz\n"
          ],
          "name": "stdout"
        },
        {
          "output_type": "display_data",
          "data": {
            "application/vnd.jupyter.widget-view+json": {
              "model_id": "da8c418ef5e14337aee79a38495dd288",
              "version_minor": 0,
              "version_major": 2
            },
            "text/plain": [
              "HBox(children=(FloatProgress(value=0.0, max=4542.0), HTML(value='')))"
            ]
          },
          "metadata": {
            "tags": []
          }
        },
        {
          "output_type": "stream",
          "text": [
            "\n",
            "Extracting ./data/MNIST/raw/t10k-labels-idx1-ubyte.gz to ./data/MNIST/raw\n",
            "\n",
            "Processing...\n",
            "Done!\n"
          ],
          "name": "stdout"
        },
        {
          "output_type": "stream",
          "text": [
            "/usr/local/lib/python3.7/dist-packages/torchvision/datasets/mnist.py:502: UserWarning: The given NumPy array is not writeable, and PyTorch does not support non-writeable tensors. This means you can write to the underlying (supposedly non-writeable) NumPy array using the tensor. You may want to copy the array to protect its data or make it writeable before converting it to a tensor. This type of warning will be suppressed for the rest of this program. (Triggered internally at  /pytorch/torch/csrc/utils/tensor_numpy.cpp:143.)\n",
            "  return torch.from_numpy(parsed.astype(m[2], copy=False)).view(*s)\n"
          ],
          "name": "stderr"
        },
        {
          "output_type": "execute_result",
          "data": {
            "text/plain": [
              "Dataset MNIST\n",
              "    Number of datapoints: 60000\n",
              "    Root location: ./data\n",
              "    Split: Train\n",
              "    StandardTransform\n",
              "Transform: ToTensor()"
            ]
          },
          "metadata": {
            "tags": []
          },
          "execution_count": 34
        }
      ]
    },
    {
      "cell_type": "markdown",
      "metadata": {
        "id": "gjTyDWWJisWv"
      },
      "source": [
        "In order to sample from this dataset, we need a DataLoader. A DataLoader samples mini batches from a DataSet and can also be used to apply transformations to the data (here, we just want to transform the data to a pytorch tensor)."
      ]
    },
    {
      "cell_type": "code",
      "metadata": {
        "id": "MSOuX8OcisWv",
        "colab": {
          "base_uri": "https://localhost:8080/"
        },
        "outputId": "9ec85c90-d613-4ec6-de1a-5ef73654b3ca"
      },
      "source": [
        "batch_size = 128\n",
        "train_loader = torch.utils.data.DataLoader(train_data, shuffle=True, batch_size=batch_size)\n",
        "train_loader"
      ],
      "execution_count": 35,
      "outputs": [
        {
          "output_type": "execute_result",
          "data": {
            "text/plain": [
              "<torch.utils.data.dataloader.DataLoader at 0x7f72cf70af50>"
            ]
          },
          "metadata": {
            "tags": []
          },
          "execution_count": 35
        }
      ]
    },
    {
      "cell_type": "markdown",
      "metadata": {
        "id": "GYmW3KZJisW4"
      },
      "source": [
        "MNIST also provides a validation set that we can use to test how well our model performs."
      ]
    },
    {
      "cell_type": "code",
      "metadata": {
        "id": "uy0A78rpisW6"
      },
      "source": [
        "valid_data = datasets.MNIST(root='./data', train=False, \n",
        "                            download=True, transform=transforms.ToTensor())\n",
        "valid_loader = torch.utils.data.DataLoader(valid_data, shuffle=False, batch_size=batch_size)"
      ],
      "execution_count": 36,
      "outputs": []
    },
    {
      "cell_type": "markdown",
      "metadata": {
        "id": "jGa5UhunisW-"
      },
      "source": [
        "Lets sample one batch of data from the dataset:"
      ]
    },
    {
      "cell_type": "code",
      "metadata": {
        "id": "r4gM-vb2isW-"
      },
      "source": [
        "#for Xb, yb in train_loader:\n",
        "#  print(Xb)\n",
        "#  break\n",
        "\n",
        "Xb, yb = next(iter(train_loader))"
      ],
      "execution_count": 37,
      "outputs": []
    },
    {
      "cell_type": "code",
      "metadata": {
        "id": "4SgD8t49isXB",
        "colab": {
          "base_uri": "https://localhost:8080/"
        },
        "outputId": "2ed8a3cc-94e2-429c-a559-1f28d421d3d2"
      },
      "source": [
        "Xb.shape"
      ],
      "execution_count": 38,
      "outputs": [
        {
          "output_type": "execute_result",
          "data": {
            "text/plain": [
              "torch.Size([128, 1, 28, 28])"
            ]
          },
          "metadata": {
            "tags": []
          },
          "execution_count": 38
        }
      ]
    },
    {
      "cell_type": "code",
      "metadata": {
        "scrolled": true,
        "id": "rkEJy38_isXG",
        "colab": {
          "base_uri": "https://localhost:8080/"
        },
        "outputId": "03b9c0d4-5b4b-4037-83af-b35ffe46c9b9"
      },
      "source": [
        "Xb[0]"
      ],
      "execution_count": 39,
      "outputs": [
        {
          "output_type": "execute_result",
          "data": {
            "text/plain": [
              "tensor([[[0.0000, 0.0000, 0.0000, 0.0000, 0.0000, 0.0000, 0.0000, 0.0000,\n",
              "          0.0000, 0.0000, 0.0000, 0.0000, 0.0000, 0.0000, 0.0000, 0.0000,\n",
              "          0.0000, 0.0000, 0.0000, 0.0000, 0.0000, 0.0000, 0.0000, 0.0000,\n",
              "          0.0000, 0.0000, 0.0000, 0.0000],\n",
              "         [0.0000, 0.0000, 0.0000, 0.0000, 0.0000, 0.0000, 0.0000, 0.0000,\n",
              "          0.0000, 0.0000, 0.0000, 0.0000, 0.0000, 0.0000, 0.0000, 0.0000,\n",
              "          0.0000, 0.0000, 0.0000, 0.0000, 0.0000, 0.0000, 0.0000, 0.0000,\n",
              "          0.0000, 0.0000, 0.0000, 0.0000],\n",
              "         [0.0000, 0.0000, 0.0000, 0.0000, 0.0000, 0.0000, 0.0000, 0.0000,\n",
              "          0.0000, 0.0000, 0.0000, 0.0000, 0.0000, 0.0000, 0.0000, 0.0000,\n",
              "          0.0000, 0.0000, 0.0000, 0.0000, 0.0000, 0.0000, 0.0000, 0.0000,\n",
              "          0.0000, 0.0000, 0.0000, 0.0000],\n",
              "         [0.0000, 0.0000, 0.0000, 0.0000, 0.0000, 0.0000, 0.0000, 0.0000,\n",
              "          0.0000, 0.0000, 0.0000, 0.0000, 0.0000, 0.0000, 0.0000, 0.0000,\n",
              "          0.0000, 0.3686, 0.9961, 0.6706, 0.0000, 0.0000, 0.0000, 0.0000,\n",
              "          0.0000, 0.0000, 0.0000, 0.0000],\n",
              "         [0.0000, 0.0000, 0.0000, 0.0000, 0.0000, 0.0000, 0.0000, 0.0000,\n",
              "          0.0000, 0.0000, 0.0000, 0.0000, 0.0000, 0.0000, 0.0000, 0.0392,\n",
              "          0.3961, 0.9686, 0.9922, 0.8078, 0.0000, 0.0000, 0.0000, 0.0000,\n",
              "          0.0000, 0.0000, 0.0000, 0.0000],\n",
              "         [0.0000, 0.0000, 0.0000, 0.0000, 0.0000, 0.0000, 0.0000, 0.0000,\n",
              "          0.0000, 0.0000, 0.0000, 0.0000, 0.0000, 0.0000, 0.0000, 0.4235,\n",
              "          0.9922, 0.9922, 0.9922, 0.6431, 0.0000, 0.0000, 0.0000, 0.0000,\n",
              "          0.0000, 0.0000, 0.0000, 0.0000],\n",
              "         [0.0000, 0.0000, 0.0000, 0.0000, 0.0000, 0.0000, 0.0000, 0.0000,\n",
              "          0.0000, 0.0000, 0.0000, 0.0000, 0.0000, 0.0000, 0.2471, 0.9961,\n",
              "          0.9922, 0.7176, 0.4392, 0.0510, 0.0000, 0.0000, 0.0000, 0.0000,\n",
              "          0.0000, 0.0000, 0.0000, 0.0000],\n",
              "         [0.0000, 0.0000, 0.0000, 0.0000, 0.0000, 0.0000, 0.0000, 0.0000,\n",
              "          0.0000, 0.0000, 0.0000, 0.0000, 0.0000, 0.2706, 0.8510, 0.9961,\n",
              "          0.9098, 0.1255, 0.0000, 0.0000, 0.0000, 0.0000, 0.0000, 0.0000,\n",
              "          0.0000, 0.0000, 0.0000, 0.0000],\n",
              "         [0.0000, 0.0000, 0.0000, 0.0000, 0.0000, 0.0000, 0.0000, 0.0000,\n",
              "          0.0000, 0.0000, 0.0000, 0.0000, 0.1294, 0.8431, 0.9922, 0.8784,\n",
              "          0.3333, 0.0000, 0.0000, 0.0000, 0.0000, 0.0000, 0.0000, 0.0000,\n",
              "          0.0000, 0.0000, 0.0000, 0.0000],\n",
              "         [0.0000, 0.0000, 0.0000, 0.0000, 0.0000, 0.0000, 0.0000, 0.0000,\n",
              "          0.0000, 0.0000, 0.0000, 0.0000, 0.7137, 0.9922, 0.9922, 0.3569,\n",
              "          0.0000, 0.0000, 0.0000, 0.0000, 0.0000, 0.0000, 0.0000, 0.0000,\n",
              "          0.0000, 0.0000, 0.0000, 0.0000],\n",
              "         [0.0000, 0.0000, 0.0000, 0.0000, 0.0000, 0.0000, 0.0000, 0.0000,\n",
              "          0.0000, 0.0000, 0.0000, 0.4039, 0.9882, 0.9922, 0.5529, 0.0000,\n",
              "          0.0000, 0.0000, 0.0000, 0.0000, 0.0000, 0.0000, 0.0000, 0.0000,\n",
              "          0.0000, 0.0000, 0.0000, 0.0000],\n",
              "         [0.0000, 0.0000, 0.0000, 0.0000, 0.0000, 0.0000, 0.0000, 0.0000,\n",
              "          0.0000, 0.0000, 0.5569, 0.9490, 0.9922, 0.9922, 0.3922, 0.0314,\n",
              "          0.3059, 0.4941, 0.8471, 0.5020, 0.4824, 0.2196, 0.0039, 0.0000,\n",
              "          0.0000, 0.0000, 0.0000, 0.0000],\n",
              "         [0.0000, 0.0000, 0.0000, 0.0000, 0.0000, 0.0000, 0.0000, 0.0000,\n",
              "          0.0000, 0.0000, 0.8118, 0.9922, 0.9922, 0.7725, 0.3412, 0.8039,\n",
              "          0.9922, 0.9922, 0.9922, 0.9922, 0.9922, 0.9922, 0.0353, 0.0000,\n",
              "          0.0000, 0.0000, 0.0000, 0.0000],\n",
              "         [0.0000, 0.0000, 0.0000, 0.0000, 0.0000, 0.0000, 0.0000, 0.0000,\n",
              "          0.0000, 0.0000, 0.8118, 0.9961, 0.9961, 0.3137, 0.7608, 1.0000,\n",
              "          0.9961, 0.9961, 0.9961, 0.9961, 0.9961, 0.9961, 0.0353, 0.0000,\n",
              "          0.0000, 0.0000, 0.0000, 0.0000],\n",
              "         [0.0000, 0.0000, 0.0000, 0.0000, 0.0000, 0.0000, 0.0000, 0.0000,\n",
              "          0.0000, 0.2745, 0.9725, 0.9922, 0.6000, 0.6863, 0.9922, 0.9569,\n",
              "          0.8431, 0.5569, 0.4784, 0.9529, 0.9922, 0.9922, 0.0353, 0.0000,\n",
              "          0.0000, 0.0000, 0.0000, 0.0000],\n",
              "         [0.0000, 0.0000, 0.0000, 0.0000, 0.0000, 0.0000, 0.0000, 0.0000,\n",
              "          0.0000, 0.9216, 0.9922, 0.8549, 0.2078, 0.9059, 0.8392, 0.3020,\n",
              "          0.0000, 0.0000, 0.1216, 0.9490, 0.9922, 0.8392, 0.0235, 0.0000,\n",
              "          0.0000, 0.0000, 0.0000, 0.0000],\n",
              "         [0.0000, 0.0000, 0.0000, 0.0000, 0.0000, 0.0000, 0.0000, 0.0000,\n",
              "          0.2000, 0.9686, 0.9922, 0.4157, 0.4824, 0.9922, 0.3804, 0.0000,\n",
              "          0.0000, 0.0118, 0.6392, 0.9922, 0.9686, 0.2078, 0.0000, 0.0000,\n",
              "          0.0000, 0.0000, 0.0000, 0.0000],\n",
              "         [0.0000, 0.0000, 0.0000, 0.0000, 0.0000, 0.0000, 0.0000, 0.0078,\n",
              "          0.6980, 0.9922, 0.9490, 0.1294, 0.0157, 0.0706, 0.0196, 0.0000,\n",
              "          0.0275, 0.3529, 0.9922, 0.9922, 0.5059, 0.0000, 0.0000, 0.0000,\n",
              "          0.0000, 0.0000, 0.0000, 0.0000],\n",
              "         [0.0000, 0.0000, 0.0000, 0.0000, 0.0000, 0.0000, 0.0000, 0.0392,\n",
              "          0.9922, 0.9922, 0.6157, 0.0000, 0.0000, 0.0000, 0.0000, 0.0196,\n",
              "          0.6196, 0.9922, 0.9686, 0.6431, 0.0353, 0.0000, 0.0000, 0.0000,\n",
              "          0.0000, 0.0000, 0.0000, 0.0000],\n",
              "         [0.0000, 0.0000, 0.0000, 0.0000, 0.0000, 0.0000, 0.0000, 0.0392,\n",
              "          0.9922, 0.9922, 0.5490, 0.0000, 0.0000, 0.0000, 0.2471, 0.7765,\n",
              "          0.9922, 0.9765, 0.3294, 0.0000, 0.0000, 0.0000, 0.0000, 0.0000,\n",
              "          0.0000, 0.0000, 0.0000, 0.0000],\n",
              "         [0.0000, 0.0000, 0.0000, 0.0000, 0.0000, 0.0000, 0.0000, 0.0392,\n",
              "          0.9922, 0.9922, 0.8118, 0.3333, 0.5216, 0.9569, 0.9804, 0.9961,\n",
              "          0.9569, 0.6039, 0.0000, 0.0000, 0.0000, 0.0000, 0.0000, 0.0000,\n",
              "          0.0000, 0.0000, 0.0000, 0.0000],\n",
              "         [0.0000, 0.0000, 0.0000, 0.0000, 0.0000, 0.0000, 0.0000, 0.0196,\n",
              "          0.7922, 0.9922, 0.9922, 0.9922, 0.9922, 0.9922, 0.9922, 0.8275,\n",
              "          0.3020, 0.0000, 0.0000, 0.0000, 0.0000, 0.0000, 0.0000, 0.0000,\n",
              "          0.0000, 0.0000, 0.0000, 0.0000],\n",
              "         [0.0000, 0.0000, 0.0000, 0.0000, 0.0000, 0.0000, 0.0000, 0.0000,\n",
              "          0.0784, 0.6627, 0.9922, 0.9922, 0.9922, 0.6745, 0.3529, 0.0980,\n",
              "          0.0000, 0.0000, 0.0000, 0.0000, 0.0000, 0.0000, 0.0000, 0.0000,\n",
              "          0.0000, 0.0000, 0.0000, 0.0000],\n",
              "         [0.0000, 0.0000, 0.0000, 0.0000, 0.0000, 0.0000, 0.0000, 0.0000,\n",
              "          0.0000, 0.0000, 0.0000, 0.0000, 0.0000, 0.0000, 0.0000, 0.0000,\n",
              "          0.0000, 0.0000, 0.0000, 0.0000, 0.0000, 0.0000, 0.0000, 0.0000,\n",
              "          0.0000, 0.0000, 0.0000, 0.0000],\n",
              "         [0.0000, 0.0000, 0.0000, 0.0000, 0.0000, 0.0000, 0.0000, 0.0000,\n",
              "          0.0000, 0.0000, 0.0000, 0.0000, 0.0000, 0.0000, 0.0000, 0.0000,\n",
              "          0.0000, 0.0000, 0.0000, 0.0000, 0.0000, 0.0000, 0.0000, 0.0000,\n",
              "          0.0000, 0.0000, 0.0000, 0.0000],\n",
              "         [0.0000, 0.0000, 0.0000, 0.0000, 0.0000, 0.0000, 0.0000, 0.0000,\n",
              "          0.0000, 0.0000, 0.0000, 0.0000, 0.0000, 0.0000, 0.0000, 0.0000,\n",
              "          0.0000, 0.0000, 0.0000, 0.0000, 0.0000, 0.0000, 0.0000, 0.0000,\n",
              "          0.0000, 0.0000, 0.0000, 0.0000],\n",
              "         [0.0000, 0.0000, 0.0000, 0.0000, 0.0000, 0.0000, 0.0000, 0.0000,\n",
              "          0.0000, 0.0000, 0.0000, 0.0000, 0.0000, 0.0000, 0.0000, 0.0000,\n",
              "          0.0000, 0.0000, 0.0000, 0.0000, 0.0000, 0.0000, 0.0000, 0.0000,\n",
              "          0.0000, 0.0000, 0.0000, 0.0000],\n",
              "         [0.0000, 0.0000, 0.0000, 0.0000, 0.0000, 0.0000, 0.0000, 0.0000,\n",
              "          0.0000, 0.0000, 0.0000, 0.0000, 0.0000, 0.0000, 0.0000, 0.0000,\n",
              "          0.0000, 0.0000, 0.0000, 0.0000, 0.0000, 0.0000, 0.0000, 0.0000,\n",
              "          0.0000, 0.0000, 0.0000, 0.0000]]])"
            ]
          },
          "metadata": {
            "tags": []
          },
          "execution_count": 39
        }
      ]
    },
    {
      "cell_type": "markdown",
      "metadata": {
        "id": "UeSAU9U3isXL"
      },
      "source": [
        "We can use matplotlib or the show_image_grid function to visualize the data."
      ]
    },
    {
      "cell_type": "code",
      "metadata": {
        "id": "_AEFLrEyisXL",
        "colab": {
          "base_uri": "https://localhost:8080/",
          "height": 282
        },
        "outputId": "438fbb2c-596d-4d5b-e55d-79ad460d7f7e"
      },
      "source": [
        "plt.gray() # sets matplotlib colormap\n",
        "plt.imshow(Xb[0,0])"
      ],
      "execution_count": 40,
      "outputs": [
        {
          "output_type": "execute_result",
          "data": {
            "text/plain": [
              "<matplotlib.image.AxesImage at 0x7f72cf50afd0>"
            ]
          },
          "metadata": {
            "tags": []
          },
          "execution_count": 40
        },
        {
          "output_type": "display_data",
          "data": {
            "image/png": "[encoded data removed]",
            "text/plain": [
              "<Figure size 432x288 with 1 Axes>"
            ]
          },
          "metadata": {
            "tags": [],
            "needs_background": "light"
          }
        }
      ]
    },
    {
      "cell_type": "code",
      "metadata": {
        "id": "putffO0WisXP",
        "colab": {
          "base_uri": "https://localhost:8080/"
        },
        "outputId": "341b3c19-316a-430f-feae-e0c01414a7b1"
      },
      "source": [
        "yb"
      ],
      "execution_count": 41,
      "outputs": [
        {
          "output_type": "execute_result",
          "data": {
            "text/plain": [
              "tensor([6, 5, 3, 2, 2, 9, 4, 3, 1, 7, 3, 1, 9, 9, 3, 1, 8, 6, 2, 2, 5, 9, 0, 9,\n",
              "        3, 1, 7, 7, 6, 7, 0, 4, 5, 0, 9, 1, 9, 2, 2, 1, 2, 2, 4, 0, 1, 5, 9, 0,\n",
              "        8, 4, 3, 1, 6, 7, 7, 4, 1, 2, 8, 9, 5, 2, 3, 4, 5, 6, 3, 4, 9, 8, 5, 2,\n",
              "        7, 6, 3, 0, 6, 8, 8, 7, 5, 1, 2, 0, 3, 3, 2, 0, 2, 7, 5, 5, 2, 7, 3, 0,\n",
              "        8, 2, 0, 4, 3, 0, 8, 1, 9, 1, 8, 8, 2, 7, 6, 4, 4, 3, 9, 7, 3, 8, 0, 4,\n",
              "        0, 2, 9, 8, 4, 6, 0, 5])"
            ]
          },
          "metadata": {
            "tags": []
          },
          "execution_count": 41
        }
      ]
    },
    {
      "cell_type": "code",
      "metadata": {
        "id": "WyNr70YWisXS",
        "colab": {
          "base_uri": "https://localhost:8080/",
          "height": 281
        },
        "outputId": "fda8ddef-48ac-4c7a-c718-7ba776dfd750"
      },
      "source": [
        "plt.imshow(Xb[0, 0])\n",
        "plt.title(f\"This is a {yb[0]}\")\n",
        "plt.show()"
      ],
      "execution_count": 42,
      "outputs": [
        {
          "output_type": "display_data",
          "data": {
            "image/png": "[encoded data removed]",
            "text/plain": [
              "<Figure size 432x288 with 1 Axes>"
            ]
          },
          "metadata": {
            "tags": [],
            "needs_background": "light"
          }
        }
      ]
    },
    {
      "cell_type": "code",
      "metadata": {
        "scrolled": true,
        "id": "BmkgtHzEisXY",
        "colab": {
          "base_uri": "https://localhost:8080/",
          "height": 525
        },
        "outputId": "74e24188-3e80-457e-e191-25bc166801a4"
      },
      "source": [
        "show_image_grid(Xb, yb)"
      ],
      "execution_count": 43,
      "outputs": [
        {
          "output_type": "display_data",
          "data": {
            "image/png": "[encoded data removed]",
            "text/plain": [
              "<Figure size 864x648 with 24 Axes>"
            ]
          },
          "metadata": {
            "tags": [],
            "needs_background": "light"
          }
        }
      ]
    },
    {
      "cell_type": "markdown",
      "metadata": {
        "id": "7LOof-ExisXc"
      },
      "source": [
        "## Setup the model\n",
        "\n",
        "We want to train a linear model from a vectorized (flattened) version of the image. We first reshape our image tensor"
      ]
    },
    {
      "cell_type": "code",
      "metadata": {
        "id": "9m0-6kC6isXc",
        "colab": {
          "base_uri": "https://localhost:8080/"
        },
        "outputId": "82565cb2-663e-456f-fc8f-662671c6aab5"
      },
      "source": [
        "Xb_flat = Xb.view(Xb.shape[0], -1)\n",
        "Xb_flat.shape"
      ],
      "execution_count": 44,
      "outputs": [
        {
          "output_type": "execute_result",
          "data": {
            "text/plain": [
              "torch.Size([128, 784])"
            ]
          },
          "metadata": {
            "tags": []
          },
          "execution_count": 44
        }
      ]
    },
    {
      "cell_type": "markdown",
      "metadata": {
        "id": "w9bCKgG-isXf"
      },
      "source": [
        "We now initialize the weights and biases (parameters) of our network. We use a weight matrix to densely connect the 28x28 dimensional input to an output layer of size 10 and add a bias term. This simplistic shallow linear \"neural network\" outputs 10 class scores for each of the digit between 0-9."
      ]
    },
    {
      "cell_type": "code",
      "metadata": {
        "scrolled": true,
        "id": "FXJk7aQrisXf",
        "colab": {
          "base_uri": "https://localhost:8080/"
        },
        "outputId": "7da0bdc9-8f8e-4a7b-c68c-c96ece118e6f"
      },
      "source": [
        "weight = torch.randn((28*28, 10))\n",
        "bias = torch.zeros(10)\n",
        "\n",
        "output = Xb_flat @ weight  + bias\n",
        "output.shape"
      ],
      "execution_count": 45,
      "outputs": [
        {
          "output_type": "execute_result",
          "data": {
            "text/plain": [
              "torch.Size([128, 10])"
            ]
          },
          "metadata": {
            "tags": []
          },
          "execution_count": 45
        }
      ]
    },
    {
      "cell_type": "code",
      "metadata": {
        "id": "arQF4W4QisXh",
        "colab": {
          "base_uri": "https://localhost:8080/"
        },
        "outputId": "a5405f1e-2b0a-45b5-9dba-b86c12ecf4ad"
      },
      "source": [
        "output[0]"
      ],
      "execution_count": 46,
      "outputs": [
        {
          "output_type": "execute_result",
          "data": {
            "text/plain": [
              "tensor([  6.3439, -12.8451,  -0.7810,  -1.8591,  -0.8683,  -0.8397,   3.0818,\n",
              "          5.2498,  -4.0430,  17.3349])"
            ]
          },
          "metadata": {
            "tags": []
          },
          "execution_count": 46
        }
      ]
    },
    {
      "cell_type": "markdown",
      "metadata": {
        "id": "W3BMEmH-isXk"
      },
      "source": [
        "Lets refactor our neural network forward pass and wrap it into a function that we can easily call later on"
      ]
    },
    {
      "cell_type": "code",
      "metadata": {
        "id": "Tuld-zS1isXk",
        "colab": {
          "base_uri": "https://localhost:8080/"
        },
        "outputId": "e5fabad4-87b9-4339-8f04-6e589ed1c4a0"
      },
      "source": [
        "def forward(X, weight, bias):\n",
        "    return X.view(-1, 28*28) @ weight + bias\n",
        "\n",
        "forward(Xb, weight, bias)[0]"
      ],
      "execution_count": 47,
      "outputs": [
        {
          "output_type": "execute_result",
          "data": {
            "text/plain": [
              "tensor([  6.3439, -12.8451,  -0.7810,  -1.8591,  -0.8683,  -0.8397,   3.0818,\n",
              "          5.2498,  -4.0430,  17.3349])"
            ]
          },
          "metadata": {
            "tags": []
          },
          "execution_count": 47
        }
      ]
    },
    {
      "cell_type": "markdown",
      "metadata": {
        "id": "wPUSbR_nisXm"
      },
      "source": [
        "## Metrics\n",
        "\n",
        "We will also need a way of measuring how good our model is. Here, we will use the classification accuracy by comparing the label predicted by the network (simply the neuron with the largest score of our output layer) with the actual labels and counting how often those agree."
      ]
    },
    {
      "cell_type": "code",
      "metadata": {
        "scrolled": false,
        "id": "FThhfyrlisXm",
        "colab": {
          "base_uri": "https://localhost:8080/"
        },
        "outputId": "3391d374-7308-4ec3-fae3-c3943815f237"
      },
      "source": [
        "print(\"predicted label:\", output.argmax(1))\n",
        "print(\"   actual label:\", yb)\n",
        "\n",
        "yb == output.argmax(1)"
      ],
      "execution_count": 48,
      "outputs": [
        {
          "output_type": "stream",
          "text": [
            "predicted label: tensor([9, 9, 8, 3, 9, 3, 3, 3, 0, 7, 8, 9, 3, 3, 8, 3, 3, 3, 5, 0, 0, 7, 8, 3,\n",
            "        0, 4, 0, 0, 3, 0, 3, 3, 9, 3, 8, 7, 7, 9, 7, 3, 9, 9, 3, 7, 7, 9, 0, 8,\n",
            "        9, 3, 0, 7, 9, 7, 7, 3, 3, 7, 9, 3, 9, 9, 8, 1, 9, 9, 8, 9, 7, 9, 8, 9,\n",
            "        3, 9, 9, 3, 4, 9, 9, 8, 9, 7, 7, 9, 8, 3, 9, 3, 0, 7, 9, 9, 0, 3, 3, 9,\n",
            "        9, 9, 9, 3, 8, 8, 0, 4, 3, 3, 2, 9, 9, 0, 9, 0, 8, 8, 3, 0, 9, 0, 7, 3,\n",
            "        9, 9, 3, 0, 3, 9, 7, 3])\n",
            "   actual label: tensor([6, 5, 3, 2, 2, 9, 4, 3, 1, 7, 3, 1, 9, 9, 3, 1, 8, 6, 2, 2, 5, 9, 0, 9,\n",
            "        3, 1, 7, 7, 6, 7, 0, 4, 5, 0, 9, 1, 9, 2, 2, 1, 2, 2, 4, 0, 1, 5, 9, 0,\n",
            "        8, 4, 3, 1, 6, 7, 7, 4, 1, 2, 8, 9, 5, 2, 3, 4, 5, 6, 3, 4, 9, 8, 5, 2,\n",
            "        7, 6, 3, 0, 6, 8, 8, 7, 5, 1, 2, 0, 3, 3, 2, 0, 2, 7, 5, 5, 2, 7, 3, 0,\n",
            "        8, 2, 0, 4, 3, 0, 8, 1, 9, 1, 8, 8, 2, 7, 6, 4, 4, 3, 9, 7, 3, 8, 0, 4,\n",
            "        0, 2, 9, 8, 4, 6, 0, 5])\n"
          ],
          "name": "stdout"
        },
        {
          "output_type": "execute_result",
          "data": {
            "text/plain": [
              "tensor([False, False, False, False, False, False, False,  True, False,  True,\n",
              "        False, False, False, False, False, False, False, False, False, False,\n",
              "        False, False, False, False, False, False, False, False, False, False,\n",
              "        False, False, False, False, False, False, False, False, False, False,\n",
              "        False, False, False, False, False, False, False, False, False, False,\n",
              "        False, False, False,  True,  True, False, False, False, False, False,\n",
              "        False, False, False, False, False, False, False, False, False, False,\n",
              "        False, False, False, False, False, False, False, False, False, False,\n",
              "        False, False, False, False, False,  True, False, False, False,  True,\n",
              "        False, False, False, False,  True, False, False, False, False, False,\n",
              "        False, False, False, False, False, False, False, False, False, False,\n",
              "        False, False, False, False, False, False, False, False, False, False,\n",
              "        False, False, False, False, False, False, False, False])"
            ]
          },
          "metadata": {
            "tags": []
          },
          "execution_count": 48
        }
      ]
    },
    {
      "cell_type": "markdown",
      "metadata": {
        "id": "7YRpwfhfisXp"
      },
      "source": [
        "We can compute an accuracy between 0 and 1 simply by averaging the above binary vector. "
      ]
    },
    {
      "cell_type": "code",
      "metadata": {
        "id": "l3RuSsMSisXq",
        "colab": {
          "base_uri": "https://localhost:8080/"
        },
        "outputId": "ee80484d-3d2f-4152-e5c9-41cf8df37c94"
      },
      "source": [
        "def accuracy(output, label):\n",
        "    return (output.argmax(1) == label).float().mean()\n",
        "\n",
        "accuracy(output, yb)"
      ],
      "execution_count": 49,
      "outputs": [
        {
          "output_type": "execute_result",
          "data": {
            "text/plain": [
              "tensor(0.0547)"
            ]
          },
          "metadata": {
            "tags": []
          },
          "execution_count": 49
        }
      ]
    },
    {
      "cell_type": "markdown",
      "metadata": {
        "id": "bTY8veNhisXs"
      },
      "source": [
        "## Loss\n",
        "\n",
        "To measure how well our network does, we cannot directly use our accuracy metric - Do you know why?\n",
        "\n",
        "Instead, we will apply a softmax to the 10-dimensional output, which gives us a probability between 0 and 1 for each of the 10 classes."
      ]
    },
    {
      "cell_type": "code",
      "metadata": {
        "id": "yYEhEdeuisXs",
        "colab": {
          "base_uri": "https://localhost:8080/"
        },
        "outputId": "44e4b297-0235-4e2e-c866-d6ae55d3c517"
      },
      "source": [
        "F.softmax(output, dim=1)"
      ],
      "execution_count": 50,
      "outputs": [
        {
          "output_type": "execute_result",
          "data": {
            "text/plain": [
              "tensor([[1.6853e-05, 7.8162e-14, 1.3562e-08,  ..., 5.6428e-06, 5.1963e-10,\n",
              "         9.9998e-01],\n",
              "        [2.6550e-04, 1.7038e-01, 3.9265e-03,  ..., 1.8276e-03, 2.3537e-01,\n",
              "         5.4481e-01],\n",
              "        [3.9943e-02, 7.7429e-08, 2.7718e-07,  ..., 8.4046e-03, 4.5066e-01,\n",
              "         3.9724e-01],\n",
              "        ...,\n",
              "        [1.7849e-06, 1.7177e-13, 8.8262e-08,  ..., 2.0341e-04, 1.1961e-08,\n",
              "         9.9979e-01],\n",
              "        [9.3872e-08, 2.0301e-16, 2.2747e-09,  ..., 1.0000e+00, 1.1632e-06,\n",
              "         3.2222e-06],\n",
              "        [2.6989e-09, 8.9825e-11, 1.7669e-09,  ..., 4.1382e-06, 7.6755e-05,\n",
              "         7.6435e-07]])"
            ]
          },
          "metadata": {
            "tags": []
          },
          "execution_count": 50
        }
      ]
    },
    {
      "cell_type": "code",
      "metadata": {
        "id": "jrND9m4AKEoQ",
        "colab": {
          "base_uri": "https://localhost:8080/"
        },
        "outputId": "ca05f72f-df61-48e1-dee3-5fc25fea609e"
      },
      "source": [
        "F.softmax(output, dim=1)[0]"
      ],
      "execution_count": 51,
      "outputs": [
        {
          "output_type": "execute_result",
          "data": {
            "text/plain": [
              "tensor([1.6853e-05, 7.8162e-14, 1.3562e-08, 4.6146e-09, 1.2429e-08, 1.2789e-08,\n",
              "        6.4559e-07, 5.6428e-06, 5.1963e-10, 9.9998e-01])"
            ]
          },
          "metadata": {
            "tags": []
          },
          "execution_count": 51
        }
      ]
    },
    {
      "cell_type": "code",
      "metadata": {
        "id": "rdxk-FKgisXv",
        "colab": {
          "base_uri": "https://localhost:8080/"
        },
        "outputId": "c8a4cd46-b82e-4742-eb32-96dc5d818b86"
      },
      "source": [
        "F.softmax(output, dim=1).sum(1)"
      ],
      "execution_count": 52,
      "outputs": [
        {
          "output_type": "execute_result",
          "data": {
            "text/plain": [
              "tensor([1.0000, 1.0000, 1.0000, 1.0000, 1.0000, 1.0000, 1.0000, 1.0000, 1.0000,\n",
              "        1.0000, 1.0000, 1.0000, 1.0000, 1.0000, 1.0000, 1.0000, 1.0000, 1.0000,\n",
              "        1.0000, 1.0000, 1.0000, 1.0000, 1.0000, 1.0000, 1.0000, 1.0000, 1.0000,\n",
              "        1.0000, 1.0000, 1.0000, 1.0000, 1.0000, 1.0000, 1.0000, 1.0000, 1.0000,\n",
              "        1.0000, 1.0000, 1.0000, 1.0000, 1.0000, 1.0000, 1.0000, 1.0000, 1.0000,\n",
              "        1.0000, 1.0000, 1.0000, 1.0000, 1.0000, 1.0000, 1.0000, 1.0000, 1.0000,\n",
              "        1.0000, 1.0000, 1.0000, 1.0000, 1.0000, 1.0000, 1.0000, 1.0000, 1.0000,\n",
              "        1.0000, 1.0000, 1.0000, 1.0000, 1.0000, 1.0000, 1.0000, 1.0000, 1.0000,\n",
              "        1.0000, 1.0000, 1.0000, 1.0000, 1.0000, 1.0000, 1.0000, 1.0000, 1.0000,\n",
              "        1.0000, 1.0000, 1.0000, 1.0000, 1.0000, 1.0000, 1.0000, 1.0000, 1.0000,\n",
              "        1.0000, 1.0000, 1.0000, 1.0000, 1.0000, 1.0000, 1.0000, 1.0000, 1.0000,\n",
              "        1.0000, 1.0000, 1.0000, 1.0000, 1.0000, 1.0000, 1.0000, 1.0000, 1.0000,\n",
              "        1.0000, 1.0000, 1.0000, 1.0000, 1.0000, 1.0000, 1.0000, 1.0000, 1.0000,\n",
              "        1.0000, 1.0000, 1.0000, 1.0000, 1.0000, 1.0000, 1.0000, 1.0000, 1.0000,\n",
              "        1.0000, 1.0000])"
            ]
          },
          "metadata": {
            "tags": []
          },
          "execution_count": 52
        }
      ]
    },
    {
      "cell_type": "markdown",
      "metadata": {
        "id": "-wEU6lbNisX3"
      },
      "source": [
        "However, instead of computing the negative log-likelihood now from the softmax output, it is both quicker and numerically more stable to directly use the cross_entropy loss from PyTorch. Notice that you need to pass the output of your last layer directly to cross_entropy - **NEVER pass softmaxed output directly, use the explicit softmax presented above only if you want to output class probabilities at test time.** "
      ]
    },
    {
      "cell_type": "code",
      "metadata": {
        "id": "W_O3GdoGisX4",
        "colab": {
          "base_uri": "https://localhost:8080/"
        },
        "outputId": "599907f0-9fe7-4933-d16b-6f65cc417d4c"
      },
      "source": [
        "loss = F.cross_entropy(output, yb)\n",
        "loss"
      ],
      "execution_count": 53,
      "outputs": [
        {
          "output_type": "execute_result",
          "data": {
            "text/plain": [
              "tensor(14.4788)"
            ]
          },
          "metadata": {
            "tags": []
          },
          "execution_count": 53
        }
      ]
    },
    {
      "cell_type": "markdown",
      "metadata": {
        "id": "6jU4sQ91Mtl-"
      },
      "source": [
        "You can learn more about this function here: https://pytorch.org/docs/master/nn.html#crossentropyloss\n",
        "\n",
        "There, it says that it just combines LogSoftmax and NLLLoss, whose functional variants are:"
      ]
    },
    {
      "cell_type": "code",
      "metadata": {
        "id": "LsrGDhN5LpRE",
        "colab": {
          "base_uri": "https://localhost:8080/"
        },
        "outputId": "705ddfc1-ea3b-4b33-b90f-9b11b1fa31c0"
      },
      "source": [
        "F.nll_loss(F.log_softmax(output, dim=1), yb)"
      ],
      "execution_count": 54,
      "outputs": [
        {
          "output_type": "execute_result",
          "data": {
            "text/plain": [
              "tensor(14.4788)"
            ]
          },
          "metadata": {
            "tags": []
          },
          "execution_count": 54
        }
      ]
    },
    {
      "cell_type": "markdown",
      "metadata": {
        "id": "enbDWjfJNIXt"
      },
      "source": [
        "Indeed, this gives us the same result, and we can further split this to see that it just applies log to the softmax result:"
      ]
    },
    {
      "cell_type": "code",
      "metadata": {
        "id": "TucIVh_QL0cv",
        "colab": {
          "base_uri": "https://localhost:8080/"
        },
        "outputId": "0646496c-8945-4107-f2d3-fc1d1b2a6f38"
      },
      "source": [
        "F.nll_loss(torch.log(F.softmax(output, dim=1)), yb)"
      ],
      "execution_count": 55,
      "outputs": [
        {
          "output_type": "execute_result",
          "data": {
            "text/plain": [
              "tensor(14.4788)"
            ]
          },
          "metadata": {
            "tags": []
          },
          "execution_count": 55
        }
      ]
    },
    {
      "cell_type": "markdown",
      "metadata": {
        "id": "g74B2oKOPL57"
      },
      "source": [
        "In fact, even unpacking that call results in relatively compact code. We can see that the negative log likelihood loss simply averages the log-probabilities for the correct classes stored in `yb`. This makes sense, we want the probabilities of the correct classes to be as high as possible. In other words we want to maximize that average *or* minimize negated value of that average (we negate it because we always want to *minimize* a loss, since a loss should measure the *lousiness* of our network)."
      ]
    },
    {
      "cell_type": "code",
      "metadata": {
        "id": "3iMWL1mLNRtX",
        "colab": {
          "base_uri": "https://localhost:8080/"
        },
        "outputId": "dfda6251-deb9-4872-83d9-600f2677767b"
      },
      "source": [
        "probs = F.softmax(output, dim=1)\n",
        "log_probs = torch.log(probs)\n",
        "# here comes F.nll_loss:\n",
        "correct_class_log_probs = log_probs[torch.arange(batch_size), yb]\n",
        "-torch.sum(correct_class_log_probs) / batch_size"
      ],
      "execution_count": 56,
      "outputs": [
        {
          "output_type": "execute_result",
          "data": {
            "text/plain": [
              "tensor(14.4788)"
            ]
          },
          "metadata": {
            "tags": []
          },
          "execution_count": 56
        }
      ]
    },
    {
      "cell_type": "code",
      "metadata": {
        "id": "-eKYk9tDSuII",
        "colab": {
          "base_uri": "https://localhost:8080/",
          "height": 299
        },
        "outputId": "c5928e60-f16b-4701-b2f5-248337070496"
      },
      "source": [
        "prob = np.linspace(0.0, 1, 10000)\n",
        "plt.plot(prob, -np.log(prob))\n",
        "plt.grid()"
      ],
      "execution_count": 57,
      "outputs": [
        {
          "output_type": "stream",
          "text": [
            "/usr/local/lib/python3.7/dist-packages/ipykernel_launcher.py:2: RuntimeWarning: divide by zero encountered in log\n",
            "  \n"
          ],
          "name": "stderr"
        },
        {
          "output_type": "display_data",
          "data": {
            "image/png": "[encoded data removed]",
            "text/plain": [
              "<Figure size 432x288 with 1 Axes>"
            ]
          },
          "metadata": {
            "tags": [],
            "needs_background": "light"
          }
        }
      ]
    },
    {
      "cell_type": "markdown",
      "metadata": {
        "id": "bDqrVFZtai2G"
      },
      "source": [
        "### Further Info about loss functions\n",
        "\n",
        "Note that what we're using here is commonly called the (softmax-) cross-entropy, sometimes also abbreviated log-loss. \n",
        "\n",
        "If you want to learn more about different loss functions, this is a nice overview: https://arxiv.org/abs/1702.05659\n",
        "\n",
        "In general, for multi-class classification problems the cross-entropy loss works very well. What is important from time-to-time is to use the `weight` parameter of the `CrossEntropyLoss` class (or `F.cross_entropy function`) to perform class-weighting in imbalanced datasets that \"happen\" frequently in practice, see e.g. in this paper:\n",
        "http://openaccess.thecvf.com/content_CVPR_2019/html/Cui_Class-Balanced_Loss_Based_on_Effective_Number_of_Samples_CVPR_2019_paper.html\n"
      ]
    },
    {
      "cell_type": "markdown",
      "metadata": {
        "id": "PAnAvUjPisX6"
      },
      "source": [
        "## Backpropagation\n",
        "\n",
        "We now need to compute the gradient of the weight and bias tensor with respect to the loss. Luckily, PyTorch supplies us with an autograd mechanism that internally computes the gradients at each operations and propagates the error from the output of the network to the input, often called the backward pass.\n",
        "\n",
        "Remember, that is what we did until now:"
      ]
    },
    {
      "cell_type": "code",
      "metadata": {
        "id": "PBx7CofPdhW_",
        "colab": {
          "base_uri": "https://localhost:8080/"
        },
        "outputId": "182035ab-5434-445d-d50a-9d454acf8d7a"
      },
      "source": [
        "# initialize network parameters\n",
        "weight = torch.randn((28*28, 10), requires_grad=True)\n",
        "bias = torch.zeros(10, requires_grad=True)\n",
        "# run one batch of images (Xb) through the network\n",
        "output = forward(Xb, weight, bias)\n",
        "# compute loss\n",
        "loss = F.cross_entropy(output, yb)\n",
        "loss"
      ],
      "execution_count": 58,
      "outputs": [
        {
          "output_type": "execute_result",
          "data": {
            "text/plain": [
              "tensor(16.4054, grad_fn=<NllLossBackward>)"
            ]
          },
          "metadata": {
            "tags": []
          },
          "execution_count": 58
        }
      ]
    },
    {
      "cell_type": "markdown",
      "metadata": {
        "id": "espLFHZKeEWA"
      },
      "source": [
        "Now we want to know how we should change the bias and weight parameter in order to *decrease* the loss. For this, we're using the *gradient* of the parameters (with respect to the *loss*).\n",
        "\n",
        "The gradients of a tensor can be accessed by the .grad attribute after running backward on the output as follows. At first, the gradient is empty:"
      ]
    },
    {
      "cell_type": "code",
      "metadata": {
        "id": "k8P5tZkOisX7"
      },
      "source": [
        "bias.grad"
      ],
      "execution_count": 59,
      "outputs": []
    },
    {
      "cell_type": "markdown",
      "metadata": {
        "id": "lkX_qbx5isX-"
      },
      "source": [
        "We then run backpropagation by calling:"
      ]
    },
    {
      "cell_type": "code",
      "metadata": {
        "id": "ZB5rrAqVisX-"
      },
      "source": [
        "loss.backward()"
      ],
      "execution_count": 60,
      "outputs": []
    },
    {
      "cell_type": "markdown",
      "metadata": {
        "id": "yNx3vwmyisYC"
      },
      "source": [
        "Then, we can read out the gradient using `bias.grad`, which returns a tensor that has the derivative of all the values in the `bias` parameter with respect to the loss.\n",
        "\n",
        "### Question\n",
        "\n",
        "What is the shape of the gradient of `bias` and `weight`?\n",
        "\n",
        "-\n",
        "\n",
        "-\n",
        "\n",
        "-\n",
        "\n",
        "-\n",
        "\n",
        "-\n",
        "\n",
        "-\n",
        "\n",
        "-\n",
        "\n",
        "-\n",
        "\n",
        "-\n",
        "\n",
        "-\n",
        "\n",
        "-\n",
        "\n",
        "-\n",
        "\n",
        "-\n",
        "\n",
        "-\n",
        "\n",
        "-\n",
        "\n",
        "-\n",
        "\n",
        "-\n",
        "\n",
        "-\n",
        "\n",
        "-\n",
        "\n",
        "-\n",
        "\n",
        "-"
      ]
    },
    {
      "cell_type": "code",
      "metadata": {
        "id": "0GtrSmWYisYC",
        "colab": {
          "base_uri": "https://localhost:8080/"
        },
        "outputId": "3fcce5d0-74a9-4a78-be6a-acc4239a15c9"
      },
      "source": [
        "bias.grad"
      ],
      "execution_count": 61,
      "outputs": [
        {
          "output_type": "execute_result",
          "data": {
            "text/plain": [
              "tensor([-0.0840,  0.3306, -0.1266,  0.1459, -0.0643,  0.1228, -0.0701, -0.0693,\n",
              "        -0.0922, -0.0927])"
            ]
          },
          "metadata": {
            "tags": []
          },
          "execution_count": 61
        }
      ]
    },
    {
      "cell_type": "code",
      "metadata": {
        "id": "Us5zSR-2isYG",
        "colab": {
          "base_uri": "https://localhost:8080/"
        },
        "outputId": "e0690444-0aaf-4414-9d4e-bad40a428db2"
      },
      "source": [
        "bias.grad.shape"
      ],
      "execution_count": 62,
      "outputs": [
        {
          "output_type": "execute_result",
          "data": {
            "text/plain": [
              "torch.Size([10])"
            ]
          },
          "metadata": {
            "tags": []
          },
          "execution_count": 62
        }
      ]
    },
    {
      "cell_type": "code",
      "metadata": {
        "id": "kWu9vZeoisYJ",
        "colab": {
          "base_uri": "https://localhost:8080/"
        },
        "outputId": "7694d0aa-e94d-45f1-8f87-d7ceed49b8e7"
      },
      "source": [
        "weight.grad.shape"
      ],
      "execution_count": 63,
      "outputs": [
        {
          "output_type": "execute_result",
          "data": {
            "text/plain": [
              "torch.Size([784, 10])"
            ]
          },
          "metadata": {
            "tags": []
          },
          "execution_count": 63
        }
      ]
    },
    {
      "cell_type": "code",
      "metadata": {
        "id": "XBSmhnd1isYL",
        "colab": {
          "base_uri": "https://localhost:8080/"
        },
        "outputId": "06cbd736-6646-43a0-8269-f73064dbb638"
      },
      "source": [
        "weight.grad"
      ],
      "execution_count": 64,
      "outputs": [
        {
          "output_type": "execute_result",
          "data": {
            "text/plain": [
              "tensor([[0., 0., 0.,  ..., 0., 0., 0.],\n",
              "        [0., 0., 0.,  ..., 0., 0., 0.],\n",
              "        [0., 0., 0.,  ..., 0., 0., 0.],\n",
              "        ...,\n",
              "        [0., 0., 0.,  ..., 0., 0., 0.],\n",
              "        [0., 0., 0.,  ..., 0., 0., 0.],\n",
              "        [0., 0., 0.,  ..., 0., 0., 0.]])"
            ]
          },
          "metadata": {
            "tags": []
          },
          "execution_count": 64
        }
      ]
    },
    {
      "cell_type": "markdown",
      "metadata": {
        "id": "NPAain1kTrsP"
      },
      "source": [
        "You can learn more about backpropagation and the math basics here:\n",
        " - **extremely good animations and explanations** of neural networks, backpropagation and gradient descent are the [video series by 3blue1brown](https://www.youtube.com/playlist?list=PLZHQObOWTQDNU6R1_67000Dx_ZCJB-3pi)\n",
        " - study [Micrograd](https://github.com/karpathy/micrograd) - a tine autograd engine written in Python, only about 100 lines of code\n",
        " - a very [gentle writeup](https://explained.ai/matrix-calculus/) of the mathematical background of matrix and derivative calculus needed by deep learning\n",
        " - read [the autograd tutorial](https://pytorch.org/tutorials/beginner/blitz/autograd_tutorial.html) from the PyTorch authors\n",
        "\n"
      ]
    },
    {
      "cell_type": "markdown",
      "metadata": {
        "id": "f9mMDJMIisYN"
      },
      "source": [
        "## Gradient descent\n",
        "\n",
        "We can now change the weight and bias parameter in order to bring down the loss. Since we don't want to backpropagate through this gradient update step, we need to disable the autograd feature for these steps using with no_grad. We also need to define a learning rate (lr)."
      ]
    },
    {
      "cell_type": "code",
      "metadata": {
        "id": "a_2KtbxBisYO",
        "colab": {
          "base_uri": "https://localhost:8080/"
        },
        "outputId": "47ee2b39-161d-49f2-9b7a-814cf4788289"
      },
      "source": [
        "lr = 1.e-1\n",
        "\n",
        "print(\"bias before: \", bias)\n",
        "\n",
        "with torch.no_grad(): # TODO: why do we need this?\n",
        "    weight -= lr * weight.grad\n",
        "    weight.grad.zero_()\n",
        "    bias -= lr * bias.grad\n",
        "    bias.grad.zero_()\n",
        "    \n",
        "print(\"bias after: \", bias)"
      ],
      "execution_count": 65,
      "outputs": [
        {
          "output_type": "stream",
          "text": [
            "bias before:  tensor([0., 0., 0., 0., 0., 0., 0., 0., 0., 0.], requires_grad=True)\n",
            "bias after:  tensor([ 0.0084, -0.0331,  0.0127, -0.0146,  0.0064, -0.0123,  0.0070,  0.0069,\n",
            "         0.0092,  0.0093], requires_grad=True)\n"
          ],
          "name": "stdout"
        }
      ]
    },
    {
      "cell_type": "markdown",
      "metadata": {
        "id": "pInV6bBPisYS"
      },
      "source": [
        "Did our model already improve after this one small mini batch gradient update?"
      ]
    },
    {
      "cell_type": "code",
      "metadata": {
        "id": "KZIyaP-5isYT",
        "colab": {
          "base_uri": "https://localhost:8080/"
        },
        "outputId": "8aca400b-6d16-4fb3-9a91-4f7803dbfa27"
      },
      "source": [
        "output = forward(Xb, weight, bias)\n",
        "F.cross_entropy(output, yb)"
      ],
      "execution_count": 66,
      "outputs": [
        {
          "output_type": "execute_result",
          "data": {
            "text/plain": [
              "tensor(15.3298, grad_fn=<NllLossBackward>)"
            ]
          },
          "metadata": {
            "tags": []
          },
          "execution_count": 66
        }
      ]
    },
    {
      "cell_type": "code",
      "metadata": {
        "id": "Dg0msz0tisYV",
        "colab": {
          "base_uri": "https://localhost:8080/"
        },
        "outputId": "4eee7c60-404e-48d3-ac53-823d7e633521"
      },
      "source": [
        "accuracy(output, yb)"
      ],
      "execution_count": 67,
      "outputs": [
        {
          "output_type": "execute_result",
          "data": {
            "text/plain": [
              "tensor(0.1172)"
            ]
          },
          "metadata": {
            "tags": []
          },
          "execution_count": 67
        }
      ]
    },
    {
      "cell_type": "markdown",
      "metadata": {
        "id": "lgdo26-MisYb"
      },
      "source": [
        "# Full Training Loop\n",
        "\n",
        "In practice, we want to do these gradient update steps multiple times over the whole dataset. Usually, we construct an inner loop that runs over the whole (shuffled!) training set, and an outer loop that repeats this for a set number of epochs.\n",
        "\n",
        "Also, we were not very smart in initializing our weights. Lets use the popular [kaiming initialization](https://arxiv.org/abs/1502.01852) for initializing the weight matrix. Initialization is quite important, but as we will see later most of the times PyTorch provides us with a safe default. We just don't use it here since we did not yet learn about nn.Modules, yet.\n",
        "\n",
        "We should also measure the accuracy on our validation set after each epoch.\n",
        "\n",
        "## Your Tasks:\n",
        "\n",
        " - Finish the training loop prepared below and train the network for 5 epochs. What accuracy do you achieve?\n",
        " - Bonus: Visualize some images from the validation set that are misclassified - what can you see?\n",
        " - Bonus: Instead of MNIST, try FashionMNIST, which has the same format but is much harder then MNIST\n"
      ]
    },
    {
      "cell_type": "code",
      "metadata": {
        "id": "lhIcyQjDXE6e",
        "colab": {
          "base_uri": "https://localhost:8080/",
          "height": 130
        },
        "outputId": "83c09098-b05f-4770-9bc1-8cd071cad4e1"
      },
      "source": [
        "def forward(X, weight, bias):\n",
        "    return X.view(-1, 28*28) @ weight + bias\n",
        "\n",
        "def accuracy(output, label):\n",
        "    return (output.argmax(1) == label).float().mean()\n",
        "\n",
        "lr = 0.1\n",
        "\n",
        "# initialize weights\n",
        "weight = torch.zeros((28*28, 10), requires_grad=True)\n",
        "nn.init.kaiming_uniform_(weight, mode='fan_out')\n",
        "bias = torch.zeros(10, requires_grad=True)\n",
        "\n",
        "for epoch in range(5):\n",
        "    # train on mini batches\n",
        "    losses = []\n",
        "    for X, y in train_loader:\n",
        "        # TODO: forward pass\n",
        "        # compute loss\n",
        "        loss = # TODO\n",
        "        losses.append(loss.item())\n",
        "        # TODO: backward pass\n",
        "        with torch.no_grad():\n",
        "          # TODO: gradient descent update\n",
        "          # TODO: set gradients to zero\n",
        "            \n",
        "    # measure accuracy on the validation set\n",
        "    acc = # TODO use valid_loader and compute accuracy\n",
        "    print(\"epoch % 5d: loss: % 8.5f accuracy: %4.2f\" % (epoch, np.mean(losses), acc.item()))\n"
      ],
      "execution_count": 68,
      "outputs": [
        {
          "output_type": "error",
          "ename": "SyntaxError",
          "evalue": "ignored",
          "traceback": [
            "\u001b[0;36m  File \u001b[0;32m\"<ipython-input-68-c5ebcbb5268a>\"\u001b[0;36m, line \u001b[0;32m20\u001b[0m\n\u001b[0;31m    loss = # TODO\u001b[0m\n\u001b[0m                 ^\u001b[0m\n\u001b[0;31mSyntaxError\u001b[0m\u001b[0;31m:\u001b[0m invalid syntax\n"
          ]
        }
      ]
    },
    {
      "cell_type": "markdown",
      "metadata": {
        "id": "gjj8HBnMY80X"
      },
      "source": [
        "After training, you can visualize predictions of digits from the validation set to check if they are correct:"
      ]
    },
    {
      "cell_type": "code",
      "metadata": {
        "id": "kv1vv8yy4mOQ"
      },
      "source": [
        "Xv, yv = next(iter(valid_loader))\n",
        "show_image_grid(Xv, y=yv, y_pred=forward(Xv, weight, bias).argmax(dim=1))"
      ],
      "execution_count": null,
      "outputs": []
    },
    {
      "cell_type": "markdown",
      "metadata": {
        "id": "CouQookFisYe"
      },
      "source": [
        "## Lets take a look inside\n",
        "\n",
        "Since our model is so simple, we can actually take a look at the learned parameters of the network, as the weight matrix is just a stack of vectorized 28x28 images itself. Basically, we have trained 10 linear digit detectors. Lets have a look:"
      ]
    },
    {
      "cell_type": "code",
      "metadata": {
        "id": "plxd0eiWisYg"
      },
      "source": [
        "W = weight.detach()\n",
        "W.shape"
      ],
      "execution_count": null,
      "outputs": []
    },
    {
      "cell_type": "code",
      "metadata": {
        "scrolled": true,
        "id": "D8rg6c7bisYr"
      },
      "source": [
        "W[:, 0]"
      ],
      "execution_count": null,
      "outputs": []
    },
    {
      "cell_type": "markdown",
      "metadata": {
        "id": "xhQKnRp9UVvg"
      },
      "source": [
        "Each row basically corresponds to a template of that class, which we can visualize."
      ]
    },
    {
      "cell_type": "code",
      "metadata": {
        "id": "KhLYePtEisYw"
      },
      "source": [
        "plt.imshow(W[:, 0].reshape(28, 28))"
      ],
      "execution_count": null,
      "outputs": []
    },
    {
      "cell_type": "code",
      "metadata": {
        "id": "SbVK5wnOisYz"
      },
      "source": [
        "show_image_grid(W.reshape(28, 28, 10).permute(2, 0, 1), nrow=4)"
      ],
      "execution_count": null,
      "outputs": []
    },
    {
      "cell_type": "code",
      "metadata": {
        "id": "qWbQuTccbANz"
      },
      "source": [
        ""
      ],
      "execution_count": null,
      "outputs": []
    }
  ]
}