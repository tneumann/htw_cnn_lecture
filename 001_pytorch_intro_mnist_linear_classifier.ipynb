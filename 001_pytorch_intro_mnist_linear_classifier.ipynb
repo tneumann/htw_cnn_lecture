{
  "nbformat": 4,
  "nbformat_minor": 0,
  "metadata": {
    "kernelspec": {
      "display_name": "Python 3",
      "language": "python",
      "name": "python3"
    },
    "language_info": {
      "codemirror_mode": {
        "name": "ipython",
        "version": 3
      },
      "file_extension": ".py",
      "mimetype": "text/x-python",
      "name": "python",
      "nbconvert_exporter": "python",
      "pygments_lexer": "ipython3",
      "version": "3.7.2"
    },
    "colab": {
      "name": "001-pytorch-intro-mnist-linear-classifier.ipynb",
      "provenance": [],
      "collapsed_sections": []
    }
  },
  "cells": [
    {
      "cell_type": "markdown",
      "metadata": {
        "id": "1-pni-DJisVH",
        "colab_type": "text"
      },
      "source": [
        "# Intro to Pytorch - MNIST Digit Classification\n",
        "\n",
        "In this notebook, we cover the basics of PyTorch and will train our first (shallow) neural network from scratch on the MNIST digit classification dataset.\n",
        "\n",
        "Let's start by importing the libraries that we will need and setting up jupyter. You can add additional imports later and re-run the cell to make those imports available throughout the notebook."
      ]
    },
    {
      "cell_type": "code",
      "metadata": {
        "id": "Zo2vrFrMisVI",
        "colab_type": "code",
        "colab": {}
      },
      "source": [
        "%matplotlib inline\n",
        "\n",
        "# import numpy - array processing library\n",
        "import numpy as np \n",
        "\n",
        "# pytorch imports:\n",
        "import torch \n",
        "import torch.nn as nn\n",
        "import torch.nn.functional as F\n",
        "import torch.optim as optim\n",
        "\n",
        "# pytorch functionality for image datasets\n",
        "from torchvision import datasets, transforms\n",
        "\n",
        "# standard plotting library\n",
        "import matplotlib.pyplot as plt"
      ],
      "execution_count": 0,
      "outputs": []
    },
    {
      "cell_type": "markdown",
      "metadata": {
        "id": "FAtAtBFIisVO",
        "colab_type": "text"
      },
      "source": [
        "We supply you with a function to plot multiple images along with their labels. Please ignore for now:"
      ]
    },
    {
      "cell_type": "code",
      "metadata": {
        "id": "DqO9_GIlisVP",
        "colab_type": "code",
        "colab": {}
      },
      "source": [
        "def show_image_grid(X, y=None, y_pred=None, title=None, nrow=6, ncol=4, **kwargs):\n",
        "    max_num = nrow*ncol\n",
        "    X = X[:max_num]\n",
        "    if len(X) < max_num:\n",
        "        ncol = len(X) // nrow + 1\n",
        "    if isinstance(X, np.ndarray):\n",
        "        X = torch.from_numpy(X)\n",
        "    if X.dim() != 4:\n",
        "        X = X[:, None]\n",
        "\n",
        "    plt.figure(title, figsize=(2*nrow, 2*ncol + (0 if y is None else 1)))\n",
        "    if title:\n",
        "        plt.title(title)\n",
        "        \n",
        "    if isinstance(y, torch.Tensor):\n",
        "        y = y.numpy()\n",
        "        \n",
        "    for i, Xi in enumerate(X):\n",
        "        plt.subplot(ncol, nrow, i+1)\n",
        "        img = Xi.numpy().transpose((1, 2, 0))\n",
        "        if img.shape[2] == 1:\n",
        "            img = img[..., 0]\n",
        "        plt.imshow(img)\n",
        "\n",
        "        title = \"\"\n",
        "        if y is not None:\n",
        "          title += str(int(y[i]))\n",
        "        if y_pred is not None:\n",
        "          title += \"/\" + str(int(y_pred[i]))\n",
        "        if len(title) > 0: \n",
        "          plt.title(title)\n",
        "\n",
        "        plt.axis('off')\n",
        "    \n",
        "    plt.axis('off')\n"
      ],
      "execution_count": 0,
      "outputs": []
    },
    {
      "cell_type": "markdown",
      "metadata": {
        "id": "CHul_YGDisVU",
        "colab_type": "text"
      },
      "source": [
        "## Some PyTorch basics\n",
        "\n",
        "Creating tensors:"
      ]
    },
    {
      "cell_type": "code",
      "metadata": {
        "id": "2ykme0y2isVV",
        "colab_type": "code",
        "outputId": "b79b6374-f26c-4380-c497-f643ba14b91f",
        "colab": {
          "base_uri": "https://localhost:8080/",
          "height": 34
        }
      },
      "source": [
        "V = torch.tensor([20., 23., 31.])\n",
        "V"
      ],
      "execution_count": 3,
      "outputs": [
        {
          "output_type": "execute_result",
          "data": {
            "text/plain": [
              "tensor([20., 23., 31.])"
            ]
          },
          "metadata": {
            "tags": []
          },
          "execution_count": 3
        }
      ]
    },
    {
      "cell_type": "markdown",
      "metadata": {
        "id": "dEVoz1PDisVv",
        "colab_type": "text"
      },
      "source": [
        "Indexing into tensors gives you the elements of your tensor"
      ]
    },
    {
      "cell_type": "code",
      "metadata": {
        "id": "M0YTLbKKk_6V",
        "colab_type": "code",
        "outputId": "62c0f49c-d018-41ac-81da-9cc627f4d286",
        "colab": {
          "base_uri": "https://localhost:8080/",
          "height": 34
        }
      },
      "source": [
        "V[0]"
      ],
      "execution_count": 4,
      "outputs": [
        {
          "output_type": "execute_result",
          "data": {
            "text/plain": [
              "tensor(20.)"
            ]
          },
          "metadata": {
            "tags": []
          },
          "execution_count": 4
        }
      ]
    },
    {
      "cell_type": "code",
      "metadata": {
        "id": "eEnfJp1WlD88",
        "colab_type": "code",
        "outputId": "9e5748d8-fa06-4ef9-fe60-aa2ed5e69a49",
        "colab": {
          "base_uri": "https://localhost:8080/",
          "height": 34
        }
      },
      "source": [
        "V[1]"
      ],
      "execution_count": 5,
      "outputs": [
        {
          "output_type": "execute_result",
          "data": {
            "text/plain": [
              "tensor(23.)"
            ]
          },
          "metadata": {
            "tags": []
          },
          "execution_count": 5
        }
      ]
    },
    {
      "cell_type": "code",
      "metadata": {
        "id": "EZFcT6ifC_xT",
        "colab_type": "code",
        "colab": {}
      },
      "source": [
        "#V[3]"
      ],
      "execution_count": 0,
      "outputs": []
    },
    {
      "cell_type": "code",
      "metadata": {
        "id": "X5CqjXeRisWA",
        "colab_type": "code",
        "outputId": "f48a3d96-0982-45ae-8e74-e58fd16cd3c2",
        "colab": {
          "base_uri": "https://localhost:8080/",
          "height": 34
        }
      },
      "source": [
        "V[0].item()"
      ],
      "execution_count": 7,
      "outputs": [
        {
          "output_type": "execute_result",
          "data": {
            "text/plain": [
              "20.0"
            ]
          },
          "metadata": {
            "tags": []
          },
          "execution_count": 7
        }
      ]
    },
    {
      "cell_type": "markdown",
      "metadata": {
        "id": "0nI2LLrtlygl",
        "colab_type": "text"
      },
      "source": [
        "Tensors can be multi-dimensional, e.g. matrices:"
      ]
    },
    {
      "cell_type": "code",
      "metadata": {
        "id": "O6PcNSUKisVe",
        "colab_type": "code",
        "outputId": "41e37fdd-202b-4770-9f2d-4160d39c6d12",
        "colab": {
          "base_uri": "https://localhost:8080/",
          "height": 51
        }
      },
      "source": [
        "M = torch.tensor([[1., 2., 3.], [4., 5., 6]])\n",
        "M"
      ],
      "execution_count": 8,
      "outputs": [
        {
          "output_type": "execute_result",
          "data": {
            "text/plain": [
              "tensor([[1., 2., 3.],\n",
              "        [4., 5., 6.]])"
            ]
          },
          "metadata": {
            "tags": []
          },
          "execution_count": 8
        }
      ]
    },
    {
      "cell_type": "markdown",
      "metadata": {
        "id": "VI4TTetyDqiT",
        "colab_type": "text"
      },
      "source": [
        "When we index a matrix, we get one row as a vector."
      ]
    },
    {
      "cell_type": "code",
      "metadata": {
        "id": "XLPAktX8isWG",
        "colab_type": "code",
        "outputId": "393f5a65-e066-4070-8f67-36207cc532b1",
        "colab": {
          "base_uri": "https://localhost:8080/",
          "height": 34
        }
      },
      "source": [
        "M[0]"
      ],
      "execution_count": 9,
      "outputs": [
        {
          "output_type": "execute_result",
          "data": {
            "text/plain": [
              "tensor([1., 2., 3.])"
            ]
          },
          "metadata": {
            "tags": []
          },
          "execution_count": 9
        }
      ]
    },
    {
      "cell_type": "code",
      "metadata": {
        "id": "pp9SDpd5isWL",
        "colab_type": "code",
        "outputId": "c48ab694-3c35-49d7-b8eb-0f1eb61df909",
        "colab": {
          "base_uri": "https://localhost:8080/",
          "height": 34
        }
      },
      "source": [
        "M[0, 1]"
      ],
      "execution_count": 10,
      "outputs": [
        {
          "output_type": "execute_result",
          "data": {
            "text/plain": [
              "tensor(2.)"
            ]
          },
          "metadata": {
            "tags": []
          },
          "execution_count": 10
        }
      ]
    },
    {
      "cell_type": "markdown",
      "metadata": {
        "id": "eyuVUW1xisWP",
        "colab_type": "text"
      },
      "source": [
        "We can get one column from that matrix by using the fancy `:` notation in indexing, meaning that we want to take all the elements from that *axis*.\n"
      ]
    },
    {
      "cell_type": "code",
      "metadata": {
        "id": "AvmVNIW_isWQ",
        "colab_type": "code",
        "outputId": "f6908d34-07a1-4ae4-81d7-7d0f79192959",
        "colab": {
          "base_uri": "https://localhost:8080/",
          "height": 34
        }
      },
      "source": [
        "M[:, 1]"
      ],
      "execution_count": 11,
      "outputs": [
        {
          "output_type": "execute_result",
          "data": {
            "text/plain": [
              "tensor([2., 5.])"
            ]
          },
          "metadata": {
            "tags": []
          },
          "execution_count": 11
        }
      ]
    },
    {
      "cell_type": "code",
      "metadata": {
        "id": "ZQeMVZ1nEH4e",
        "colab_type": "code",
        "outputId": "f7c73ad7-8ad3-45eb-a293-15fdef44fad3",
        "colab": {
          "base_uri": "https://localhost:8080/",
          "height": 51
        }
      },
      "source": [
        "M[:, 1:3]"
      ],
      "execution_count": 12,
      "outputs": [
        {
          "output_type": "execute_result",
          "data": {
            "text/plain": [
              "tensor([[2., 3.],\n",
              "        [5., 6.]])"
            ]
          },
          "metadata": {
            "tags": []
          },
          "execution_count": 12
        }
      ]
    },
    {
      "cell_type": "markdown",
      "metadata": {
        "id": "uEdEG4muDWxe",
        "colab_type": "text"
      },
      "source": [
        "Tensors can have higher number of dimensions, for example rank-3 tensors are basically arrays of matrices:"
      ]
    },
    {
      "cell_type": "code",
      "metadata": {
        "id": "2wQWXPl0isVk",
        "colab_type": "code",
        "outputId": "8aaa0f95-8600-467a-878e-6e1dee48d56c",
        "colab": {
          "base_uri": "https://localhost:8080/",
          "height": 102
        }
      },
      "source": [
        "# Create a rank 3 tensor of size 2x2x2.\n",
        "T = torch.tensor([[[1., 2.], [3., 4.]],\n",
        "          [[5., 6.], [7., 8.]]])\n",
        "T"
      ],
      "execution_count": 13,
      "outputs": [
        {
          "output_type": "execute_result",
          "data": {
            "text/plain": [
              "tensor([[[1., 2.],\n",
              "         [3., 4.]],\n",
              "\n",
              "        [[5., 6.],\n",
              "         [7., 8.]]])"
            ]
          },
          "metadata": {
            "tags": []
          },
          "execution_count": 13
        }
      ]
    },
    {
      "cell_type": "code",
      "metadata": {
        "scrolled": true,
        "id": "-33nmJ8IisVo",
        "colab_type": "code",
        "outputId": "76bbe589-aefa-471e-e95f-11689346316b",
        "colab": {
          "base_uri": "https://localhost:8080/",
          "height": 646
        }
      },
      "source": [
        "# create a tensor with random numbers\n",
        "torch.randn((3, 2, 5, 2))"
      ],
      "execution_count": 14,
      "outputs": [
        {
          "output_type": "execute_result",
          "data": {
            "text/plain": [
              "tensor([[[[ 0.0096,  2.3117],\n",
              "          [ 0.0327,  0.0786],\n",
              "          [-1.6615,  0.4794],\n",
              "          [ 0.0386, -0.4484],\n",
              "          [ 1.3243,  0.4530]],\n",
              "\n",
              "         [[ 0.3998,  0.4145],\n",
              "          [-0.6653,  0.1154],\n",
              "          [-0.6380, -0.1220],\n",
              "          [ 1.1558, -1.5852],\n",
              "          [-1.1618,  1.3816]]],\n",
              "\n",
              "\n",
              "        [[[ 0.0206,  1.2044],\n",
              "          [ 0.3365, -0.1158],\n",
              "          [-0.1294,  0.1853],\n",
              "          [ 0.4856,  0.3756],\n",
              "          [ 0.1587, -0.5727]],\n",
              "\n",
              "         [[ 0.3716, -2.2060],\n",
              "          [ 2.5548, -1.1536],\n",
              "          [ 1.7288,  0.5706],\n",
              "          [ 1.1317, -0.0217],\n",
              "          [ 1.6639, -3.0039]]],\n",
              "\n",
              "\n",
              "        [[[ 0.8538,  1.6227],\n",
              "          [ 0.9212,  1.4087],\n",
              "          [ 1.0256, -1.8749],\n",
              "          [ 1.7047, -1.0722],\n",
              "          [-2.1677,  0.2694]],\n",
              "\n",
              "         [[ 0.2085, -1.3243],\n",
              "          [ 1.6082, -0.7456],\n",
              "          [-0.5584, -0.6456],\n",
              "          [-0.4353,  0.9352],\n",
              "          [-1.2321, -1.0523]]]])"
            ]
          },
          "metadata": {
            "tags": []
          },
          "execution_count": 14
        }
      ]
    },
    {
      "cell_type": "markdown",
      "metadata": {
        "id": "QySGUR02isWV",
        "colab_type": "text"
      },
      "source": [
        "Typical mathematical operators are overloaded for tensors, so you can add all entries of one matrix to another matrix with a simple line. No need to write for loops :)"
      ]
    },
    {
      "cell_type": "code",
      "metadata": {
        "id": "23bxjYKpisWW",
        "colab_type": "code",
        "outputId": "2420a4ca-f6e7-4783-ef96-aa9928d6470f",
        "colab": {
          "base_uri": "https://localhost:8080/",
          "height": 68
        }
      },
      "source": [
        "A = torch.randn((3, 2))\n",
        "A"
      ],
      "execution_count": 15,
      "outputs": [
        {
          "output_type": "execute_result",
          "data": {
            "text/plain": [
              "tensor([[-0.3808,  0.9405],\n",
              "        [-0.3037,  0.1348],\n",
              "        [-0.9899,  0.2959]])"
            ]
          },
          "metadata": {
            "tags": []
          },
          "execution_count": 15
        }
      ]
    },
    {
      "cell_type": "code",
      "metadata": {
        "id": "69UGYfW5isWZ",
        "colab_type": "code",
        "outputId": "3194f5e8-454c-42da-e012-f0e904c84672",
        "colab": {
          "base_uri": "https://localhost:8080/",
          "height": 68
        }
      },
      "source": [
        "B = torch.randn((3, 2))\n",
        "B"
      ],
      "execution_count": 16,
      "outputs": [
        {
          "output_type": "execute_result",
          "data": {
            "text/plain": [
              "tensor([[ 1.5140, -0.3649],\n",
              "        [ 1.5284, -0.6043],\n",
              "        [ 1.2420, -0.7322]])"
            ]
          },
          "metadata": {
            "tags": []
          },
          "execution_count": 16
        }
      ]
    },
    {
      "cell_type": "code",
      "metadata": {
        "id": "OApm2dk-isWd",
        "colab_type": "code",
        "outputId": "4fe69550-1885-4cc0-919d-8e0126c83834",
        "colab": {
          "base_uri": "https://localhost:8080/",
          "height": 68
        }
      },
      "source": [
        "A + B"
      ],
      "execution_count": 17,
      "outputs": [
        {
          "output_type": "execute_result",
          "data": {
            "text/plain": [
              "tensor([[ 1.1332,  0.5756],\n",
              "        [ 1.2248, -0.4696],\n",
              "        [ 0.2521, -0.4363]])"
            ]
          },
          "metadata": {
            "tags": []
          },
          "execution_count": 17
        }
      ]
    },
    {
      "cell_type": "code",
      "metadata": {
        "id": "nVvEOkhyisWg",
        "colab_type": "code",
        "outputId": "bbccb1d6-4c7f-4366-a5d4-b60d7c0be1e0",
        "colab": {
          "base_uri": "https://localhost:8080/",
          "height": 68
        }
      },
      "source": [
        "A * B"
      ],
      "execution_count": 18,
      "outputs": [
        {
          "output_type": "execute_result",
          "data": {
            "text/plain": [
              "tensor([[-0.5765, -0.3432],\n",
              "        [-0.4641, -0.0815],\n",
              "        [-1.2295, -0.2167]])"
            ]
          },
          "metadata": {
            "tags": []
          },
          "execution_count": 18
        }
      ]
    },
    {
      "cell_type": "code",
      "metadata": {
        "id": "pZGraeMQisWk",
        "colab_type": "code",
        "outputId": "3b60a09c-5c87-46a9-b392-187e65d7b7de",
        "colab": {
          "base_uri": "https://localhost:8080/",
          "height": 68
        }
      },
      "source": [
        "2 * A"
      ],
      "execution_count": 19,
      "outputs": [
        {
          "output_type": "execute_result",
          "data": {
            "text/plain": [
              "tensor([[-0.7615,  1.8811],\n",
              "        [-0.6073,  0.2696],\n",
              "        [-1.9799,  0.5918]])"
            ]
          },
          "metadata": {
            "tags": []
          },
          "execution_count": 19
        }
      ]
    },
    {
      "cell_type": "code",
      "metadata": {
        "id": "1PUdK_Q6lVGG",
        "colab_type": "code",
        "colab": {
          "base_uri": "https://localhost:8080/",
          "height": 68
        },
        "outputId": "e5499e7c-87f8-4163-80bc-e41751272563"
      },
      "source": [
        "torch.log(A)"
      ],
      "execution_count": 20,
      "outputs": [
        {
          "output_type": "execute_result",
          "data": {
            "text/plain": [
              "tensor([[    nan, -0.0613],\n",
              "        [    nan, -2.0041],\n",
              "        [    nan, -1.2178]])"
            ]
          },
          "metadata": {
            "tags": []
          },
          "execution_count": 20
        }
      ]
    },
    {
      "cell_type": "markdown",
      "metadata": {
        "id": "wLVvKHWxisWr",
        "colab_type": "text"
      },
      "source": [
        "\n",
        "\n",
        "## Let's get started: loading the data\n",
        "\n",
        "First, lets load the dataset:"
      ]
    },
    {
      "cell_type": "code",
      "metadata": {
        "id": "ZoQ_WImXisWs",
        "colab_type": "code",
        "outputId": "2da6e192-b2ee-4b62-8857-5eab1ffa4c3d",
        "colab": {
          "base_uri": "https://localhost:8080/",
          "height": 119
        }
      },
      "source": [
        "train_data = datasets.MNIST(root='./data', train=True, \n",
        "                            download=True, transform=transforms.ToTensor())\n",
        "train_data"
      ],
      "execution_count": 21,
      "outputs": [
        {
          "output_type": "execute_result",
          "data": {
            "text/plain": [
              "Dataset MNIST\n",
              "    Number of datapoints: 60000\n",
              "    Root location: ./data\n",
              "    Split: Train\n",
              "    StandardTransform\n",
              "Transform: ToTensor()"
            ]
          },
          "metadata": {
            "tags": []
          },
          "execution_count": 21
        }
      ]
    },
    {
      "cell_type": "markdown",
      "metadata": {
        "id": "gjTyDWWJisWv",
        "colab_type": "text"
      },
      "source": [
        "In order to sample from this dataset, we need a DataLoader. A DataLoader samples mini batches from a DataSet and can also be used to apply transformations to the data (here, we just want to transform the data to a pytorch tensor)."
      ]
    },
    {
      "cell_type": "code",
      "metadata": {
        "id": "MSOuX8OcisWv",
        "colab_type": "code",
        "outputId": "a1a85eb7-ca4d-4d92-f57c-c8b8af9f258d",
        "colab": {
          "base_uri": "https://localhost:8080/",
          "height": 34
        }
      },
      "source": [
        "batch_size = 128\n",
        "train_loader = torch.utils.data.DataLoader(train_data, shuffle=True, batch_size=batch_size)\n",
        "train_loader"
      ],
      "execution_count": 22,
      "outputs": [
        {
          "output_type": "execute_result",
          "data": {
            "text/plain": [
              "<torch.utils.data.dataloader.DataLoader at 0x7fdd9dc8d908>"
            ]
          },
          "metadata": {
            "tags": []
          },
          "execution_count": 22
        }
      ]
    },
    {
      "cell_type": "markdown",
      "metadata": {
        "id": "GYmW3KZJisW4",
        "colab_type": "text"
      },
      "source": [
        "MNIST also provides a validation set that we can use to test how well our model performs."
      ]
    },
    {
      "cell_type": "code",
      "metadata": {
        "id": "uy0A78rpisW6",
        "colab_type": "code",
        "colab": {}
      },
      "source": [
        "valid_data = datasets.MNIST(root='./data', train=False, \n",
        "                            download=True, transform=transforms.ToTensor())\n",
        "valid_loader = torch.utils.data.DataLoader(valid_data, shuffle=False, batch_size=batch_size)"
      ],
      "execution_count": 0,
      "outputs": []
    },
    {
      "cell_type": "markdown",
      "metadata": {
        "id": "jGa5UhunisW-",
        "colab_type": "text"
      },
      "source": [
        "Lets sample one batch of data from the dataset:"
      ]
    },
    {
      "cell_type": "code",
      "metadata": {
        "id": "r4gM-vb2isW-",
        "colab_type": "code",
        "colab": {}
      },
      "source": [
        "#for Xb, yb in train_loader:\n",
        "#  print(Xb)\n",
        "#  break\n",
        "\n",
        "Xb, yb = next(iter(train_loader))"
      ],
      "execution_count": 0,
      "outputs": []
    },
    {
      "cell_type": "code",
      "metadata": {
        "id": "4SgD8t49isXB",
        "colab_type": "code",
        "outputId": "64b9837f-d183-478d-9886-5e9fe7a7a408",
        "colab": {
          "base_uri": "https://localhost:8080/",
          "height": 34
        }
      },
      "source": [
        "Xb.shape"
      ],
      "execution_count": 25,
      "outputs": [
        {
          "output_type": "execute_result",
          "data": {
            "text/plain": [
              "torch.Size([128, 1, 28, 28])"
            ]
          },
          "metadata": {
            "tags": []
          },
          "execution_count": 25
        }
      ]
    },
    {
      "cell_type": "code",
      "metadata": {
        "scrolled": true,
        "id": "rkEJy38_isXG",
        "colab_type": "code",
        "outputId": "673a72a0-a7c7-4dc8-fa05-745387c2a2d8",
        "colab": {
          "base_uri": "https://localhost:8080/",
          "height": 1000
        }
      },
      "source": [
        "Xb[0]"
      ],
      "execution_count": 26,
      "outputs": [
        {
          "output_type": "execute_result",
          "data": {
            "text/plain": [
              "tensor([[[0.0000, 0.0000, 0.0000, 0.0000, 0.0000, 0.0000, 0.0000, 0.0000,\n",
              "          0.0000, 0.0000, 0.0000, 0.0000, 0.0000, 0.0000, 0.0000, 0.0000,\n",
              "          0.0000, 0.0000, 0.0000, 0.0000, 0.0000, 0.0000, 0.0000, 0.0000,\n",
              "          0.0000, 0.0000, 0.0000, 0.0000],\n",
              "         [0.0000, 0.0000, 0.0000, 0.0000, 0.0000, 0.0000, 0.0000, 0.0000,\n",
              "          0.0000, 0.0000, 0.0000, 0.0000, 0.0000, 0.0000, 0.0000, 0.0000,\n",
              "          0.0000, 0.0000, 0.0000, 0.0000, 0.0000, 0.0000, 0.0000, 0.0000,\n",
              "          0.0000, 0.0000, 0.0000, 0.0000],\n",
              "         [0.0000, 0.0000, 0.0000, 0.0000, 0.0000, 0.0000, 0.0000, 0.0000,\n",
              "          0.0000, 0.0000, 0.0000, 0.0000, 0.0000, 0.0000, 0.0000, 0.0000,\n",
              "          0.0000, 0.0000, 0.0000, 0.0000, 0.0000, 0.0000, 0.0000, 0.0000,\n",
              "          0.0000, 0.0000, 0.0000, 0.0000],\n",
              "         [0.0000, 0.0000, 0.0000, 0.0000, 0.0000, 0.0000, 0.0000, 0.0000,\n",
              "          0.0000, 0.0000, 0.0000, 0.0000, 0.0000, 0.0000, 0.0000, 0.0000,\n",
              "          0.0000, 0.0000, 0.0000, 0.0000, 0.0000, 0.0000, 0.0000, 0.0000,\n",
              "          0.0000, 0.0000, 0.0000, 0.0000],\n",
              "         [0.0000, 0.0000, 0.0000, 0.0000, 0.0000, 0.0000, 0.0000, 0.0000,\n",
              "          0.0000, 0.0000, 0.0000, 0.0000, 0.0000, 0.0000, 0.0000, 0.0000,\n",
              "          0.0000, 0.0000, 0.0000, 0.0000, 0.0000, 0.0000, 0.0000, 0.0000,\n",
              "          0.0000, 0.0000, 0.0000, 0.0000],\n",
              "         [0.0000, 0.0000, 0.0000, 0.0000, 0.0000, 0.0000, 0.0000, 0.0000,\n",
              "          0.0000, 0.0000, 0.0000, 0.0000, 0.0000, 0.0000, 0.0000, 0.0000,\n",
              "          0.0000, 0.0000, 0.0000, 0.0000, 0.0000, 0.0000, 0.0000, 0.0000,\n",
              "          0.0000, 0.0000, 0.0000, 0.0000],\n",
              "         [0.0000, 0.0000, 0.0000, 0.0000, 0.0000, 0.0000, 0.0000, 0.0000,\n",
              "          0.0196, 0.2431, 0.2431, 0.4706, 0.5843, 0.6667, 0.9294, 0.9294,\n",
              "          0.9294, 0.7725, 0.4431, 0.1529, 0.0000, 0.0000, 0.0000, 0.0000,\n",
              "          0.0000, 0.0000, 0.0000, 0.0000],\n",
              "         [0.0000, 0.0000, 0.0000, 0.0000, 0.0000, 0.0000, 0.0000, 0.0000,\n",
              "          0.3804, 0.9961, 0.9961, 0.9961, 0.9961, 0.9961, 0.9961, 0.9961,\n",
              "          0.9961, 0.9961, 0.9961, 0.9451, 0.2431, 0.0000, 0.0000, 0.0000,\n",
              "          0.0000, 0.0000, 0.0000, 0.0000],\n",
              "         [0.0000, 0.0000, 0.0000, 0.0000, 0.0000, 0.0000, 0.0000, 0.0000,\n",
              "          0.2000, 0.7294, 0.8235, 0.4824, 0.4824, 0.2784, 0.3255, 0.1843,\n",
              "          0.3020, 0.7686, 0.9961, 0.9961, 0.9490, 0.0000, 0.0000, 0.0000,\n",
              "          0.0000, 0.0000, 0.0000, 0.0000],\n",
              "         [0.0000, 0.0000, 0.0000, 0.0000, 0.0000, 0.0000, 0.0000, 0.0000,\n",
              "          0.0000, 0.0000, 0.0000, 0.0000, 0.0000, 0.0000, 0.0000, 0.0000,\n",
              "          0.0000, 0.2706, 0.9961, 0.9961, 0.8275, 0.0000, 0.0000, 0.0000,\n",
              "          0.0000, 0.0000, 0.0000, 0.0000],\n",
              "         [0.0000, 0.0000, 0.0000, 0.0000, 0.0000, 0.0000, 0.0000, 0.0000,\n",
              "          0.0000, 0.0000, 0.0000, 0.0000, 0.0000, 0.0000, 0.0000, 0.0000,\n",
              "          0.0627, 0.8118, 0.9961, 0.9922, 0.4667, 0.0000, 0.0000, 0.0000,\n",
              "          0.0000, 0.0000, 0.0000, 0.0000],\n",
              "         [0.0000, 0.0000, 0.0000, 0.0000, 0.0000, 0.0000, 0.0000, 0.0000,\n",
              "          0.0000, 0.0000, 0.0000, 0.0000, 0.0000, 0.0000, 0.0000, 0.0745,\n",
              "          0.6118, 0.9961, 0.9961, 0.7922, 0.0000, 0.0000, 0.0000, 0.0000,\n",
              "          0.0000, 0.0000, 0.0000, 0.0000],\n",
              "         [0.0000, 0.0000, 0.0000, 0.0000, 0.0000, 0.0000, 0.0000, 0.0000,\n",
              "          0.0000, 0.0000, 0.0000, 0.0118, 0.1333, 0.3804, 0.3804, 0.7216,\n",
              "          0.9961, 0.9961, 0.8235, 0.0745, 0.0000, 0.0000, 0.0000, 0.0000,\n",
              "          0.0000, 0.0000, 0.0000, 0.0000],\n",
              "         [0.0000, 0.0000, 0.0000, 0.0000, 0.0000, 0.0000, 0.0000, 0.0000,\n",
              "          0.0000, 0.0000, 0.0000, 0.5451, 0.9961, 0.9961, 0.9961, 0.9961,\n",
              "          0.9961, 0.9961, 0.9725, 0.3098, 0.0000, 0.0000, 0.0000, 0.0000,\n",
              "          0.0000, 0.0000, 0.0000, 0.0000],\n",
              "         [0.0000, 0.2392, 0.0000, 0.0000, 0.0000, 0.0000, 0.0000, 0.0000,\n",
              "          0.0000, 0.0000, 0.0000, 0.8941, 0.9961, 0.9961, 0.9961, 0.9451,\n",
              "          0.7294, 0.9961, 1.0000, 0.9647, 0.0000, 0.0000, 0.0000, 0.0000,\n",
              "          0.0000, 0.0000, 0.0000, 0.0000],\n",
              "         [0.0000, 0.0000, 0.0000, 0.0000, 0.0000, 0.0000, 0.0000, 0.0000,\n",
              "          0.0000, 0.0000, 0.0000, 0.1294, 0.7098, 0.7176, 0.4588, 0.0275,\n",
              "          0.0078, 0.2510, 0.9961, 0.9922, 0.2980, 0.0000, 0.0000, 0.0000,\n",
              "          0.0000, 0.0000, 0.0000, 0.0000],\n",
              "         [0.0000, 0.0000, 0.0000, 0.0000, 0.0000, 0.0000, 0.0000, 0.0000,\n",
              "          0.0000, 0.0000, 0.0000, 0.0000, 0.0000, 0.0000, 0.0000, 0.0000,\n",
              "          0.0000, 0.5059, 0.9961, 0.9843, 0.2353, 0.0000, 0.0000, 0.0000,\n",
              "          0.0000, 0.0000, 0.0000, 0.0000],\n",
              "         [0.0000, 0.0000, 0.0000, 0.0000, 0.0000, 0.0000, 0.1020, 0.3647,\n",
              "          0.6314, 0.0000, 0.0000, 0.0000, 0.0000, 0.0000, 0.0000, 0.0000,\n",
              "          0.1961, 0.9725, 0.9961, 0.8902, 0.0000, 0.0000, 0.0000, 0.0000,\n",
              "          0.0000, 0.0000, 0.0000, 0.0000],\n",
              "         [0.0000, 0.0000, 0.0000, 0.0000, 0.0000, 0.0902, 0.8667, 0.9961,\n",
              "          0.6980, 0.1098, 0.0000, 0.0000, 0.0000, 0.0000, 0.0000, 0.1529,\n",
              "          0.8667, 0.9961, 0.9843, 0.3922, 0.0000, 0.0000, 0.0000, 0.0000,\n",
              "          0.0000, 0.0000, 0.0000, 0.0000],\n",
              "         [0.0000, 0.0000, 0.0000, 0.0000, 0.0000, 0.1490, 0.9725, 0.9961,\n",
              "          0.9961, 0.9294, 0.5882, 0.4863, 0.4863, 0.4863, 0.6706, 0.9137,\n",
              "          0.9961, 0.9804, 0.5569, 0.0000, 0.0000, 0.0000, 0.0000, 0.0000,\n",
              "          0.0000, 0.0000, 0.0000, 0.0000],\n",
              "         [0.0000, 0.0000, 0.0000, 0.0000, 0.0000, 0.0000, 0.2196, 0.8667,\n",
              "          0.9961, 0.9961, 0.9961, 0.9961, 0.9961, 0.9961, 0.9961, 0.9765,\n",
              "          0.8431, 0.3725, 0.0000, 0.0000, 0.0000, 0.0000, 0.0000, 0.0000,\n",
              "          0.0000, 0.0000, 0.0000, 0.0000],\n",
              "         [0.0000, 0.0000, 0.0000, 0.0000, 0.0000, 0.0000, 0.0000, 0.1098,\n",
              "          0.3843, 0.5804, 0.8196, 0.9294, 0.9255, 0.8431, 0.5804, 0.2471,\n",
              "          0.0000, 0.0000, 0.0000, 0.0000, 0.0000, 0.0000, 0.0000, 0.0000,\n",
              "          0.0000, 0.0000, 0.0000, 0.0000],\n",
              "         [0.0000, 0.0000, 0.0000, 0.0000, 0.0000, 0.0000, 0.0000, 0.0000,\n",
              "          0.0000, 0.0000, 0.0000, 0.0000, 0.0000, 0.0000, 0.0000, 0.0000,\n",
              "          0.0000, 0.0000, 0.0000, 0.0000, 0.0000, 0.0000, 0.0000, 0.0000,\n",
              "          0.0000, 0.0000, 0.0000, 0.0000],\n",
              "         [0.0000, 0.0000, 0.0000, 0.0000, 0.0000, 0.0000, 0.0000, 0.0000,\n",
              "          0.0000, 0.0000, 0.0000, 0.0000, 0.0000, 0.0000, 0.0000, 0.0000,\n",
              "          0.0000, 0.0000, 0.0000, 0.0000, 0.0000, 0.0000, 0.0000, 0.0000,\n",
              "          0.0000, 0.0000, 0.0000, 0.0000],\n",
              "         [0.0000, 0.0000, 0.0000, 0.0000, 0.0000, 0.0000, 0.0000, 0.0000,\n",
              "          0.0000, 0.0000, 0.0000, 0.0000, 0.0000, 0.0000, 0.0000, 0.0000,\n",
              "          0.0000, 0.0000, 0.0000, 0.0000, 0.0000, 0.0000, 0.0000, 0.0000,\n",
              "          0.0000, 0.0000, 0.0000, 0.0000],\n",
              "         [0.0000, 0.0000, 0.0000, 0.0000, 0.0000, 0.0000, 0.0000, 0.0000,\n",
              "          0.0000, 0.0000, 0.0000, 0.0000, 0.0000, 0.0000, 0.0000, 0.0000,\n",
              "          0.0000, 0.0000, 0.0000, 0.0000, 0.0000, 0.0000, 0.0000, 0.0000,\n",
              "          0.0000, 0.0000, 0.0000, 0.0000],\n",
              "         [0.0000, 0.0000, 0.0000, 0.0000, 0.0000, 0.0000, 0.0000, 0.0000,\n",
              "          0.0000, 0.0000, 0.0000, 0.0000, 0.0000, 0.0000, 0.0000, 0.0000,\n",
              "          0.0000, 0.0000, 0.0000, 0.0000, 0.0000, 0.0000, 0.0000, 0.0000,\n",
              "          0.0000, 0.0000, 0.0000, 0.0000],\n",
              "         [0.0000, 0.0000, 0.0000, 0.0000, 0.0000, 0.0000, 0.0000, 0.0000,\n",
              "          0.0000, 0.0000, 0.0000, 0.0000, 0.0000, 0.0000, 0.0000, 0.0000,\n",
              "          0.0000, 0.0000, 0.0000, 0.0000, 0.0000, 0.0000, 0.0000, 0.0000,\n",
              "          0.0000, 0.0000, 0.0000, 0.0000]]])"
            ]
          },
          "metadata": {
            "tags": []
          },
          "execution_count": 26
        }
      ]
    },
    {
      "cell_type": "markdown",
      "metadata": {
        "id": "UeSAU9U3isXL",
        "colab_type": "text"
      },
      "source": [
        "We can use matplotlib or the show_image_grid function to visualize the data."
      ]
    },
    {
      "cell_type": "code",
      "metadata": {
        "id": "_AEFLrEyisXL",
        "colab_type": "code",
        "outputId": "bdb99bb2-7e39-4035-fd68-8d48c7679335",
        "colab": {
          "base_uri": "https://localhost:8080/",
          "height": 282
        }
      },
      "source": [
        "plt.gray() # sets matplotlib colormap\n",
        "plt.imshow(Xb[0,0])"
      ],
      "execution_count": 27,
      "outputs": [
        {
          "output_type": "execute_result",
          "data": {
            "text/plain": [
              "<matplotlib.image.AxesImage at 0x7fdd9d546e48>"
            ]
          },
          "metadata": {
            "tags": []
          },
          "execution_count": 27
        },
        {
          "output_type": "display_data",
          "data": {
            "image/png": "[encoded data removed]",
            "text/plain": [
              "<Figure size 432x288 with 1 Axes>"
            ]
          },
          "metadata": {
            "tags": [],
            "needs_background": "light"
          }
        }
      ]
    },
    {
      "cell_type": "code",
      "metadata": {
        "id": "putffO0WisXP",
        "colab_type": "code",
        "outputId": "7159e424-c4f1-4a21-f4cc-2cae78140c60",
        "colab": {
          "base_uri": "https://localhost:8080/",
          "height": 119
        }
      },
      "source": [
        "yb"
      ],
      "execution_count": 28,
      "outputs": [
        {
          "output_type": "execute_result",
          "data": {
            "text/plain": [
              "tensor([3, 0, 2, 2, 3, 1, 7, 7, 5, 4, 1, 0, 4, 4, 8, 1, 5, 2, 4, 2, 3, 2, 5, 9,\n",
              "        9, 2, 1, 7, 4, 9, 9, 9, 1, 9, 9, 8, 3, 3, 0, 9, 9, 3, 0, 7, 3, 0, 1, 4,\n",
              "        5, 5, 1, 8, 6, 8, 3, 1, 2, 6, 2, 4, 9, 8, 1, 3, 2, 9, 3, 2, 2, 0, 0, 8,\n",
              "        7, 9, 9, 5, 1, 3, 9, 5, 3, 2, 1, 6, 7, 1, 6, 3, 8, 4, 3, 7, 0, 3, 3, 6,\n",
              "        1, 1, 0, 7, 1, 8, 4, 3, 6, 9, 9, 6, 0, 8, 5, 3, 1, 3, 8, 9, 4, 9, 5, 7,\n",
              "        3, 7, 7, 7, 1, 8, 9, 6])"
            ]
          },
          "metadata": {
            "tags": []
          },
          "execution_count": 28
        }
      ]
    },
    {
      "cell_type": "code",
      "metadata": {
        "id": "WyNr70YWisXS",
        "colab_type": "code",
        "outputId": "188b9800-e4a5-416c-aa7c-27aefb06596c",
        "colab": {
          "base_uri": "https://localhost:8080/",
          "height": 281
        }
      },
      "source": [
        "plt.imshow(Xb[0, 0])\n",
        "plt.title(f\"This is a {yb[0]}\")\n",
        "plt.show()"
      ],
      "execution_count": 29,
      "outputs": [
        {
          "output_type": "display_data",
          "data": {
            "image/png": "[encoded data removed]",
            "text/plain": [
              "<Figure size 432x288 with 1 Axes>"
            ]
          },
          "metadata": {
            "tags": [],
            "needs_background": "light"
          }
        }
      ]
    },
    {
      "cell_type": "code",
      "metadata": {
        "scrolled": true,
        "id": "BmkgtHzEisXY",
        "colab_type": "code",
        "outputId": "a768015f-d6eb-40ac-d61b-609ba6cb3080",
        "colab": {
          "base_uri": "https://localhost:8080/",
          "height": 525
        }
      },
      "source": [
        "show_image_grid(Xb, yb)"
      ],
      "execution_count": 30,
      "outputs": [
        {
          "output_type": "display_data",
          "data": {
            "image/png": "[encoded data removed]",
            "text/plain": [
              "<Figure size 864x648 with 24 Axes>"
            ]
          },
          "metadata": {
            "tags": [],
            "needs_background": "light"
          }
        }
      ]
    },
    {
      "cell_type": "markdown",
      "metadata": {
        "id": "7LOof-ExisXc",
        "colab_type": "text"
      },
      "source": [
        "## Setup the model\n",
        "\n",
        "We want to train a linear model from a vectorized (flattened) version of the image. We first reshape our image tensor"
      ]
    },
    {
      "cell_type": "code",
      "metadata": {
        "id": "9m0-6kC6isXc",
        "colab_type": "code",
        "outputId": "74a58a7d-a301-45bd-8af2-52ec5725255a",
        "colab": {
          "base_uri": "https://localhost:8080/",
          "height": 34
        }
      },
      "source": [
        "Xb_flat = Xb.view(Xb.shape[0], -1)\n",
        "Xb_flat.shape"
      ],
      "execution_count": 31,
      "outputs": [
        {
          "output_type": "execute_result",
          "data": {
            "text/plain": [
              "torch.Size([128, 784])"
            ]
          },
          "metadata": {
            "tags": []
          },
          "execution_count": 31
        }
      ]
    },
    {
      "cell_type": "markdown",
      "metadata": {
        "id": "w9bCKgG-isXf",
        "colab_type": "text"
      },
      "source": [
        "We now initialize the weights and biases (parameters) of our network. We use a weight matrix to densely connect the 28x28 dimensional input to an output layer of size 10 and add a bias term. This simplistic shallow linear \"neural network\" outputs 10 class scores for each of the digit between 0-9."
      ]
    },
    {
      "cell_type": "code",
      "metadata": {
        "scrolled": true,
        "id": "FXJk7aQrisXf",
        "colab_type": "code",
        "outputId": "4b96e043-3a38-402e-c9ea-d16d512422f5",
        "colab": {
          "base_uri": "https://localhost:8080/",
          "height": 34
        }
      },
      "source": [
        "weight = torch.randn((28*28, 10))\n",
        "bias = torch.zeros(10)\n",
        "\n",
        "output = Xb_flat @ weight  + bias\n",
        "output.shape"
      ],
      "execution_count": 32,
      "outputs": [
        {
          "output_type": "execute_result",
          "data": {
            "text/plain": [
              "torch.Size([128, 10])"
            ]
          },
          "metadata": {
            "tags": []
          },
          "execution_count": 32
        }
      ]
    },
    {
      "cell_type": "code",
      "metadata": {
        "id": "arQF4W4QisXh",
        "colab_type": "code",
        "outputId": "1a43857f-f6f3-4397-aa16-7914e82bca03",
        "colab": {
          "base_uri": "https://localhost:8080/",
          "height": 51
        }
      },
      "source": [
        "output[0]"
      ],
      "execution_count": 33,
      "outputs": [
        {
          "output_type": "execute_result",
          "data": {
            "text/plain": [
              "tensor([  6.2953,  13.3739,  -5.8948,   0.2962,   2.2030, -10.7455,   1.7545,\n",
              "          4.1362,  -7.7766,  10.3857])"
            ]
          },
          "metadata": {
            "tags": []
          },
          "execution_count": 33
        }
      ]
    },
    {
      "cell_type": "markdown",
      "metadata": {
        "id": "W3BMEmH-isXk",
        "colab_type": "text"
      },
      "source": [
        "Lets refactor our neural network forward pass and wrap it into a function that we can easily call later on"
      ]
    },
    {
      "cell_type": "code",
      "metadata": {
        "id": "Tuld-zS1isXk",
        "colab_type": "code",
        "outputId": "a3294698-0b8a-4084-86b3-634fc2e1a0a9",
        "colab": {
          "base_uri": "https://localhost:8080/",
          "height": 51
        }
      },
      "source": [
        "def forward(X, weight, bias):\n",
        "    return X.view(-1, 28*28) @ weight + bias\n",
        "\n",
        "forward(Xb, weight, bias)[0]"
      ],
      "execution_count": 34,
      "outputs": [
        {
          "output_type": "execute_result",
          "data": {
            "text/plain": [
              "tensor([  6.2953,  13.3739,  -5.8948,   0.2962,   2.2030, -10.7455,   1.7545,\n",
              "          4.1362,  -7.7766,  10.3857])"
            ]
          },
          "metadata": {
            "tags": []
          },
          "execution_count": 34
        }
      ]
    },
    {
      "cell_type": "markdown",
      "metadata": {
        "id": "wPUSbR_nisXm",
        "colab_type": "text"
      },
      "source": [
        "## Metrics\n",
        "\n",
        "We will also need a way of measuring how good our model is. Here, we will use the classification accuracy by comparing the label predicted by the network (simply the neuron with the largest score of our output layer) with the actual labels and counting how often those agree."
      ]
    },
    {
      "cell_type": "code",
      "metadata": {
        "scrolled": false,
        "id": "FThhfyrlisXm",
        "colab_type": "code",
        "outputId": "dd022ea6-a643-4622-d71a-1ad535368c94",
        "colab": {
          "base_uri": "https://localhost:8080/",
          "height": 442
        }
      },
      "source": [
        "print(\"predicted label:\", output.argmax(1))\n",
        "print(\"   actual label:\", yb)\n",
        "\n",
        "yb == output.argmax(1)"
      ],
      "execution_count": 35,
      "outputs": [
        {
          "output_type": "stream",
          "text": [
            "predicted label: tensor([1, 1, 5, 7, 7, 7, 7, 4, 1, 0, 4, 1, 9, 1, 4, 6, 7, 5, 5, 1, 8, 9, 9, 9,\n",
            "        9, 9, 9, 9, 4, 9, 9, 9, 4, 9, 9, 9, 7, 1, 1, 9, 9, 1, 5, 0, 1, 1, 4, 9,\n",
            "        5, 5, 9, 5, 9, 5, 1, 6, 9, 9, 0, 9, 5, 9, 6, 0, 1, 5, 0, 1, 9, 1, 5, 5,\n",
            "        6, 5, 5, 9, 7, 3, 9, 9, 1, 5, 6, 9, 7, 9, 9, 7, 9, 9, 9, 9, 1, 7, 7, 0,\n",
            "        6, 2, 9, 7, 4, 5, 1, 9, 7, 7, 9, 0, 0, 1, 9, 7, 6, 9, 7, 9, 9, 9, 0, 3,\n",
            "        0, 1, 9, 7, 7, 6, 9, 9])\n",
            "   actual label: tensor([3, 0, 2, 2, 3, 1, 7, 7, 5, 4, 1, 0, 4, 4, 8, 1, 5, 2, 4, 2, 3, 2, 5, 9,\n",
            "        9, 2, 1, 7, 4, 9, 9, 9, 1, 9, 9, 8, 3, 3, 0, 9, 9, 3, 0, 7, 3, 0, 1, 4,\n",
            "        5, 5, 1, 8, 6, 8, 3, 1, 2, 6, 2, 4, 9, 8, 1, 3, 2, 9, 3, 2, 2, 0, 0, 8,\n",
            "        7, 9, 9, 5, 1, 3, 9, 5, 3, 2, 1, 6, 7, 1, 6, 3, 8, 4, 3, 7, 0, 3, 3, 6,\n",
            "        1, 1, 0, 7, 1, 8, 4, 3, 6, 9, 9, 6, 0, 8, 5, 3, 1, 3, 8, 9, 4, 9, 5, 7,\n",
            "        3, 7, 7, 7, 1, 8, 9, 6])\n"
          ],
          "name": "stdout"
        },
        {
          "output_type": "execute_result",
          "data": {
            "text/plain": [
              "tensor([False, False, False, False, False, False,  True, False, False, False,\n",
              "        False, False, False, False, False, False, False, False, False, False,\n",
              "        False, False, False,  True,  True, False, False, False,  True,  True,\n",
              "         True,  True, False,  True,  True, False, False, False, False,  True,\n",
              "         True, False, False, False, False, False, False, False,  True,  True,\n",
              "        False, False, False, False, False, False, False, False, False, False,\n",
              "        False, False, False, False, False, False, False, False, False, False,\n",
              "        False, False, False, False, False, False, False,  True,  True, False,\n",
              "        False, False, False, False,  True, False, False, False, False, False,\n",
              "        False, False, False, False, False, False, False, False, False,  True,\n",
              "        False, False, False, False, False, False,  True, False,  True, False,\n",
              "        False, False, False, False, False,  True, False,  True, False, False,\n",
              "        False, False, False,  True, False, False,  True, False])"
            ]
          },
          "metadata": {
            "tags": []
          },
          "execution_count": 35
        }
      ]
    },
    {
      "cell_type": "markdown",
      "metadata": {
        "id": "7YRpwfhfisXp",
        "colab_type": "text"
      },
      "source": [
        "We can compute an accuracy between 0 and 1 simply by averaging the above binary vector. "
      ]
    },
    {
      "cell_type": "code",
      "metadata": {
        "id": "l3RuSsMSisXq",
        "colab_type": "code",
        "outputId": "7f153148-4dcd-4e49-b82e-86ca9bc9615f",
        "colab": {
          "base_uri": "https://localhost:8080/",
          "height": 34
        }
      },
      "source": [
        "def accuracy(output, label):\n",
        "    return (output.argmax(1) == label).float().mean()\n",
        "\n",
        "accuracy(output, yb)"
      ],
      "execution_count": 36,
      "outputs": [
        {
          "output_type": "execute_result",
          "data": {
            "text/plain": [
              "tensor(0.1797)"
            ]
          },
          "metadata": {
            "tags": []
          },
          "execution_count": 36
        }
      ]
    },
    {
      "cell_type": "markdown",
      "metadata": {
        "id": "bTY8veNhisXs",
        "colab_type": "text"
      },
      "source": [
        "## Loss\n",
        "\n",
        "To measure how well our network does, we cannot directly use our accuracy metric - Do you know why?\n",
        "\n",
        "Instead, we will apply a softmax to the 10-dimensional output, which gives us a probability between 0 and 1 for each of the 10 classes."
      ]
    },
    {
      "cell_type": "code",
      "metadata": {
        "id": "yYEhEdeuisXs",
        "colab_type": "code",
        "outputId": "cada3cf0-ab3d-4859-de67-194f511326c1",
        "colab": {
          "base_uri": "https://localhost:8080/",
          "height": 238
        }
      },
      "source": [
        "F.softmax(output, dim=1)"
      ],
      "execution_count": 37,
      "outputs": [
        {
          "output_type": "execute_result",
          "data": {
            "text/plain": [
              "tensor([[8.0182e-04, 9.5116e-01, 4.0734e-09,  ..., 9.2549e-05, 6.2048e-10,\n",
              "         4.7918e-02],\n",
              "        [4.4604e-09, 9.9851e-01, 1.4547e-13,  ..., 9.5607e-10, 2.3903e-22,\n",
              "         1.7672e-06],\n",
              "        [9.8299e-06, 1.5182e-02, 1.6234e-07,  ..., 1.1379e-08, 8.4882e-07,\n",
              "         2.3726e-03],\n",
              "        ...,\n",
              "        [3.6699e-10, 1.5819e-02, 7.6910e-09,  ..., 9.5150e-08, 3.1718e-08,\n",
              "         3.1134e-02],\n",
              "        [3.9231e-07, 3.7810e-04, 2.3921e-07,  ..., 3.2032e-01, 1.5332e-06,\n",
              "         6.7493e-01],\n",
              "        [5.4402e-10, 1.2656e-04, 2.7774e-17,  ..., 7.9478e-04, 2.8945e-23,\n",
              "         9.9906e-01]])"
            ]
          },
          "metadata": {
            "tags": []
          },
          "execution_count": 37
        }
      ]
    },
    {
      "cell_type": "code",
      "metadata": {
        "id": "jrND9m4AKEoQ",
        "colab_type": "code",
        "colab": {
          "base_uri": "https://localhost:8080/",
          "height": 51
        },
        "outputId": "caf706a9-8fcf-47e0-8142-13af07bc614f"
      },
      "source": [
        "F.softmax(output, dim=1)[0]"
      ],
      "execution_count": 38,
      "outputs": [
        {
          "output_type": "execute_result",
          "data": {
            "text/plain": [
              "tensor([8.0182e-04, 9.5116e-01, 4.0734e-09, 1.9893e-06, 1.3391e-05, 3.1868e-11,\n",
              "        8.5513e-06, 9.2549e-05, 6.2048e-10, 4.7918e-02])"
            ]
          },
          "metadata": {
            "tags": []
          },
          "execution_count": 38
        }
      ]
    },
    {
      "cell_type": "code",
      "metadata": {
        "id": "rdxk-FKgisXv",
        "colab_type": "code",
        "outputId": "f76b5024-3c71-4c89-d5c7-ca7a593082eb",
        "colab": {
          "base_uri": "https://localhost:8080/",
          "height": 272
        }
      },
      "source": [
        "F.softmax(output, dim=1).sum(1)"
      ],
      "execution_count": 39,
      "outputs": [
        {
          "output_type": "execute_result",
          "data": {
            "text/plain": [
              "tensor([1.0000, 1.0000, 1.0000, 1.0000, 1.0000, 1.0000, 1.0000, 1.0000, 1.0000,\n",
              "        1.0000, 1.0000, 1.0000, 1.0000, 1.0000, 1.0000, 1.0000, 1.0000, 1.0000,\n",
              "        1.0000, 1.0000, 1.0000, 1.0000, 1.0000, 1.0000, 1.0000, 1.0000, 1.0000,\n",
              "        1.0000, 1.0000, 1.0000, 1.0000, 1.0000, 1.0000, 1.0000, 1.0000, 1.0000,\n",
              "        1.0000, 1.0000, 1.0000, 1.0000, 1.0000, 1.0000, 1.0000, 1.0000, 1.0000,\n",
              "        1.0000, 1.0000, 1.0000, 1.0000, 1.0000, 1.0000, 1.0000, 1.0000, 1.0000,\n",
              "        1.0000, 1.0000, 1.0000, 1.0000, 1.0000, 1.0000, 1.0000, 1.0000, 1.0000,\n",
              "        1.0000, 1.0000, 1.0000, 1.0000, 1.0000, 1.0000, 1.0000, 1.0000, 1.0000,\n",
              "        1.0000, 1.0000, 1.0000, 1.0000, 1.0000, 1.0000, 1.0000, 1.0000, 1.0000,\n",
              "        1.0000, 1.0000, 1.0000, 1.0000, 1.0000, 1.0000, 1.0000, 1.0000, 1.0000,\n",
              "        1.0000, 1.0000, 1.0000, 1.0000, 1.0000, 1.0000, 1.0000, 1.0000, 1.0000,\n",
              "        1.0000, 1.0000, 1.0000, 1.0000, 1.0000, 1.0000, 1.0000, 1.0000, 1.0000,\n",
              "        1.0000, 1.0000, 1.0000, 1.0000, 1.0000, 1.0000, 1.0000, 1.0000, 1.0000,\n",
              "        1.0000, 1.0000, 1.0000, 1.0000, 1.0000, 1.0000, 1.0000, 1.0000, 1.0000,\n",
              "        1.0000, 1.0000])"
            ]
          },
          "metadata": {
            "tags": []
          },
          "execution_count": 39
        }
      ]
    },
    {
      "cell_type": "markdown",
      "metadata": {
        "id": "-wEU6lbNisX3",
        "colab_type": "text"
      },
      "source": [
        "However, instead of computing the negative log-likelihood now from the softmax output, it is both quicker and numerically more stable to directly use the cross_entropy loss from PyTorch. Notice that you need to pass the output of your last layer directly to cross_entropy - **NEVER pass softmaxed output directly, use the explicit softmax presented above only if you want to output class probabilities at test time.** "
      ]
    },
    {
      "cell_type": "code",
      "metadata": {
        "id": "W_O3GdoGisX4",
        "colab_type": "code",
        "outputId": "027d0d87-4b25-4449-e18b-963577937543",
        "colab": {
          "base_uri": "https://localhost:8080/",
          "height": 34
        }
      },
      "source": [
        "loss = F.cross_entropy(output, yb)\n",
        "loss"
      ],
      "execution_count": 40,
      "outputs": [
        {
          "output_type": "execute_result",
          "data": {
            "text/plain": [
              "tensor(12.5662)"
            ]
          },
          "metadata": {
            "tags": []
          },
          "execution_count": 40
        }
      ]
    },
    {
      "cell_type": "markdown",
      "metadata": {
        "id": "6jU4sQ91Mtl-",
        "colab_type": "text"
      },
      "source": [
        "You can learn more about this function here: https://pytorch.org/docs/master/nn.html#crossentropyloss\n",
        "\n",
        "There, it says that it just combines LogSoftmax and NLLLoss, whose functional variants are:"
      ]
    },
    {
      "cell_type": "code",
      "metadata": {
        "id": "LsrGDhN5LpRE",
        "colab_type": "code",
        "colab": {
          "base_uri": "https://localhost:8080/",
          "height": 34
        },
        "outputId": "37149ac7-46cf-436d-93a7-3950c8e29bdc"
      },
      "source": [
        "F.nll_loss(F.log_softmax(output, dim=1), yb)"
      ],
      "execution_count": 41,
      "outputs": [
        {
          "output_type": "execute_result",
          "data": {
            "text/plain": [
              "tensor(12.5662)"
            ]
          },
          "metadata": {
            "tags": []
          },
          "execution_count": 41
        }
      ]
    },
    {
      "cell_type": "markdown",
      "metadata": {
        "id": "enbDWjfJNIXt",
        "colab_type": "text"
      },
      "source": [
        "Indeed, this gives us the same result, and we can further split this to see that it just applies log to the softmax result:"
      ]
    },
    {
      "cell_type": "code",
      "metadata": {
        "id": "TucIVh_QL0cv",
        "colab_type": "code",
        "colab": {
          "base_uri": "https://localhost:8080/",
          "height": 34
        },
        "outputId": "13a23467-8a56-4dfa-ed4a-054379b4a9dd"
      },
      "source": [
        "F.nll_loss(torch.log(F.softmax(output, dim=1)), yb)"
      ],
      "execution_count": 42,
      "outputs": [
        {
          "output_type": "execute_result",
          "data": {
            "text/plain": [
              "tensor(12.5662)"
            ]
          },
          "metadata": {
            "tags": []
          },
          "execution_count": 42
        }
      ]
    },
    {
      "cell_type": "markdown",
      "metadata": {
        "id": "g74B2oKOPL57",
        "colab_type": "text"
      },
      "source": [
        "In fact, even unpacking that call results in relatively compact code. We can see that the negative log likelihood loss simply averages the log-probabilities for the correct classes stored in `yb`. This makes sense, we want the probabilities of the correct classes to be as high as possible. In other words we want to maximize that average *or* minimize negated value of that average (we negate it because we always want to *minimize* a loss, since a loss should measure the *lousiness* of our network)."
      ]
    },
    {
      "cell_type": "code",
      "metadata": {
        "id": "3iMWL1mLNRtX",
        "colab_type": "code",
        "colab": {
          "base_uri": "https://localhost:8080/",
          "height": 34
        },
        "outputId": "691d3c62-367a-4dca-ef5a-51d1380f658a"
      },
      "source": [
        "probs = F.softmax(output, dim=1)\n",
        "log_probs = torch.log(probs)\n",
        "# here comes F.nll_loss:\n",
        "correct_class_log_probs = log_probs[torch.arange(batch_size), yb]\n",
        "-torch.sum(correct_class_log_probs) / batch_size"
      ],
      "execution_count": 43,
      "outputs": [
        {
          "output_type": "execute_result",
          "data": {
            "text/plain": [
              "tensor(12.5662)"
            ]
          },
          "metadata": {
            "tags": []
          },
          "execution_count": 43
        }
      ]
    },
    {
      "cell_type": "code",
      "metadata": {
        "id": "-eKYk9tDSuII",
        "colab_type": "code",
        "colab": {
          "base_uri": "https://localhost:8080/",
          "height": 319
        },
        "outputId": "f0d033cc-feaf-4a4d-96cc-a0a6f049169d"
      },
      "source": [
        "prob = np.linspace(0.0, 1, 10000)\n",
        "plt.plot(prob, -np.log(prob))\n",
        "plt.grid()"
      ],
      "execution_count": 44,
      "outputs": [
        {
          "output_type": "stream",
          "text": [
            "/usr/local/lib/python3.6/dist-packages/ipykernel_launcher.py:2: RuntimeWarning: divide by zero encountered in log\n",
            "  \n"
          ],
          "name": "stderr"
        },
        {
          "output_type": "display_data",
          "data": {
            "image/png": "[encoded data removed]",
            "text/plain": [
              "<Figure size 432x288 with 1 Axes>"
            ]
          },
          "metadata": {
            "tags": [],
            "needs_background": "light"
          }
        }
      ]
    },
    {
      "cell_type": "markdown",
      "metadata": {
        "id": "bDqrVFZtai2G",
        "colab_type": "text"
      },
      "source": [
        "### Further Info about loss functions\n",
        "\n",
        "Note that what we're using here is commonly called the (softmax-) cross-entropy, sometimes also abbreviated log-loss. \n",
        "\n",
        "If you want to learn more about different loss functions, this is a nice overview: https://arxiv.org/abs/1702.05659\n",
        "\n",
        "In general, for multi-class classification problems the cross-entropy loss works very well. What is important from time-to-time is to use the `weight` parameter of the `CrossEntropyLoss` class (or `F.cross_entropy function`) to perform class-weighting in imbalanced datasets that \"happen\" frequently in practice, see e.g. in this paper:\n",
        "http://openaccess.thecvf.com/content_CVPR_2019/html/Cui_Class-Balanced_Loss_Based_on_Effective_Number_of_Samples_CVPR_2019_paper.html\n"
      ]
    },
    {
      "cell_type": "markdown",
      "metadata": {
        "id": "PAnAvUjPisX6",
        "colab_type": "text"
      },
      "source": [
        "## Backpropagation\n",
        "\n",
        "We now need to compute the gradient of the weight and bias tensor with respect to the loss. Luckily, PyTorch supplies us with an autograd mechanism that internally computes the gradients at each operations and propagates the error from the output of the network to the input, often called the backward pass.\n",
        "\n",
        "Remember, that is what we did until now:"
      ]
    },
    {
      "cell_type": "code",
      "metadata": {
        "id": "PBx7CofPdhW_",
        "colab_type": "code",
        "colab": {
          "base_uri": "https://localhost:8080/",
          "height": 34
        },
        "outputId": "dc4ebf68-ad84-443c-baf6-bbbae28557e2"
      },
      "source": [
        "# initialize network parameters\n",
        "weight = torch.randn((28*28, 10), requires_grad=True)\n",
        "bias = torch.zeros(10, requires_grad=True)\n",
        "# run one batch of images (Xb) through the network\n",
        "output = forward(Xb, weight, bias)\n",
        "# compute loss\n",
        "loss = F.cross_entropy(output, yb)\n",
        "loss"
      ],
      "execution_count": 45,
      "outputs": [
        {
          "output_type": "execute_result",
          "data": {
            "text/plain": [
              "tensor(12.9651, grad_fn=<NllLossBackward>)"
            ]
          },
          "metadata": {
            "tags": []
          },
          "execution_count": 45
        }
      ]
    },
    {
      "cell_type": "markdown",
      "metadata": {
        "id": "espLFHZKeEWA",
        "colab_type": "text"
      },
      "source": [
        "Now we want to know how we should change the bias and weight parameter in order to *decrease* the loss. For this, we're using the *gradient* of the parameters (with respect to the *loss*).\n",
        "\n",
        "The gradients of a tensor can be accessed by the .grad attribute after running backward on the output as follows. At first, the gradient is empty:"
      ]
    },
    {
      "cell_type": "code",
      "metadata": {
        "id": "k8P5tZkOisX7",
        "colab_type": "code",
        "colab": {}
      },
      "source": [
        "bias.grad"
      ],
      "execution_count": 0,
      "outputs": []
    },
    {
      "cell_type": "markdown",
      "metadata": {
        "id": "lkX_qbx5isX-",
        "colab_type": "text"
      },
      "source": [
        "We then run backpropagation by calling:"
      ]
    },
    {
      "cell_type": "code",
      "metadata": {
        "id": "ZB5rrAqVisX-",
        "colab_type": "code",
        "colab": {}
      },
      "source": [
        "loss.backward()"
      ],
      "execution_count": 0,
      "outputs": []
    },
    {
      "cell_type": "markdown",
      "metadata": {
        "id": "yNx3vwmyisYC",
        "colab_type": "text"
      },
      "source": [
        "Then, we can read out the gradient using `bias.grad`, which returns a tensor that has the derivative of all the values in the `bias` parameter with respect to the loss.\n",
        "\n",
        "### Question\n",
        "\n",
        "What is the shape of the gradient of `bias` and `weight`?\n",
        "\n",
        "-\n",
        "\n",
        "-\n",
        "\n",
        "-\n",
        "\n",
        "-\n",
        "\n",
        "-\n",
        "\n",
        "-\n",
        "\n",
        "-\n",
        "\n",
        "-\n",
        "\n",
        "-\n",
        "\n",
        "-\n",
        "\n",
        "-\n",
        "\n",
        "-\n",
        "\n",
        "-\n",
        "\n",
        "-\n",
        "\n",
        "-\n",
        "\n",
        "-\n",
        "\n",
        "-\n",
        "\n",
        "-\n",
        "\n",
        "-\n",
        "\n",
        "-\n",
        "\n",
        "-"
      ]
    },
    {
      "cell_type": "code",
      "metadata": {
        "id": "0GtrSmWYisYC",
        "colab_type": "code",
        "outputId": "cfa089e2-24dd-400f-fb07-91d14d6c8ba3",
        "colab": {
          "base_uri": "https://localhost:8080/",
          "height": 51
        }
      },
      "source": [
        "bias.grad"
      ],
      "execution_count": 48,
      "outputs": [
        {
          "output_type": "execute_result",
          "data": {
            "text/plain": [
              "tensor([ 0.0330, -0.1252,  0.0091, -0.1540,  0.0782, -0.0180,  0.2962, -0.0592,\n",
              "         0.0536, -0.1136])"
            ]
          },
          "metadata": {
            "tags": []
          },
          "execution_count": 48
        }
      ]
    },
    {
      "cell_type": "code",
      "metadata": {
        "id": "Us5zSR-2isYG",
        "colab_type": "code",
        "outputId": "03040bf6-18a6-4048-80d5-7d77f8715b7b",
        "colab": {
          "base_uri": "https://localhost:8080/",
          "height": 34
        }
      },
      "source": [
        "bias.grad.shape"
      ],
      "execution_count": 49,
      "outputs": [
        {
          "output_type": "execute_result",
          "data": {
            "text/plain": [
              "torch.Size([10])"
            ]
          },
          "metadata": {
            "tags": []
          },
          "execution_count": 49
        }
      ]
    },
    {
      "cell_type": "code",
      "metadata": {
        "id": "kWu9vZeoisYJ",
        "colab_type": "code",
        "outputId": "5522a03c-68ca-4b16-cff4-2c48208a9e6d",
        "colab": {
          "base_uri": "https://localhost:8080/",
          "height": 34
        }
      },
      "source": [
        "weight.grad.shape"
      ],
      "execution_count": 50,
      "outputs": [
        {
          "output_type": "execute_result",
          "data": {
            "text/plain": [
              "torch.Size([784, 10])"
            ]
          },
          "metadata": {
            "tags": []
          },
          "execution_count": 50
        }
      ]
    },
    {
      "cell_type": "code",
      "metadata": {
        "id": "XBSmhnd1isYL",
        "colab_type": "code",
        "outputId": "b7a342c3-b1f1-47c0-9ccc-47bbf7985033",
        "colab": {
          "base_uri": "https://localhost:8080/",
          "height": 136
        }
      },
      "source": [
        "weight.grad"
      ],
      "execution_count": 51,
      "outputs": [
        {
          "output_type": "execute_result",
          "data": {
            "text/plain": [
              "tensor([[0., 0., 0.,  ..., 0., 0., 0.],\n",
              "        [0., 0., 0.,  ..., 0., 0., 0.],\n",
              "        [0., 0., 0.,  ..., 0., 0., 0.],\n",
              "        ...,\n",
              "        [0., 0., 0.,  ..., 0., 0., 0.],\n",
              "        [0., 0., 0.,  ..., 0., 0., 0.],\n",
              "        [0., 0., 0.,  ..., 0., 0., 0.]])"
            ]
          },
          "metadata": {
            "tags": []
          },
          "execution_count": 51
        }
      ]
    },
    {
      "cell_type": "markdown",
      "metadata": {
        "id": "NPAain1kTrsP",
        "colab_type": "text"
      },
      "source": [
        "You can learn more about backpropagation and the math basics here:\n",
        " - study [Micrograd](https://github.com/karpathy/micrograd) - a tine autograd engine written in Python, only about 100 lines of code\n",
        " - a very [gentle writeup](https://explained.ai/matrix-calculus/) of the mathematical background of matrix and derivative calculus needed by deep learning\n",
        " - read [the autograd tutorial](https://pytorch.org/tutorials/beginner/blitz/autograd_tutorial.html) from the PyTorch authors\n",
        "\n"
      ]
    },
    {
      "cell_type": "markdown",
      "metadata": {
        "id": "f9mMDJMIisYN",
        "colab_type": "text"
      },
      "source": [
        "## Gradient descent\n",
        "\n",
        "We can now change the weight and bias parameter in order to bring down the loss. Since we don't want to backpropagate through this gradient update step, we need to disable the autograd feature for these steps using with no_grad. We also need to define a learning rate (lr)."
      ]
    },
    {
      "cell_type": "code",
      "metadata": {
        "id": "a_2KtbxBisYO",
        "colab_type": "code",
        "outputId": "f966edef-f305-4266-c7f6-f66598d15c55",
        "colab": {
          "base_uri": "https://localhost:8080/",
          "height": 68
        }
      },
      "source": [
        "lr = 1.e-1\n",
        "\n",
        "print(\"bias before: \", bias)\n",
        "\n",
        "with torch.no_grad(): # TODO: why do we need this?\n",
        "    weight -= lr * weight.grad\n",
        "    weight.grad.zero_()\n",
        "    bias -= lr * bias.grad\n",
        "    bias.grad.zero_()\n",
        "    \n",
        "print(\"bias after: \", bias)"
      ],
      "execution_count": 52,
      "outputs": [
        {
          "output_type": "stream",
          "text": [
            "bias before:  tensor([0., 0., 0., 0., 0., 0., 0., 0., 0., 0.], requires_grad=True)\n",
            "bias after:  tensor([-0.0033,  0.0125, -0.0009,  0.0154, -0.0078,  0.0018, -0.0296,  0.0059,\n",
            "        -0.0054,  0.0114], requires_grad=True)\n"
          ],
          "name": "stdout"
        }
      ]
    },
    {
      "cell_type": "markdown",
      "metadata": {
        "id": "pInV6bBPisYS",
        "colab_type": "text"
      },
      "source": [
        "Did our model already improve after this one small mini batch gradient update?"
      ]
    },
    {
      "cell_type": "code",
      "metadata": {
        "id": "KZIyaP-5isYT",
        "colab_type": "code",
        "outputId": "32fd59a7-ae5c-4a74-e36a-2456336eb14a",
        "colab": {
          "base_uri": "https://localhost:8080/",
          "height": 34
        }
      },
      "source": [
        "output = forward(Xb, weight, bias)\n",
        "F.cross_entropy(output, yb)"
      ],
      "execution_count": 53,
      "outputs": [
        {
          "output_type": "execute_result",
          "data": {
            "text/plain": [
              "tensor(12.2662, grad_fn=<NllLossBackward>)"
            ]
          },
          "metadata": {
            "tags": []
          },
          "execution_count": 53
        }
      ]
    },
    {
      "cell_type": "code",
      "metadata": {
        "id": "Dg0msz0tisYV",
        "colab_type": "code",
        "outputId": "e657a0a2-6cc5-4f84-fc1c-3625a6519d4c",
        "colab": {
          "base_uri": "https://localhost:8080/",
          "height": 34
        }
      },
      "source": [
        "accuracy(output, yb)"
      ],
      "execution_count": 54,
      "outputs": [
        {
          "output_type": "execute_result",
          "data": {
            "text/plain": [
              "tensor(0.0547)"
            ]
          },
          "metadata": {
            "tags": []
          },
          "execution_count": 54
        }
      ]
    },
    {
      "cell_type": "markdown",
      "metadata": {
        "id": "lgdo26-MisYb",
        "colab_type": "text"
      },
      "source": [
        "# Full Training Loop\n",
        "\n",
        "In practice, we want to do these gradient update steps multiple times over the whole dataset. Usually, we construct an inner loop that runs over the whole (shuffled!) training set, and an outer loop that repeats this for a set number of epochs.\n",
        "\n",
        "Also, we were not very smart in initializing our weights. Lets use the popular [kaiming initialization](https://arxiv.org/abs/1502.01852) for initializing the weight matrix. Initialization is quite important, but as we will see later most of the times PyTorch provides us with a safe default. We just don't use it here since we did not yet learn about nn.Modules, yet.\n",
        "\n",
        "We should also measure the accuracy on our validation set after each epoch.\n",
        "\n",
        "## Your Tasks:\n",
        "\n",
        " - Finish the training loop prepared below and train the network for 5 epochs. What accuracy do you achieve?\n",
        " - Bonus: Visualize some images from the validation set that are misclassified - what can you see?\n",
        " - Bonus: Instead of MNIST, try FashionMNIST, which has the same format but is much harder then MNIST\n"
      ]
    },
    {
      "cell_type": "code",
      "metadata": {
        "id": "lhIcyQjDXE6e",
        "colab_type": "code",
        "colab": {
          "base_uri": "https://localhost:8080/",
          "height": 130
        },
        "outputId": "46227dfc-4ebe-494a-997d-dc474dd2752f"
      },
      "source": [
        "def forward(X, weight, bias):\n",
        "    return X.view(-1, 28*28) @ weight + bias\n",
        "\n",
        "def accuracy(output, label):\n",
        "    return (output.argmax(1) == label).float().mean()\n",
        "\n",
        "lr = 0.1\n",
        "\n",
        "# initialize weights\n",
        "weight = torch.zeros((28*28, 10), requires_grad=True)\n",
        "nn.init.kaiming_uniform_(weight, mode='fan_out')\n",
        "bias = torch.zeros(10, requires_grad=True)\n",
        "\n",
        "for epoch in range(5):\n",
        "    # train on mini batches\n",
        "    losses = []\n",
        "    for X, y in train_loader:\n",
        "        # TODO: forward pass\n",
        "        # compute loss\n",
        "        loss = # TODO\n",
        "        losses.append(loss.item())\n",
        "        # TODO: backward pass\n",
        "        with torch.no_grad():\n",
        "          # TODO: gradient descent update\n",
        "          # TODO: set gradients to zero\n",
        "            \n",
        "    # measure accuracy on the validation set\n",
        "    acc = np.mean([\n",
        "        accuracy(forward(X, weight, bias), y)\n",
        "        for X, y in valid_loader\n",
        "    ])\n",
        "    print(\"epoch % 5d: loss: % 8.5f accuracy: %4.2f\" % (epoch, np.mean(losses), acc.item()))\n"
      ],
      "execution_count": 55,
      "outputs": [
        {
          "output_type": "error",
          "ename": "SyntaxError",
          "evalue": "ignored",
          "traceback": [
            "\u001b[0;36m  File \u001b[0;32m\"<ipython-input-55-c5ebcbb5268a>\"\u001b[0;36m, line \u001b[0;32m20\u001b[0m\n\u001b[0;31m    loss = # TODO\u001b[0m\n\u001b[0m                 ^\u001b[0m\n\u001b[0;31mSyntaxError\u001b[0m\u001b[0;31m:\u001b[0m invalid syntax\n"
          ]
        }
      ]
    },
    {
      "cell_type": "markdown",
      "metadata": {
        "id": "gjj8HBnMY80X",
        "colab_type": "text"
      },
      "source": [
        "After training, you can visualize predictions of digits from the validation set to check if they are correct:"
      ]
    },
    {
      "cell_type": "code",
      "metadata": {
        "id": "kv1vv8yy4mOQ",
        "colab_type": "code",
        "colab": {
          "base_uri": "https://localhost:8080/",
          "height": 525
        },
        "outputId": "8879e620-b88c-456e-a96b-029ce6316750"
      },
      "source": [
        "Xv, yv = next(iter(valid_loader))\n",
        "show_image_grid(Xv, y=yv, y_pred=forward(Xv, weight, bias).argmax(dim=1))"
      ],
      "execution_count": 56,
      "outputs": [
        {
          "output_type": "display_data",
          "data": {
            "image/png": "[encoded data removed]",
            "text/plain": [
              "<Figure size 864x648 with 24 Axes>"
            ]
          },
          "metadata": {
            "tags": [],
            "needs_background": "light"
          }
        }
      ]
    },
    {
      "cell_type": "markdown",
      "metadata": {
        "id": "CouQookFisYe",
        "colab_type": "text"
      },
      "source": [
        "## Lets take a look inside\n",
        "\n",
        "Since our model is so simple, we can actually take a look at the learned parameters of the network, as the weight matrix is just a stack of vectorized 28x28 images itself. Basically, we have trained 10 linear digit detectors. Lets have a look:"
      ]
    },
    {
      "cell_type": "code",
      "metadata": {
        "id": "plxd0eiWisYg",
        "colab_type": "code",
        "outputId": "9f5eb931-b8af-412a-a186-8e3e2cb6b336",
        "colab": {
          "base_uri": "https://localhost:8080/",
          "height": 34
        }
      },
      "source": [
        "W = weight.detach()\n",
        "W.shape"
      ],
      "execution_count": 57,
      "outputs": [
        {
          "output_type": "execute_result",
          "data": {
            "text/plain": [
              "torch.Size([784, 10])"
            ]
          },
          "metadata": {
            "tags": []
          },
          "execution_count": 57
        }
      ]
    },
    {
      "cell_type": "code",
      "metadata": {
        "scrolled": true,
        "id": "D8rg6c7bisYr",
        "colab_type": "code",
        "outputId": "e2df28e1-4985-486c-e14a-3d179a61c590",
        "colab": {
          "base_uri": "https://localhost:8080/",
          "height": 1000
        }
      },
      "source": [
        "W[:, 0]"
      ],
      "execution_count": 58,
      "outputs": [
        {
          "output_type": "execute_result",
          "data": {
            "text/plain": [
              "tensor([-1.6036e+00, -1.9762e+00, -6.3696e-01,  4.3453e-01, -1.0491e-02,\n",
              "         2.1147e-01, -2.1573e+00, -3.1303e-02, -1.9749e+00,  1.5862e+00,\n",
              "        -6.7068e-01, -5.9453e-01,  1.9194e+00,  7.1770e-02, -6.2969e-01,\n",
              "         1.7404e+00,  9.2038e-01, -6.4219e-01,  1.5082e-01,  4.7707e-01,\n",
              "         1.1237e+00, -1.7000e+00, -5.1334e-01, -1.5530e+00, -1.5603e+00,\n",
              "        -2.7485e-01,  2.8300e+00, -5.8184e-01,  1.0997e-01, -4.9472e-01,\n",
              "         3.1259e-01, -9.4432e-01, -6.3156e-01, -5.3690e-01,  2.1352e+00,\n",
              "         1.0691e+00, -3.7033e-01,  4.4422e-01, -3.0148e-01, -1.3141e+00,\n",
              "         9.6737e-02,  1.3405e+00, -1.0902e+00, -2.7880e-01,  6.2050e-01,\n",
              "        -6.8654e-02, -7.1206e-01, -5.3073e-02, -2.6449e-01,  1.4725e+00,\n",
              "         8.1347e-01, -8.4567e-01,  3.5915e-01, -7.0761e-01, -4.1051e-01,\n",
              "        -1.6953e+00, -1.1784e+00, -9.6894e-01,  4.2685e-01,  2.6500e-02,\n",
              "        -1.1055e+00, -5.6181e-01,  3.0096e-01,  1.5990e+00, -4.9900e-01,\n",
              "        -1.0607e+00, -4.9504e-01,  8.5180e-01, -7.7867e-01, -9.3875e-02,\n",
              "         9.9061e-01,  1.1231e+00,  1.8568e+00,  2.8816e-01, -1.2360e-01,\n",
              "        -1.0806e+00, -5.5262e-01,  6.8327e-01,  3.3126e-01, -2.1604e+00,\n",
              "         7.0847e-02, -1.4377e+00,  1.3308e+00, -6.3400e-01, -3.1757e-01,\n",
              "        -8.0640e-01, -1.7261e+00,  1.2481e-01, -4.8370e-01,  4.0395e-03,\n",
              "        -2.2226e-01, -1.6589e+00, -1.6045e-01,  1.3514e+00, -6.4237e-01,\n",
              "         9.1529e-01,  9.8300e-01,  7.1245e-01,  1.7549e+00,  4.7180e-01,\n",
              "        -7.8853e-01,  9.8860e-01, -4.5601e-01,  2.3284e+00,  3.8337e-01,\n",
              "         9.5841e-02,  2.8129e-01,  8.3679e-02,  3.6775e-02, -1.5058e+00,\n",
              "        -5.2118e-01, -9.9240e-01, -6.2313e-01,  1.5551e+00, -3.9732e-01,\n",
              "        -1.3560e+00, -9.5021e-01,  7.4509e-01,  9.7465e-01,  7.8261e-01,\n",
              "        -1.4910e+00,  7.2960e-01,  5.9842e-01, -9.0208e-01,  1.0140e+00,\n",
              "         1.1850e+00,  3.5496e-01,  1.6763e+00, -1.0158e+00, -1.0447e+00,\n",
              "        -2.4959e-01, -5.8312e-01, -2.7988e+00,  1.9076e+00,  1.5199e+00,\n",
              "         1.3897e-01, -1.5351e+00,  7.1289e-01,  8.2696e-01,  1.2292e+00,\n",
              "        -2.3312e-01,  1.3732e+00, -7.9526e-01, -4.0695e-02,  9.8154e-01,\n",
              "         1.1191e+00,  2.4298e+00,  8.7530e-01,  8.0505e-02, -6.6405e-01,\n",
              "        -6.8320e-01, -2.1488e-01, -6.9497e-01, -5.3804e-02, -5.5369e-01,\n",
              "        -8.5870e-01,  3.6993e+00, -1.9259e-01, -1.2929e+00,  6.3224e-01,\n",
              "        -9.6553e-01, -2.6569e+00,  1.3745e+00,  1.8118e+00, -1.2922e+00,\n",
              "         6.2560e-01,  1.0735e+00, -1.0415e+00,  4.5588e-01,  6.3017e-01,\n",
              "        -7.9111e-01, -1.1790e-01,  6.7989e-01, -7.7244e-01, -1.1622e+00,\n",
              "         1.1139e+00,  1.2998e+00,  1.9966e-01, -1.3486e-01, -2.9532e-01,\n",
              "         1.7217e+00,  1.5664e+00, -5.4715e-01, -1.3923e+00, -1.0385e+00,\n",
              "         2.3781e-01,  4.8184e-01, -8.3723e-01,  2.8981e-01,  3.7173e-01,\n",
              "        -1.3288e-01, -6.9552e-01, -1.0313e+00, -9.5690e-01,  1.2152e+00,\n",
              "        -1.6974e-01,  1.4160e+00, -3.6991e-01, -1.4785e+00,  1.9510e+00,\n",
              "        -4.7874e-01,  9.7686e-01, -1.4615e-01,  1.6367e+00, -9.5106e-01,\n",
              "         1.3859e+00,  6.7490e-01, -2.9866e-01, -2.0772e-01, -9.5602e-01,\n",
              "         2.7939e+00,  4.3133e-01, -6.0296e-01,  6.2882e-01,  5.1163e-02,\n",
              "        -7.1058e-01,  6.9001e-01,  2.8235e+00, -6.0399e-01,  2.8230e-01,\n",
              "        -8.6283e-01, -1.1327e-01,  8.3534e-01,  4.3051e-01,  1.9921e+00,\n",
              "        -9.1964e-01,  5.8298e-01, -2.1130e-01,  6.8685e-01, -1.3055e+00,\n",
              "         1.5743e+00, -9.0361e-03,  1.7005e+00,  1.5745e+00, -3.9418e-01,\n",
              "        -1.3145e+00, -2.5666e+00,  3.3871e-01,  1.0021e+00,  6.8283e-01,\n",
              "         3.3637e-01, -1.4302e+00, -8.3920e-02,  1.2445e+00,  1.0079e+00,\n",
              "         4.4696e-01, -1.1134e+00,  7.2993e-01,  6.4257e-01, -1.8619e-01,\n",
              "         1.0156e+00,  5.8523e-01,  2.3985e+00, -4.0453e-01,  1.2290e+00,\n",
              "        -2.3884e-01,  4.6675e-01,  6.4062e-01,  2.5929e-01,  2.5592e-01,\n",
              "        -7.3109e-01,  7.2892e-01, -8.5669e-01,  4.2481e-01,  5.9050e-01,\n",
              "        -1.8608e-01, -1.3835e+00,  4.4045e-01,  6.0958e-01, -1.0368e+00,\n",
              "        -6.1604e-01,  2.2832e+00,  1.3664e+00, -1.4633e+00,  3.1143e-01,\n",
              "        -1.7371e+00, -1.1918e+00,  5.5457e-01,  6.2657e-02,  1.1565e-01,\n",
              "        -8.6574e-01, -8.8022e-01, -1.3453e+00,  1.4220e+00, -1.0077e-01,\n",
              "         5.7441e-02, -2.4324e-01, -2.1561e+00, -1.1457e+00, -1.5755e+00,\n",
              "        -5.2046e-01,  1.7848e+00,  2.1675e-01, -1.3237e+00, -5.1489e-01,\n",
              "         2.2130e-01, -5.1708e-02,  2.0173e+00,  2.1731e-01,  8.9127e-01,\n",
              "        -2.6207e-01,  1.9663e-01, -1.8477e+00,  3.8433e-01, -1.5431e+00,\n",
              "         3.7777e-01,  2.2481e-01, -4.3153e-01, -6.0886e-01,  4.7226e-01,\n",
              "        -7.6259e-01,  1.9027e-01,  3.1741e-01,  9.2605e-01, -7.0752e-01,\n",
              "         1.0092e+00, -2.3442e+00, -3.2915e-01, -2.2911e-01, -2.0121e+00,\n",
              "        -2.7424e-01,  7.4072e-01,  7.6697e-01, -1.3907e-02, -1.2797e+00,\n",
              "         6.7334e-01,  1.2872e-01,  6.3878e-01,  1.5341e+00, -2.8248e-02,\n",
              "         7.9009e-01, -8.4451e-01,  2.0394e-02,  3.6139e-01,  9.6294e-01,\n",
              "        -6.1033e-01,  3.8746e-01, -1.1414e+00, -7.5948e-01, -1.9707e+00,\n",
              "         5.6603e-01, -2.3732e-01, -1.2728e+00, -1.3384e+00, -1.2873e+00,\n",
              "        -4.0663e-01, -2.2525e-02, -6.1926e-01, -6.2456e-01,  2.4076e-01,\n",
              "        -1.8201e+00,  1.3292e+00, -3.1028e-01, -6.9175e-02,  8.0304e-02,\n",
              "         5.2258e-01, -8.8988e-01,  3.6637e+00, -1.4439e+00, -2.3550e-01,\n",
              "         4.0084e-01, -1.8166e-01, -2.4524e-01, -6.2787e-01,  8.8084e-02,\n",
              "         2.4389e-01, -1.7387e+00,  2.2979e-01, -9.3119e-03,  7.5423e-01,\n",
              "         1.2299e+00, -2.5249e+00,  1.5615e+00, -1.8607e-02,  4.2891e-02,\n",
              "         1.4733e+00,  6.1352e-01, -2.8284e-01,  1.3524e+00,  9.6022e-01,\n",
              "         2.5393e+00, -4.2050e-01, -1.7367e-01, -3.5874e-01, -1.9807e+00,\n",
              "        -3.3235e-01,  5.4927e-01,  2.2401e-01, -2.5476e-01, -1.7020e-01,\n",
              "         1.7443e-01,  1.0851e+00,  7.7256e-01,  1.0846e+00, -1.9202e-01,\n",
              "        -1.0167e+00,  1.3609e+00,  2.0401e-01,  2.6394e-01,  2.5681e-01,\n",
              "        -7.1038e-01,  4.7466e-01, -1.7262e+00,  3.3589e-02,  7.3343e-02,\n",
              "        -8.9184e-01, -1.3191e-02, -1.0739e+00,  1.0895e+00, -1.9630e+00,\n",
              "         4.9458e-01, -4.1669e-01,  1.3376e+00,  1.0832e+00, -1.0874e+00,\n",
              "         8.4528e-01, -1.4445e-01,  9.8286e-02,  4.3132e-01,  7.9113e-01,\n",
              "         2.1600e+00,  2.2111e+00, -2.1303e+00,  1.6054e-01,  2.7402e-01,\n",
              "         1.0948e+00, -3.2929e-01,  5.8005e-01,  6.9859e-01,  7.3239e-01,\n",
              "        -7.7611e-02, -2.5425e-01,  2.5142e-01, -9.9586e-01, -1.0612e+00,\n",
              "         7.7128e-01,  7.0260e-01, -1.6582e+00,  6.1102e-01,  7.1772e-01,\n",
              "        -8.0227e-01, -1.0034e-01,  5.9389e-01, -1.3991e+00, -1.5543e+00,\n",
              "         6.3952e-04, -8.8479e-01,  1.3264e+00,  1.6481e+00,  1.5255e+00,\n",
              "         2.1386e+00, -2.3680e-01, -2.8806e-01, -9.8501e-01,  5.3822e-01,\n",
              "        -9.9863e-02, -1.3032e+00,  2.9384e+00,  3.4319e-01,  2.5484e+00,\n",
              "        -2.2508e-01,  6.3773e-01, -8.6066e-01,  1.5483e-01, -1.1755e+00,\n",
              "         5.2156e-01,  3.1956e-01,  1.8024e-01,  2.1790e-01, -9.7358e-01,\n",
              "        -1.6327e+00, -2.6717e-01,  1.6324e-02,  3.5167e-01,  1.7995e-01,\n",
              "         9.3666e-02, -9.6509e-01,  3.7694e-01, -1.8615e+00,  5.8022e-01,\n",
              "        -2.2242e+00, -1.2018e+00, -1.3856e+00, -1.1105e-01,  1.8347e+00,\n",
              "        -6.0203e-02, -1.4232e+00, -8.3057e-01,  1.0775e+00, -2.5818e-01,\n",
              "        -1.5181e+00, -2.7387e-01, -2.0081e+00,  1.4551e+00, -4.0123e-01,\n",
              "         6.9481e-02,  2.8183e+00,  7.2679e-02,  4.2196e-01,  8.3499e-02,\n",
              "        -1.4057e+00,  1.7968e-01,  1.0316e-01, -2.7341e-02, -1.8755e+00,\n",
              "        -3.6635e-01, -8.9266e-01,  8.3816e-01, -1.2229e+00, -8.0558e-01,\n",
              "        -7.6631e-01,  3.2983e-01,  3.9135e-02,  7.5368e-01,  4.9077e-01,\n",
              "        -4.5523e-01,  3.9994e-01,  3.3988e-01, -2.9457e+00,  2.8172e-01,\n",
              "         3.4474e-01, -1.8141e+00, -7.3648e-01, -6.0867e-01,  4.3920e-01,\n",
              "        -2.1727e-01, -2.1536e+00, -4.4137e-02, -8.8592e-01,  1.2428e+00,\n",
              "         1.3046e-01, -9.4627e-01, -4.9767e-01,  2.1424e+00,  1.9157e+00,\n",
              "        -2.8646e-01,  5.5570e-01, -6.6923e-01,  2.7468e-01, -1.3139e+00,\n",
              "        -6.9791e-01,  1.1457e+00,  5.0388e-01, -3.6238e-01,  3.6068e-01,\n",
              "         3.2530e-01,  1.1647e+00, -1.3072e+00, -1.2068e+00,  6.2571e-01,\n",
              "         8.3810e-01,  6.5166e-01, -3.2952e-01,  1.5978e+00,  9.7300e-02,\n",
              "        -1.2663e+00, -1.0477e+00, -1.0898e+00, -9.4916e-01, -5.0187e-01,\n",
              "         5.1643e-01, -2.9213e-01,  5.5768e-02, -1.0081e+00, -1.7777e-01,\n",
              "        -2.5087e+00, -5.0009e-01, -8.4307e-01,  2.5779e+00, -1.3488e+00,\n",
              "         9.1130e-01, -1.0776e-01,  1.6816e+00,  2.9933e-01,  2.0433e-01,\n",
              "        -8.3354e-01, -4.6228e-01, -4.5298e-01,  1.0684e+00,  9.2621e-01,\n",
              "         1.0142e+00,  1.3740e+00, -4.8362e-02,  2.2326e-01, -1.2330e+00,\n",
              "         1.2248e+00,  4.1750e-01,  6.8023e-01,  4.4939e-01, -8.2493e-01,\n",
              "         7.1306e-01, -3.4677e-01,  4.2402e-01, -2.6479e-01, -4.9783e-01,\n",
              "         2.0362e+00, -2.2409e-01, -2.4730e-01,  4.0809e-01, -6.5989e-01,\n",
              "        -2.3226e-02, -8.9181e-01, -1.3162e+00, -1.0875e+00,  1.2539e+00,\n",
              "         2.5502e-01, -3.9870e-01,  9.2794e-01,  7.7497e-01,  2.1002e+00,\n",
              "         1.0574e+00, -3.1280e-01, -1.0580e+00, -1.7051e+00, -2.5842e-01,\n",
              "         1.8576e-01,  5.4116e-01,  1.2836e+00,  6.3628e-01,  7.6215e-01,\n",
              "         2.1712e-03,  6.5143e-01,  1.0010e-01, -3.0921e-01,  1.0396e+00,\n",
              "        -1.0727e+00, -9.9607e-01, -9.5362e-01, -7.9418e-01,  1.0577e+00,\n",
              "        -4.3350e-01, -1.6092e+00, -4.6556e-01,  9.1863e-01,  6.4088e-01,\n",
              "        -5.4960e-01, -4.6741e-01,  7.6893e-01,  6.2181e-01, -2.6983e-01,\n",
              "         4.2116e-01,  1.5493e-01, -2.1517e+00,  2.0110e-01,  1.1386e+00,\n",
              "         1.5967e-01,  8.0786e-01, -5.6288e-01, -2.9571e-01, -9.7712e-01,\n",
              "         6.0779e-01,  1.1847e+00, -3.2077e-01,  8.6553e-01, -1.6913e+00,\n",
              "        -6.0413e-01, -1.0129e+00, -2.7792e-01, -3.7968e-01, -7.2063e-01,\n",
              "        -9.2744e-01, -4.8524e-01,  1.3122e-01,  2.5861e-01,  1.3394e+00,\n",
              "         1.7881e-02, -1.4090e+00, -1.3439e+00, -8.1389e-01, -4.9167e-01,\n",
              "         7.0512e-01, -6.2894e-01,  1.1151e+00,  6.8948e-01,  4.0126e-01,\n",
              "        -5.8096e-01,  2.0431e+00,  8.0988e-02,  8.2811e-01, -2.5750e-02,\n",
              "        -1.4220e-03, -3.8889e-01, -2.4843e-01,  1.5034e-01,  1.3368e-01,\n",
              "         1.6056e+00, -2.3890e+00, -2.7011e-01, -1.1961e+00, -3.7786e-01,\n",
              "        -1.1389e+00, -1.6319e+00,  2.4210e-01,  3.9580e-01,  1.7611e+00,\n",
              "         6.4809e-01,  6.6977e-01,  1.1482e+00, -1.2163e-03,  1.8631e+00,\n",
              "        -8.1697e-01,  2.9220e-01,  1.1985e+00,  1.3047e+00,  5.4801e-01,\n",
              "         1.5731e+00, -2.0208e+00,  7.6157e-01,  6.4537e-01,  2.2075e+00,\n",
              "         2.9519e-01, -4.3137e-01, -9.9288e-01, -6.2088e-01, -1.4567e+00,\n",
              "         4.6593e-01,  1.0447e+00,  1.1291e+00,  7.0057e-01, -1.1667e+00,\n",
              "         3.8816e-01,  1.7415e+00,  1.6705e+00, -5.5066e-01,  1.4950e-02,\n",
              "         1.2176e-01, -4.2602e-01,  4.5021e-01,  5.0955e-01,  1.0179e+00,\n",
              "        -7.3574e-01, -3.6408e-01,  7.3254e-02,  1.2922e-01,  5.9540e-01,\n",
              "        -8.5322e-01,  2.6369e-01, -6.3804e-01,  2.5683e-01,  1.0949e+00,\n",
              "        -6.4401e-01, -8.4967e-01, -7.4835e-01,  1.2031e+00, -1.1733e+00,\n",
              "        -2.4187e-01, -4.0997e-01, -3.0375e-01,  2.8650e-01, -1.3354e+00,\n",
              "         9.0958e-02, -1.0142e+00,  6.4990e-01, -5.2867e-01, -5.9502e-01,\n",
              "        -1.6610e-01,  7.0951e-01,  4.3336e-01, -6.3097e-01, -1.7498e+00,\n",
              "        -1.1998e+00,  1.7931e+00,  2.0142e-01,  1.5950e+00, -6.9404e-01,\n",
              "        -1.3215e+00, -2.4797e-01, -6.4848e-01, -9.7183e-01, -4.8072e-01,\n",
              "         6.8000e-01, -2.7234e-01,  5.1338e-01,  8.5221e-01, -1.6037e-01,\n",
              "        -8.3983e-02,  7.3046e-01, -1.9129e+00,  8.1118e-02,  6.2430e-01,\n",
              "         5.5121e-01,  4.9844e-01, -6.0724e-01,  3.7805e-01])"
            ]
          },
          "metadata": {
            "tags": []
          },
          "execution_count": 58
        }
      ]
    },
    {
      "cell_type": "markdown",
      "metadata": {
        "id": "xhQKnRp9UVvg",
        "colab_type": "text"
      },
      "source": [
        "Each row basically corresponds to a template of that class, which we can visualize."
      ]
    },
    {
      "cell_type": "code",
      "metadata": {
        "id": "KhLYePtEisYw",
        "colab_type": "code",
        "outputId": "eac4041e-97e8-4724-92d9-cc3cd0c0104a",
        "colab": {
          "base_uri": "https://localhost:8080/",
          "height": 282
        }
      },
      "source": [
        "plt.imshow(W[:, 0].reshape(28, 28))"
      ],
      "execution_count": 59,
      "outputs": [
        {
          "output_type": "execute_result",
          "data": {
            "text/plain": [
              "<matplotlib.image.AxesImage at 0x7fdd9d0cefd0>"
            ]
          },
          "metadata": {
            "tags": []
          },
          "execution_count": 59
        },
        {
          "output_type": "display_data",
          "data": {
            "image/png": "[encoded data removed]",
            "text/plain": [
              "<Figure size 432x288 with 1 Axes>"
            ]
          },
          "metadata": {
            "tags": [],
            "needs_background": "light"
          }
        }
      ]
    },
    {
      "cell_type": "code",
      "metadata": {
        "id": "SbVK5wnOisYz",
        "colab_type": "code",
        "outputId": "25048c54-e00d-441b-e41a-0dec2d96214b",
        "colab": {
          "base_uri": "https://localhost:8080/",
          "height": 357
        }
      },
      "source": [
        "show_image_grid(W.reshape(28, 28, 10).permute(2, 0, 1), nrow=4)"
      ],
      "execution_count": 60,
      "outputs": [
        {
          "output_type": "display_data",
          "data": {
            "image/png": "[encoded data removed]",
            "text/plain": [
              "<Figure size 576x432 with 10 Axes>"
            ]
          },
          "metadata": {
            "tags": [],
            "needs_background": "light"
          }
        }
      ]
    },
    {
      "cell_type": "code",
      "metadata": {
        "id": "qWbQuTccbANz",
        "colab_type": "code",
        "colab": {}
      },
      "source": [
        ""
      ],
      "execution_count": 0,
      "outputs": []
    }
  ]
}